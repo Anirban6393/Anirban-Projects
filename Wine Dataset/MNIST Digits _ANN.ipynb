{
 "cells": [
  {
   "cell_type": "markdown",
   "metadata": {},
   "source": [
    "## 1. Download Dataset"
   ]
  },
  {
   "cell_type": "code",
   "execution_count": 3,
   "metadata": {},
   "outputs": [],
   "source": [
    "import keras \n",
    "import matplotlib.pyplot as plt\n",
    "from sklearn.metrics import confusion_matrix, classification_report\n",
    "%matplotlib inline\n",
    "from keras.datasets import mnist\n",
    "\n",
    "(X_train, y_train), (X_test, y_test) = mnist.load_data()"
   ]
  },
  {
   "cell_type": "code",
   "execution_count": 2,
   "metadata": {},
   "outputs": [
    {
     "data": {
      "text/plain": [
       "(60000, 28, 28)"
      ]
     },
     "execution_count": 2,
     "metadata": {},
     "output_type": "execute_result"
    }
   ],
   "source": [
    "X_train.shape # 60000 rows, 28 x 28 pixels"
   ]
  },
  {
   "cell_type": "code",
   "execution_count": 3,
   "metadata": {},
   "outputs": [
    {
     "data": {
      "text/plain": [
       "<matplotlib.image.AxesImage at 0x2bae55aacf8>"
      ]
     },
     "execution_count": 3,
     "metadata": {},
     "output_type": "execute_result"
    },
    {
     "data": {
      "image/png": "[encoded data removed]",
      "text/plain": [
       "<Figure size 432x288 with 1 Axes>"
      ]
     },
     "metadata": {
      "needs_background": "light"
     },
     "output_type": "display_data"
    }
   ],
   "source": [
    "plt.imshow(X_train[0])"
   ]
  },
  {
   "cell_type": "code",
   "execution_count": 4,
   "metadata": {},
   "outputs": [
    {
     "data": {
      "text/plain": [
       "5"
      ]
     },
     "execution_count": 4,
     "metadata": {},
     "output_type": "execute_result"
    }
   ],
   "source": [
    "y_train[0]"
   ]
  },
  {
   "cell_type": "code",
   "execution_count": 5,
   "metadata": {},
   "outputs": [],
   "source": [
    "num_classes = 10 # 10 classes of digits\n",
    "y_train = keras.utils.to_categorical(y_train, num_classes)\n",
    "y_test = keras.utils.to_categorical(y_test, num_classes)"
   ]
  },
  {
   "cell_type": "code",
   "execution_count": 6,
   "metadata": {},
   "outputs": [
    {
     "data": {
      "text/plain": [
       "array([[0., 0., 0., ..., 0., 0., 0.],\n",
       "       [1., 0., 0., ..., 0., 0., 0.],\n",
       "       [0., 0., 0., ..., 0., 0., 0.],\n",
       "       ...,\n",
       "       [0., 0., 0., ..., 0., 0., 0.],\n",
       "       [0., 0., 0., ..., 0., 0., 0.],\n",
       "       [0., 0., 0., ..., 0., 1., 0.]], dtype=float32)"
      ]
     },
     "execution_count": 6,
     "metadata": {},
     "output_type": "execute_result"
    }
   ],
   "source": [
    "y_train"
   ]
  },
  {
   "cell_type": "code",
   "execution_count": 7,
   "metadata": {},
   "outputs": [
    {
     "data": {
      "text/plain": [
       "(60000, 10)"
      ]
     },
     "execution_count": 7,
     "metadata": {},
     "output_type": "execute_result"
    }
   ],
   "source": [
    "y_train.shape"
   ]
  },
  {
   "cell_type": "code",
   "execution_count": 8,
   "metadata": {},
   "outputs": [
    {
     "data": {
      "text/plain": [
       "array([0., 0., 1., 0., 0.], dtype=float32)"
      ]
     },
     "execution_count": 8,
     "metadata": {},
     "output_type": "execute_result"
    }
   ],
   "source": [
    "keras.utils.to_categorical(2, 5)"
   ]
  },
  {
   "cell_type": "code",
   "execution_count": 8,
   "metadata": {},
   "outputs": [],
   "source": [
    "# Flatten from 28x28 to 784 (because we are using MLP)\n",
    "X_train = X_train.reshape(60000, 784)\n",
    "X_test = X_test.reshape(10000, 784)"
   ]
  },
  {
   "cell_type": "code",
   "execution_count": 9,
   "metadata": {},
   "outputs": [
    {
     "name": "stdout",
     "output_type": "stream",
     "text": [
      "60000 train samples\n",
      "10000 test samples\n"
     ]
    }
   ],
   "source": [
    "# Scale from 0-255 into 0-1\n",
    "# Scaling is generally recommended for neural networks\n",
    "# for faster convergence\n",
    "X_train = X_train.astype('float32')\n",
    "X_test = X_test.astype('float32')\n",
    "X_train /= 255\n",
    "X_test /= 255\n",
    "\n",
    "print(X_train.shape[0], 'train samples')\n",
    "print(X_test.shape[0], 'test samples')"
   ]
  },
  {
   "cell_type": "markdown",
   "metadata": {},
   "source": [
    "## 2. Prediction With Artificial Neural Network\n"
   ]
  },
  {
   "cell_type": "code",
   "execution_count": 1,
   "metadata": {
    "scrolled": false
   },
   "outputs": [
    {
     "name": "stderr",
     "output_type": "stream",
     "text": [
      "Using TensorFlow backend.\n"
     ]
    }
   ],
   "source": [
    "#Implementing Deep Learning Model using Neural Network\n",
    "from keras.models import Sequential\n",
    "from keras.layers import Dense\n",
    "from keras.utils import np_utils\n",
    "from keras.layers import Dropout\n",
    "from keras.constraints import maxnorm\n",
    "from keras.optimizers import SGD\n",
    "from keras.callbacks import TensorBoard\n",
    "import time"
   ]
  },
  {
   "cell_type": "code",
   "execution_count": 2,
   "metadata": {
    "scrolled": true
   },
   "outputs": [],
   "source": [
    "model = Sequential()\n",
    "model.add(Dense(512,input_shape=(784,), activation='relu'))\n",
    "model.add(Dense(512, kernel_constraint=maxnorm(3), activation='relu'))\n",
    "model.add(Dropout(0.2))\n",
    "model.add(Dense(10,activation='softmax'))\n",
    "# Compile model\n",
    "sgd = SGD(lr=0.1, momentum=0.8, decay=0.001, nesterov=False)\n",
    "tensorboard = TensorBoard(log_dir='./logs/mnist_mlp/%d' % time.time())\n",
    "model.compile(loss='categorical_crossentropy', optimizer=sgd, metrics=['accuracy'])"
   ]
  },
  {
   "cell_type": "code",
   "execution_count": 12,
   "metadata": {
    "scrolled": false
   },
   "outputs": [
    {
     "name": "stdout",
     "output_type": "stream",
     "text": [
      "Train on 60000 samples, validate on 10000 samples\n",
      "Epoch 1/80\n",
      "60000/60000 [==============================] - 2s 32us/step - loss: 0.9161 - acc: 0.7389 - val_loss: 0.3410 - val_acc: 0.9044\n",
      "Epoch 2/80\n",
      "60000/60000 [==============================] - 1s 24us/step - loss: 0.3307 - acc: 0.9040 - val_loss: 0.2692 - val_acc: 0.9225\n",
      "Epoch 3/80\n",
      "60000/60000 [==============================] - 1s 24us/step - loss: 0.2745 - acc: 0.9217 - val_loss: 0.2305 - val_acc: 0.9350\n",
      "Epoch 4/80\n",
      "60000/60000 [==============================] - 1s 24us/step - loss: 0.2370 - acc: 0.9316 - val_loss: 0.2045 - val_acc: 0.9402\n",
      "Epoch 5/80\n",
      "60000/60000 [==============================] - 1s 24us/step - loss: 0.2114 - acc: 0.9387 - val_loss: 0.1860 - val_acc: 0.9466\n",
      "Epoch 6/80\n",
      "60000/60000 [==============================] - 1s 24us/step - loss: 0.1908 - acc: 0.9459 - val_loss: 0.1707 - val_acc: 0.9491\n",
      "Epoch 7/80\n",
      "60000/60000 [==============================] - 1s 24us/step - loss: 0.1751 - acc: 0.9494 - val_loss: 0.1579 - val_acc: 0.9507\n",
      "Epoch 8/80\n",
      "60000/60000 [==============================] - 1s 24us/step - loss: 0.1616 - acc: 0.9535 - val_loss: 0.1466 - val_acc: 0.9548\n",
      "Epoch 9/80\n",
      "60000/60000 [==============================] - 1s 24us/step - loss: 0.1506 - acc: 0.9566 - val_loss: 0.1388 - val_acc: 0.9581\n",
      "Epoch 10/80\n",
      "60000/60000 [==============================] - 1s 24us/step - loss: 0.1405 - acc: 0.9598 - val_loss: 0.1309 - val_acc: 0.9596\n",
      "Epoch 11/80\n",
      "60000/60000 [==============================] - 1s 24us/step - loss: 0.1323 - acc: 0.9625 - val_loss: 0.1250 - val_acc: 0.9616\n",
      "Epoch 12/80\n",
      "60000/60000 [==============================] - 1s 24us/step - loss: 0.1247 - acc: 0.9642 - val_loss: 0.1195 - val_acc: 0.9639\n",
      "Epoch 13/80\n",
      "60000/60000 [==============================] - 1s 25us/step - loss: 0.1192 - acc: 0.9661 - val_loss: 0.1150 - val_acc: 0.9644\n",
      "Epoch 14/80\n",
      "60000/60000 [==============================] - 2s 25us/step - loss: 0.1128 - acc: 0.9675 - val_loss: 0.1122 - val_acc: 0.9655\n",
      "Epoch 15/80\n",
      "60000/60000 [==============================] - 1s 25us/step - loss: 0.1075 - acc: 0.9694 - val_loss: 0.1069 - val_acc: 0.9670\n",
      "Epoch 16/80\n",
      "60000/60000 [==============================] - 1s 25us/step - loss: 0.1028 - acc: 0.9707 - val_loss: 0.1032 - val_acc: 0.9676\n",
      "Epoch 17/80\n",
      "60000/60000 [==============================] - 1s 25us/step - loss: 0.0987 - acc: 0.9720 - val_loss: 0.1002 - val_acc: 0.9695\n",
      "Epoch 18/80\n",
      "60000/60000 [==============================] - 1s 25us/step - loss: 0.0948 - acc: 0.9731 - val_loss: 0.0988 - val_acc: 0.9696\n",
      "Epoch 19/80\n",
      "60000/60000 [==============================] - 1s 24us/step - loss: 0.0918 - acc: 0.9738 - val_loss: 0.0961 - val_acc: 0.9704\n",
      "Epoch 20/80\n",
      "60000/60000 [==============================] - 1s 24us/step - loss: 0.0875 - acc: 0.9745 - val_loss: 0.0929 - val_acc: 0.9711\n",
      "Epoch 21/80\n",
      "60000/60000 [==============================] - 1s 24us/step - loss: 0.0853 - acc: 0.9757 - val_loss: 0.0907 - val_acc: 0.9717\n",
      "Epoch 22/80\n",
      "60000/60000 [==============================] - 1s 24us/step - loss: 0.0825 - acc: 0.9760 - val_loss: 0.0894 - val_acc: 0.9725\n",
      "Epoch 23/80\n",
      "60000/60000 [==============================] - 1s 24us/step - loss: 0.0794 - acc: 0.9772 - val_loss: 0.0878 - val_acc: 0.9735\n",
      "Epoch 24/80\n",
      "60000/60000 [==============================] - 1s 25us/step - loss: 0.0777 - acc: 0.9776 - val_loss: 0.0856 - val_acc: 0.9740\n",
      "Epoch 25/80\n",
      "60000/60000 [==============================] - 1s 25us/step - loss: 0.0748 - acc: 0.9787 - val_loss: 0.0862 - val_acc: 0.9745\n",
      "Epoch 26/80\n",
      "60000/60000 [==============================] - 1s 24us/step - loss: 0.0723 - acc: 0.9795 - val_loss: 0.0831 - val_acc: 0.9742\n",
      "Epoch 27/80\n",
      "60000/60000 [==============================] - 1s 24us/step - loss: 0.0709 - acc: 0.9796 - val_loss: 0.0823 - val_acc: 0.9741\n",
      "Epoch 28/80\n",
      "60000/60000 [==============================] - 1s 24us/step - loss: 0.0695 - acc: 0.9799 - val_loss: 0.0809 - val_acc: 0.9752\n",
      "Epoch 29/80\n",
      "60000/60000 [==============================] - 1s 24us/step - loss: 0.0669 - acc: 0.9813 - val_loss: 0.0801 - val_acc: 0.9754\n",
      "Epoch 30/80\n",
      "60000/60000 [==============================] - 1s 24us/step - loss: 0.0655 - acc: 0.9815 - val_loss: 0.0781 - val_acc: 0.9757\n",
      "Epoch 31/80\n",
      "60000/60000 [==============================] - 1s 24us/step - loss: 0.0633 - acc: 0.9819 - val_loss: 0.0773 - val_acc: 0.9758\n",
      "Epoch 32/80\n",
      "60000/60000 [==============================] - 1s 24us/step - loss: 0.0619 - acc: 0.9831 - val_loss: 0.0769 - val_acc: 0.9767\n",
      "Epoch 33/80\n",
      "60000/60000 [==============================] - 1s 24us/step - loss: 0.0605 - acc: 0.9829 - val_loss: 0.0778 - val_acc: 0.9765\n",
      "Epoch 34/80\n",
      "60000/60000 [==============================] - 1s 24us/step - loss: 0.0589 - acc: 0.9835 - val_loss: 0.0743 - val_acc: 0.9767\n",
      "Epoch 35/80\n",
      "60000/60000 [==============================] - 2s 25us/step - loss: 0.0572 - acc: 0.9836 - val_loss: 0.0740 - val_acc: 0.9775\n",
      "Epoch 36/80\n",
      "60000/60000 [==============================] - 2s 25us/step - loss: 0.0564 - acc: 0.9841 - val_loss: 0.0734 - val_acc: 0.9777\n",
      "Epoch 37/80\n",
      "60000/60000 [==============================] - 1s 24us/step - loss: 0.0554 - acc: 0.9844 - val_loss: 0.0733 - val_acc: 0.9773\n",
      "Epoch 38/80\n",
      "60000/60000 [==============================] - 1s 24us/step - loss: 0.0536 - acc: 0.9848 - val_loss: 0.0722 - val_acc: 0.9783\n",
      "Epoch 39/80\n",
      "60000/60000 [==============================] - 1s 24us/step - loss: 0.0532 - acc: 0.9847 - val_loss: 0.0723 - val_acc: 0.9779\n",
      "Epoch 40/80\n",
      "60000/60000 [==============================] - 1s 24us/step - loss: 0.0516 - acc: 0.9854 - val_loss: 0.0710 - val_acc: 0.9776\n",
      "Epoch 41/80\n",
      "60000/60000 [==============================] - 1s 24us/step - loss: 0.0507 - acc: 0.9861 - val_loss: 0.0705 - val_acc: 0.9784\n",
      "Epoch 42/80\n",
      "60000/60000 [==============================] - 1s 25us/step - loss: 0.0499 - acc: 0.9861 - val_loss: 0.0702 - val_acc: 0.9792\n",
      "Epoch 43/80\n",
      "60000/60000 [==============================] - 2s 25us/step - loss: 0.0480 - acc: 0.9869 - val_loss: 0.0693 - val_acc: 0.9785\n",
      "Epoch 44/80\n",
      "60000/60000 [==============================] - 2s 26us/step - loss: 0.0474 - acc: 0.9872 - val_loss: 0.0691 - val_acc: 0.9789\n",
      "Epoch 45/80\n",
      "60000/60000 [==============================] - 1s 25us/step - loss: 0.0469 - acc: 0.9870 - val_loss: 0.0690 - val_acc: 0.9785\n",
      "Epoch 46/80\n",
      "60000/60000 [==============================] - 1s 25us/step - loss: 0.0456 - acc: 0.9872 - val_loss: 0.0675 - val_acc: 0.9787\n",
      "Epoch 47/80\n",
      "60000/60000 [==============================] - 1s 25us/step - loss: 0.0457 - acc: 0.9873 - val_loss: 0.0680 - val_acc: 0.9790\n",
      "Epoch 48/80\n",
      "60000/60000 [==============================] - 2s 27us/step - loss: 0.0440 - acc: 0.9879 - val_loss: 0.0680 - val_acc: 0.9793\n",
      "Epoch 49/80\n",
      "60000/60000 [==============================] - 2s 26us/step - loss: 0.0435 - acc: 0.9883 - val_loss: 0.0673 - val_acc: 0.9799\n",
      "Epoch 50/80\n",
      "60000/60000 [==============================] - 1s 25us/step - loss: 0.0422 - acc: 0.9889 - val_loss: 0.0667 - val_acc: 0.9796\n",
      "Epoch 51/80\n",
      "60000/60000 [==============================] - 1s 24us/step - loss: 0.0427 - acc: 0.9887 - val_loss: 0.0675 - val_acc: 0.9792\n",
      "Epoch 52/80\n",
      "60000/60000 [==============================] - 1s 24us/step - loss: 0.0420 - acc: 0.9890 - val_loss: 0.0659 - val_acc: 0.9788\n",
      "Epoch 53/80\n",
      "60000/60000 [==============================] - 1s 24us/step - loss: 0.0408 - acc: 0.9890 - val_loss: 0.0654 - val_acc: 0.9798\n",
      "Epoch 54/80\n",
      "60000/60000 [==============================] - 1s 24us/step - loss: 0.0396 - acc: 0.9893 - val_loss: 0.0654 - val_acc: 0.9792\n",
      "Epoch 55/80\n",
      "60000/60000 [==============================] - 1s 24us/step - loss: 0.0396 - acc: 0.9890 - val_loss: 0.0649 - val_acc: 0.9795\n",
      "Epoch 56/80\n",
      "60000/60000 [==============================] - 1s 24us/step - loss: 0.0386 - acc: 0.9898 - val_loss: 0.0649 - val_acc: 0.9790\n",
      "Epoch 57/80\n",
      "60000/60000 [==============================] - 1s 24us/step - loss: 0.0381 - acc: 0.9898 - val_loss: 0.0649 - val_acc: 0.9795\n",
      "Epoch 58/80\n",
      "60000/60000 [==============================] - 1s 24us/step - loss: 0.0380 - acc: 0.9898 - val_loss: 0.0643 - val_acc: 0.9795\n",
      "Epoch 59/80\n",
      "60000/60000 [==============================] - 1s 24us/step - loss: 0.0370 - acc: 0.9903 - val_loss: 0.0644 - val_acc: 0.9796\n",
      "Epoch 60/80\n"
     ]
    },
    {
     "name": "stdout",
     "output_type": "stream",
     "text": [
      "60000/60000 [==============================] - 1s 24us/step - loss: 0.0366 - acc: 0.9899 - val_loss: 0.0645 - val_acc: 0.9796\n",
      "Epoch 61/80\n",
      "60000/60000 [==============================] - 1s 24us/step - loss: 0.0364 - acc: 0.9904 - val_loss: 0.0642 - val_acc: 0.9790\n",
      "Epoch 62/80\n",
      "60000/60000 [==============================] - 1s 24us/step - loss: 0.0359 - acc: 0.9901 - val_loss: 0.0640 - val_acc: 0.9796\n",
      "Epoch 63/80\n",
      "60000/60000 [==============================] - 1s 24us/step - loss: 0.0350 - acc: 0.9909 - val_loss: 0.0637 - val_acc: 0.9800\n",
      "Epoch 64/80\n",
      "60000/60000 [==============================] - 1s 24us/step - loss: 0.0345 - acc: 0.9910 - val_loss: 0.0635 - val_acc: 0.9800\n",
      "Epoch 65/80\n",
      "60000/60000 [==============================] - 1s 24us/step - loss: 0.0344 - acc: 0.9909 - val_loss: 0.0632 - val_acc: 0.9795\n",
      "Epoch 66/80\n",
      "60000/60000 [==============================] - 1s 24us/step - loss: 0.0340 - acc: 0.9910 - val_loss: 0.0630 - val_acc: 0.9801\n",
      "Epoch 67/80\n",
      "60000/60000 [==============================] - 1s 24us/step - loss: 0.0333 - acc: 0.9913 - val_loss: 0.0625 - val_acc: 0.9795\n",
      "Epoch 68/80\n",
      "60000/60000 [==============================] - 1s 24us/step - loss: 0.0327 - acc: 0.9917 - val_loss: 0.0627 - val_acc: 0.9794\n",
      "Epoch 69/80\n",
      "60000/60000 [==============================] - 1s 24us/step - loss: 0.0323 - acc: 0.9916 - val_loss: 0.0623 - val_acc: 0.9799\n",
      "Epoch 70/80\n",
      "60000/60000 [==============================] - 1s 24us/step - loss: 0.0318 - acc: 0.9919 - val_loss: 0.0622 - val_acc: 0.9805\n",
      "Epoch 71/80\n",
      "60000/60000 [==============================] - 1s 24us/step - loss: 0.0317 - acc: 0.9919 - val_loss: 0.0625 - val_acc: 0.9804\n",
      "Epoch 72/80\n",
      "60000/60000 [==============================] - 1s 24us/step - loss: 0.0313 - acc: 0.9918 - val_loss: 0.0622 - val_acc: 0.9798\n",
      "Epoch 73/80\n",
      "60000/60000 [==============================] - 1s 24us/step - loss: 0.0307 - acc: 0.9922 - val_loss: 0.0616 - val_acc: 0.9799\n",
      "Epoch 74/80\n",
      "60000/60000 [==============================] - 1s 24us/step - loss: 0.0303 - acc: 0.9923 - val_loss: 0.0618 - val_acc: 0.9802\n",
      "Epoch 75/80\n",
      "60000/60000 [==============================] - 1s 24us/step - loss: 0.0299 - acc: 0.9924 - val_loss: 0.0617 - val_acc: 0.9804\n",
      "Epoch 76/80\n",
      "60000/60000 [==============================] - 1s 24us/step - loss: 0.0294 - acc: 0.9923 - val_loss: 0.0613 - val_acc: 0.9807\n",
      "Epoch 77/80\n",
      "60000/60000 [==============================] - 1s 24us/step - loss: 0.0299 - acc: 0.9925 - val_loss: 0.0615 - val_acc: 0.9806\n",
      "Epoch 78/80\n",
      "60000/60000 [==============================] - 1s 24us/step - loss: 0.0292 - acc: 0.9926 - val_loss: 0.0612 - val_acc: 0.9806\n",
      "Epoch 79/80\n",
      "60000/60000 [==============================] - 1s 24us/step - loss: 0.0289 - acc: 0.9927 - val_loss: 0.0612 - val_acc: 0.9805\n",
      "Epoch 80/80\n",
      "60000/60000 [==============================] - 1s 24us/step - loss: 0.0284 - acc: 0.9931 - val_loss: 0.0608 - val_acc: 0.9804\n"
     ]
    }
   ],
   "source": [
    "history=model.fit(X_train, y_train, epochs=80, batch_size=800, callbacks=[tensorboard], validation_data=(X_test, y_test))"
   ]
  },
  {
   "cell_type": "code",
   "execution_count": 13,
   "metadata": {
    "scrolled": false
   },
   "outputs": [
    {
     "name": "stdout",
     "output_type": "stream",
     "text": [
      "{'name': 'dense_1', 'trainable': True, 'batch_input_shape': (None, 784), 'dtype': 'float32', 'units': 512, 'activation': 'relu', 'use_bias': True, 'kernel_initializer': {'class_name': 'VarianceScaling', 'config': {'scale': 1.0, 'mode': 'fan_avg', 'distribution': 'uniform', 'seed': None}}, 'bias_initializer': {'class_name': 'Zeros', 'config': {}}, 'kernel_regularizer': None, 'bias_regularizer': None, 'activity_regularizer': None, 'kernel_constraint': None, 'bias_constraint': None}\n",
      "[array([[-0.05628445,  0.05375183, -0.02305412, ...,  0.02039278,\n",
      "        -0.04398101,  0.00737086],\n",
      "       [ 0.04082758,  0.01688162,  0.06414245, ...,  0.00428028,\n",
      "        -0.02729251,  0.01156904],\n",
      "       [ 0.02022351, -0.03798806, -0.01457847, ...,  0.0531452 ,\n",
      "        -0.00573099, -0.00707247],\n",
      "       ...,\n",
      "       [-0.01392486,  0.03164809, -0.00105375, ...,  0.02651798,\n",
      "         0.00853225,  0.04310568],\n",
      "       [-0.02666661, -0.00413163, -0.01628517, ..., -0.03590861,\n",
      "         0.05706035,  0.02446676],\n",
      "       [-0.06665373,  0.00151938,  0.06267233, ..., -0.00463539,\n",
      "        -0.05183586,  0.0434427 ]], dtype=float32), array([-5.61185693e-03, -4.27943328e-03, -1.17760645e-02,  4.87288237e-02,\n",
      "        6.74924776e-02,  8.04963894e-03, -7.14694662e-03,  1.77694354e-02,\n",
      "        2.01216917e-02,  3.18473834e-03,  3.75215299e-02,  1.55574791e-02,\n",
      "        3.01679950e-02,  4.09446023e-02,  9.99912154e-03,  1.54094547e-02,\n",
      "        4.19572257e-02, -1.72908213e-02,  4.59280424e-03,  7.30336159e-02,\n",
      "       -4.61385027e-02,  2.30322173e-03,  2.64315773e-02,  2.59542558e-02,\n",
      "        7.84558523e-03,  1.49234291e-02, -5.64866997e-02,  7.79585727e-03,\n",
      "        6.72418531e-03, -2.71333363e-02,  2.61422079e-02,  8.48508999e-02,\n",
      "        2.14271322e-02, -1.41822426e-02, -3.41149652e-03,  2.15723924e-02,\n",
      "        7.07503855e-02,  1.40861347e-02,  2.93590613e-02, -1.20216208e-02,\n",
      "        3.20190340e-02,  1.06347576e-02,  2.93674376e-02,  3.60486358e-02,\n",
      "        3.22707593e-02, -2.41288431e-02, -6.49712188e-03, -2.16883636e-05,\n",
      "        4.63674925e-02,  4.11601104e-02,  1.04268454e-02,  1.45092085e-02,\n",
      "        1.36828721e-02,  4.81244968e-03, -2.77603325e-02,  5.78622483e-02,\n",
      "       -2.17007399e-02,  4.84886579e-02, -7.68888649e-03,  2.54829582e-02,\n",
      "        2.99134236e-02, -5.56787550e-02, -7.45380903e-03,  8.23035021e-04,\n",
      "        6.82140095e-03, -5.33856964e-03,  8.39134492e-03, -2.04864354e-03,\n",
      "        3.66717689e-02,  3.02549116e-02, -1.71981100e-02,  2.02533491e-02,\n",
      "       -4.10581473e-03, -2.97907088e-02,  2.73860209e-02,  5.45617193e-04,\n",
      "        8.35827959e-04, -5.06401015e-03, -6.30680658e-03, -2.99147833e-02,\n",
      "        1.82680320e-03, -2.13859305e-02,  4.76670591e-03, -1.81218628e-02,\n",
      "        1.56550296e-02,  1.79791860e-02,  2.50062943e-02, -2.11214162e-02,\n",
      "       -2.25575399e-02,  2.45205406e-03,  9.55866873e-02,  5.24395965e-02,\n",
      "        4.10443991e-02,  2.85582012e-03,  5.34671061e-02,  1.48696713e-02,\n",
      "       -1.12078572e-02,  3.78905945e-02,  7.55648548e-03,  3.31981629e-02,\n",
      "        3.79108801e-03,  2.33505797e-02, -4.09239996e-03,  8.82421806e-02,\n",
      "       -5.24775684e-03,  1.06852679e-02, -2.77125165e-02, -2.21127979e-02,\n",
      "        2.15962180e-03,  3.64548564e-02,  5.26417326e-03,  1.65978130e-02,\n",
      "        1.83622856e-02, -6.65862439e-03, -1.31074181e-02,  6.56430516e-03,\n",
      "        3.12843435e-02, -9.29170783e-05, -7.19561800e-03,  2.33859150e-03,\n",
      "        6.49249041e-03,  2.04748567e-02,  2.54087383e-04,  4.51472402e-03,\n",
      "        2.21950281e-02, -4.50200215e-03,  7.67516159e-03,  3.64651605e-02,\n",
      "       -3.82217206e-03,  4.81008068e-02, -2.84401886e-02,  2.89634746e-02,\n",
      "       -1.98465330e-03, -3.03213969e-02,  2.04741377e-02,  2.15104292e-03,\n",
      "        8.27360712e-03, -7.08387641e-04, -8.44104867e-03,  4.91256565e-02,\n",
      "        5.42588858e-03,  2.22185557e-03, -6.45018555e-03,  1.53498994e-02,\n",
      "        1.13420272e-02,  7.06861541e-03, -1.57638621e-02,  2.48970352e-02,\n",
      "        2.88855731e-02,  1.18669029e-02, -2.90616453e-02, -8.63013417e-03,\n",
      "        4.75809649e-02,  4.54973914e-02,  3.24855596e-02, -1.36746370e-04,\n",
      "        2.78497059e-02,  4.52918373e-03,  1.62457060e-02,  4.03237008e-02,\n",
      "       -1.47864665e-03,  1.00042932e-02,  3.07631232e-02, -7.50081521e-03,\n",
      "        1.87124442e-02,  4.08315621e-02,  2.38181446e-02,  4.03591767e-02,\n",
      "        1.34513993e-02,  1.69904865e-02,  2.71596247e-03,  2.28717253e-02,\n",
      "        4.79953289e-02,  4.27567437e-02,  9.53912083e-03,  3.11576901e-03,\n",
      "        3.17945071e-02,  7.46540055e-02,  2.05443986e-02,  1.34692192e-02,\n",
      "        1.08066862e-02,  3.63949947e-02,  3.90495546e-02,  1.09130414e-02,\n",
      "        1.80094168e-02, -4.67085280e-03,  5.77772455e-03,  1.57767069e-02,\n",
      "        5.03804861e-03,  9.50080063e-03,  1.31088188e-02,  7.22589120e-02,\n",
      "       -2.94154026e-02,  1.98701546e-02,  3.32586351e-03, -1.61312874e-02,\n",
      "        1.18638268e-02, -1.79084577e-02,  4.18443792e-02,  2.84118392e-02,\n",
      "        1.16486987e-02,  1.52316736e-02,  2.23895889e-02,  2.70299502e-02,\n",
      "        1.38173494e-02,  3.51301357e-02, -1.39865382e-02,  1.54419756e-02,\n",
      "       -7.89994746e-03, -2.55181529e-02,  1.86829027e-02, -1.83620509e-02,\n",
      "        4.53142039e-02,  3.50756310e-02,  3.71696241e-02, -1.73458718e-02,\n",
      "        2.68989131e-02,  1.69208704e-03,  2.94953436e-02, -8.02914239e-03,\n",
      "       -2.33589439e-03,  7.85672746e-04,  3.47739346e-02, -1.10083504e-03,\n",
      "       -1.45278068e-03,  2.54845005e-02,  4.32417244e-02, -1.10066831e-02,\n",
      "        2.88484078e-02, -9.64373443e-03, -1.42230559e-02,  1.09023210e-02,\n",
      "        3.20629403e-02, -9.26485844e-03,  3.43221426e-02,  1.03432415e-02,\n",
      "        9.53119844e-02,  2.50061639e-02, -2.21503321e-02, -4.06196713e-03,\n",
      "       -8.20622128e-03, -8.81687365e-03, -2.14598104e-02,  4.06160653e-02,\n",
      "        1.83852166e-02,  3.49912280e-03, -7.22260261e-03,  5.58436215e-02,\n",
      "        4.64279465e-02,  2.79843491e-02,  2.85781547e-02,  1.20077953e-02,\n",
      "        5.75614907e-02, -3.63521441e-03, -8.07996374e-03,  3.73025499e-02,\n",
      "        3.06857880e-02, -4.17331606e-03,  6.10314263e-03,  7.51080411e-03,\n",
      "        8.16560257e-03,  3.86986323e-02,  1.79763194e-02,  9.10010934e-03,\n",
      "        1.73052668e-03, -3.21175158e-03,  5.20884059e-02,  1.36398198e-02,\n",
      "        2.76650582e-02, -6.29701186e-03,  1.37667535e-02,  3.70712206e-02,\n",
      "       -3.86249125e-02,  1.93844214e-02, -3.89991119e-03,  3.87994427e-04,\n",
      "        2.95946421e-03,  2.59199608e-02,  4.01408132e-03, -1.29885343e-03,\n",
      "        1.18938442e-02, -2.65900209e-03,  9.96317016e-04,  8.07421189e-03,\n",
      "       -8.96792114e-03, -2.37667784e-02,  9.23455134e-03,  3.63788493e-02,\n",
      "       -1.63574517e-03,  3.94504797e-03,  2.36569792e-02,  1.98673606e-02,\n",
      "        3.54534872e-02, -1.37453545e-02,  1.02753649e-02,  4.08291519e-02,\n",
      "        1.05090290e-02,  1.11970259e-02,  1.67465471e-02, -3.38803278e-03,\n",
      "        1.16846478e-02, -1.19957598e-02, -5.10478904e-03, -8.52960255e-03,\n",
      "        2.97676530e-02,  1.63277574e-02,  4.61378619e-02,  2.67606992e-02,\n",
      "        7.40692439e-03,  1.83501970e-02,  1.19533520e-02,  1.30269164e-02,\n",
      "       -2.38949736e-03, -3.42744286e-04, -3.43087735e-03,  3.48451659e-02,\n",
      "        4.48707864e-02,  1.05361585e-02,  1.40365595e-02,  3.07932519e-03,\n",
      "       -9.35780164e-03,  2.72219162e-02,  2.59168781e-02,  8.06275196e-03,\n",
      "       -9.87971481e-03, -1.17710847e-02,  2.64396518e-02, -4.77616563e-02,\n",
      "        3.17353755e-02,  2.50788815e-02, -2.22533680e-02,  3.28908931e-03,\n",
      "        2.81627364e-02, -1.83798708e-02,  1.08883947e-01,  2.17010919e-02,\n",
      "        4.87985313e-02, -2.90489700e-02,  2.07523070e-03, -2.61795847e-03,\n",
      "        4.92969304e-02,  1.96517594e-02,  1.97278876e-02, -2.44424969e-04,\n",
      "       -1.45125994e-02,  1.12099303e-02, -2.05976944e-02, -4.35505584e-02,\n",
      "        2.47928407e-02,  1.37844477e-02,  3.77599597e-02,  1.43997399e-02,\n",
      "        7.80840218e-03,  4.22364920e-02,  7.89494999e-03, -4.06431369e-02,\n",
      "        2.71544177e-02,  3.62962782e-02,  2.31830664e-02, -1.17798448e-02,\n",
      "        1.05786733e-02,  1.48692643e-02, -9.74832661e-03, -3.70720625e-02,\n",
      "        4.35593575e-02,  3.15519632e-03, -6.69666082e-02, -3.17878905e-03,\n",
      "       -2.11860482e-02,  1.89140271e-02, -3.66940126e-02, -7.19169760e-03,\n",
      "        7.83714838e-03,  7.19308900e-03,  3.97488661e-03, -1.95270672e-03,\n",
      "       -1.48328720e-03,  2.23678593e-02,  8.35504290e-03,  1.41377356e-02,\n",
      "        2.46818513e-02,  2.76774503e-02,  5.32491552e-03,  7.99035747e-03,\n",
      "        2.96778302e-03, -1.40505778e-02,  8.39646254e-03,  4.04322669e-02,\n",
      "        4.10353243e-02,  1.83269996e-02,  4.08327058e-02,  4.32546251e-02,\n",
      "        2.75210366e-02, -4.40302584e-03,  4.68257442e-02,  1.98671557e-02,\n",
      "        1.53664313e-02,  6.09114803e-02,  4.41976450e-02,  1.94827262e-02,\n",
      "        2.52766758e-02,  8.48382432e-03, -2.45003607e-02,  4.90814820e-02,\n",
      "        3.28974016e-02, -1.30594298e-02,  2.72029359e-02,  3.37377191e-02,\n",
      "       -2.61365492e-02,  5.58261499e-02, -3.25714648e-02, -5.81424776e-03,\n",
      "       -6.78264815e-03,  1.52921248e-02,  3.66053730e-02,  2.04448253e-02,\n",
      "        1.86478663e-02, -5.02197036e-05, -4.17267196e-02, -4.42537405e-02,\n",
      "        5.46331815e-02, -5.49325766e-03,  1.05741937e-02,  3.62035856e-02,\n",
      "        3.66248824e-02,  2.19091978e-02,  4.59291926e-03,  2.34556962e-02,\n",
      "        5.07253595e-02,  2.45385524e-02, -8.28562677e-03,  1.09118819e-02,\n",
      "        5.11239935e-03,  4.05155271e-02,  5.03702573e-02,  1.72967538e-02,\n",
      "       -1.06422591e-03,  3.52986641e-02,  4.43127677e-02, -3.07875462e-02,\n",
      "        3.94075699e-02,  6.43615238e-03, -1.01308795e-02, -3.18575911e-02,\n",
      "        5.47612552e-03, -1.60385873e-02,  1.35517791e-02,  1.87995695e-02,\n",
      "        2.92824283e-02,  1.26159247e-02,  3.45000736e-02,  1.17522664e-02,\n",
      "        2.20401362e-02,  4.76653175e-03, -4.03974159e-03,  3.52766253e-02,\n",
      "        2.81510781e-03,  4.28478047e-03, -3.42598185e-03, -1.85175743e-02,\n",
      "       -1.27587514e-03, -2.59567015e-02,  3.60169844e-03, -1.10537726e-02,\n",
      "        1.07202735e-02,  2.54249275e-02,  5.39679895e-04,  4.89229485e-02,\n",
      "       -6.94773300e-03,  4.46620304e-03,  1.67711210e-02, -1.92222092e-02,\n",
      "        1.12009430e-02,  1.06437327e-02,  3.18974331e-02,  3.32753882e-02,\n",
      "       -3.10481153e-03,  3.41204889e-02,  5.59214987e-02, -5.81053412e-03,\n",
      "        3.24520376e-03,  4.03714163e-04, -2.94806361e-02,  2.53489781e-02,\n",
      "       -1.41789177e-02,  1.82973258e-02,  2.19059940e-02, -1.54638616e-02,\n",
      "        5.53485239e-03, -1.03801694e-02,  2.55384222e-02, -9.39248689e-03,\n",
      "        5.97709790e-03, -4.97926259e-03, -1.56347791e-03,  2.04051528e-02,\n",
      "       -2.35990365e-03,  5.78768086e-03, -2.15597581e-02, -6.67527970e-03,\n",
      "        3.50436865e-04, -1.03996374e-01,  1.48260305e-02,  4.32382114e-02,\n",
      "        7.47718960e-02,  1.03151957e-02, -3.79577279e-02, -1.04218321e-02,\n",
      "       -3.36384540e-03,  5.24685048e-02, -6.46837102e-03,  1.02782352e-02],\n",
      "      dtype=float32)]\n",
      "{'name': 'dense_2', 'trainable': True, 'units': 512, 'activation': 'relu', 'use_bias': True, 'kernel_initializer': {'class_name': 'VarianceScaling', 'config': {'scale': 1.0, 'mode': 'fan_avg', 'distribution': 'uniform', 'seed': None}}, 'bias_initializer': {'class_name': 'Zeros', 'config': {}}, 'kernel_regularizer': None, 'bias_regularizer': None, 'activity_regularizer': None, 'kernel_constraint': {'class_name': 'MaxNorm', 'config': {'max_value': 3, 'axis': 0}}, 'bias_constraint': None}\n",
      "[array([[ 0.0215289 , -0.03856178, -0.0748768 , ..., -0.05661075,\n",
      "        -0.0064055 ,  0.03508044],\n",
      "       [ 0.01019712,  0.04332685, -0.02087172, ...,  0.06156202,\n",
      "         0.05975388,  0.00774738],\n",
      "       [ 0.0266624 , -0.01269418, -0.04749351, ...,  0.00017363,\n",
      "         0.07020577,  0.06449818],\n",
      "       ...,\n",
      "       [ 0.05697075, -0.07562687, -0.06314112, ..., -0.01608821,\n",
      "        -0.01536076,  0.0041503 ],\n",
      "       [-0.05877938,  0.02821902, -0.04407964, ..., -0.0630303 ,\n",
      "        -0.05626439,  0.05314868],\n",
      "       [ 0.03021127,  0.01163625, -0.04785408, ...,  0.01454674,\n",
      "        -0.07183743, -0.07477753]], dtype=float32), array([ 3.78893316e-02, -2.67738895e-03, -2.71833781e-03,  5.67618152e-03,\n",
      "       -1.02276783e-02,  1.16991438e-02,  4.02753847e-03, -2.38318294e-02,\n",
      "        2.43630446e-02, -2.05347384e-03,  4.63235900e-02,  2.82538328e-02,\n",
      "       -4.56429058e-04,  4.38084230e-02,  1.98417939e-02,  2.65899412e-02,\n",
      "        7.99040031e-03,  1.15945144e-02, -6.30200515e-03,  2.25782208e-02,\n",
      "        2.39013601e-03, -2.27498449e-03, -1.20466575e-02,  4.49641682e-02,\n",
      "       -1.25149582e-02,  3.24061490e-03,  1.54886134e-02,  1.28805013e-02,\n",
      "        1.32327462e-02,  2.15735361e-02,  9.47212335e-03,  1.96276177e-02,\n",
      "        3.87575221e-03, -8.01402982e-03,  4.39611301e-02,  4.19751294e-02,\n",
      "        2.28844141e-03,  2.78989747e-02, -3.82516044e-03,  1.90961268e-02,\n",
      "        9.74452309e-03,  2.04493217e-02, -1.06403036e-02, -1.28814243e-02,\n",
      "       -7.52956094e-03,  9.69592133e-04,  4.53482242e-03, -4.42663860e-03,\n",
      "        1.77338552e-02, -3.93861765e-03,  4.19959798e-03,  4.14576344e-02,\n",
      "        8.63246899e-03,  1.13923838e-02,  1.90478202e-03,  1.15648862e-02,\n",
      "        6.84271846e-03,  3.28783467e-02, -2.26258878e-02,  2.49160472e-02,\n",
      "        1.55951148e-02, -1.09161278e-02,  1.42080151e-02,  1.55516220e-02,\n",
      "        1.60226747e-02,  3.84088606e-02,  1.80481877e-02, -1.09882122e-02,\n",
      "        5.94574772e-03, -2.46410016e-02,  2.09788680e-02, -1.22331735e-02,\n",
      "       -6.44922056e-06, -2.76581408e-03,  1.00025190e-02,  1.09818636e-03,\n",
      "        5.25712501e-03,  2.75379997e-02, -5.67894243e-03, -5.85953053e-03,\n",
      "        4.16328982e-02,  2.08748654e-02,  2.03840039e-03, -1.45544866e-02,\n",
      "        4.13619069e-04,  2.20341403e-02,  9.07439832e-03,  3.41323130e-02,\n",
      "        3.02069392e-02,  1.43357217e-02, -1.19309444e-02,  4.53801360e-03,\n",
      "        5.70098571e-02,  1.51943015e-02,  4.12163846e-02,  3.59815173e-02,\n",
      "        4.78633912e-03,  1.75645780e-02, -6.67127036e-03,  1.68996565e-02,\n",
      "       -1.92537683e-03,  4.18944343e-04,  3.11652347e-02,  1.19785909e-02,\n",
      "        2.70784050e-02,  9.66455694e-03,  4.25942382e-03, -1.77592691e-03,\n",
      "        1.37698641e-02, -5.90368686e-03,  1.07857054e-02,  2.45485902e-02,\n",
      "       -6.31911680e-03,  7.72872474e-04,  3.60463234e-03,  1.85472015e-02,\n",
      "        9.60278732e-04,  1.13159250e-02, -4.78912564e-03,  1.13159744e-02,\n",
      "        3.53613421e-02, -1.92307716e-03,  1.82036534e-02,  7.14603346e-03,\n",
      "       -1.00487890e-02, -1.75585449e-02,  1.19756488e-02,  7.47386878e-03,\n",
      "        1.10215205e-03,  4.98548197e-03,  1.02263168e-02,  2.24809572e-02,\n",
      "        1.23546785e-02, -5.54056838e-03,  4.48603705e-02,  1.23486016e-02,\n",
      "        1.44701404e-02,  2.81175468e-02,  1.30009223e-02,  2.08704565e-02,\n",
      "        1.03414524e-02,  1.35416826e-02,  2.72039678e-02,  4.59648706e-02,\n",
      "        7.80103169e-03, -1.32498313e-02, -1.35776233e-02,  1.27187734e-02,\n",
      "        1.62782520e-02, -1.57411001e-03,  8.90323333e-03,  3.89703698e-02,\n",
      "       -9.04158503e-03, -4.28135367e-03,  9.23773926e-03,  2.85832677e-02,\n",
      "        5.42232720e-03, -5.78782288e-03, -3.42409359e-03,  2.07246803e-02,\n",
      "       -3.63936601e-03,  3.46932858e-02,  1.50831267e-02,  2.75983568e-02,\n",
      "        5.75190235e-04,  1.94361364e-03,  7.94388168e-03, -7.03039998e-03,\n",
      "        1.68319810e-02,  1.31495856e-02,  2.43668146e-02,  4.98201475e-02,\n",
      "        1.32408012e-02,  2.43627187e-02,  6.41339319e-03,  2.01257467e-02,\n",
      "       -1.31523591e-02,  3.47399749e-02,  1.61847807e-02,  1.71521306e-02,\n",
      "        3.93252522e-02,  1.95557661e-02, -1.15327130e-03,  1.27475383e-02,\n",
      "        2.38978993e-02,  2.37745028e-02, -2.82835736e-05,  4.89831949e-03,\n",
      "        2.78906040e-02, -7.68759474e-03,  1.90666243e-02,  2.08993256e-02,\n",
      "       -1.11776860e-02,  6.83068344e-03,  2.48289928e-02,  1.18128816e-02,\n",
      "        2.36862083e-03,  1.18545219e-02, -1.93453813e-03,  1.19861001e-02,\n",
      "        3.42881083e-02,  5.24888793e-03, -3.24628735e-03,  5.00379503e-02,\n",
      "        1.50015140e-02, -8.12578574e-03,  2.41032764e-02,  2.43897620e-03,\n",
      "        3.53317894e-03, -9.23931412e-03, -1.90283004e-02,  9.94082913e-03,\n",
      "        2.31875069e-02,  2.63118464e-02,  7.69107370e-03,  5.28412452e-03,\n",
      "        3.57406065e-02,  2.34819334e-02, -1.38516445e-02,  1.71347223e-02,\n",
      "       -5.87713614e-04,  2.42410824e-02,  2.42872369e-02,  1.82967857e-02,\n",
      "        2.12380979e-02,  1.92536563e-02,  3.43674272e-02, -4.90103289e-03,\n",
      "        1.19932843e-02,  7.26594124e-03, -1.34296983e-03,  7.34323403e-03,\n",
      "        1.18219005e-02,  1.44691877e-02,  1.19402129e-02, -3.44686559e-03,\n",
      "       -1.16307298e-02, -1.75453280e-03, -7.06504006e-03, -1.58751514e-02,\n",
      "        2.73187775e-02,  5.41134039e-03,  6.67896168e-03,  2.11892817e-02,\n",
      "        2.96555776e-02,  6.76966156e-05, -1.12507958e-02, -1.38817551e-02,\n",
      "        1.66326184e-02,  3.17709260e-02,  1.17564183e-02,  4.25572880e-03,\n",
      "       -2.89928541e-02,  7.50790024e-03,  2.05218364e-02,  1.85746346e-02,\n",
      "        5.48114767e-03,  4.42526415e-02,  1.62876595e-03,  6.00701245e-03,\n",
      "        3.08316741e-02, -1.40431914e-02,  8.58555734e-03,  3.67507190e-02,\n",
      "       -9.82091529e-04, -1.68507546e-02,  2.48074476e-02,  5.24169474e-04,\n",
      "        1.72942355e-02,  1.90244950e-02,  2.76485048e-02,  2.49421634e-02,\n",
      "        2.82977372e-02,  1.90266047e-03,  9.19207465e-03,  1.59021392e-02,\n",
      "        5.53367008e-03, -4.23067436e-03,  2.14827321e-02, -1.67247802e-02,\n",
      "        1.52333025e-02,  1.50762619e-02,  1.10015096e-02, -2.12796545e-03,\n",
      "       -1.41891781e-02,  1.20197823e-02,  6.03838358e-03,  3.97961251e-02,\n",
      "        4.55324873e-02,  1.79229304e-02, -3.07250046e-03,  5.02325175e-03,\n",
      "        3.67180668e-02,  2.90127546e-02,  3.96027602e-02, -5.50920470e-03,\n",
      "        1.36374272e-02, -9.99603886e-03,  2.57744361e-02,  1.09548438e-02,\n",
      "       -7.26847304e-03,  1.87452007e-02,  2.03672256e-02,  1.78050045e-02,\n",
      "        5.13680791e-03, -1.30194053e-03, -3.06784362e-03,  1.33123174e-02,\n",
      "        6.37724902e-03, -5.45992143e-03,  2.94877309e-02, -8.24356172e-03,\n",
      "        4.33891127e-03,  2.90729254e-02, -4.53541614e-03,  1.51849734e-02,\n",
      "        2.80576162e-02,  2.27209646e-02,  2.12349463e-02,  2.83061876e-03,\n",
      "       -7.56253139e-04,  1.31498380e-02,  4.03991304e-02,  1.64761804e-02,\n",
      "        3.81254265e-03,  1.70573704e-02,  7.79888639e-03, -2.07345444e-03,\n",
      "        2.91936677e-02,  1.81211252e-02,  4.56834473e-02, -1.93725026e-03,\n",
      "        2.29295939e-02,  1.16507364e-02, -8.69230554e-03,  1.19887581e-02,\n",
      "        6.46401383e-03,  4.98642363e-02, -6.03562687e-03,  4.03850861e-02,\n",
      "       -3.71130719e-03, -7.24070240e-03,  9.38064884e-03,  9.46965255e-03,\n",
      "        2.35086475e-02,  3.28216776e-02,  2.69608083e-03, -7.46205170e-03,\n",
      "        1.32503156e-02,  3.49256559e-03,  3.22668254e-02,  1.17459008e-02,\n",
      "       -1.63496677e-02,  3.09583545e-02, -4.34568338e-03,  6.27627247e-04,\n",
      "       -2.44841003e-03,  2.76877414e-02,  1.43807791e-02,  3.57529707e-03,\n",
      "       -7.43457675e-03,  2.65446305e-03,  4.92210537e-02,  6.22235835e-02,\n",
      "        1.40598491e-02,  1.78704634e-02,  1.31265996e-02,  1.81343369e-02,\n",
      "        6.65787840e-03, -1.69422507e-04, -5.32246754e-03,  5.37401531e-03,\n",
      "        3.02440058e-02,  4.84178960e-02,  1.12148011e-02,  1.07270367e-02,\n",
      "        1.59909781e-02,  1.22294025e-02, -4.60829586e-03, -5.52116660e-03,\n",
      "       -7.33454665e-03,  6.78496156e-03, -6.21212507e-03,  2.52236007e-03,\n",
      "        9.96186305e-03,  3.03452518e-02, -1.06649790e-02, -1.46733159e-02,\n",
      "        1.89591553e-02,  2.40900445e-05,  4.07087542e-02,  4.73012030e-02,\n",
      "        1.02903433e-02,  1.93547308e-02,  1.20603601e-02, -8.84948671e-03,\n",
      "        1.05967158e-02,  1.92404855e-02, -1.84131041e-02, -2.97739170e-03,\n",
      "        2.58435286e-03,  6.87308377e-03,  2.53242869e-02,  2.03906186e-02,\n",
      "        3.82777639e-02, -5.07688755e-03, -5.78430900e-03,  2.95557883e-02,\n",
      "        4.44761626e-02,  8.13663006e-03, -2.55494541e-03,  1.45306690e-02,\n",
      "       -2.10224977e-03, -4.61114617e-03, -3.34319239e-03,  9.55244154e-03,\n",
      "        2.59739477e-02,  1.38826808e-03,  1.59008112e-02,  1.13380309e-02,\n",
      "        2.23810188e-02,  1.87016316e-02,  2.75851286e-04,  8.58993921e-03,\n",
      "        2.03811079e-02, -1.03622931e-03, -3.44599423e-04,  3.86288948e-02,\n",
      "        2.04835627e-02, -2.01292941e-03,  1.90306939e-02,  4.25237510e-03,\n",
      "       -9.04950779e-03, -3.50497733e-03,  2.43068784e-02,  2.93039009e-02,\n",
      "        3.05603910e-02,  2.28160503e-03, -1.18902801e-02,  1.21705804e-03,\n",
      "        2.02516746e-02,  9.69698373e-03,  8.21580365e-03, -8.30993243e-03,\n",
      "        1.98040251e-02,  3.17801861e-03, -1.70047283e-02, -4.90269274e-04,\n",
      "        3.00970245e-02,  8.01611319e-03,  4.30336781e-03, -8.33566859e-03,\n",
      "        3.28279249e-02,  2.25793086e-02,  2.60774754e-02, -5.67959808e-03,\n",
      "        1.92260370e-02,  4.23868522e-02,  1.70127396e-02,  2.82549541e-02,\n",
      "        2.00231411e-02,  1.08692190e-02,  2.52157282e-02,  1.26165878e-02,\n",
      "        2.95512509e-02,  2.85980217e-02, -1.61407925e-02,  5.13722953e-05,\n",
      "       -3.46112298e-03,  5.82567044e-03,  7.95490295e-03,  1.47820101e-03,\n",
      "        2.78542172e-02,  7.60132354e-03,  9.52409953e-03, -8.32578633e-03,\n",
      "        2.18557417e-02,  2.23411918e-02, -8.11530859e-04,  2.84873452e-02,\n",
      "        3.86134721e-04,  3.32152694e-02,  2.67099142e-02,  2.45920476e-02,\n",
      "       -2.01330986e-02,  2.54918225e-02,  9.56653059e-03, -4.89181047e-03,\n",
      "        1.90881174e-02,  1.25635937e-02,  2.50817947e-02, -3.21331737e-03,\n",
      "        7.04171660e-04,  2.96279676e-02, -8.30483809e-03,  1.97572485e-02,\n",
      "        2.64134966e-02,  1.58427190e-02, -5.56082698e-03, -6.05997676e-03,\n",
      "        2.70057861e-02,  2.08847597e-02,  4.56628501e-02,  5.52279763e-02,\n",
      "        2.16617249e-04, -9.56367294e-04,  1.90860089e-02,  2.36389581e-02,\n",
      "        1.47134326e-02,  1.36871487e-02,  3.93443555e-03,  1.21358279e-02],\n",
      "      dtype=float32)]\n",
      "{'name': 'dropout_1', 'trainable': True, 'rate': 0.2, 'noise_shape': None, 'seed': None}\n",
      "[]\n",
      "{'name': 'dense_3', 'trainable': True, 'units': 10, 'activation': 'softmax', 'use_bias': True, 'kernel_initializer': {'class_name': 'VarianceScaling', 'config': {'scale': 1.0, 'mode': 'fan_avg', 'distribution': 'uniform', 'seed': None}}, 'bias_initializer': {'class_name': 'Zeros', 'config': {}}, 'kernel_regularizer': None, 'bias_regularizer': None, 'activity_regularizer': None, 'kernel_constraint': None, 'bias_constraint': None}\n",
      "[array([[-0.20356491, -0.02037898, -0.17385569, ...,  0.10911477,\n",
      "         0.13180463,  0.00690704],\n",
      "       [ 0.08681449, -0.1162079 , -0.0527566 , ...,  0.11242895,\n",
      "        -0.01719816, -0.16358925],\n",
      "       [ 0.0708188 ,  0.07440156,  0.05168484, ..., -0.06495474,\n",
      "        -0.12477557,  0.18832202],\n",
      "       ...,\n",
      "       [ 0.07798178,  0.01561769,  0.14533882, ..., -0.12514406,\n",
      "        -0.13296072,  0.11336879],\n",
      "       [ 0.08606655, -0.1197225 ,  0.07930245, ...,  0.20973015,\n",
      "        -0.07486179,  0.24442664],\n",
      "       [ 0.19534777, -0.06744146,  0.07631145, ...,  0.04731747,\n",
      "        -0.08438869,  0.17298223]], dtype=float32), array([-0.15275075,  0.0954344 , -0.02500282, -0.06638537,  0.02807731,\n",
      "        0.14216767, -0.03801686,  0.00555114,  0.00164259,  0.00928308],\n",
      "      dtype=float32)]\n"
     ]
    }
   ],
   "source": [
    "for layer in model.layers:\n",
    "    print(layer.get_config())\n",
    "    print(layer.get_weights())"
   ]
  },
  {
   "cell_type": "code",
   "execution_count": 14,
   "metadata": {},
   "outputs": [
    {
     "name": "stdout",
     "output_type": "stream",
     "text": [
      "9\n"
     ]
    },
    {
     "data": {
      "image/png": "[encoded data removed]",
      "text/plain": [
       "<Figure size 432x288 with 1 Axes>"
      ]
     },
     "metadata": {
      "needs_background": "light"
     },
     "output_type": "display_data"
    }
   ],
   "source": [
    "# for display, un-flatten to 28x28\n",
    "plt.imshow(X_test[7].reshape(28, 28))\n",
    "\n",
    "# argmax converts one-hot to the value (which is the maximum index)\n",
    "# [0 .... 0 1] => 9 (9 is the 9th index in the one-hot array)\n",
    "print(y_test[7].argmax())"
   ]
  },
  {
   "cell_type": "code",
   "execution_count": 15,
   "metadata": {},
   "outputs": [
    {
     "data": {
      "text/plain": [
       "9"
      ]
     },
     "execution_count": 15,
     "metadata": {},
     "output_type": "execute_result"
    }
   ],
   "source": [
    "# reshape to (1, anything)\n",
    "pred = model.predict(X_test[7].reshape(1, -1)) # can also .reshape(1, 784)\n",
    "pred.argmax()"
   ]
  },
  {
   "cell_type": "code",
   "execution_count": 16,
   "metadata": {},
   "outputs": [
    {
     "data": {
      "text/plain": [
       "array([9], dtype=int64)"
      ]
     },
     "execution_count": 16,
     "metadata": {},
     "output_type": "execute_result"
    }
   ],
   "source": [
    "model.predict_classes(X_test[7].reshape(1, -1))"
   ]
  },
  {
   "cell_type": "code",
   "execution_count": 17,
   "metadata": {},
   "outputs": [
    {
     "data": {
      "text/plain": [
       "array([7, 2, 1, ..., 4, 5, 6], dtype=int64)"
      ]
     },
     "execution_count": 17,
     "metadata": {},
     "output_type": "execute_result"
    }
   ],
   "source": [
    "y_pred = model.predict_classes(X_test) # return labels so that\n",
    "                                       # sklearn metrics work\n",
    "y_pred"
   ]
  },
  {
   "cell_type": "code",
   "execution_count": 18,
   "metadata": {},
   "outputs": [
    {
     "data": {
      "text/plain": [
       "array([7, 2, 1, ..., 4, 5, 6], dtype=int64)"
      ]
     },
     "execution_count": 18,
     "metadata": {},
     "output_type": "execute_result"
    }
   ],
   "source": [
    "# Truth needs to be converted from one-hot to labels again\n",
    "# so that sklearn metrics work\n",
    "y_test.argmax(axis=1) # column-wise, axis=1 (10 columns)"
   ]
  },
  {
   "cell_type": "code",
   "execution_count": 19,
   "metadata": {},
   "outputs": [
    {
     "name": "stdout",
     "output_type": "stream",
     "text": [
      "              precision    recall  f1-score   support\n",
      "\n",
      "           0       0.98      0.99      0.98       980\n",
      "           1       0.99      0.99      0.99      1135\n",
      "           2       0.98      0.98      0.98      1032\n",
      "           3       0.98      0.98      0.98      1010\n",
      "           4       0.98      0.98      0.98       982\n",
      "           5       0.98      0.98      0.98       892\n",
      "           6       0.98      0.98      0.98       958\n",
      "           7       0.98      0.98      0.98      1028\n",
      "           8       0.97      0.97      0.97       974\n",
      "           9       0.98      0.97      0.98      1009\n",
      "\n",
      "    accuracy                           0.98     10000\n",
      "   macro avg       0.98      0.98      0.98     10000\n",
      "weighted avg       0.98      0.98      0.98     10000\n",
      "\n"
     ]
    }
   ],
   "source": [
    "from sklearn.metrics import classification_report, confusion_matrix, accuracy_score\n",
    "import seaborn as sns\n",
    "\n",
    "print(classification_report(y_test.argmax(axis=1), y_pred))"
   ]
  },
  {
   "cell_type": "code",
   "execution_count": 20,
   "metadata": {},
   "outputs": [
    {
     "data": {
      "text/plain": [
       "[Text(33.0, 0.5, 'Truth'), Text(0.5, 15.0, 'Clf_Prediction')]"
      ]
     },
     "execution_count": 20,
     "metadata": {},
     "output_type": "execute_result"
    },
    {
     "data": {
      "image/png": "[encoded data removed]",
      "text/plain": [
       "<Figure size 432x288 with 2 Axes>"
      ]
     },
     "metadata": {
      "needs_background": "light"
     },
     "output_type": "display_data"
    }
   ],
   "source": [
    "ax = sns.heatmap(confusion_matrix(y_pred, y_test.argmax(axis=1)), annot=True, fmt='d')\n",
    "ax.set(xlabel='Clf_Prediction', ylabel='Truth')"
   ]
  },
  {
   "cell_type": "code",
   "execution_count": 21,
   "metadata": {},
   "outputs": [
    {
     "data": {
      "text/plain": [
       "0.9804"
      ]
     },
     "execution_count": 21,
     "metadata": {},
     "output_type": "execute_result"
    }
   ],
   "source": [
    "accuracy_score(y_pred, y_test.argmax(axis=1))"
   ]
  },
  {
   "cell_type": "code",
   "execution_count": 22,
   "metadata": {},
   "outputs": [
    {
     "name": "stdout",
     "output_type": "stream",
     "text": [
      "dict_keys(['val_loss', 'val_acc', 'loss', 'acc'])\n"
     ]
    },
    {
     "data": {
      "image/png": "[encoded data removed]",
      "text/plain": [
       "<Figure size 432x288 with 1 Axes>"
      ]
     },
     "metadata": {
      "needs_background": "light"
     },
     "output_type": "display_data"
    },
    {
     "data": {
      "image/png": "[encoded data removed]",
      "text/plain": [
       "<Figure size 432x288 with 1 Axes>"
      ]
     },
     "metadata": {
      "needs_background": "light"
     },
     "output_type": "display_data"
    }
   ],
   "source": [
    "# list all data in history\n",
    "print(history.history.keys())\n",
    "# summarize history for accuracy\n",
    "plt.plot(history.history['acc'])\n",
    "plt.plot(history.history['val_acc'])\n",
    "plt.title('model accuracy')\n",
    "plt.ylabel('accuracy')\n",
    "plt.xlabel('epoch')\n",
    "plt.legend(['train', 'test'], loc='upper left')\n",
    "plt.show()\n",
    "# summarize history for loss\n",
    "plt.plot(history.history['loss'])\n",
    "plt.plot(history.history['val_loss'])\n",
    "plt.title('model loss')\n",
    "plt.ylabel('loss')\n",
    "plt.xlabel('epoch')\n",
    "plt.legend(['train', 'test'], loc='upper left')\n",
    "plt.show()"
   ]
  },
  {
   "cell_type": "code",
   "execution_count": null,
   "metadata": {},
   "outputs": [],
   "source": []
  },
  {
   "cell_type": "code",
   "execution_count": null,
   "metadata": {},
   "outputs": [],
   "source": []
  },
  {
   "cell_type": "code",
   "execution_count": null,
   "metadata": {},
   "outputs": [],
   "source": []
  }
 ],
 "metadata": {
  "kernelspec": {
   "display_name": "Python 3",
   "language": "python",
   "name": "python3"
  },
  "language_info": {
   "codemirror_mode": {
    "name": "ipython",
    "version": 3
   },
   "file_extension": ".py",
   "mimetype": "text/x-python",
   "name": "python",
   "nbconvert_exporter": "python",
   "pygments_lexer": "ipython3",
   "version": "3.6.8"
  }
 },
 "nbformat": 4,
 "nbformat_minor": 2
}
