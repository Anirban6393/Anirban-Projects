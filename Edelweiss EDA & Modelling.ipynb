{
 "cells": [
  {
   "cell_type": "markdown",
   "metadata": {},
   "source": [
    "# Edelweiss Real Estate Housing Project"
   ]
  },
  {
   "cell_type": "markdown",
   "metadata": {},
   "source": [
    "## 1. Data Preprocessing"
   ]
  },
  {
   "cell_type": "code",
   "execution_count": 1,
   "metadata": {},
   "outputs": [
    {
     "data": {
      "text/html": [
       "<div>\n",
       "<style scoped>\n",
       "    .dataframe tbody tr th:only-of-type {\n",
       "        vertical-align: middle;\n",
       "    }\n",
       "\n",
       "    .dataframe tbody tr th {\n",
       "        vertical-align: top;\n",
       "    }\n",
       "\n",
       "    .dataframe thead th {\n",
       "        text-align: right;\n",
       "    }\n",
       "</style>\n",
       "<table border=\"1\" class=\"dataframe\">\n",
       "  <thead>\n",
       "    <tr style=\"text-align: right;\">\n",
       "      <th></th>\n",
       "      <th>pid</th>\n",
       "      <th>b1</th>\n",
       "      <th>b2</th>\n",
       "      <th>b3</th>\n",
       "      <th>b4</th>\n",
       "      <th>b5</th>\n",
       "      <th>b6</th>\n",
       "      <th>b7</th>\n",
       "      <th>b8</th>\n",
       "      <th>zone</th>\n",
       "      <th>...</th>\n",
       "      <th>sp_interior</th>\n",
       "      <th>sp_switches</th>\n",
       "      <th>sp_windows</th>\n",
       "      <th>sp_wiring</th>\n",
       "      <th>sp_exterior</th>\n",
       "      <th>sp_frame</th>\n",
       "      <th>sp_points</th>\n",
       "      <th>sp_lobby</th>\n",
       "      <th>sp_cement</th>\n",
       "      <th>wap</th>\n",
       "    </tr>\n",
       "  </thead>\n",
       "  <tbody>\n",
       "    <tr>\n",
       "      <th>0</th>\n",
       "      <td>1</td>\n",
       "      <td>106.0</td>\n",
       "      <td>5.0</td>\n",
       "      <td>NaN</td>\n",
       "      <td>NaN</td>\n",
       "      <td>NaN</td>\n",
       "      <td>NaN</td>\n",
       "      <td>NaN</td>\n",
       "      <td>NaN</td>\n",
       "      <td>Zone A</td>\n",
       "      <td>...</td>\n",
       "      <td>NaN</td>\n",
       "      <td>NaN</td>\n",
       "      <td>NaN</td>\n",
       "      <td>NaN</td>\n",
       "      <td>NaN</td>\n",
       "      <td>NaN</td>\n",
       "      <td>NaN</td>\n",
       "      <td>NaN</td>\n",
       "      <td>NaN</td>\n",
       "      <td>14464.0000</td>\n",
       "    </tr>\n",
       "    <tr>\n",
       "      <th>1</th>\n",
       "      <td>2</td>\n",
       "      <td>NaN</td>\n",
       "      <td>98.0</td>\n",
       "      <td>52.0</td>\n",
       "      <td>NaN</td>\n",
       "      <td>NaN</td>\n",
       "      <td>NaN</td>\n",
       "      <td>NaN</td>\n",
       "      <td>NaN</td>\n",
       "      <td>Zone A</td>\n",
       "      <td>...</td>\n",
       "      <td>NaN</td>\n",
       "      <td>NaN</td>\n",
       "      <td>UPVC Windows with Granite Sills</td>\n",
       "      <td>NaN</td>\n",
       "      <td>NaN</td>\n",
       "      <td>NaN</td>\n",
       "      <td>NaN</td>\n",
       "      <td>NaN</td>\n",
       "      <td>NaN</td>\n",
       "      <td>13982.0000</td>\n",
       "    </tr>\n",
       "    <tr>\n",
       "      <th>2</th>\n",
       "      <td>3</td>\n",
       "      <td>NaN</td>\n",
       "      <td>98.0</td>\n",
       "      <td>52.0</td>\n",
       "      <td>NaN</td>\n",
       "      <td>NaN</td>\n",
       "      <td>NaN</td>\n",
       "      <td>NaN</td>\n",
       "      <td>NaN</td>\n",
       "      <td>Zone A</td>\n",
       "      <td>...</td>\n",
       "      <td>NaN</td>\n",
       "      <td>NaN</td>\n",
       "      <td>UPVC Windows with Granite Sills</td>\n",
       "      <td>NaN</td>\n",
       "      <td>NaN</td>\n",
       "      <td>NaN</td>\n",
       "      <td>NaN</td>\n",
       "      <td>NaN</td>\n",
       "      <td>NaN</td>\n",
       "      <td>13982.0000</td>\n",
       "    </tr>\n",
       "    <tr>\n",
       "      <th>3</th>\n",
       "      <td>6</td>\n",
       "      <td>107.0</td>\n",
       "      <td>13.0</td>\n",
       "      <td>NaN</td>\n",
       "      <td>NaN</td>\n",
       "      <td>NaN</td>\n",
       "      <td>NaN</td>\n",
       "      <td>NaN</td>\n",
       "      <td>NaN</td>\n",
       "      <td>Zone A</td>\n",
       "      <td>...</td>\n",
       "      <td>NaN</td>\n",
       "      <td>NaN</td>\n",
       "      <td>NaN</td>\n",
       "      <td>NaN</td>\n",
       "      <td>NaN</td>\n",
       "      <td>NaN</td>\n",
       "      <td>NaN</td>\n",
       "      <td>NaN</td>\n",
       "      <td>NaN</td>\n",
       "      <td>12857.0000</td>\n",
       "    </tr>\n",
       "    <tr>\n",
       "      <th>4</th>\n",
       "      <td>7</td>\n",
       "      <td>1.0</td>\n",
       "      <td>22.0</td>\n",
       "      <td>10.0</td>\n",
       "      <td>NaN</td>\n",
       "      <td>NaN</td>\n",
       "      <td>NaN</td>\n",
       "      <td>NaN</td>\n",
       "      <td>NaN</td>\n",
       "      <td>Zone A</td>\n",
       "      <td>...</td>\n",
       "      <td>NaN</td>\n",
       "      <td>NaN</td>\n",
       "      <td>French Windows</td>\n",
       "      <td>NaN</td>\n",
       "      <td>NaN</td>\n",
       "      <td>NaN</td>\n",
       "      <td>NaN</td>\n",
       "      <td>NaN</td>\n",
       "      <td>NaN</td>\n",
       "      <td>16981.5758</td>\n",
       "    </tr>\n",
       "  </tbody>\n",
       "</table>\n",
       "<p>5 rows × 112 columns</p>\n",
       "</div>"
      ],
      "text/plain": [
       "   pid     b1    b2    b3  b4  b5  b6  b7  b8    zone     ...     sp_interior  \\\n",
       "0    1  106.0   5.0   NaN NaN NaN NaN NaN NaN  Zone A     ...             NaN   \n",
       "1    2    NaN  98.0  52.0 NaN NaN NaN NaN NaN  Zone A     ...             NaN   \n",
       "2    3    NaN  98.0  52.0 NaN NaN NaN NaN NaN  Zone A     ...             NaN   \n",
       "3    6  107.0  13.0   NaN NaN NaN NaN NaN NaN  Zone A     ...             NaN   \n",
       "4    7    1.0  22.0  10.0 NaN NaN NaN NaN NaN  Zone A     ...             NaN   \n",
       "\n",
       "  sp_switches                       sp_windows sp_wiring sp_exterior sp_frame  \\\n",
       "0         NaN                              NaN       NaN         NaN      NaN   \n",
       "1         NaN  UPVC Windows with Granite Sills       NaN         NaN      NaN   \n",
       "2         NaN  UPVC Windows with Granite Sills       NaN         NaN      NaN   \n",
       "3         NaN                              NaN       NaN         NaN      NaN   \n",
       "4         NaN                   French Windows       NaN         NaN      NaN   \n",
       "\n",
       "  sp_points sp_lobby  sp_cement         wap  \n",
       "0       NaN      NaN        NaN  14464.0000  \n",
       "1       NaN      NaN        NaN  13982.0000  \n",
       "2       NaN      NaN        NaN  13982.0000  \n",
       "3       NaN      NaN        NaN  12857.0000  \n",
       "4       NaN      NaN        NaN  16981.5758  \n",
       "\n",
       "[5 rows x 112 columns]"
      ]
     },
     "execution_count": 1,
     "metadata": {},
     "output_type": "execute_result"
    }
   ],
   "source": [
    "import pandas as pd\n",
    "import numpy as np\n",
    "\n",
    "df=pd.read_csv('edw_launch_price_data.csv')\n",
    "df.head()"
   ]
  },
  {
   "cell_type": "markdown",
   "metadata": {},
   "source": [
    "#### 1.1 Creation of micro_market number and developer_number columns"
   ]
  },
  {
   "cell_type": "code",
   "execution_count": 2,
   "metadata": {},
   "outputs": [],
   "source": [
    "df['micro_market_number']=df['micro_market'].str.extract('(\\d+)')\n",
    "df['developer_number']=df['developer'].str.extract('(\\d+)')\n",
    "df['project_number']=df['project'].str.extract('(\\d+)')"
   ]
  },
  {
   "cell_type": "markdown",
   "metadata": {},
   "source": [
    "#### 1.2  Extract launch year from launch date"
   ]
  },
  {
   "cell_type": "code",
   "execution_count": 3,
   "metadata": {},
   "outputs": [],
   "source": [
    "df['launch_year'] = pd.DatetimeIndex(df['launch_date']).year"
   ]
  },
  {
   "cell_type": "markdown",
   "metadata": {},
   "source": [
    "#### 1.3 Log-transformation of wap into log_wap"
   ]
  },
  {
   "cell_type": "code",
   "execution_count": 4,
   "metadata": {},
   "outputs": [],
   "source": [
    "df['log_wap'] = np.log(df['wap'])"
   ]
  },
  {
   "cell_type": "markdown",
   "metadata": {},
   "source": [
    "#### 1.4 Recoding of proj_bedrooms"
   ]
  },
  {
   "cell_type": "code",
   "execution_count": 5,
   "metadata": {},
   "outputs": [
    {
     "data": {
      "text/plain": [
       "1,2              1075\n",
       "1                 519\n",
       "1,2,3             296\n",
       "2,3               241\n",
       "2                 161\n",
       "3                  56\n",
       "2,3,4              51\n",
       "3,4                39\n",
       "1,2,3,4            33\n",
       "3,2                17\n",
       "4                  16\n",
       "3,1,2              14\n",
       "1,3                12\n",
       "3,4,5              10\n",
       "1,2,4               9\n",
       "1,2,3,5             8\n",
       "1,3,4               6\n",
       "2,3,5               6\n",
       "2,4                 6\n",
       "2,3,4,5             5\n",
       "3,5                 4\n",
       "4,5                 3\n",
       "4,2,3               3\n",
       "3,4,2               3\n",
       "4,3                 3\n",
       "1,2,3,4,5           3\n",
       "1,3,4,5             2\n",
       "4,1,3               1\n",
       "2,3,5,1             1\n",
       "2,3,4,5,1           1\n",
       "3,4,6               1\n",
       "3,6                 1\n",
       "3,1                 1\n",
       "1,5,8               1\n",
       "2,3,4,1             1\n",
       "4,2                 1\n",
       "4,5,8               1\n",
       "2,3,4,6             1\n",
       "5,2,3,4             1\n",
       "1,2,4,5             1\n",
       "4,5,6,3             1\n",
       "4,1,2,3             1\n",
       "2,3,8               1\n",
       "2,5                 1\n",
       "6,7,1,2,3,4,5       1\n",
       "6,1,2,3,4           1\n",
       "6,2,3,4,5           1\n",
       "Name: proj_bedrooms, dtype: int64"
      ]
     },
     "execution_count": 5,
     "metadata": {},
     "output_type": "execute_result"
    }
   ],
   "source": [
    "df['proj_bedrooms'].value_counts()"
   ]
  },
  {
   "cell_type": "code",
   "execution_count": 6,
   "metadata": {},
   "outputs": [
    {
     "data": {
      "text/plain": [
       "1 and more    1985\n",
       "2 and more     498\n",
       "3 and more     114\n",
       "4 and more      21\n",
       "6 and more       3\n",
       "Name: proj_bedrooms_clean, dtype: int64"
      ]
     },
     "execution_count": 6,
     "metadata": {},
     "output_type": "execute_result"
    }
   ],
   "source": [
    "new_tags=['1,2,3','1,2,3,4','1,2,3,4','1,3','2,3','2,4','1,3,4','1,2,3,4,5','2,3,4,5','3,4','1,2,3,5','2,3,4','2,3,4']\n",
    "old_tags=['3,1,2','4,1,2,3','2,3,4,1','3,1','3,2','4,2','4,1,3','2,3,4,5,1','5,2,3,4','4,3','2,3,5,1','4,2,3','3,4,2']\n",
    "\n",
    "df[\"proj_bedrooms_clean\"]=df[\"proj_bedrooms\"]\n",
    "df[\"proj_bedrooms_clean\"]=df[\"proj_bedrooms_clean\"].replace(old_tags,new_tags)\n",
    "df[\"proj_bedrooms_clean\"]=df[\"proj_bedrooms_clean\"].str.split(',').str[0]\n",
    "df[\"proj_bedrooms_clean\"]=df[\"proj_bedrooms_clean\"].replace(['1','2','3','4','5','6'],['1 and more','2 and more','3 and more','4 and more','5 and more','6 and more'])\n",
    "df[\"proj_bedrooms_clean\"].value_counts()"
   ]
  },
  {
   "cell_type": "code",
   "execution_count": 7,
   "metadata": {},
   "outputs": [
    {
     "data": {
      "text/html": [
       "<div>\n",
       "<style scoped>\n",
       "    .dataframe tbody tr th:only-of-type {\n",
       "        vertical-align: middle;\n",
       "    }\n",
       "\n",
       "    .dataframe tbody tr th {\n",
       "        vertical-align: top;\n",
       "    }\n",
       "\n",
       "    .dataframe thead th {\n",
       "        text-align: right;\n",
       "    }\n",
       "</style>\n",
       "<table border=\"1\" class=\"dataframe\">\n",
       "  <thead>\n",
       "    <tr style=\"text-align: right;\">\n",
       "      <th></th>\n",
       "      <th>zone</th>\n",
       "      <th>micro_market_number</th>\n",
       "      <th>developer_number</th>\n",
       "      <th>project_number</th>\n",
       "      <th>wap</th>\n",
       "      <th>log_wap</th>\n",
       "      <th>proj_bedrooms_clean</th>\n",
       "      <th>unit_type</th>\n",
       "      <th>proj_launched_units</th>\n",
       "      <th>launch_year</th>\n",
       "      <th>max_size</th>\n",
       "      <th>min_size</th>\n",
       "      <th>b1</th>\n",
       "      <th>b2</th>\n",
       "      <th>b3</th>\n",
       "      <th>b4</th>\n",
       "      <th>b5</th>\n",
       "      <th>b6</th>\n",
       "      <th>b7</th>\n",
       "      <th>b8</th>\n",
       "    </tr>\n",
       "  </thead>\n",
       "  <tbody>\n",
       "    <tr>\n",
       "      <th>0</th>\n",
       "      <td>Zone A</td>\n",
       "      <td>1</td>\n",
       "      <td>1</td>\n",
       "      <td>1</td>\n",
       "      <td>14464.0000</td>\n",
       "      <td>9.579418</td>\n",
       "      <td>1 and more</td>\n",
       "      <td>Apartment</td>\n",
       "      <td>111</td>\n",
       "      <td>2015</td>\n",
       "      <td>744.75</td>\n",
       "      <td>312.48</td>\n",
       "      <td>106</td>\n",
       "      <td>5</td>\n",
       "      <td>0</td>\n",
       "      <td>0</td>\n",
       "      <td>0</td>\n",
       "      <td>0</td>\n",
       "      <td>0</td>\n",
       "      <td>0</td>\n",
       "    </tr>\n",
       "    <tr>\n",
       "      <th>1</th>\n",
       "      <td>Zone A</td>\n",
       "      <td>1</td>\n",
       "      <td>2</td>\n",
       "      <td>2</td>\n",
       "      <td>13982.0000</td>\n",
       "      <td>9.545526</td>\n",
       "      <td>2 and more</td>\n",
       "      <td>Apartment</td>\n",
       "      <td>150</td>\n",
       "      <td>2014</td>\n",
       "      <td>1003.30</td>\n",
       "      <td>730.87</td>\n",
       "      <td>0</td>\n",
       "      <td>98</td>\n",
       "      <td>52</td>\n",
       "      <td>0</td>\n",
       "      <td>0</td>\n",
       "      <td>0</td>\n",
       "      <td>0</td>\n",
       "      <td>0</td>\n",
       "    </tr>\n",
       "    <tr>\n",
       "      <th>2</th>\n",
       "      <td>Zone A</td>\n",
       "      <td>1</td>\n",
       "      <td>2</td>\n",
       "      <td>3</td>\n",
       "      <td>13982.0000</td>\n",
       "      <td>9.545526</td>\n",
       "      <td>2 and more</td>\n",
       "      <td>Apartment</td>\n",
       "      <td>150</td>\n",
       "      <td>2014</td>\n",
       "      <td>1003.30</td>\n",
       "      <td>730.87</td>\n",
       "      <td>0</td>\n",
       "      <td>98</td>\n",
       "      <td>52</td>\n",
       "      <td>0</td>\n",
       "      <td>0</td>\n",
       "      <td>0</td>\n",
       "      <td>0</td>\n",
       "      <td>0</td>\n",
       "    </tr>\n",
       "    <tr>\n",
       "      <th>3</th>\n",
       "      <td>Zone A</td>\n",
       "      <td>1</td>\n",
       "      <td>5</td>\n",
       "      <td>6</td>\n",
       "      <td>12857.0000</td>\n",
       "      <td>9.461644</td>\n",
       "      <td>1 and more</td>\n",
       "      <td>Apartment</td>\n",
       "      <td>120</td>\n",
       "      <td>2016</td>\n",
       "      <td>590.51</td>\n",
       "      <td>269.96</td>\n",
       "      <td>107</td>\n",
       "      <td>13</td>\n",
       "      <td>0</td>\n",
       "      <td>0</td>\n",
       "      <td>0</td>\n",
       "      <td>0</td>\n",
       "      <td>0</td>\n",
       "      <td>0</td>\n",
       "    </tr>\n",
       "    <tr>\n",
       "      <th>4</th>\n",
       "      <td>Zone A</td>\n",
       "      <td>1</td>\n",
       "      <td>7</td>\n",
       "      <td>8</td>\n",
       "      <td>16981.5758</td>\n",
       "      <td>9.739884</td>\n",
       "      <td>1 and more</td>\n",
       "      <td>Apartment</td>\n",
       "      <td>33</td>\n",
       "      <td>2015</td>\n",
       "      <td>1717.00</td>\n",
       "      <td>681.57</td>\n",
       "      <td>1</td>\n",
       "      <td>22</td>\n",
       "      <td>10</td>\n",
       "      <td>0</td>\n",
       "      <td>0</td>\n",
       "      <td>0</td>\n",
       "      <td>0</td>\n",
       "      <td>0</td>\n",
       "    </tr>\n",
       "  </tbody>\n",
       "</table>\n",
       "</div>"
      ],
      "text/plain": [
       "     zone micro_market_number developer_number project_number         wap  \\\n",
       "0  Zone A                   1                1              1  14464.0000   \n",
       "1  Zone A                   1                2              2  13982.0000   \n",
       "2  Zone A                   1                2              3  13982.0000   \n",
       "3  Zone A                   1                5              6  12857.0000   \n",
       "4  Zone A                   1                7              8  16981.5758   \n",
       "\n",
       "    log_wap proj_bedrooms_clean  unit_type  proj_launched_units  launch_year  \\\n",
       "0  9.579418          1 and more  Apartment                  111         2015   \n",
       "1  9.545526          2 and more  Apartment                  150         2014   \n",
       "2  9.545526          2 and more  Apartment                  150         2014   \n",
       "3  9.461644          1 and more  Apartment                  120         2016   \n",
       "4  9.739884          1 and more  Apartment                   33         2015   \n",
       "\n",
       "   max_size  min_size   b1  b2  b3 b4 b5 b6 b7 b8  \n",
       "0    744.75    312.48  106   5   0  0  0  0  0  0  \n",
       "1   1003.30    730.87    0  98  52  0  0  0  0  0  \n",
       "2   1003.30    730.87    0  98  52  0  0  0  0  0  \n",
       "3    590.51    269.96  107  13   0  0  0  0  0  0  \n",
       "4   1717.00    681.57    1  22  10  0  0  0  0  0  "
      ]
     },
     "execution_count": 7,
     "metadata": {},
     "output_type": "execute_result"
    }
   ],
   "source": [
    "cols=['zone', 'micro_market_number', 'developer_number','project_number','wap','log_wap','proj_bedrooms_clean','unit_type','proj_launched_units','launch_year','max_size','min_size','b1','b2','b3','b4','b5','b6','b7','b8']\n",
    "df1=pd.DataFrame(df[cols]).fillna(\"0\")\n",
    "df1.head()"
   ]
  },
  {
   "cell_type": "markdown",
   "metadata": {},
   "source": [
    "#### 1.5 Label Encoding and Type Conversion"
   ]
  },
  {
   "cell_type": "code",
   "execution_count": 8,
   "metadata": {},
   "outputs": [
    {
     "name": "stdout",
     "output_type": "stream",
     "text": [
      "<class 'pandas.core.frame.DataFrame'>\n",
      "RangeIndex: 2621 entries, 0 to 2620\n",
      "Data columns (total 20 columns):\n",
      "zone                   2621 non-null object\n",
      "micro_market_number    2621 non-null object\n",
      "developer_number       2621 non-null object\n",
      "project_number         2621 non-null object\n",
      "wap                    2621 non-null float64\n",
      "log_wap                2621 non-null float64\n",
      "proj_bedrooms_clean    2621 non-null object\n",
      "unit_type              2621 non-null object\n",
      "proj_launched_units    2621 non-null int64\n",
      "launch_year            2621 non-null int64\n",
      "max_size               2621 non-null float64\n",
      "min_size               2621 non-null float64\n",
      "b1                     2621 non-null object\n",
      "b2                     2621 non-null object\n",
      "b3                     2621 non-null object\n",
      "b4                     2621 non-null object\n",
      "b5                     2621 non-null object\n",
      "b6                     2621 non-null object\n",
      "b7                     2621 non-null object\n",
      "b8                     2621 non-null object\n",
      "dtypes: float64(4), int64(2), object(14)\n",
      "memory usage: 409.6+ KB\n"
     ]
    }
   ],
   "source": [
    "df1.info()"
   ]
  },
  {
   "cell_type": "code",
   "execution_count": 9,
   "metadata": {},
   "outputs": [],
   "source": [
    "def type_converter (dataframe, col_name, data_type):\n",
    "    dataframe[col_name]=dataframe[col_name].astype(data_type)"
   ]
  },
  {
   "cell_type": "code",
   "execution_count": 10,
   "metadata": {},
   "outputs": [],
   "source": [
    "for i in list(df1.columns)[-8:]:\n",
    "    type_converter (df1, i, 'int')"
   ]
  },
  {
   "cell_type": "code",
   "execution_count": 11,
   "metadata": {},
   "outputs": [],
   "source": [
    "for i in ['zone','micro_market_number','proj_bedrooms_clean','project_number','unit_type','launch_year']:\n",
    "    type_converter (df1, i, 'category')"
   ]
  },
  {
   "cell_type": "code",
   "execution_count": 12,
   "metadata": {},
   "outputs": [
    {
     "name": "stdout",
     "output_type": "stream",
     "text": [
      "<class 'pandas.core.frame.DataFrame'>\n",
      "RangeIndex: 2621 entries, 0 to 2620\n",
      "Data columns (total 20 columns):\n",
      "zone                   2621 non-null category\n",
      "micro_market_number    2621 non-null category\n",
      "developer_number       2621 non-null object\n",
      "project_number         2621 non-null category\n",
      "wap                    2621 non-null float64\n",
      "log_wap                2621 non-null float64\n",
      "proj_bedrooms_clean    2621 non-null category\n",
      "unit_type              2621 non-null category\n",
      "proj_launched_units    2621 non-null int64\n",
      "launch_year            2621 non-null category\n",
      "max_size               2621 non-null float64\n",
      "min_size               2621 non-null float64\n",
      "b1                     2621 non-null int32\n",
      "b2                     2621 non-null int32\n",
      "b3                     2621 non-null int32\n",
      "b4                     2621 non-null int32\n",
      "b5                     2621 non-null int32\n",
      "b6                     2621 non-null int32\n",
      "b7                     2621 non-null int32\n",
      "b8                     2621 non-null int32\n",
      "dtypes: category(6), float64(4), int32(8), int64(1), object(1)\n",
      "memory usage: 328.2+ KB\n"
     ]
    }
   ],
   "source": [
    "df1.info()"
   ]
  },
  {
   "cell_type": "markdown",
   "metadata": {},
   "source": [
    "#### Creation of b48 column"
   ]
  },
  {
   "cell_type": "code",
   "execution_count": 13,
   "metadata": {},
   "outputs": [],
   "source": [
    "df1['b48']=df1['b4']+df1['b5']+df1['b6']+df1['b7']+df1['b8']"
   ]
  },
  {
   "cell_type": "markdown",
   "metadata": {},
   "source": [
    "## 2. Exploratory Data Analysis"
   ]
  },
  {
   "cell_type": "markdown",
   "metadata": {},
   "source": [
    "### 2.1 Cluster Analysis of Micromarkets\n",
    "\n",
    "1. K-Means Clustering based on mean of wap for every micromarket\n",
    "2. Assigning cluster numbers to respective micro_markets\n",
    "3. Counting number of projects and micromarkets in every cluster"
   ]
  },
  {
   "cell_type": "code",
   "execution_count": 14,
   "metadata": {},
   "outputs": [],
   "source": [
    "import matplotlib.pyplot as plt\n",
    "import seaborn as sns\n",
    "%matplotlib inline\n",
    "\n",
    "sns.set(style=\"darkgrid\")\n",
    "sns.set_color_codes(\"dark\")"
   ]
  },
  {
   "cell_type": "code",
   "execution_count": 15,
   "metadata": {},
   "outputs": [
    {
     "data": {
      "text/plain": [
       "micro_market_number\n",
       "1      16070.897978\n",
       "10     12709.734924\n",
       "100     6730.000000\n",
       "101     4800.454082\n",
       "102     7601.348358\n",
       "104     4550.000000\n",
       "105     9666.666667\n",
       "106     5561.967821\n",
       "107     8028.775714\n",
       "108    10951.648586\n",
       "109     4281.954455\n",
       "11     13484.938329\n",
       "110     5600.885779\n",
       "111    15000.000000\n",
       "112     3487.000000\n",
       "113     4788.333333\n",
       "114    10016.946792\n",
       "115    24283.307556\n",
       "116    49078.461538\n",
       "118    36898.200000\n",
       "119    34324.333333\n",
       "12     12687.445504\n",
       "120    33074.574463\n",
       "121    19744.017888\n",
       "122    38020.914456\n",
       "123    28022.157103\n",
       "124    31466.083000\n",
       "13     14725.692669\n",
       "14      3217.645000\n",
       "15      3230.666667\n",
       "           ...     \n",
       "69      3134.751107\n",
       "7      14843.527256\n",
       "70      2900.637781\n",
       "72      4615.802286\n",
       "73      4877.616544\n",
       "75     17564.462999\n",
       "76     17072.694050\n",
       "77     18741.930000\n",
       "79     17901.507612\n",
       "8      16130.349347\n",
       "80     20000.000000\n",
       "81     50000.000000\n",
       "82     24814.456483\n",
       "84     31521.000000\n",
       "85     31160.750000\n",
       "86     24508.750000\n",
       "87     26954.200000\n",
       "88     29835.340446\n",
       "89     30000.000000\n",
       "9      15391.270927\n",
       "90     27500.000000\n",
       "91     21137.908680\n",
       "92     27392.152940\n",
       "93     42797.333333\n",
       "94     41928.750000\n",
       "95     10719.430572\n",
       "96      5898.400000\n",
       "97      4174.288250\n",
       "98      9155.409091\n",
       "99      5780.332080\n",
       "Name: wap, Length: 113, dtype: float64"
      ]
     },
     "execution_count": 15,
     "metadata": {},
     "output_type": "execute_result"
    }
   ],
   "source": [
    "mm=df1.groupby('micro_market_number')['wap'].mean()\n",
    "mm"
   ]
  },
  {
   "cell_type": "code",
   "execution_count": 16,
   "metadata": {},
   "outputs": [
    {
     "data": {
      "text/plain": [
       "(113L,)"
      ]
     },
     "execution_count": 16,
     "metadata": {},
     "output_type": "execute_result"
    }
   ],
   "source": [
    "mm.shape"
   ]
  },
  {
   "cell_type": "code",
   "execution_count": 17,
   "metadata": {},
   "outputs": [
    {
     "name": "stderr",
     "output_type": "stream",
     "text": [
      "C:\\Users\\Anirban\\Anaconda3\\envs\\mldds\\lib\\site-packages\\ipykernel_launcher.py:1: FutureWarning: Method .as_matrix will be removed in a future version. Use .values instead.\n",
      "  \"\"\"Entry point for launching an IPython kernel.\n"
     ]
    },
    {
     "data": {
      "text/plain": [
       "(113L, 1L)"
      ]
     },
     "execution_count": 17,
     "metadata": {},
     "output_type": "execute_result"
    }
   ],
   "source": [
    "mm=mm.as_matrix(columns=None)\n",
    "mm=mm.reshape(-1, 1)\n",
    "mm.shape"
   ]
  },
  {
   "cell_type": "code",
   "execution_count": 18,
   "metadata": {},
   "outputs": [
    {
     "name": "stdout",
     "output_type": "stream",
     "text": [
      "0.6491078478306269\n"
     ]
    }
   ],
   "source": [
    "from sklearn.cluster import KMeans\n",
    "\n",
    "#clustering formula\n",
    "kmeans = KMeans(n_clusters=22, n_init=100, max_iter=1000,n_jobs=5)\n",
    "\n",
    "# get the clusters\n",
    "kmm = kmeans.fit_predict(mm)\n",
    "\n",
    "#clustering metric\n",
    "from sklearn.metrics import silhouette_score\n",
    "print(silhouette_score(mm, kmm))"
   ]
  },
  {
   "cell_type": "code",
   "execution_count": 19,
   "metadata": {},
   "outputs": [
    {
     "data": {
      "text/html": [
       "<div>\n",
       "<style scoped>\n",
       "    .dataframe tbody tr th:only-of-type {\n",
       "        vertical-align: middle;\n",
       "    }\n",
       "\n",
       "    .dataframe tbody tr th {\n",
       "        vertical-align: top;\n",
       "    }\n",
       "\n",
       "    .dataframe thead th {\n",
       "        text-align: right;\n",
       "    }\n",
       "</style>\n",
       "<table border=\"1\" class=\"dataframe\">\n",
       "  <thead>\n",
       "    <tr style=\"text-align: right;\">\n",
       "      <th></th>\n",
       "      <th>micro_market_number</th>\n",
       "      <th>project_number</th>\n",
       "      <th>cluster</th>\n",
       "    </tr>\n",
       "  </thead>\n",
       "  <tbody>\n",
       "    <tr>\n",
       "      <th>0</th>\n",
       "      <td>1</td>\n",
       "      <td>49</td>\n",
       "      <td>2</td>\n",
       "    </tr>\n",
       "    <tr>\n",
       "      <th>1</th>\n",
       "      <td>10</td>\n",
       "      <td>12</td>\n",
       "      <td>14</td>\n",
       "    </tr>\n",
       "    <tr>\n",
       "      <th>2</th>\n",
       "      <td>100</td>\n",
       "      <td>5</td>\n",
       "      <td>12</td>\n",
       "    </tr>\n",
       "    <tr>\n",
       "      <th>3</th>\n",
       "      <td>101</td>\n",
       "      <td>49</td>\n",
       "      <td>0</td>\n",
       "    </tr>\n",
       "    <tr>\n",
       "      <th>4</th>\n",
       "      <td>102</td>\n",
       "      <td>33</td>\n",
       "      <td>12</td>\n",
       "    </tr>\n",
       "    <tr>\n",
       "      <th>5</th>\n",
       "      <td>104</td>\n",
       "      <td>2</td>\n",
       "      <td>0</td>\n",
       "    </tr>\n",
       "    <tr>\n",
       "      <th>6</th>\n",
       "      <td>105</td>\n",
       "      <td>3</td>\n",
       "      <td>19</td>\n",
       "    </tr>\n",
       "    <tr>\n",
       "      <th>7</th>\n",
       "      <td>106</td>\n",
       "      <td>55</td>\n",
       "      <td>18</td>\n",
       "    </tr>\n",
       "    <tr>\n",
       "      <th>8</th>\n",
       "      <td>107</td>\n",
       "      <td>7</td>\n",
       "      <td>12</td>\n",
       "    </tr>\n",
       "    <tr>\n",
       "      <th>9</th>\n",
       "      <td>108</td>\n",
       "      <td>14</td>\n",
       "      <td>5</td>\n",
       "    </tr>\n",
       "    <tr>\n",
       "      <th>10</th>\n",
       "      <td>109</td>\n",
       "      <td>49</td>\n",
       "      <td>20</td>\n",
       "    </tr>\n",
       "    <tr>\n",
       "      <th>11</th>\n",
       "      <td>11</td>\n",
       "      <td>28</td>\n",
       "      <td>14</td>\n",
       "    </tr>\n",
       "    <tr>\n",
       "      <th>12</th>\n",
       "      <td>110</td>\n",
       "      <td>129</td>\n",
       "      <td>18</td>\n",
       "    </tr>\n",
       "    <tr>\n",
       "      <th>13</th>\n",
       "      <td>111</td>\n",
       "      <td>1</td>\n",
       "      <td>9</td>\n",
       "    </tr>\n",
       "    <tr>\n",
       "      <th>14</th>\n",
       "      <td>112</td>\n",
       "      <td>1</td>\n",
       "      <td>15</td>\n",
       "    </tr>\n",
       "    <tr>\n",
       "      <th>15</th>\n",
       "      <td>113</td>\n",
       "      <td>3</td>\n",
       "      <td>0</td>\n",
       "    </tr>\n",
       "    <tr>\n",
       "      <th>16</th>\n",
       "      <td>114</td>\n",
       "      <td>181</td>\n",
       "      <td>5</td>\n",
       "    </tr>\n",
       "    <tr>\n",
       "      <th>17</th>\n",
       "      <td>115</td>\n",
       "      <td>9</td>\n",
       "      <td>13</td>\n",
       "    </tr>\n",
       "    <tr>\n",
       "      <th>18</th>\n",
       "      <td>116</td>\n",
       "      <td>13</td>\n",
       "      <td>7</td>\n",
       "    </tr>\n",
       "    <tr>\n",
       "      <th>19</th>\n",
       "      <td>118</td>\n",
       "      <td>5</td>\n",
       "      <td>11</td>\n",
       "    </tr>\n",
       "    <tr>\n",
       "      <th>20</th>\n",
       "      <td>119</td>\n",
       "      <td>15</td>\n",
       "      <td>4</td>\n",
       "    </tr>\n",
       "    <tr>\n",
       "      <th>21</th>\n",
       "      <td>12</td>\n",
       "      <td>27</td>\n",
       "      <td>14</td>\n",
       "    </tr>\n",
       "    <tr>\n",
       "      <th>22</th>\n",
       "      <td>120</td>\n",
       "      <td>8</td>\n",
       "      <td>4</td>\n",
       "    </tr>\n",
       "    <tr>\n",
       "      <th>23</th>\n",
       "      <td>121</td>\n",
       "      <td>26</td>\n",
       "      <td>6</td>\n",
       "    </tr>\n",
       "    <tr>\n",
       "      <th>24</th>\n",
       "      <td>122</td>\n",
       "      <td>18</td>\n",
       "      <td>11</td>\n",
       "    </tr>\n",
       "    <tr>\n",
       "      <th>25</th>\n",
       "      <td>123</td>\n",
       "      <td>33</td>\n",
       "      <td>1</td>\n",
       "    </tr>\n",
       "    <tr>\n",
       "      <th>26</th>\n",
       "      <td>124</td>\n",
       "      <td>10</td>\n",
       "      <td>10</td>\n",
       "    </tr>\n",
       "    <tr>\n",
       "      <th>27</th>\n",
       "      <td>13</td>\n",
       "      <td>52</td>\n",
       "      <td>9</td>\n",
       "    </tr>\n",
       "    <tr>\n",
       "      <th>28</th>\n",
       "      <td>14</td>\n",
       "      <td>2</td>\n",
       "      <td>15</td>\n",
       "    </tr>\n",
       "    <tr>\n",
       "      <th>29</th>\n",
       "      <td>15</td>\n",
       "      <td>3</td>\n",
       "      <td>15</td>\n",
       "    </tr>\n",
       "    <tr>\n",
       "      <th>...</th>\n",
       "      <td>...</td>\n",
       "      <td>...</td>\n",
       "      <td>...</td>\n",
       "    </tr>\n",
       "    <tr>\n",
       "      <th>83</th>\n",
       "      <td>69</td>\n",
       "      <td>46</td>\n",
       "      <td>15</td>\n",
       "    </tr>\n",
       "    <tr>\n",
       "      <th>84</th>\n",
       "      <td>7</td>\n",
       "      <td>27</td>\n",
       "      <td>9</td>\n",
       "    </tr>\n",
       "    <tr>\n",
       "      <th>85</th>\n",
       "      <td>70</td>\n",
       "      <td>7</td>\n",
       "      <td>8</td>\n",
       "    </tr>\n",
       "    <tr>\n",
       "      <th>86</th>\n",
       "      <td>72</td>\n",
       "      <td>50</td>\n",
       "      <td>0</td>\n",
       "    </tr>\n",
       "    <tr>\n",
       "      <th>87</th>\n",
       "      <td>73</td>\n",
       "      <td>32</td>\n",
       "      <td>0</td>\n",
       "    </tr>\n",
       "    <tr>\n",
       "      <th>88</th>\n",
       "      <td>75</td>\n",
       "      <td>95</td>\n",
       "      <td>16</td>\n",
       "    </tr>\n",
       "    <tr>\n",
       "      <th>89</th>\n",
       "      <td>76</td>\n",
       "      <td>6</td>\n",
       "      <td>2</td>\n",
       "    </tr>\n",
       "    <tr>\n",
       "      <th>90</th>\n",
       "      <td>77</td>\n",
       "      <td>4</td>\n",
       "      <td>16</td>\n",
       "    </tr>\n",
       "    <tr>\n",
       "      <th>91</th>\n",
       "      <td>79</td>\n",
       "      <td>8</td>\n",
       "      <td>16</td>\n",
       "    </tr>\n",
       "    <tr>\n",
       "      <th>92</th>\n",
       "      <td>8</td>\n",
       "      <td>15</td>\n",
       "      <td>2</td>\n",
       "    </tr>\n",
       "    <tr>\n",
       "      <th>93</th>\n",
       "      <td>80</td>\n",
       "      <td>2</td>\n",
       "      <td>6</td>\n",
       "    </tr>\n",
       "    <tr>\n",
       "      <th>94</th>\n",
       "      <td>81</td>\n",
       "      <td>1</td>\n",
       "      <td>7</td>\n",
       "    </tr>\n",
       "    <tr>\n",
       "      <th>95</th>\n",
       "      <td>82</td>\n",
       "      <td>12</td>\n",
       "      <td>13</td>\n",
       "    </tr>\n",
       "    <tr>\n",
       "      <th>96</th>\n",
       "      <td>84</td>\n",
       "      <td>12</td>\n",
       "      <td>10</td>\n",
       "    </tr>\n",
       "    <tr>\n",
       "      <th>97</th>\n",
       "      <td>85</td>\n",
       "      <td>8</td>\n",
       "      <td>10</td>\n",
       "    </tr>\n",
       "    <tr>\n",
       "      <th>98</th>\n",
       "      <td>86</td>\n",
       "      <td>11</td>\n",
       "      <td>13</td>\n",
       "    </tr>\n",
       "    <tr>\n",
       "      <th>99</th>\n",
       "      <td>87</td>\n",
       "      <td>5</td>\n",
       "      <td>1</td>\n",
       "    </tr>\n",
       "    <tr>\n",
       "      <th>100</th>\n",
       "      <td>88</td>\n",
       "      <td>5</td>\n",
       "      <td>21</td>\n",
       "    </tr>\n",
       "    <tr>\n",
       "      <th>101</th>\n",
       "      <td>89</td>\n",
       "      <td>2</td>\n",
       "      <td>21</td>\n",
       "    </tr>\n",
       "    <tr>\n",
       "      <th>102</th>\n",
       "      <td>9</td>\n",
       "      <td>21</td>\n",
       "      <td>9</td>\n",
       "    </tr>\n",
       "    <tr>\n",
       "      <th>103</th>\n",
       "      <td>90</td>\n",
       "      <td>1</td>\n",
       "      <td>1</td>\n",
       "    </tr>\n",
       "    <tr>\n",
       "      <th>104</th>\n",
       "      <td>91</td>\n",
       "      <td>5</td>\n",
       "      <td>17</td>\n",
       "    </tr>\n",
       "    <tr>\n",
       "      <th>105</th>\n",
       "      <td>92</td>\n",
       "      <td>5</td>\n",
       "      <td>1</td>\n",
       "    </tr>\n",
       "    <tr>\n",
       "      <th>106</th>\n",
       "      <td>93</td>\n",
       "      <td>3</td>\n",
       "      <td>3</td>\n",
       "    </tr>\n",
       "    <tr>\n",
       "      <th>107</th>\n",
       "      <td>94</td>\n",
       "      <td>4</td>\n",
       "      <td>3</td>\n",
       "    </tr>\n",
       "    <tr>\n",
       "      <th>108</th>\n",
       "      <td>95</td>\n",
       "      <td>4</td>\n",
       "      <td>5</td>\n",
       "    </tr>\n",
       "    <tr>\n",
       "      <th>109</th>\n",
       "      <td>96</td>\n",
       "      <td>5</td>\n",
       "      <td>18</td>\n",
       "    </tr>\n",
       "    <tr>\n",
       "      <th>110</th>\n",
       "      <td>97</td>\n",
       "      <td>40</td>\n",
       "      <td>20</td>\n",
       "    </tr>\n",
       "    <tr>\n",
       "      <th>111</th>\n",
       "      <td>98</td>\n",
       "      <td>11</td>\n",
       "      <td>19</td>\n",
       "    </tr>\n",
       "    <tr>\n",
       "      <th>112</th>\n",
       "      <td>99</td>\n",
       "      <td>5</td>\n",
       "      <td>18</td>\n",
       "    </tr>\n",
       "  </tbody>\n",
       "</table>\n",
       "<p>113 rows × 3 columns</p>\n",
       "</div>"
      ],
      "text/plain": [
       "    micro_market_number  project_number  cluster\n",
       "0                     1              49        2\n",
       "1                    10              12       14\n",
       "2                   100               5       12\n",
       "3                   101              49        0\n",
       "4                   102              33       12\n",
       "5                   104               2        0\n",
       "6                   105               3       19\n",
       "7                   106              55       18\n",
       "8                   107               7       12\n",
       "9                   108              14        5\n",
       "10                  109              49       20\n",
       "11                   11              28       14\n",
       "12                  110             129       18\n",
       "13                  111               1        9\n",
       "14                  112               1       15\n",
       "15                  113               3        0\n",
       "16                  114             181        5\n",
       "17                  115               9       13\n",
       "18                  116              13        7\n",
       "19                  118               5       11\n",
       "20                  119              15        4\n",
       "21                   12              27       14\n",
       "22                  120               8        4\n",
       "23                  121              26        6\n",
       "24                  122              18       11\n",
       "25                  123              33        1\n",
       "26                  124              10       10\n",
       "27                   13              52        9\n",
       "28                   14               2       15\n",
       "29                   15               3       15\n",
       "..                  ...             ...      ...\n",
       "83                   69              46       15\n",
       "84                    7              27        9\n",
       "85                   70               7        8\n",
       "86                   72              50        0\n",
       "87                   73              32        0\n",
       "88                   75              95       16\n",
       "89                   76               6        2\n",
       "90                   77               4       16\n",
       "91                   79               8       16\n",
       "92                    8              15        2\n",
       "93                   80               2        6\n",
       "94                   81               1        7\n",
       "95                   82              12       13\n",
       "96                   84              12       10\n",
       "97                   85               8       10\n",
       "98                   86              11       13\n",
       "99                   87               5        1\n",
       "100                  88               5       21\n",
       "101                  89               2       21\n",
       "102                   9              21        9\n",
       "103                  90               1        1\n",
       "104                  91               5       17\n",
       "105                  92               5        1\n",
       "106                  93               3        3\n",
       "107                  94               4        3\n",
       "108                  95               4        5\n",
       "109                  96               5       18\n",
       "110                  97              40       20\n",
       "111                  98              11       19\n",
       "112                  99               5       18\n",
       "\n",
       "[113 rows x 3 columns]"
      ]
     },
     "execution_count": 19,
     "metadata": {},
     "output_type": "execute_result"
    }
   ],
   "source": [
    "#cluster dataframe\n",
    "kmm=pd.DataFrame(kmm)\n",
    "kmm.columns=['cluster']\n",
    "\n",
    "#cluster number and number of projects for every micromarket\n",
    "mm_proj=df1.groupby('micro_market_number')['project_number'].count().reset_index()\n",
    "mm_proj=pd.concat([mm_proj, kmm],axis=1)\n",
    "mm_proj"
   ]
  },
  {
   "cell_type": "code",
   "execution_count": 20,
   "metadata": {
    "scrolled": true
   },
   "outputs": [
    {
     "data": {
      "text/plain": [
       "{'1': 2,\n",
       " '10': 14,\n",
       " '100': 12,\n",
       " '101': 0,\n",
       " '102': 12,\n",
       " '104': 0,\n",
       " '105': 19,\n",
       " '106': 18,\n",
       " '107': 12,\n",
       " '108': 5,\n",
       " '109': 20,\n",
       " '11': 14,\n",
       " '110': 18,\n",
       " '111': 9,\n",
       " '112': 15,\n",
       " '113': 0,\n",
       " '114': 5,\n",
       " '115': 13,\n",
       " '116': 7,\n",
       " '118': 11,\n",
       " '119': 4,\n",
       " '12': 14,\n",
       " '120': 4,\n",
       " '121': 6,\n",
       " '122': 11,\n",
       " '123': 1,\n",
       " '124': 10,\n",
       " '13': 9,\n",
       " '14': 15,\n",
       " '15': 15,\n",
       " '16': 20,\n",
       " '17': 15,\n",
       " '18': 0,\n",
       " '19': 20,\n",
       " '2': 6,\n",
       " '20': 15,\n",
       " '21': 8,\n",
       " '22': 15,\n",
       " '23': 15,\n",
       " '24': 20,\n",
       " '25': 20,\n",
       " '26': 8,\n",
       " '27': 15,\n",
       " '28': 15,\n",
       " '29': 20,\n",
       " '3': 9,\n",
       " '30': 0,\n",
       " '31': 18,\n",
       " '32': 0,\n",
       " '33': 18,\n",
       " '34': 8,\n",
       " '36': 8,\n",
       " '38': 8,\n",
       " '4': 2,\n",
       " '40': 8,\n",
       " '41': 15,\n",
       " '42': 0,\n",
       " '43': 15,\n",
       " '44': 19,\n",
       " '45': 8,\n",
       " '46': 8,\n",
       " '47': 8,\n",
       " '48': 1,\n",
       " '49': 19,\n",
       " '5': 14,\n",
       " '50': 5,\n",
       " '51': 2,\n",
       " '52': 2,\n",
       " '53': 14,\n",
       " '54': 14,\n",
       " '55': 11,\n",
       " '56': 9,\n",
       " '57': 9,\n",
       " '59': 16,\n",
       " '6': 9,\n",
       " '60': 17,\n",
       " '61': 9,\n",
       " '62': 12,\n",
       " '63': 12,\n",
       " '64': 8,\n",
       " '66': 12,\n",
       " '67': 20,\n",
       " '68': 20,\n",
       " '69': 15,\n",
       " '7': 9,\n",
       " '70': 8,\n",
       " '72': 0,\n",
       " '73': 0,\n",
       " '75': 16,\n",
       " '76': 2,\n",
       " '77': 16,\n",
       " '79': 16,\n",
       " '8': 2,\n",
       " '80': 6,\n",
       " '81': 7,\n",
       " '82': 13,\n",
       " '84': 10,\n",
       " '85': 10,\n",
       " '86': 13,\n",
       " '87': 1,\n",
       " '88': 21,\n",
       " '89': 21,\n",
       " '9': 9,\n",
       " '90': 1,\n",
       " '91': 17,\n",
       " '92': 1,\n",
       " '93': 3,\n",
       " '94': 3,\n",
       " '95': 5,\n",
       " '96': 18,\n",
       " '97': 20,\n",
       " '98': 19,\n",
       " '99': 18}"
      ]
     },
     "execution_count": 20,
     "metadata": {},
     "output_type": "execute_result"
    }
   ],
   "source": [
    "# Dictionary mapping micromarket number with cluster numbers\n",
    "market_cluster = dict(zip(mm_proj['micro_market_number'], mm_proj['cluster']))\n",
    "market_cluster"
   ]
  },
  {
   "cell_type": "code",
   "execution_count": 21,
   "metadata": {},
   "outputs": [
    {
     "data": {
      "text/plain": [
       "15    369\n",
       "18    347\n",
       "5     230\n",
       "9     218\n",
       "20    202\n",
       "0     192\n",
       "8     190\n",
       "2     187\n",
       "14    129\n",
       "12    126\n",
       "16    124\n",
       "6      73\n",
       "1      46\n",
       "11     42\n",
       "13     32\n",
       "10     30\n",
       "4      23\n",
       "19     19\n",
       "7      14\n",
       "17     14\n",
       "3       7\n",
       "21      7\n",
       "Name: cluster, dtype: int64"
      ]
     },
     "execution_count": 21,
     "metadata": {},
     "output_type": "execute_result"
    }
   ],
   "source": [
    "# Create a new column in the dataset indicating cluster numbers, initialised with micromarket numbers\n",
    "df1['cluster']=df1['micro_market_number']\n",
    "# Map cluster numbers to their respective micromarket numbers \n",
    "df1['cluster']=df1['cluster'].map(market_cluster)\n",
    "df1['cluster'].value_counts()"
   ]
  },
  {
   "cell_type": "code",
   "execution_count": 22,
   "metadata": {},
   "outputs": [
    {
     "data": {
      "text/html": [
       "<div>\n",
       "<style scoped>\n",
       "    .dataframe tbody tr th:only-of-type {\n",
       "        vertical-align: middle;\n",
       "    }\n",
       "\n",
       "    .dataframe tbody tr th {\n",
       "        vertical-align: top;\n",
       "    }\n",
       "\n",
       "    .dataframe thead th {\n",
       "        text-align: right;\n",
       "    }\n",
       "</style>\n",
       "<table border=\"1\" class=\"dataframe\">\n",
       "  <thead>\n",
       "    <tr style=\"text-align: right;\">\n",
       "      <th></th>\n",
       "      <th>cluster</th>\n",
       "      <th>project_number</th>\n",
       "    </tr>\n",
       "  </thead>\n",
       "  <tbody>\n",
       "    <tr>\n",
       "      <th>0</th>\n",
       "      <td>0</td>\n",
       "      <td>192</td>\n",
       "    </tr>\n",
       "    <tr>\n",
       "      <th>1</th>\n",
       "      <td>1</td>\n",
       "      <td>46</td>\n",
       "    </tr>\n",
       "    <tr>\n",
       "      <th>2</th>\n",
       "      <td>2</td>\n",
       "      <td>187</td>\n",
       "    </tr>\n",
       "    <tr>\n",
       "      <th>3</th>\n",
       "      <td>3</td>\n",
       "      <td>7</td>\n",
       "    </tr>\n",
       "    <tr>\n",
       "      <th>4</th>\n",
       "      <td>4</td>\n",
       "      <td>23</td>\n",
       "    </tr>\n",
       "    <tr>\n",
       "      <th>5</th>\n",
       "      <td>5</td>\n",
       "      <td>230</td>\n",
       "    </tr>\n",
       "    <tr>\n",
       "      <th>6</th>\n",
       "      <td>6</td>\n",
       "      <td>73</td>\n",
       "    </tr>\n",
       "    <tr>\n",
       "      <th>7</th>\n",
       "      <td>7</td>\n",
       "      <td>14</td>\n",
       "    </tr>\n",
       "    <tr>\n",
       "      <th>8</th>\n",
       "      <td>8</td>\n",
       "      <td>190</td>\n",
       "    </tr>\n",
       "    <tr>\n",
       "      <th>9</th>\n",
       "      <td>9</td>\n",
       "      <td>218</td>\n",
       "    </tr>\n",
       "    <tr>\n",
       "      <th>10</th>\n",
       "      <td>10</td>\n",
       "      <td>30</td>\n",
       "    </tr>\n",
       "    <tr>\n",
       "      <th>11</th>\n",
       "      <td>11</td>\n",
       "      <td>42</td>\n",
       "    </tr>\n",
       "    <tr>\n",
       "      <th>12</th>\n",
       "      <td>12</td>\n",
       "      <td>126</td>\n",
       "    </tr>\n",
       "    <tr>\n",
       "      <th>13</th>\n",
       "      <td>13</td>\n",
       "      <td>32</td>\n",
       "    </tr>\n",
       "    <tr>\n",
       "      <th>14</th>\n",
       "      <td>14</td>\n",
       "      <td>129</td>\n",
       "    </tr>\n",
       "    <tr>\n",
       "      <th>15</th>\n",
       "      <td>15</td>\n",
       "      <td>369</td>\n",
       "    </tr>\n",
       "    <tr>\n",
       "      <th>16</th>\n",
       "      <td>16</td>\n",
       "      <td>124</td>\n",
       "    </tr>\n",
       "    <tr>\n",
       "      <th>17</th>\n",
       "      <td>17</td>\n",
       "      <td>14</td>\n",
       "    </tr>\n",
       "    <tr>\n",
       "      <th>18</th>\n",
       "      <td>18</td>\n",
       "      <td>347</td>\n",
       "    </tr>\n",
       "    <tr>\n",
       "      <th>19</th>\n",
       "      <td>19</td>\n",
       "      <td>19</td>\n",
       "    </tr>\n",
       "    <tr>\n",
       "      <th>20</th>\n",
       "      <td>20</td>\n",
       "      <td>202</td>\n",
       "    </tr>\n",
       "    <tr>\n",
       "      <th>21</th>\n",
       "      <td>21</td>\n",
       "      <td>7</td>\n",
       "    </tr>\n",
       "  </tbody>\n",
       "</table>\n",
       "</div>"
      ],
      "text/plain": [
       "    cluster  project_number\n",
       "0         0             192\n",
       "1         1              46\n",
       "2         2             187\n",
       "3         3               7\n",
       "4         4              23\n",
       "5         5             230\n",
       "6         6              73\n",
       "7         7              14\n",
       "8         8             190\n",
       "9         9             218\n",
       "10       10              30\n",
       "11       11              42\n",
       "12       12             126\n",
       "13       13              32\n",
       "14       14             129\n",
       "15       15             369\n",
       "16       16             124\n",
       "17       17              14\n",
       "18       18             347\n",
       "19       19              19\n",
       "20       20             202\n",
       "21       21               7"
      ]
     },
     "execution_count": 22,
     "metadata": {},
     "output_type": "execute_result"
    }
   ],
   "source": [
    "# How many projects are there for each cluster?\n",
    "kmm_proj=df1.groupby('cluster')['project_number'].count().reset_index()\n",
    "kmm_proj=pd.DataFrame(kmm_proj)\n",
    "kmm_proj"
   ]
  },
  {
   "cell_type": "code",
   "execution_count": 23,
   "metadata": {},
   "outputs": [
    {
     "data": {
      "text/plain": [
       "<matplotlib.axes._subplots.AxesSubplot at 0xe08c588>"
      ]
     },
     "execution_count": 23,
     "metadata": {},
     "output_type": "execute_result"
    },
    {
     "data": {
      "image/png": "[encoded data removed]",
      "text/plain": [
       "<Figure size 432x288 with 1 Axes>"
      ]
     },
     "metadata": {
      "needs_background": "light"
     },
     "output_type": "display_data"
    }
   ],
   "source": [
    "# projects per cluster\n",
    "sns.barplot(x=\"cluster\", y=\"project_number\", data=kmm_proj)"
   ]
  },
  {
   "cell_type": "code",
   "execution_count": 24,
   "metadata": {},
   "outputs": [
    {
     "data": {
      "text/html": [
       "<div>\n",
       "<style scoped>\n",
       "    .dataframe tbody tr th:only-of-type {\n",
       "        vertical-align: middle;\n",
       "    }\n",
       "\n",
       "    .dataframe tbody tr th {\n",
       "        vertical-align: top;\n",
       "    }\n",
       "\n",
       "    .dataframe thead th {\n",
       "        text-align: right;\n",
       "    }\n",
       "</style>\n",
       "<table border=\"1\" class=\"dataframe\">\n",
       "  <thead>\n",
       "    <tr style=\"text-align: right;\">\n",
       "      <th></th>\n",
       "      <th>cluster</th>\n",
       "      <th>micro_market_number</th>\n",
       "    </tr>\n",
       "  </thead>\n",
       "  <tbody>\n",
       "    <tr>\n",
       "      <th>0</th>\n",
       "      <td>0</td>\n",
       "      <td>9</td>\n",
       "    </tr>\n",
       "    <tr>\n",
       "      <th>1</th>\n",
       "      <td>1</td>\n",
       "      <td>5</td>\n",
       "    </tr>\n",
       "    <tr>\n",
       "      <th>2</th>\n",
       "      <td>2</td>\n",
       "      <td>6</td>\n",
       "    </tr>\n",
       "    <tr>\n",
       "      <th>3</th>\n",
       "      <td>3</td>\n",
       "      <td>2</td>\n",
       "    </tr>\n",
       "    <tr>\n",
       "      <th>4</th>\n",
       "      <td>4</td>\n",
       "      <td>2</td>\n",
       "    </tr>\n",
       "    <tr>\n",
       "      <th>5</th>\n",
       "      <td>5</td>\n",
       "      <td>4</td>\n",
       "    </tr>\n",
       "    <tr>\n",
       "      <th>6</th>\n",
       "      <td>6</td>\n",
       "      <td>3</td>\n",
       "    </tr>\n",
       "    <tr>\n",
       "      <th>7</th>\n",
       "      <td>7</td>\n",
       "      <td>2</td>\n",
       "    </tr>\n",
       "    <tr>\n",
       "      <th>8</th>\n",
       "      <td>8</td>\n",
       "      <td>11</td>\n",
       "    </tr>\n",
       "    <tr>\n",
       "      <th>9</th>\n",
       "      <td>9</td>\n",
       "      <td>9</td>\n",
       "    </tr>\n",
       "    <tr>\n",
       "      <th>10</th>\n",
       "      <td>10</td>\n",
       "      <td>3</td>\n",
       "    </tr>\n",
       "    <tr>\n",
       "      <th>11</th>\n",
       "      <td>11</td>\n",
       "      <td>3</td>\n",
       "    </tr>\n",
       "    <tr>\n",
       "      <th>12</th>\n",
       "      <td>12</td>\n",
       "      <td>6</td>\n",
       "    </tr>\n",
       "    <tr>\n",
       "      <th>13</th>\n",
       "      <td>13</td>\n",
       "      <td>3</td>\n",
       "    </tr>\n",
       "    <tr>\n",
       "      <th>14</th>\n",
       "      <td>14</td>\n",
       "      <td>6</td>\n",
       "    </tr>\n",
       "    <tr>\n",
       "      <th>15</th>\n",
       "      <td>15</td>\n",
       "      <td>12</td>\n",
       "    </tr>\n",
       "    <tr>\n",
       "      <th>16</th>\n",
       "      <td>16</td>\n",
       "      <td>4</td>\n",
       "    </tr>\n",
       "    <tr>\n",
       "      <th>17</th>\n",
       "      <td>17</td>\n",
       "      <td>2</td>\n",
       "    </tr>\n",
       "    <tr>\n",
       "      <th>18</th>\n",
       "      <td>18</td>\n",
       "      <td>6</td>\n",
       "    </tr>\n",
       "    <tr>\n",
       "      <th>19</th>\n",
       "      <td>19</td>\n",
       "      <td>4</td>\n",
       "    </tr>\n",
       "    <tr>\n",
       "      <th>20</th>\n",
       "      <td>20</td>\n",
       "      <td>9</td>\n",
       "    </tr>\n",
       "    <tr>\n",
       "      <th>21</th>\n",
       "      <td>21</td>\n",
       "      <td>2</td>\n",
       "    </tr>\n",
       "  </tbody>\n",
       "</table>\n",
       "</div>"
      ],
      "text/plain": [
       "    cluster  micro_market_number\n",
       "0         0                    9\n",
       "1         1                    5\n",
       "2         2                    6\n",
       "3         3                    2\n",
       "4         4                    2\n",
       "5         5                    4\n",
       "6         6                    3\n",
       "7         7                    2\n",
       "8         8                   11\n",
       "9         9                    9\n",
       "10       10                    3\n",
       "11       11                    3\n",
       "12       12                    6\n",
       "13       13                    3\n",
       "14       14                    6\n",
       "15       15                   12\n",
       "16       16                    4\n",
       "17       17                    2\n",
       "18       18                    6\n",
       "19       19                    4\n",
       "20       20                    9\n",
       "21       21                    2"
      ]
     },
     "execution_count": 24,
     "metadata": {},
     "output_type": "execute_result"
    }
   ],
   "source": [
    "kmm_micro=mm_proj.groupby('cluster')['micro_market_number'].count().reset_index()\n",
    "kmm_micro=pd.DataFrame(kmm_micro)\n",
    "kmm_micro"
   ]
  },
  {
   "cell_type": "code",
   "execution_count": 25,
   "metadata": {},
   "outputs": [
    {
     "data": {
      "text/plain": [
       "<matplotlib.axes._subplots.AxesSubplot at 0xe44b320>"
      ]
     },
     "execution_count": 25,
     "metadata": {},
     "output_type": "execute_result"
    },
    {
     "data": {
      "image/png": "[encoded data removed]",
      "text/plain": [
       "<Figure size 432x288 with 1 Axes>"
      ]
     },
     "metadata": {
      "needs_background": "light"
     },
     "output_type": "display_data"
    }
   ],
   "source": [
    "#Number of micromarkets in each cluster\n",
    "sns.barplot(x=\"cluster\", y=\"micro_market_number\", data=kmm_micro)"
   ]
  },
  {
   "cell_type": "code",
   "execution_count": 26,
   "metadata": {},
   "outputs": [
    {
     "data": {
      "text/plain": [
       "<matplotlib.axes._subplots.AxesSubplot at 0xe800e80>"
      ]
     },
     "execution_count": 26,
     "metadata": {},
     "output_type": "execute_result"
    },
    {
     "data": {
      "image/png": "[encoded data removed]",
      "text/plain": [
       "<Figure size 1800x720 with 1 Axes>"
      ]
     },
     "metadata": {
      "needs_background": "light"
     },
     "output_type": "display_data"
    }
   ],
   "source": [
    "# wap against different clusters\n",
    "f, ax = plt.subplots(figsize=(25,10))\n",
    "sns.boxplot(x=\"cluster\", y=\"wap\", data=df1)"
   ]
  },
  {
   "cell_type": "code",
   "execution_count": 27,
   "metadata": {},
   "outputs": [
    {
     "data": {
      "image/png": "[encoded data removed]",
      "text/plain": [
       "<Figure size 1800x360 with 5 Axes>"
      ]
     },
     "metadata": {
      "needs_background": "light"
     },
     "output_type": "display_data"
    }
   ],
   "source": [
    "g = sns.catplot(x=\"cluster\", y=\"wap\", col=\"launch_year\", data=df1, kind=\"bar\", height=5, aspect=1, palette='Set2')"
   ]
  },
  {
   "cell_type": "code",
   "execution_count": 28,
   "metadata": {},
   "outputs": [
    {
     "data": {
      "image/png": "[encoded data removed]",
      "text/plain": [
       "<Figure size 3600x360 with 10 Axes>"
      ]
     },
     "metadata": {
      "needs_background": "light"
     },
     "output_type": "display_data"
    }
   ],
   "source": [
    "g = sns.catplot(x=\"cluster\", y=\"wap\", col=\"zone\", data=df1, kind=\"box\", height=5, aspect=1, palette='Set2')"
   ]
  },
  {
   "cell_type": "code",
   "execution_count": 29,
   "metadata": {},
   "outputs": [
    {
     "data": {
      "image/png": "[encoded data removed]",
      "text/plain": [
       "<Figure size 1800x360 with 5 Axes>"
      ]
     },
     "metadata": {
      "needs_background": "light"
     },
     "output_type": "display_data"
    }
   ],
   "source": [
    "g = sns.catplot(x=\"cluster\", y=\"wap\", col=\"proj_bedrooms_clean\", data=df1, kind=\"bar\", height=5, aspect=1, palette='Set2')"
   ]
  },
  {
   "cell_type": "markdown",
   "metadata": {},
   "source": [
    "## 2.2 Wap against different possible predictor variables"
   ]
  },
  {
   "cell_type": "code",
   "execution_count": 30,
   "metadata": {},
   "outputs": [
    {
     "data": {
      "text/plain": [
       "<matplotlib.axes._subplots.AxesSubplot at 0x1336db38>"
      ]
     },
     "execution_count": 30,
     "metadata": {},
     "output_type": "execute_result"
    },
    {
     "data": {
      "image/png": "[encoded data removed]",
      "text/plain": [
       "<Figure size 720x360 with 1 Axes>"
      ]
     },
     "metadata": {
      "needs_background": "light"
     },
     "output_type": "display_data"
    }
   ],
   "source": [
    "f, ax = plt.subplots(figsize=(10,5))\n",
    "sns.boxplot(x=\"zone\", y=\"wap\",data=df1)"
   ]
  },
  {
   "cell_type": "code",
   "execution_count": null,
   "metadata": {},
   "outputs": [],
   "source": [
    "g = sns.catplot(x=\"launch_year\", y=\"wap\", col=\"zone\", data=df1, kind=\"box\", height=5, aspect=.7,palette='Set3')"
   ]
  },
  {
   "cell_type": "code",
   "execution_count": 71,
   "metadata": {},
   "outputs": [
    {
     "data": {
      "image/png": "[encoded data removed]",
      "text/plain": [
       "<Figure size 3600x360 with 10 Axes>"
      ]
     },
     "metadata": {},
     "output_type": "display_data"
    }
   ],
   "source": [
    "g = sns.catplot(x=\"proj_bedrooms_clean\", y=\"wap\", col=\"zone\", data=df1, kind=\"box\", height=5, aspect=1, palette='Set3')"
   ]
  },
  {
   "cell_type": "code",
   "execution_count": 72,
   "metadata": {},
   "outputs": [
    {
     "data": {
      "image/png": "[encoded data removed]",
      "text/plain": [
       "<Figure size 3600x360 with 10 Axes>"
      ]
     },
     "metadata": {},
     "output_type": "display_data"
    }
   ],
   "source": [
    "g = sns.catplot(x=\"unit_type\", y=\"wap\", col=\"zone\", data=df1, kind=\"box\", height=5, aspect=1, palette='Set3')"
   ]
  },
  {
   "cell_type": "code",
   "execution_count": 73,
   "metadata": {},
   "outputs": [
    {
     "data": {
      "image/png": "[encoded data removed]",
      "text/plain": [
       "<Figure size 1800x360 with 5 Axes>"
      ]
     },
     "metadata": {},
     "output_type": "display_data"
    }
   ],
   "source": [
    "g = sns.catplot(x=\"unit_type\", y=\"wap\", col=\"launch_year\", data=df1, kind=\"box\", height=5, aspect=1, palette='Set3')"
   ]
  },
  {
   "cell_type": "code",
   "execution_count": 74,
   "metadata": {},
   "outputs": [
    {
     "data": {
      "image/png": "[encoded data removed]",
      "text/plain": [
       "<Figure size 1800x360 with 5 Axes>"
      ]
     },
     "metadata": {},
     "output_type": "display_data"
    }
   ],
   "source": [
    "g = sns.catplot(x=\"proj_bedrooms_clean\", y=\"wap\", col=\"launch_year\", data=df1, kind=\"box\", height=5, aspect=1, palette='Set3')"
   ]
  },
  {
   "cell_type": "code",
   "execution_count": 75,
   "metadata": {},
   "outputs": [
    {
     "data": {
      "text/plain": [
       "<seaborn.axisgrid.FacetGrid at 0x108b36d8>"
      ]
     },
     "execution_count": 75,
     "metadata": {},
     "output_type": "execute_result"
    },
    {
     "data": {
      "image/png": "[encoded data removed]",
      "text/plain": [
       "<Figure size 1080x432 with 10 Axes>"
      ]
     },
     "metadata": {},
     "output_type": "display_data"
    }
   ],
   "source": [
    "sns.lmplot(x=\"max_size\", y=\"wap\",col='zone',hue='zone',col_wrap=5, height=3,data=df1)"
   ]
  },
  {
   "cell_type": "markdown",
   "metadata": {},
   "source": [
    "## 3. Base Model of log-transformed wap"
   ]
  },
  {
   "cell_type": "code",
   "execution_count": 76,
   "metadata": {},
   "outputs": [
    {
     "ename": "ValueError",
     "evalue": "bad marshal data (string size out of range)",
     "output_type": "error",
     "traceback": [
      "\u001b[1;31m---------------------------------------------------------------------------\u001b[0m",
      "\u001b[1;31mValueError\u001b[0m                                Traceback (most recent call last)",
      "\u001b[1;32m<ipython-input-76-31c38b28f46c>\u001b[0m in \u001b[0;36m<module>\u001b[1;34m()\u001b[0m\n\u001b[1;32m----> 1\u001b[1;33m \u001b[1;32mimport\u001b[0m \u001b[0mstatsmodels\u001b[0m\u001b[1;33m.\u001b[0m\u001b[0mapi\u001b[0m \u001b[1;32mas\u001b[0m \u001b[0msm\u001b[0m\u001b[1;33m\u001b[0m\u001b[0m\n\u001b[0m\u001b[0;32m      2\u001b[0m \u001b[1;32mimport\u001b[0m \u001b[0mstatsmodels\u001b[0m\u001b[1;33m.\u001b[0m\u001b[0mformula\u001b[0m\u001b[1;33m.\u001b[0m\u001b[0mapi\u001b[0m \u001b[1;32mas\u001b[0m \u001b[0msmf\u001b[0m\u001b[1;33m\u001b[0m\u001b[0m\n\u001b[0;32m      3\u001b[0m \u001b[1;33m\u001b[0m\u001b[0m\n\u001b[0;32m      4\u001b[0m \u001b[0mmodule\u001b[0m \u001b[1;33m=\u001b[0m \u001b[0msmf\u001b[0m\u001b[1;33m.\u001b[0m\u001b[0mols\u001b[0m\u001b[1;33m(\u001b[0m\u001b[0mformula\u001b[0m\u001b[1;33m=\u001b[0m\u001b[1;34m'wap ~ max_size + C(cluster) + b1 + b2 + b3 + C(launch_year) + C(unit_type)+ C(proj_bedrooms_clean)'\u001b[0m\u001b[1;33m,\u001b[0m \u001b[0mdata\u001b[0m\u001b[1;33m=\u001b[0m\u001b[0mdf1\u001b[0m\u001b[1;33m)\u001b[0m\u001b[1;33m\u001b[0m\u001b[0m\n\u001b[0;32m      5\u001b[0m \u001b[0mest\u001b[0m \u001b[1;33m=\u001b[0m \u001b[0mmodule\u001b[0m\u001b[1;33m.\u001b[0m\u001b[0mfit\u001b[0m\u001b[1;33m(\u001b[0m\u001b[1;33m)\u001b[0m\u001b[1;33m\u001b[0m\u001b[0m\n",
      "\u001b[1;32mC:\\Users\\Anirban\\Anaconda3\\envs\\mldds\\lib\\site-packages\\statsmodels\\api.py\u001b[0m in \u001b[0;36m<module>\u001b[1;34m()\u001b[0m\n\u001b[0;32m     21\u001b[0m                                    \u001b[0mZeroInflatedGeneralizedPoisson\u001b[0m\u001b[1;33m,\u001b[0m\u001b[1;33m\u001b[0m\u001b[0m\n\u001b[0;32m     22\u001b[0m                                    ZeroInflatedNegativeBinomialP)\n\u001b[1;32m---> 23\u001b[1;33m \u001b[1;32mfrom\u001b[0m \u001b[1;33m.\u001b[0m\u001b[0mtsa\u001b[0m \u001b[1;32mimport\u001b[0m \u001b[0mapi\u001b[0m \u001b[1;32mas\u001b[0m \u001b[0mtsa\u001b[0m\u001b[1;33m\u001b[0m\u001b[0m\n\u001b[0m\u001b[0;32m     24\u001b[0m \u001b[1;32mfrom\u001b[0m \u001b[1;33m.\u001b[0m\u001b[0mduration\u001b[0m\u001b[1;33m.\u001b[0m\u001b[0msurvfunc\u001b[0m \u001b[1;32mimport\u001b[0m \u001b[0mSurvfuncRight\u001b[0m\u001b[1;33m\u001b[0m\u001b[0m\n\u001b[0;32m     25\u001b[0m \u001b[1;32mfrom\u001b[0m \u001b[1;33m.\u001b[0m\u001b[0mduration\u001b[0m\u001b[1;33m.\u001b[0m\u001b[0mhazard_regression\u001b[0m \u001b[1;32mimport\u001b[0m \u001b[0mPHReg\u001b[0m\u001b[1;33m\u001b[0m\u001b[0m\n",
      "\u001b[1;32mC:\\Users\\Anirban\\Anaconda3\\envs\\mldds\\lib\\site-packages\\statsmodels\\tsa\\api.py\u001b[0m in \u001b[0;36m<module>\u001b[1;34m()\u001b[0m\n\u001b[1;32m----> 1\u001b[1;33m \u001b[1;32mfrom\u001b[0m \u001b[1;33m.\u001b[0m\u001b[0mar_model\u001b[0m \u001b[1;32mimport\u001b[0m \u001b[0mAR\u001b[0m\u001b[1;33m\u001b[0m\u001b[0m\n\u001b[0m\u001b[0;32m      2\u001b[0m \u001b[1;32mfrom\u001b[0m \u001b[1;33m.\u001b[0m\u001b[0marima_model\u001b[0m \u001b[1;32mimport\u001b[0m \u001b[0mARMA\u001b[0m\u001b[1;33m,\u001b[0m \u001b[0mARIMA\u001b[0m\u001b[1;33m\u001b[0m\u001b[0m\n\u001b[0;32m      3\u001b[0m \u001b[1;32mfrom\u001b[0m \u001b[1;33m.\u001b[0m \u001b[1;32mimport\u001b[0m \u001b[0mvector_ar\u001b[0m \u001b[1;32mas\u001b[0m \u001b[0mvar\u001b[0m\u001b[1;33m\u001b[0m\u001b[0m\n\u001b[0;32m      4\u001b[0m \u001b[1;32mfrom\u001b[0m \u001b[1;33m.\u001b[0m\u001b[0marima_process\u001b[0m \u001b[1;32mimport\u001b[0m \u001b[0marma_generate_sample\u001b[0m\u001b[1;33m,\u001b[0m \u001b[0mArmaProcess\u001b[0m\u001b[1;33m\u001b[0m\u001b[0m\n\u001b[0;32m      5\u001b[0m \u001b[1;32mfrom\u001b[0m \u001b[1;33m.\u001b[0m\u001b[0mvector_ar\u001b[0m\u001b[1;33m.\u001b[0m\u001b[0mvar_model\u001b[0m \u001b[1;32mimport\u001b[0m \u001b[0mVAR\u001b[0m\u001b[1;33m\u001b[0m\u001b[0m\n",
      "\u001b[1;32mC:\\Users\\Anirban\\Anaconda3\\envs\\mldds\\lib\\site-packages\\statsmodels\\tsa\\ar_model.py\u001b[0m in \u001b[0;36m<module>\u001b[1;34m()\u001b[0m\n\u001b[0;32m      8\u001b[0m \u001b[1;32mfrom\u001b[0m \u001b[0mscipy\u001b[0m\u001b[1;33m.\u001b[0m\u001b[0mstats\u001b[0m \u001b[1;32mimport\u001b[0m \u001b[0mnorm\u001b[0m\u001b[1;33m\u001b[0m\u001b[0m\n\u001b[0;32m      9\u001b[0m \u001b[1;32mfrom\u001b[0m \u001b[0mstatsmodels\u001b[0m\u001b[1;33m.\u001b[0m\u001b[0mregression\u001b[0m\u001b[1;33m.\u001b[0m\u001b[0mlinear_model\u001b[0m \u001b[1;32mimport\u001b[0m \u001b[0mOLS\u001b[0m\u001b[1;33m\u001b[0m\u001b[0m\n\u001b[1;32m---> 10\u001b[1;33m from statsmodels.tsa.tsatools import (lagmat, add_trend,\n\u001b[0m\u001b[0;32m     11\u001b[0m                                       _ar_transparams, _ar_invtransparams)\n\u001b[0;32m     12\u001b[0m \u001b[1;32mimport\u001b[0m \u001b[0mstatsmodels\u001b[0m\u001b[1;33m.\u001b[0m\u001b[0mtsa\u001b[0m\u001b[1;33m.\u001b[0m\u001b[0mbase\u001b[0m\u001b[1;33m.\u001b[0m\u001b[0mtsa_model\u001b[0m \u001b[1;32mas\u001b[0m \u001b[0mtsbase\u001b[0m\u001b[1;33m\u001b[0m\u001b[0m\n",
      "\u001b[1;31mValueError\u001b[0m: bad marshal data (string size out of range)"
     ]
    }
   ],
   "source": [
    "import statsmodels.api as sm\n",
    "import statsmodels.formula.api as smf\n",
    "    \n",
    "module = smf.ols(formula='wap ~ max_size + C(cluster) + b1 + b2 + b3 + C(launch_year) + C(unit_type)+ C(proj_bedrooms_clean)', data=df1)\n",
    "est = module.fit()\n",
    "print(est.summary())"
   ]
  },
  {
   "cell_type": "code",
   "execution_count": null,
   "metadata": {},
   "outputs": [],
   "source": [
    "import statsmodels.api as sm\n",
    "import statsmodels.formula.api as smf\n",
    "\n",
    "mod = smf.ols(formula='log_wap ~ max_size + C(cluster) + b1 + b2 + b3 + C(launch_year) + C(unit_type) + C(proj_bedrooms_clean)', data=df1)\n",
    "res = mod.fit()\n",
    "print(res.summary())"
   ]
  },
  {
   "cell_type": "code",
   "execution_count": null,
   "metadata": {},
   "outputs": [],
   "source": [
    "pred_lwap = res.predict()\n",
    "df1['residual_log']=df1['log_wap'] - pred_lwap\n",
    "df1['residual_log'].describe()"
   ]
  },
  {
   "cell_type": "code",
   "execution_count": null,
   "metadata": {},
   "outputs": [],
   "source": [
    "pred_wap=np.exp(pred_lwap)\n",
    "df1['residual']=df1['wap'] - pred_wap\n",
    "df1['residual'].head(10)"
   ]
  },
  {
   "cell_type": "code",
   "execution_count": null,
   "metadata": {},
   "outputs": [],
   "source": [
    "pred_wap=pd.DataFrame(pred_wap)\n",
    "pred_wap.columns=['pred_wap']\n",
    "\n",
    "df1=pd.concat([df1,pred_wap],axis=1)\n",
    "df1.head()"
   ]
  },
  {
   "cell_type": "code",
   "execution_count": null,
   "metadata": {},
   "outputs": [],
   "source": [
    "f, ax = plt.subplots(1,2,figsize=(5,5))\n",
    "sns.distplot(df1['residual'],color=\"y\", ax=ax[0])\n",
    "sns.distplot(df1['residual_log'],color=\"y\",ax=ax[1])"
   ]
  },
  {
   "cell_type": "code",
   "execution_count": null,
   "metadata": {},
   "outputs": [],
   "source": [
    "print(\"Skewness of residual: %f\" % df1['residual'].skew())\n",
    "print(\"Kurtosis of residual: %f\" % df1['residual'].kurt())\n",
    "print(\"Skewness of residual_log: %f\" % df1['residual_log'].skew())\n",
    "print(\"Kurtosis of residual_log: %f\" % df1['residual_log'].kurt())"
   ]
  },
  {
   "cell_type": "code",
   "execution_count": null,
   "metadata": {},
   "outputs": [],
   "source": [
    "f, ax = plt.subplots(2,2,figsize=(25,10))\n",
    "sns.residplot(x=\"max_size\", y='pred_wap',data=df1,color=\"r\",ax=ax[0,0])\n",
    "sns.residplot(x=\"b1\", y='pred_wap',data=df1,color=\"black\",ax=ax[0,1])\n",
    "sns.residplot(x=\"b2\", y='pred_wap',data=df1,color=\"y\",ax=ax[1,0])\n",
    "sns.residplot(x=\"b3\", y='pred_wap',data=df1, color=\"green\",ax=ax[1,1])"
   ]
  },
  {
   "cell_type": "code",
   "execution_count": null,
   "metadata": {},
   "outputs": [],
   "source": [
    "import scipy.stats as stats\n",
    "\n",
    "fig = sm.qqplot(df1['residual_log'], stats.t, fit=True, line='45')\n",
    "plt.show()"
   ]
  },
  {
   "cell_type": "code",
   "execution_count": null,
   "metadata": {},
   "outputs": [],
   "source": [
    "fig,ax=plt.subplots(figsize=(10,10))\n",
    "fig=sm.graphics.influence_plot(res, ax=ax, color='b')"
   ]
  },
  {
   "cell_type": "markdown",
   "metadata": {},
   "source": [
    "## 4. Cluster Analysis of amenities"
   ]
  },
  {
   "cell_type": "code",
   "execution_count": null,
   "metadata": {},
   "outputs": [],
   "source": [
    "amenities=df.loc[:,'am_water':'am_water_supply']\n",
    "amenities.count().sort_values(ascending=False)"
   ]
  },
  {
   "cell_type": "code",
   "execution_count": null,
   "metadata": {},
   "outputs": [],
   "source": [
    "amenities=amenities.fillna(\"No\")\n",
    "amenities.head()"
   ]
  },
  {
   "cell_type": "code",
   "execution_count": null,
   "metadata": {},
   "outputs": [],
   "source": [
    "def label_encoder(dataframe, col_name):\n",
    "    from sklearn.preprocessing import LabelEncoder\n",
    "    le = LabelEncoder()\n",
    "    le.fit(dataframe[col_name].unique())\n",
    "    dataframe[col_name] = le.transform(dataframe[col_name])"
   ]
  },
  {
   "cell_type": "code",
   "execution_count": null,
   "metadata": {},
   "outputs": [],
   "source": [
    "for i in list(amenities.columns):  \n",
    "    label_encoder(amenities, i)"
   ]
  },
  {
   "cell_type": "code",
   "execution_count": null,
   "metadata": {},
   "outputs": [],
   "source": [
    "amenities['am_water']=amenities['am_water']+amenities['am_water_cons']+amenities['am_water_supply']+amenities['am_rain_harvest']\n",
    "amenities['am_security']=amenities['am_security']+amenities['am_security_guards']+amenities['am_intercom']+amenities['am_cctv']\n",
    "amenities['am_outdoor_game']=amenities['am_badmintorn']+amenities['am_basketball']+amenities['am_cric_pitch']+amenities['am_golf']+amenities['am_sports']+amenities['am_tennis']+amenities['am_swim']+amenities['am_jog']\n",
    "amenities['am_indoor_game']=amenities['am_aerobics']+amenities['am_gym']+amenities['am_skating']+amenities['am_indoor_games']+amenities['am_squash']+amenities['am_spa']\n",
    "amenities['am_sewage']=amenities['am_swer_trt_plt']+amenities['am_swr_chamber']+amenities['am_sold_waste']+amenities['am_storm_drain']+amenities['am_swr_trt_slug']\n",
    "amenities['am_roads']=amenities['am_roads']+amenities['am_road_footpath']+amenities['am_streetlight']\n",
    "amenities['am_cyber']=amenities['am_internet']\n",
    "amenities['am_power']=amenities['am_energy_mgmt']+amenities['am_elec_meter_room']+amenities['am_ht_alarm']+amenities['am_transformer']+amenities['am_earthquake']+amenities['am_power_backup']\n",
    "amenities['am_religion']=amenities['am_temple']+amenities['am_vaastu']\n",
    "amenities['am_space']=amenities['am_ls_garden']+amenities['am_ls_tree']+amenities['am_child_play']+amenities['am_open_space']+amenities['am_amphi']+amenities['am_rec_facility']\n",
    "amenities['am_finance']=amenities['am_atm']+amenities['am_business_center']\n",
    "amenities['am_firefighting']=amenities['am_ff_system']+amenities['am_ff_req']\n",
    "amenities['am_health_related']=amenities['am_health']+amenities['am_hosp']\n",
    "amenities['am_car_parking']=amenities['am_open_carpark']+amenities['am_open_parking']+amenities['am_closed_carpark']+amenities['am_carpark']\n",
    "amenities['am_education']=amenities['am_lib']+amenities['am_oth']+amenities['am_school']\n",
    "amenities['am_maintenance']=amenities['am_maint_staff']+amenities['am_gated']+amenities['am_staffq']\n",
    "amenities['am_social_gatherings']=amenities['am_commu_building']+amenities['am_commu_hall']+amenities['am_banquet']+amenities['am_party_hall']+amenities['am_club']+amenities['am_multi_room']+amenities['am_cafeteria']\n",
    "amenities['am_lift']=amenities['am_lift']+amenities['am_service_lift']\n",
    "amenities['am_shop']=amenities['am_shopmall']+amenities['am_utility_shop']"
   ]
  },
  {
   "cell_type": "code",
   "execution_count": null,
   "metadata": {},
   "outputs": [],
   "source": [
    "for i in ['am_water','am_security','am_outdoor_game','am_indoor_game','am_sewage','am_roads','am_cyber','am_power','am_religion','am_space','am_finance','am_firefighting','am_health_related','am_car_parking','am_education','am_maintenance','am_social_gatherings','am_lift','am_shop']:\n",
    "    amenities[i]=amenities[i].replace([2,3,4,5,6,7],[1,1,1,1,1,1])\n",
    "    "
   ]
  },
  {
   "cell_type": "code",
   "execution_count": null,
   "metadata": {},
   "outputs": [],
   "source": [
    "for i in list(amenities.columns):\n",
    "    type_converter (amenities, i, 'category')"
   ]
  },
  {
   "cell_type": "code",
   "execution_count": null,
   "metadata": {},
   "outputs": [],
   "source": [
    "df1=pd.concat([df1,amenities],axis=1)\n",
    "df1.head()"
   ]
  },
  {
   "cell_type": "markdown",
   "metadata": {},
   "source": [
    "## 5. Analysis of and Plugging in Specifications to Regression Model"
   ]
  },
  {
   "cell_type": "code",
   "execution_count": null,
   "metadata": {},
   "outputs": [],
   "source": [
    "specifications=df.loc[:,'sp_balcony':'sp_cement']\n",
    "specifications.count().sort_values(ascending=False)"
   ]
  },
  {
   "cell_type": "code",
   "execution_count": null,
   "metadata": {},
   "outputs": [],
   "source": [
    "specifications=specifications.fillna('No')\n",
    "specifications.head()"
   ]
  },
  {
   "cell_type": "code",
   "execution_count": null,
   "metadata": {},
   "outputs": [],
   "source": [
    "specifications.info()"
   ]
  },
  {
   "cell_type": "code",
   "execution_count": null,
   "metadata": {},
   "outputs": [],
   "source": [
    "for i in list(specifications.columns):\n",
    "    specifications[i]=specifications[i].str.contains('No')"
   ]
  },
  {
   "cell_type": "code",
   "execution_count": null,
   "metadata": {},
   "outputs": [],
   "source": [
    "for i in list(specifications.columns):\n",
    "    label_encoder(specifications, i)\n",
    "    specifications[i] = specifications[i].replace([0,1],[1,0])"
   ]
  },
  {
   "cell_type": "code",
   "execution_count": null,
   "metadata": {},
   "outputs": [],
   "source": [
    "for i in list(specifications.columns):\n",
    "    type_converter (specifications, i, 'category')"
   ]
  },
  {
   "cell_type": "code",
   "execution_count": null,
   "metadata": {},
   "outputs": [],
   "source": [
    "df1=pd.concat([df1,specifications],axis=1)\n",
    "df1.head()"
   ]
  },
  {
   "cell_type": "code",
   "execution_count": null,
   "metadata": {},
   "outputs": [],
   "source": [
    "import statsmodels.formula.api as smf\n",
    "\n",
    "mod1 = smf.ols(formula='log_wap ~ max_size + C(cluster) + b1 + b2 + b3 + C(launch_year)+ C(proj_bedrooms_clean) + C(unit_type)+ C(am_water)+ C(am_security)+ C(am_indoor_game) + C(am_outdoor_game)+ C(am_sewage)+C(am_roads)+C(am_cyber)+ C(am_power)+ C(am_religion)+C(am_space)+C(am_finance)+C(am_firefighting)+C(am_health_related)+C(am_car_parking)+C(am_education)+C(am_maintenance)+C(am_social_gatherings)+C(am_lift)+C(am_shop)+ C(sp_balcony)+C(sp_kitchen)+C(sp_livdin)+C(sp_mas_bed)+C(sp_oth_bed)+C(sp_toilets)+C(sp_internal)+C(sp_main)+C(sp_interior)+C(sp_switches)+C(sp_windows)+C(sp_wiring)+C(sp_exterior)+C(sp_frame)+C(sp_points)+C(sp_lobby)+C(sp_cement)', data=df1).fit()\n",
    "print(mod1.summary())"
   ]
  },
  {
   "cell_type": "markdown",
   "metadata": {},
   "source": [
    "## 6.Chi-Square Test Between Base Model Residual & Amenities & Specifications"
   ]
  },
  {
   "cell_type": "code",
   "execution_count": null,
   "metadata": {},
   "outputs": [],
   "source": [
    "df1['wap_level']=0\n",
    "df1['residual_abs_level']=df1['residual_abs']=np.absolute(df1['residual'])\n",
    "\n",
    "df1.loc[df1['wap'] > 20000, 'wap_level']= \"High\"\n",
    "df1.loc[(df1['wap'] >= 4000) & (df1['wap'] <= 20000),'wap_level']= \"Medium\"\n",
    "df1.loc[df1['wap'] < 4000, 'wap_level']= \"Low\"\n",
    "\n",
    "df1.loc[df1['residual_abs'] > 2500, 'residual_abs_level']= \"High\"\n",
    "df1.loc[(df1['residual_abs'] >= 300) & (df1['residual_abs'] <= 2500),'residual_abs_level']= \"Medium\"\n",
    "df1.loc[(df1['residual_abs'] < 300), 'residual_abs_level']= \"Low\""
   ]
  },
  {
   "cell_type": "code",
   "execution_count": null,
   "metadata": {},
   "outputs": [],
   "source": [
    "df1['residual_abs_level'].value_counts()"
   ]
  },
  {
   "cell_type": "code",
   "execution_count": null,
   "metadata": {},
   "outputs": [],
   "source": [
    "df1['wap_level'].value_counts()"
   ]
  },
  {
   "cell_type": "code",
   "execution_count": null,
   "metadata": {},
   "outputs": [],
   "source": [
    "from scipy.stats import chi2_contingency\n",
    "\n",
    "print(\"-----P-Values of amenities clusters vs residual of base model-----\")\n",
    "for i in ['am_water','am_security','am_outdoor_game','am_indoor_game','am_sewage','am_roads','am_cyber','am_power','am_religion','am_space','am_finance','am_firefighting','am_health_related','am_car_parking','am_education','am_maintenance','am_social_gatherings','am_lift','am_shop']:\n",
    "    cont=pd.crosstab(df1['residual_abs_level'],df1[i])\n",
    "    g, p, dof, expctd = chi2_contingency(cont)\n",
    "    print(i,\": \", p)"
   ]
  },
  {
   "cell_type": "markdown",
   "metadata": {},
   "source": [
    "Chose top 6 clusters with lowest p-values: am_cyber, am_education, am_finance, am_health_related, am_indoor_game, am_security"
   ]
  },
  {
   "cell_type": "code",
   "execution_count": null,
   "metadata": {},
   "outputs": [],
   "source": [
    "print(\"-----P-Values of specifications vs residual of base model-----\")\n",
    "for i in list(specifications.columns):\n",
    "    cont=pd.crosstab(df1['residual_abs_level'],df1[i])\n",
    "    g, p, dof, expctd = chi2_contingency(cont)\n",
    "    print(i,\": \", p)"
   ]
  },
  {
   "cell_type": "markdown",
   "metadata": {},
   "source": [
    "At 1% significance level, the following specifications are dependent on base model residuals:\n",
    "\n",
    "sp_interior, sp_main, sp_exterior, sp_points, sp_cement"
   ]
  },
  {
   "cell_type": "markdown",
   "metadata": {},
   "source": [
    "### 6.1 Boxplots of Base Model Residuals & Wap Levels Against Amenities"
   ]
  },
  {
   "cell_type": "code",
   "execution_count": null,
   "metadata": {},
   "outputs": [],
   "source": [
    "g = sns.catplot(x=\"am_cyber\", y=\"wap\", col=\"wap_level\", data=df1, kind=\"box\", height=5, aspect=.7,palette='Set3')\n",
    "g = sns.catplot(x=\"am_cyber\", y=\"residual\", col=\"residual_abs_level\", data=df1, kind=\"box\", height=5, aspect=.7,palette='Set3')"
   ]
  },
  {
   "cell_type": "code",
   "execution_count": null,
   "metadata": {},
   "outputs": [],
   "source": [
    "g = sns.catplot(x=\"am_education\", y=\"wap\", col=\"wap_level\", data=df1, kind=\"box\", height=5, aspect=.7,palette='Set3')\n",
    "g = sns.catplot(x=\"am_education\", y=\"residual\", col=\"residual_abs_level\", data=df1, kind=\"box\", height=5, aspect=.7,palette='Set3')"
   ]
  },
  {
   "cell_type": "code",
   "execution_count": null,
   "metadata": {},
   "outputs": [],
   "source": [
    "g = sns.catplot(x=\"am_finance\", y=\"wap\", col=\"wap_level\", data=df1, kind=\"box\", height=5, aspect=.7,palette='Set3')\n",
    "g = sns.catplot(x=\"am_finance\", y=\"residual\", col=\"residual_abs_level\", data=df1, kind=\"box\", height=5, aspect=.7,palette='Set3')"
   ]
  },
  {
   "cell_type": "code",
   "execution_count": null,
   "metadata": {},
   "outputs": [],
   "source": [
    "g = sns.catplot(x=\"am_health_related\", y=\"wap\", col=\"wap_level\", data=df1, kind=\"box\", height=5, aspect=.7,palette='Set3')\n",
    "g = sns.catplot(x=\"am_health_related\", y=\"residual\", col=\"residual_abs_level\", data=df1, kind=\"box\", height=5, aspect=.7,palette='Set3')"
   ]
  },
  {
   "cell_type": "code",
   "execution_count": null,
   "metadata": {},
   "outputs": [],
   "source": [
    "g = sns.catplot(x=\"am_security\", y=\"wap\", col=\"wap_level\", data=df1, kind=\"box\", height=5, aspect=.7,palette='Set3')\n",
    "g = sns.catplot(x=\"am_security\", y=\"residual\", col=\"residual_abs_level\", data=df1, kind=\"box\", height=5, aspect=.7,palette='Set3')"
   ]
  },
  {
   "cell_type": "code",
   "execution_count": null,
   "metadata": {},
   "outputs": [],
   "source": [
    "g = sns.catplot(x=\"am_indoor_game\", y=\"wap\", col=\"wap_level\", data=df1, kind=\"box\", height=5, aspect=.7,palette='Set3')\n",
    "g = sns.catplot(x=\"am_indoor_game\", y=\"residual\", col=\"residual_abs_level\", data=df1, kind=\"box\", height=5, aspect=.7,palette='Set3')"
   ]
  },
  {
   "cell_type": "markdown",
   "metadata": {},
   "source": [
    "### 6.2 Boxplots of Base Model Residuals & Wap Levels Against Specifications"
   ]
  },
  {
   "cell_type": "code",
   "execution_count": null,
   "metadata": {},
   "outputs": [],
   "source": [
    "g = sns.catplot(x=\"sp_interior\", y=\"wap\", col=\"wap_level\", data=df1, kind=\"box\", height=5, aspect=.7,palette='Set3')\n",
    "g = sns.catplot(x=\"sp_interior\", y=\"residual\", col=\"residual_abs_level\", data=df1, kind=\"box\", height=5, aspect=.7,palette='Set3')"
   ]
  },
  {
   "cell_type": "code",
   "execution_count": null,
   "metadata": {},
   "outputs": [],
   "source": [
    "g = sns.catplot(x=\"sp_main\", y=\"wap\", col=\"wap_level\", data=df1, kind=\"box\", height=5, aspect=.7,palette='Set3')\n",
    "g = sns.catplot(x=\"sp_main\", y=\"residual\", col=\"residual_abs_level\", data=df1, kind=\"box\", height=5, aspect=.7,palette='Set3')"
   ]
  },
  {
   "cell_type": "code",
   "execution_count": null,
   "metadata": {},
   "outputs": [],
   "source": [
    "g = sns.catplot(x=\"sp_exterior\", y=\"wap\",col=\"wap_level\", data=df1, kind=\"box\", height=5, aspect=.7,palette='Set3')\n",
    "g = sns.catplot(x=\"sp_exterior\", y=\"residual\",col=\"residual_abs_level\", data=df1, kind=\"box\", height=5, aspect=.7,palette='Set3')"
   ]
  },
  {
   "cell_type": "code",
   "execution_count": null,
   "metadata": {},
   "outputs": [],
   "source": [
    "g = sns.catplot(x=\"sp_points\", y=\"wap\", col=\"wap_level\", data=df1, kind=\"box\", height=5, aspect=.7,palette='Set3')\n",
    "g = sns.catplot(x=\"sp_points\", y=\"residual\", col=\"residual_abs_level\", data=df1, kind=\"box\", height=5, aspect=.7,palette='Set3')"
   ]
  },
  {
   "cell_type": "code",
   "execution_count": null,
   "metadata": {},
   "outputs": [],
   "source": [
    "g = sns.catplot(x=\"sp_cement\", y=\"wap\", col=\"wap_level\", data=df1, kind=\"box\", height=5, aspect=.7,palette='Set3')\n",
    "g = sns.catplot(x=\"sp_cement\", y=\"residual\", col=\"residual_abs_level\", data=df1, kind=\"box\", height=5, aspect=.7,palette='Set3')"
   ]
  },
  {
   "cell_type": "markdown",
   "metadata": {},
   "source": [
    "## 7. Seperate Models for High & Low Cutoff Prices"
   ]
  },
  {
   "cell_type": "code",
   "execution_count": null,
   "metadata": {},
   "outputs": [],
   "source": [
    "high_cutoff = df1.loc[df1['wap'] <= 10000, :]\n",
    "low_cutoff = df1.loc[df1['wap'] > 10000, :]"
   ]
  },
  {
   "cell_type": "code",
   "execution_count": null,
   "metadata": {},
   "outputs": [],
   "source": [
    "hc = smf.ols(formula='log_wap ~ max_size + C(cluster) + b1 + b2 + b3 + C(launch_year)+ C(unit_type) + + C(am_security) + C(am_indoor_game) + C(am_cyber) + C(am_finance)+ C(am_health_related) + C(am_education) + C(sp_interior) + C(sp_main) + C(sp_exterior) + C(sp_points) + C(sp_cement)', data=high_cutoff).fit()\n",
    "print(hc.summary())\n"
   ]
  },
  {
   "cell_type": "code",
   "execution_count": null,
   "metadata": {},
   "outputs": [],
   "source": [
    "lc = smf.ols(formula='log_wap ~ max_size + C(cluster) + b1 + b2 + b3 + C(launch_year)+ C(unit_type) + C(am_security) + C(am_indoor_game) + C(am_cyber) + C(am_finance)+ C(am_health_related) + C(am_education) + C(sp_interior) + C(sp_main) + C(sp_exterior) + C(sp_points) + C(sp_cement)', data=low_cutoff).fit()\n",
    "print(lc.summary())"
   ]
  },
  {
   "cell_type": "markdown",
   "metadata": {},
   "source": [
    "## 8. Random Forest Regressor "
   ]
  },
  {
   "cell_type": "code",
   "execution_count": null,
   "metadata": {},
   "outputs": [],
   "source": [
    "include=['log_wap','max_size','cluster', 'b1','b2','b3', 'unit_type','proj_bedrooms_clean','launch_year', 'am_security', 'am_indoor_game', 'am_cyber', 'am_finance', 'am_health_related','am_education', 'sp_interior', 'sp_main', 'sp_exterior', 'sp_points','sp_cement']\n",
    "df2=pd.DataFrame(df1[include])\n",
    "\n",
    "label_encoder(df2,'unit_type')\n",
    "label_encoder(df2,'proj_bedrooms_clean')\n",
    "type_converter (df2, 'unit_type', 'category')\n",
    "type_converter (df2, 'proj_bedrooms_clean', 'category')\n",
    "\n",
    "df2.head()"
   ]
  },
  {
   "cell_type": "code",
   "execution_count": null,
   "metadata": {},
   "outputs": [],
   "source": [
    "from sklearn.model_selection import train_test_split\n",
    "from sklearn.ensemble import RandomForestRegressor\n",
    "\n",
    "target = 'log_wap'\n",
    "features = df2.columns != target\n",
    "\n",
    "x = df2.loc[:, features]\n",
    "y = df2[target]\n",
    "\n",
    "x_train, x_test, y_train, y_test = train_test_split(x, y, random_state=8)\n",
    "print(x_train.shape, x_test.shape, y_train.shape, y_test.shape)"
   ]
  },
  {
   "cell_type": "code",
   "execution_count": null,
   "metadata": {
    "scrolled": true
   },
   "outputs": [],
   "source": [
    "rf = RandomForestRegressor(n_estimators=3000, n_jobs=5)\n",
    "rf.fit(x_train, y_train)"
   ]
  },
  {
   "cell_type": "code",
   "execution_count": null,
   "metadata": {},
   "outputs": [],
   "source": [
    "from sklearn.metrics import mean_squared_error, r2_score\n",
    "\n",
    "y_pred=rf.predict(x_test)\n",
    "\n",
    "print('MSE:', mean_squared_error(y_test, y_pred))\n",
    "print('R2:', r2_score(y_test, y_pred)) "
   ]
  },
  {
   "cell_type": "code",
   "execution_count": null,
   "metadata": {},
   "outputs": [],
   "source": [
    "importances = pd.Series(data=rf.feature_importances_,\n",
    "index= x_train.columns)\n",
    "\n",
    "# Sort importances\n",
    "importances_sorted = importances.sort_values()\n",
    "# Draw a horizontal barplot of importances_sorted\n",
    "importances_sorted.plot(kind='barh', color='lightgreen')\n",
    "plt.title('Random Forest Features Importances')\n",
    "plt.show()"
   ]
  },
  {
   "cell_type": "code",
   "execution_count": null,
   "metadata": {},
   "outputs": [],
   "source": []
  },
  {
   "cell_type": "code",
   "execution_count": null,
   "metadata": {},
   "outputs": [],
   "source": []
  }
 ],
 "metadata": {
  "kernelspec": {
   "display_name": "Python 2",
   "language": "python",
   "name": "python2"
  },
  "language_info": {
   "codemirror_mode": {
    "name": "ipython",
    "version": 2
   },
   "file_extension": ".py",
   "mimetype": "text/x-python",
   "name": "python",
   "nbconvert_exporter": "python",
   "pygments_lexer": "ipython2",
   "version": "2.7.15"
  }
 },
 "nbformat": 4,
 "nbformat_minor": 2
}
