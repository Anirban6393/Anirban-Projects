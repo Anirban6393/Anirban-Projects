{
 "cells": [
  {
   "cell_type": "markdown",
   "metadata": {},
   "source": [
    "# Classification Solution: Detect Fraudulent Transactions\n",
    "\n",
    "Estimated Time: 2-3 hours\n",
    "\n",
    "Complete this assignment to detect whether a mobile money transaction is fraudulent.\n",
    "\n",
    "Data source: [Synthetic Financial Datasets For Fraud Detection](https://www.kaggle.com/ntnu-testimon/paysim1)\n",
    "\n",
    "Attributes:\n",
    "- step: Maps a unit of time in the real world. In this case 1 step is 1 hour of time.\n",
    "- type: CASH-IN, CASH-OUT, DEBIT, PAYMENT and TRANSFER\n",
    "- amount: amount of the transaction in local currency\n",
    "- nameOrig: customer who started the transaction\n",
    "- oldbalanceOrg - initial balance before the transaction\n",
    "- newbalanceOrig - customer's balance after the transaction.\n",
    "- nameDest - recipient ID of the transaction.\n",
    "- oldbalanceDest - initial recipient balance before the transaction.\n",
    "- newbalanceDest - recipient's balance after the transaction.\n",
    "- isFlaggedFraud - flags illegal attempts to transfer more than 200.000 in a single transaction.\n",
    "\n",
    "Target variable to predict:\n",
    "- isFraud - identifies a fraudulent transaction (1) and non fraudulent (0)"
   ]
  },
  {
   "cell_type": "code",
   "execution_count": 1,
   "metadata": {},
   "outputs": [],
   "source": [
    "import pandas as pd\n",
    "import matplotlib.pyplot as plt\n",
    "import seaborn as sns\n",
    "from sklearn.preprocessing import LabelEncoder, StandardScaler\n",
    "from sklearn.decomposition import PCA\n",
    "from sklearn.model_selection import train_test_split\n",
    "from sklearn.linear_model import SGDClassifier\n",
    "from sklearn.svm import SVC\n",
    "from sklearn.metrics import classification_report, confusion_matrix, roc_curve, auc, accuracy_score\n",
    "import pickle\n",
    "import numpy as np\n",
    "\n",
    "%matplotlib inline"
   ]
  },
  {
   "cell_type": "markdown",
   "metadata": {},
   "source": [
    "## Load data\n",
    "\n",
    "Use pd.read_csv to load the data from `paysim_transactions_64k.csv`"
   ]
  },
  {
   "cell_type": "code",
   "execution_count": 2,
   "metadata": {},
   "outputs": [
    {
     "name": "stdout",
     "output_type": "stream",
     "text": [
      "<class 'pandas.core.frame.DataFrame'>\n",
      "RangeIndex: 64365 entries, 0 to 64364\n",
      "Data columns (total 11 columns):\n",
      "step              64365 non-null int64\n",
      "type              64365 non-null object\n",
      "amount            64365 non-null float64\n",
      "nameOrig          64365 non-null object\n",
      "oldbalanceOrg     64365 non-null float64\n",
      "newbalanceOrig    64365 non-null float64\n",
      "nameDest          64365 non-null object\n",
      "oldbalanceDest    64365 non-null float64\n",
      "newbalanceDest    64365 non-null float64\n",
      "isFraud           64365 non-null int64\n",
      "isFlaggedFraud    64365 non-null int64\n",
      "dtypes: float64(5), int64(3), object(3)\n",
      "memory usage: 5.4+ MB\n"
     ]
    }
   ],
   "source": [
    "df = pd.read_csv('paysim_transactions_64k.csv')\n",
    "\n",
    "df.info()"
   ]
  },
  {
   "cell_type": "code",
   "execution_count": 3,
   "metadata": {},
   "outputs": [],
   "source": [
    "target = 'isFraud'\n",
    "features = df.columns != target"
   ]
  },
  {
   "cell_type": "code",
   "execution_count": null,
   "metadata": {},
   "outputs": [],
   "source": []
  },
  {
   "cell_type": "markdown",
   "metadata": {},
   "source": [
    "## Data cleaning (not needed)\n",
    "\n",
    "Not needed because there are no NaN values."
   ]
  },
  {
   "cell_type": "markdown",
   "metadata": {},
   "source": [
    "## Data encoding\n",
    "Label encode the following columns from strings to numbers:\n",
    "  * `type`\n",
    "  * `nameOrig`\n",
    "  * `nameDest`"
   ]
  },
  {
   "cell_type": "code",
   "execution_count": 4,
   "metadata": {},
   "outputs": [],
   "source": [
    "type_encoder = LabelEncoder()\n",
    "df['type'] = type_encoder.fit_transform(df['type'])"
   ]
  },
  {
   "cell_type": "code",
   "execution_count": 5,
   "metadata": {},
   "outputs": [
    {
     "data": {
      "text/plain": [
       "array(['C741190221', 'C819391019'], dtype=object)"
      ]
     },
     "execution_count": 5,
     "metadata": {},
     "output_type": "execute_result"
    }
   ],
   "source": [
    "# Note: only two values actually overlap, so it's okay to label encode separately\n",
    "np.intersect1d(df['nameOrig'].unique(), df['nameDest'].unique())"
   ]
  },
  {
   "cell_type": "code",
   "execution_count": 6,
   "metadata": {},
   "outputs": [],
   "source": [
    "nameOrig_encoder = LabelEncoder()\n",
    "df['nameOrig'] = type_encoder.fit_transform(df['nameOrig'])"
   ]
  },
  {
   "cell_type": "code",
   "execution_count": 7,
   "metadata": {},
   "outputs": [],
   "source": [
    "nameDest_encoder = LabelEncoder()\n",
    "df['nameDest'] = type_encoder.fit_transform(df['nameDest'])"
   ]
  },
  {
   "cell_type": "code",
   "execution_count": 8,
   "metadata": {},
   "outputs": [
    {
     "name": "stdout",
     "output_type": "stream",
     "text": [
      "<class 'pandas.core.frame.DataFrame'>\n",
      "RangeIndex: 64365 entries, 0 to 64364\n",
      "Data columns (total 11 columns):\n",
      "step              64365 non-null int64\n",
      "type              64365 non-null int32\n",
      "amount            64365 non-null float64\n",
      "nameOrig          64365 non-null int32\n",
      "oldbalanceOrg     64365 non-null float64\n",
      "newbalanceOrig    64365 non-null float64\n",
      "nameDest          64365 non-null int32\n",
      "oldbalanceDest    64365 non-null float64\n",
      "newbalanceDest    64365 non-null float64\n",
      "isFraud           64365 non-null int64\n",
      "isFlaggedFraud    64365 non-null int64\n",
      "dtypes: float64(5), int32(3), int64(3)\n",
      "memory usage: 4.7 MB\n"
     ]
    }
   ],
   "source": [
    "# double check that we've encoded all the strings\n",
    "df.info()"
   ]
  },
  {
   "cell_type": "code",
   "execution_count": null,
   "metadata": {},
   "outputs": [],
   "source": []
  },
  {
   "cell_type": "markdown",
   "metadata": {},
   "source": [
    "## Data exploration\n",
    "\n",
    "- Plot the correlation matrix"
   ]
  },
  {
   "cell_type": "code",
   "execution_count": 9,
   "metadata": {},
   "outputs": [
    {
     "data": {
      "text/html": [
       "<div>\n",
       "<style scoped>\n",
       "    .dataframe tbody tr th:only-of-type {\n",
       "        vertical-align: middle;\n",
       "    }\n",
       "\n",
       "    .dataframe tbody tr th {\n",
       "        vertical-align: top;\n",
       "    }\n",
       "\n",
       "    .dataframe thead th {\n",
       "        text-align: right;\n",
       "    }\n",
       "</style>\n",
       "<table border=\"1\" class=\"dataframe\">\n",
       "  <thead>\n",
       "    <tr style=\"text-align: right;\">\n",
       "      <th></th>\n",
       "      <th>step</th>\n",
       "      <th>type</th>\n",
       "      <th>amount</th>\n",
       "      <th>nameOrig</th>\n",
       "      <th>oldbalanceOrg</th>\n",
       "      <th>newbalanceOrig</th>\n",
       "      <th>nameDest</th>\n",
       "      <th>oldbalanceDest</th>\n",
       "      <th>newbalanceDest</th>\n",
       "      <th>isFraud</th>\n",
       "      <th>isFlaggedFraud</th>\n",
       "    </tr>\n",
       "  </thead>\n",
       "  <tbody>\n",
       "    <tr>\n",
       "      <th>step</th>\n",
       "      <td>1.000000</td>\n",
       "      <td>0.012767</td>\n",
       "      <td>0.040487</td>\n",
       "      <td>-0.000899</td>\n",
       "      <td>-0.007541</td>\n",
       "      <td>-0.014115</td>\n",
       "      <td>-0.001775</td>\n",
       "      <td>0.022162</td>\n",
       "      <td>0.022916</td>\n",
       "      <td>0.096456</td>\n",
       "      <td>0.012267</td>\n",
       "    </tr>\n",
       "    <tr>\n",
       "      <th>type</th>\n",
       "      <td>0.012767</td>\n",
       "      <td>1.000000</td>\n",
       "      <td>0.089781</td>\n",
       "      <td>0.000681</td>\n",
       "      <td>-0.330420</td>\n",
       "      <td>-0.349502</td>\n",
       "      <td>0.552849</td>\n",
       "      <td>-0.097480</td>\n",
       "      <td>-0.053574</td>\n",
       "      <td>0.061288</td>\n",
       "      <td>0.009366</td>\n",
       "    </tr>\n",
       "    <tr>\n",
       "      <th>amount</th>\n",
       "      <td>0.040487</td>\n",
       "      <td>0.089781</td>\n",
       "      <td>1.000000</td>\n",
       "      <td>0.000933</td>\n",
       "      <td>0.043935</td>\n",
       "      <td>-0.002566</td>\n",
       "      <td>-0.150305</td>\n",
       "      <td>0.295518</td>\n",
       "      <td>0.469387</td>\n",
       "      <td>0.203382</td>\n",
       "      <td>0.048882</td>\n",
       "    </tr>\n",
       "    <tr>\n",
       "      <th>nameOrig</th>\n",
       "      <td>-0.000899</td>\n",
       "      <td>0.000681</td>\n",
       "      <td>0.000933</td>\n",
       "      <td>1.000000</td>\n",
       "      <td>-0.001414</td>\n",
       "      <td>-0.001276</td>\n",
       "      <td>-0.000636</td>\n",
       "      <td>0.000609</td>\n",
       "      <td>0.000406</td>\n",
       "      <td>-0.004239</td>\n",
       "      <td>0.002903</td>\n",
       "    </tr>\n",
       "    <tr>\n",
       "      <th>oldbalanceOrg</th>\n",
       "      <td>-0.007541</td>\n",
       "      <td>-0.330420</td>\n",
       "      <td>0.043935</td>\n",
       "      <td>-0.001414</td>\n",
       "      <td>1.000000</td>\n",
       "      <td>0.993043</td>\n",
       "      <td>-0.151889</td>\n",
       "      <td>0.053906</td>\n",
       "      <td>0.034145</td>\n",
       "      <td>0.035536</td>\n",
       "      <td>0.020980</td>\n",
       "    </tr>\n",
       "    <tr>\n",
       "      <th>newbalanceOrig</th>\n",
       "      <td>-0.014115</td>\n",
       "      <td>-0.349502</td>\n",
       "      <td>-0.002566</td>\n",
       "      <td>-0.001276</td>\n",
       "      <td>0.993043</td>\n",
       "      <td>1.000000</td>\n",
       "      <td>-0.152796</td>\n",
       "      <td>0.057078</td>\n",
       "      <td>0.031377</td>\n",
       "      <td>-0.024561</td>\n",
       "      <td>0.020850</td>\n",
       "    </tr>\n",
       "    <tr>\n",
       "      <th>nameDest</th>\n",
       "      <td>-0.001775</td>\n",
       "      <td>0.552849</td>\n",
       "      <td>-0.150305</td>\n",
       "      <td>-0.000636</td>\n",
       "      <td>-0.151889</td>\n",
       "      <td>-0.152796</td>\n",
       "      <td>1.000000</td>\n",
       "      <td>-0.185698</td>\n",
       "      <td>-0.190581</td>\n",
       "      <td>-0.063933</td>\n",
       "      <td>-0.007252</td>\n",
       "    </tr>\n",
       "    <tr>\n",
       "      <th>oldbalanceDest</th>\n",
       "      <td>0.022162</td>\n",
       "      <td>-0.097480</td>\n",
       "      <td>0.295518</td>\n",
       "      <td>0.000609</td>\n",
       "      <td>0.053906</td>\n",
       "      <td>0.057078</td>\n",
       "      <td>-0.185698</td>\n",
       "      <td>1.000000</td>\n",
       "      <td>0.972491</td>\n",
       "      <td>-0.020792</td>\n",
       "      <td>-0.001741</td>\n",
       "    </tr>\n",
       "    <tr>\n",
       "      <th>newbalanceDest</th>\n",
       "      <td>0.022916</td>\n",
       "      <td>-0.053574</td>\n",
       "      <td>0.469387</td>\n",
       "      <td>0.000406</td>\n",
       "      <td>0.034145</td>\n",
       "      <td>0.031377</td>\n",
       "      <td>-0.190581</td>\n",
       "      <td>0.972491</td>\n",
       "      <td>1.000000</td>\n",
       "      <td>-0.001001</td>\n",
       "      <td>-0.001785</td>\n",
       "    </tr>\n",
       "    <tr>\n",
       "      <th>isFraud</th>\n",
       "      <td>0.096456</td>\n",
       "      <td>0.061288</td>\n",
       "      <td>0.203382</td>\n",
       "      <td>-0.004239</td>\n",
       "      <td>0.035536</td>\n",
       "      <td>-0.024561</td>\n",
       "      <td>-0.063933</td>\n",
       "      <td>-0.020792</td>\n",
       "      <td>-0.001001</td>\n",
       "      <td>1.000000</td>\n",
       "      <td>0.049041</td>\n",
       "    </tr>\n",
       "    <tr>\n",
       "      <th>isFlaggedFraud</th>\n",
       "      <td>0.012267</td>\n",
       "      <td>0.009366</td>\n",
       "      <td>0.048882</td>\n",
       "      <td>0.002903</td>\n",
       "      <td>0.020980</td>\n",
       "      <td>0.020850</td>\n",
       "      <td>-0.007252</td>\n",
       "      <td>-0.001741</td>\n",
       "      <td>-0.001785</td>\n",
       "      <td>0.049041</td>\n",
       "      <td>1.000000</td>\n",
       "    </tr>\n",
       "  </tbody>\n",
       "</table>\n",
       "</div>"
      ],
      "text/plain": [
       "                    step      type    amount  nameOrig  oldbalanceOrg  \\\n",
       "step            1.000000  0.012767  0.040487 -0.000899      -0.007541   \n",
       "type            0.012767  1.000000  0.089781  0.000681      -0.330420   \n",
       "amount          0.040487  0.089781  1.000000  0.000933       0.043935   \n",
       "nameOrig       -0.000899  0.000681  0.000933  1.000000      -0.001414   \n",
       "oldbalanceOrg  -0.007541 -0.330420  0.043935 -0.001414       1.000000   \n",
       "newbalanceOrig -0.014115 -0.349502 -0.002566 -0.001276       0.993043   \n",
       "nameDest       -0.001775  0.552849 -0.150305 -0.000636      -0.151889   \n",
       "oldbalanceDest  0.022162 -0.097480  0.295518  0.000609       0.053906   \n",
       "newbalanceDest  0.022916 -0.053574  0.469387  0.000406       0.034145   \n",
       "isFraud         0.096456  0.061288  0.203382 -0.004239       0.035536   \n",
       "isFlaggedFraud  0.012267  0.009366  0.048882  0.002903       0.020980   \n",
       "\n",
       "                newbalanceOrig  nameDest  oldbalanceDest  newbalanceDest  \\\n",
       "step                 -0.014115 -0.001775        0.022162        0.022916   \n",
       "type                 -0.349502  0.552849       -0.097480       -0.053574   \n",
       "amount               -0.002566 -0.150305        0.295518        0.469387   \n",
       "nameOrig             -0.001276 -0.000636        0.000609        0.000406   \n",
       "oldbalanceOrg         0.993043 -0.151889        0.053906        0.034145   \n",
       "newbalanceOrig        1.000000 -0.152796        0.057078        0.031377   \n",
       "nameDest             -0.152796  1.000000       -0.185698       -0.190581   \n",
       "oldbalanceDest        0.057078 -0.185698        1.000000        0.972491   \n",
       "newbalanceDest        0.031377 -0.190581        0.972491        1.000000   \n",
       "isFraud              -0.024561 -0.063933       -0.020792       -0.001001   \n",
       "isFlaggedFraud        0.020850 -0.007252       -0.001741       -0.001785   \n",
       "\n",
       "                 isFraud  isFlaggedFraud  \n",
       "step            0.096456        0.012267  \n",
       "type            0.061288        0.009366  \n",
       "amount          0.203382        0.048882  \n",
       "nameOrig       -0.004239        0.002903  \n",
       "oldbalanceOrg   0.035536        0.020980  \n",
       "newbalanceOrig -0.024561        0.020850  \n",
       "nameDest       -0.063933       -0.007252  \n",
       "oldbalanceDest -0.020792       -0.001741  \n",
       "newbalanceDest -0.001001       -0.001785  \n",
       "isFraud         1.000000        0.049041  \n",
       "isFlaggedFraud  0.049041        1.000000  "
      ]
     },
     "execution_count": 9,
     "metadata": {},
     "output_type": "execute_result"
    }
   ],
   "source": [
    "df.corr()"
   ]
  },
  {
   "cell_type": "code",
   "execution_count": 10,
   "metadata": {},
   "outputs": [
    {
     "data": {
      "text/plain": [
       "<matplotlib.axes._subplots.AxesSubplot at 0x1c6d07b58d0>"
      ]
     },
     "execution_count": 10,
     "metadata": {},
     "output_type": "execute_result"
    },
    {
     "data": {
      "image/png": "[encoded data removed]",
      "text/plain": [
       "<Figure size 720x720 with 2 Axes>"
      ]
     },
     "metadata": {},
     "output_type": "display_data"
    }
   ],
   "source": [
    "fig, axes = plt.subplots(figsize=(10, 10))\n",
    "sns.heatmap(df.corr(), ax=axes, annot=True, fmt='.2f')"
   ]
  },
  {
   "cell_type": "code",
   "execution_count": null,
   "metadata": {},
   "outputs": [],
   "source": []
  },
  {
   "cell_type": "markdown",
   "metadata": {},
   "source": [
    "## Data sampling\n",
    "\n",
    "- Check for imbalance for the target column (`isFraud`)\n",
    "- If imbalance exists\n",
    "   - First, hold out a portion (5%) of each class for test data\n",
    "   - Then, use random over-sampling to increase the minority class training data to 10000"
   ]
  },
  {
   "cell_type": "code",
   "execution_count": null,
   "metadata": {},
   "outputs": [],
   "source": []
  },
  {
   "cell_type": "code",
   "execution_count": 11,
   "metadata": {},
   "outputs": [
    {
     "data": {
      "text/plain": [
       "<matplotlib.axes._subplots.AxesSubplot at 0x1c6d09527f0>"
      ]
     },
     "execution_count": 11,
     "metadata": {},
     "output_type": "execute_result"
    },
    {
     "data": {
      "image/png": "[encoded data removed]",
      "text/plain": [
       "<Figure size 432x288 with 1 Axes>"
      ]
     },
     "metadata": {},
     "output_type": "display_data"
    }
   ],
   "source": [
    "df[target].hist()"
   ]
  },
  {
   "cell_type": "code",
   "execution_count": 12,
   "metadata": {},
   "outputs": [
    {
     "data": {
      "text/plain": [
       "0    63544\n",
       "1      821\n",
       "Name: isFraud, dtype: int64"
      ]
     },
     "execution_count": 12,
     "metadata": {},
     "output_type": "execute_result"
    }
   ],
   "source": [
    "df[target].value_counts()"
   ]
  },
  {
   "cell_type": "code",
   "execution_count": null,
   "metadata": {},
   "outputs": [],
   "source": []
  },
  {
   "cell_type": "code",
   "execution_count": 13,
   "metadata": {},
   "outputs": [],
   "source": [
    "# set aside a portion for test before oversampling\n",
    "df_ones_train, df_ones_test = train_test_split(df.loc[df[target] == 1], test_size=.05, random_state=42)\n",
    "df_zeros_train, df_zeros_test = train_test_split(df.loc[df[target] == 0], test_size=.05, random_state=42)"
   ]
  },
  {
   "cell_type": "code",
   "execution_count": 14,
   "metadata": {},
   "outputs": [
    {
     "name": "stdout",
     "output_type": "stream",
     "text": [
      "(70366, 10) (70366,)\n",
      "0    60366\n",
      "1    10000\n",
      "Name: isFraud, dtype: int64\n"
     ]
    }
   ],
   "source": [
    "# Over-sample the training set\n",
    "df_ones_oversample = df_ones_train.sample(n=10000, random_state=42, replace=True)\n",
    "df_balanced = pd.concat([df_zeros_train, df_ones_oversample])\n",
    "\n",
    "X_train = df_balanced.loc[:, features]\n",
    "y_train = df_balanced.loc[:, target]\n",
    "print(X_train.shape, y_train.shape)\n",
    "print(y_train.value_counts())"
   ]
  },
  {
   "cell_type": "code",
   "execution_count": 15,
   "metadata": {},
   "outputs": [
    {
     "name": "stdout",
     "output_type": "stream",
     "text": [
      "(3220, 10) (3220,)\n",
      "0    3178\n",
      "1      42\n",
      "Name: isFraud, dtype: int64\n"
     ]
    }
   ],
   "source": [
    "# Create the test set\n",
    "df_test = pd.concat([df_ones_test, df_zeros_test])\n",
    "X_test = df_test.loc[:, features]\n",
    "y_test = df_test.loc[:, target]\n",
    "\n",
    "print(X_test.shape, y_test.shape)\n",
    "print(y_test.value_counts())"
   ]
  },
  {
   "cell_type": "code",
   "execution_count": null,
   "metadata": {},
   "outputs": [],
   "source": []
  },
  {
   "cell_type": "markdown",
   "metadata": {},
   "source": [
    "## PCA plot\n",
    "\n",
    "Visualise the dataset in 2D using PCA."
   ]
  },
  {
   "cell_type": "code",
   "execution_count": 16,
   "metadata": {},
   "outputs": [
    {
     "name": "stderr",
     "output_type": "stream",
     "text": [
      "C:\\Users\\issohl\\AppData\\Local\\conda\\conda\\envs\\mldds03\\lib\\site-packages\\sklearn\\preprocessing\\data.py:617: DataConversionWarning: Data with input dtype int32, int64, float64 were all converted to float64 by StandardScaler.\n",
      "  return self.partial_fit(X, y)\n",
      "C:\\Users\\issohl\\AppData\\Local\\conda\\conda\\envs\\mldds03\\lib\\site-packages\\sklearn\\base.py:462: DataConversionWarning: Data with input dtype int32, int64, float64 were all converted to float64 by StandardScaler.\n",
      "  return self.fit(X, **fit_params).transform(X)\n"
     ]
    },
    {
     "data": {
      "text/plain": [
       "<matplotlib.legend.Legend at 0x1c6d0abe390>"
      ]
     },
     "execution_count": 16,
     "metadata": {},
     "output_type": "execute_result"
    },
    {
     "data": {
      "image/png": "[encoded data removed]",
      "text/plain": [
       "<Figure size 720x576 with 1 Axes>"
      ]
     },
     "metadata": {},
     "output_type": "display_data"
    }
   ],
   "source": [
    "scaler = StandardScaler()\n",
    "X_scaled = scaler.fit_transform(X_train)\n",
    "\n",
    "pca_2d = PCA(n_components=2)\n",
    "Z_2d = pca_2d.fit_transform(X_scaled)\n",
    "\n",
    "fig, ax = plt.subplots(figsize=(10, 8))\n",
    "\n",
    "ax.scatter(Z_2d[y_train==0, 0], Z_2d[y_train==0, 1], label='isFraud: 0')\n",
    "ax.scatter(Z_2d[y_train==1, 0], Z_2d[y_train==1, 1], label='isFraud: 1')\n",
    "ax.set(title='PCA 2-d projection', xlabel='Z[0]', ylabel='Z[1]')\n",
    "ax.legend()"
   ]
  },
  {
   "cell_type": "code",
   "execution_count": null,
   "metadata": {},
   "outputs": [],
   "source": []
  },
  {
   "cell_type": "markdown",
   "metadata": {},
   "source": [
    "## Train model\n",
    "\n",
    "- Scale X train by fitting a scaler on the training set\n",
    "- Train two classifiers: SGDClassifier and SVC\n",
    "\n",
    "Note: No need to use learning_curve, because the minority class is too small. Just call `.fit()` using the whole training set."
   ]
  },
  {
   "cell_type": "code",
   "execution_count": 17,
   "metadata": {},
   "outputs": [
    {
     "name": "stderr",
     "output_type": "stream",
     "text": [
      "C:\\Users\\issohl\\AppData\\Local\\conda\\conda\\envs\\mldds03\\lib\\site-packages\\sklearn\\preprocessing\\data.py:617: DataConversionWarning: Data with input dtype int32, int64, float64 were all converted to float64 by StandardScaler.\n",
      "  return self.partial_fit(X, y)\n",
      "C:\\Users\\issohl\\AppData\\Local\\conda\\conda\\envs\\mldds03\\lib\\site-packages\\ipykernel_launcher.py:4: DataConversionWarning: Data with input dtype int32, int64, float64 were all converted to float64 by StandardScaler.\n",
      "  after removing the cwd from sys.path.\n",
      "C:\\Users\\issohl\\AppData\\Local\\conda\\conda\\envs\\mldds03\\lib\\site-packages\\ipykernel_launcher.py:5: DataConversionWarning: Data with input dtype int32, int64, float64 were all converted to float64 by StandardScaler.\n",
      "  \"\"\"\n"
     ]
    }
   ],
   "source": [
    "X_scaler = StandardScaler()\n",
    "X_scaler.fit(X_train)\n",
    "\n",
    "Z_train = X_scaler.transform(X_train)\n",
    "Z_test = X_scaler.transform(X_test)"
   ]
  },
  {
   "cell_type": "code",
   "execution_count": 18,
   "metadata": {},
   "outputs": [
    {
     "name": "stdout",
     "output_type": "stream",
     "text": [
      "-- Epoch 1\n",
      "Norm: 26.21, NNZs: 10, Bias: -2.097223, T: 70366, Avg. loss: 0.334562\n",
      "Total training time: 0.01 seconds.\n",
      "-- Epoch 2\n",
      "Norm: 22.59, NNZs: 10, Bias: -0.864424, T: 140732, Avg. loss: 0.133006\n",
      "Total training time: 0.01 seconds.\n",
      "-- Epoch 3\n",
      "Norm: 21.21, NNZs: 10, Bias: -0.936520, T: 211098, Avg. loss: 0.120349\n",
      "Total training time: 0.01 seconds.\n",
      "-- Epoch 4\n",
      "Norm: 20.44, NNZs: 10, Bias: -0.785310, T: 281464, Avg. loss: 0.119054\n",
      "Total training time: 0.02 seconds.\n",
      "-- Epoch 5\n",
      "Norm: 20.02, NNZs: 10, Bias: -0.576257, T: 351830, Avg. loss: 0.115482\n",
      "Total training time: 0.02 seconds.\n",
      "-- Epoch 6\n",
      "Norm: 19.73, NNZs: 10, Bias: -0.573399, T: 422196, Avg. loss: 0.114490\n",
      "Total training time: 0.02 seconds.\n",
      "-- Epoch 7\n",
      "Norm: 19.50, NNZs: 10, Bias: -0.889076, T: 492562, Avg. loss: 0.113551\n",
      "Total training time: 0.03 seconds.\n",
      "-- Epoch 8\n",
      "Norm: 19.31, NNZs: 10, Bias: -0.632008, T: 562928, Avg. loss: 0.113058\n",
      "Total training time: 0.03 seconds.\n",
      "-- Epoch 9\n",
      "Norm: 19.20, NNZs: 10, Bias: -0.635577, T: 633294, Avg. loss: 0.112537\n",
      "Total training time: 0.03 seconds.\n",
      "-- Epoch 10\n",
      "Norm: 19.08, NNZs: 10, Bias: -0.665960, T: 703660, Avg. loss: 0.112138\n",
      "Total training time: 0.04 seconds.\n",
      "Convergence after 10 epochs took 0.04 seconds\n"
     ]
    },
    {
     "data": {
      "text/plain": [
       "SGDClassifier(alpha=0.0001, average=False, class_weight=None,\n",
       "       early_stopping=False, epsilon=0.1, eta0=0.0, fit_intercept=True,\n",
       "       l1_ratio=0.15, learning_rate='optimal', loss='hinge', max_iter=None,\n",
       "       n_iter=None, n_iter_no_change=5, n_jobs=None, penalty='l2',\n",
       "       power_t=0.5, random_state=42, shuffle=True, tol=0.001,\n",
       "       validation_fraction=0.1, verbose=True, warm_start=False)"
      ]
     },
     "execution_count": 18,
     "metadata": {},
     "output_type": "execute_result"
    }
   ],
   "source": [
    "sgd = SGDClassifier(tol=1e-3, random_state=42, verbose=True)\n",
    "sgd.fit(Z_train, y_train)"
   ]
  },
  {
   "cell_type": "code",
   "execution_count": null,
   "metadata": {},
   "outputs": [],
   "source": []
  },
  {
   "cell_type": "code",
   "execution_count": 19,
   "metadata": {},
   "outputs": [
    {
     "data": {
      "text/plain": [
       "SVC(C=1.0, cache_size=200, class_weight=None, coef0=0.0,\n",
       "  decision_function_shape='ovr', degree=3, gamma='auto', kernel='rbf',\n",
       "  max_iter=-1, probability=False, random_state=42, shrinking=True,\n",
       "  tol=0.001, verbose=False)"
      ]
     },
     "execution_count": 19,
     "metadata": {},
     "output_type": "execute_result"
    }
   ],
   "source": [
    "svc = SVC(gamma='auto', random_state=42)\n",
    "svc.fit(Z_train, y_train)"
   ]
  },
  {
   "cell_type": "code",
   "execution_count": null,
   "metadata": {},
   "outputs": [],
   "source": []
  },
  {
   "cell_type": "code",
   "execution_count": null,
   "metadata": {},
   "outputs": [],
   "source": []
  },
  {
   "cell_type": "markdown",
   "metadata": {},
   "source": [
    "## Evaluation metrics\n",
    "\n",
    "- Compare the F1 scores between the classifiers.\n",
    "- Plot the confusion matrix for both classifiers.\n",
    "- Plot the ROC curve and compute Area Under the Curve (AUC)"
   ]
  },
  {
   "cell_type": "code",
   "execution_count": 20,
   "metadata": {},
   "outputs": [
    {
     "name": "stdout",
     "output_type": "stream",
     "text": [
      "              precision    recall  f1-score   support\n",
      "\n",
      "           0       0.99      1.00      1.00      3178\n",
      "           1       0.73      0.57      0.64        42\n",
      "\n",
      "   micro avg       0.99      0.99      0.99      3220\n",
      "   macro avg       0.86      0.78      0.82      3220\n",
      "weighted avg       0.99      0.99      0.99      3220\n",
      "\n"
     ]
    },
    {
     "data": {
      "text/plain": [
       "[Text(33,0.5,'Truth'), Text(0.5,15,'Prediction')]"
      ]
     },
     "execution_count": 20,
     "metadata": {},
     "output_type": "execute_result"
    },
    {
     "data": {
      "image/png": "[encoded data removed]",
      "text/plain": [
       "<Figure size 432x288 with 2 Axes>"
      ]
     },
     "metadata": {},
     "output_type": "display_data"
    }
   ],
   "source": [
    "pred_sgd = sgd.predict(Z_test)\n",
    "print(classification_report(y_test, pred_sgd))\n",
    "\n",
    "ax = sns.heatmap(confusion_matrix(y_test, pred_sgd), annot=True, fmt='d')\n",
    "ax.set(xlabel='Prediction', ylabel='Truth')"
   ]
  },
  {
   "cell_type": "code",
   "execution_count": null,
   "metadata": {},
   "outputs": [],
   "source": []
  },
  {
   "cell_type": "code",
   "execution_count": 21,
   "metadata": {},
   "outputs": [
    {
     "name": "stdout",
     "output_type": "stream",
     "text": [
      "              precision    recall  f1-score   support\n",
      "\n",
      "           0       1.00      0.99      0.99      3178\n",
      "           1       0.55      0.81      0.65        42\n",
      "\n",
      "   micro avg       0.99      0.99      0.99      3220\n",
      "   macro avg       0.77      0.90      0.82      3220\n",
      "weighted avg       0.99      0.99      0.99      3220\n",
      "\n"
     ]
    },
    {
     "data": {
      "text/plain": [
       "[Text(33,0.5,'Truth'), Text(0.5,15,'Prediction')]"
      ]
     },
     "execution_count": 21,
     "metadata": {},
     "output_type": "execute_result"
    },
    {
     "data": {
      "image/png": "[encoded data removed]",
      "text/plain": [
       "<Figure size 432x288 with 2 Axes>"
      ]
     },
     "metadata": {},
     "output_type": "display_data"
    }
   ],
   "source": [
    "pred_svc = svc.predict(Z_test)\n",
    "print(classification_report(y_test, pred_svc))\n",
    "\n",
    "ax = sns.heatmap(confusion_matrix(y_test, pred_svc), annot=True, fmt='d')\n",
    "ax.set(xlabel='Prediction', ylabel='Truth')"
   ]
  },
  {
   "cell_type": "code",
   "execution_count": null,
   "metadata": {},
   "outputs": [],
   "source": []
  },
  {
   "cell_type": "code",
   "execution_count": 22,
   "metadata": {},
   "outputs": [
    {
     "data": {
      "text/plain": [
       "<matplotlib.legend.Legend at 0x1c6d0fcdf28>"
      ]
     },
     "execution_count": 22,
     "metadata": {},
     "output_type": "execute_result"
    },
    {
     "data": {
      "image/png": "[encoded data removed]",
      "text/plain": [
       "<Figure size 720x576 with 1 Axes>"
      ]
     },
     "metadata": {},
     "output_type": "display_data"
    }
   ],
   "source": [
    "prob_sgd = sgd.decision_function(Z_test)\n",
    "fpr_sgd, tpr_sgd, _ = roc_curve(y_test, prob_sgd)\n",
    "auc_sgd = auc(fpr_sgd, tpr_sgd)\n",
    "\n",
    "prob_svc = svc.decision_function(Z_test)\n",
    "fpr_svc, tpr_svc, _ = roc_curve(y_test, prob_svc)\n",
    "auc_svc = auc(fpr_svc, tpr_svc)\n",
    "\n",
    "fig, ax = plt.subplots(figsize=(10, 8))\n",
    "ax.plot(fpr_sgd, tpr_sgd, label='Logistic Regression (auc %.3f)' % auc_sgd)\n",
    "ax.plot(fpr_svc, tpr_svc, label='SVC (auc %.3f)' % auc_svc)\n",
    "ax.set(xlabel='False positive rate', ylabel='True positive rate', title='ROC curve')\n",
    "ax.legend()"
   ]
  },
  {
   "cell_type": "code",
   "execution_count": null,
   "metadata": {},
   "outputs": [],
   "source": []
  },
  {
   "cell_type": "markdown",
   "metadata": {},
   "source": [
    "## Deployment and Prediction\n",
    "\n",
    "* Determine which is the better model based on AUC\n",
    "* Save X_scaler and **the better** model\n",
    "* Load the scaler and model\n",
    "* Get predictions for the fraud transactions in the test set"
   ]
  },
  {
   "cell_type": "code",
   "execution_count": 23,
   "metadata": {},
   "outputs": [],
   "source": [
    "pickle.dump(X_scaler, open('02_assignment_X_scaler.pickle', 'wb'))\n",
    "pickle.dump(svc, open('02_assignment_svc.pickle', 'wb'))"
   ]
  },
  {
   "cell_type": "code",
   "execution_count": 24,
   "metadata": {},
   "outputs": [],
   "source": [
    "X_scaler1 = pickle.load(open('02_assignment_X_scaler.pickle', 'rb'))\n",
    "svc1 = pickle.load(open('02_assignment_svc.pickle', 'rb'))"
   ]
  },
  {
   "cell_type": "code",
   "execution_count": 25,
   "metadata": {},
   "outputs": [
    {
     "name": "stdout",
     "output_type": "stream",
     "text": [
      "Truth [1 1 1 1 1 1 1 1 1 1 1 1 1 1 1 1 1 1 1 1 1 1 1 1 1 1 1 1 1 1 1 1 1 1 1 1 1\n",
      " 1 1 1 1 1]\n",
      "Predictions [1 0 1 1 1 1 1 1 1 1 0 0 1 0 1 1 1 1 1 1 1 1 1 1 0 1 1 1 1 0 1 0 1 1 0 1 1\n",
      " 1 1 1 1 1]\n",
      "Accuracy 0.8095238095238095\n"
     ]
    },
    {
     "name": "stderr",
     "output_type": "stream",
     "text": [
      "C:\\Users\\issohl\\AppData\\Local\\conda\\conda\\envs\\mldds03\\lib\\site-packages\\ipykernel_launcher.py:4: DataConversionWarning: Data with input dtype int32, int64, float64 were all converted to float64 by StandardScaler.\n",
      "  after removing the cwd from sys.path.\n"
     ]
    }
   ],
   "source": [
    "test_data = X_test.loc[y_test == 1]\n",
    "test_targets = y_test.loc[y_test == 1]\n",
    "\n",
    "Z_test = X_scaler1.transform(test_data)\n",
    "y_pred_test = svc1.predict(Z_test)\n",
    "\n",
    "print('Truth', test_targets.values)\n",
    "print('Predictions', y_pred_test.flatten())\n",
    "print('Accuracy', accuracy_score(test_targets.values, y_pred_test))"
   ]
  },
  {
   "cell_type": "code",
   "execution_count": null,
   "metadata": {},
   "outputs": [],
   "source": []
  }
 ],
 "metadata": {
  "kernelspec": {
   "display_name": "Python 3",
   "language": "python",
   "name": "python3"
  },
  "language_info": {
   "codemirror_mode": {
    "name": "ipython",
    "version": 3
   },
   "file_extension": ".py",
   "mimetype": "text/x-python",
   "name": "python",
   "nbconvert_exporter": "python",
   "pygments_lexer": "ipython3",
   "version": "3.6.7"
  }
 },
 "nbformat": 4,
 "nbformat_minor": 2
}
