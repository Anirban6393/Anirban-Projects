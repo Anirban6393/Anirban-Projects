{
 "cells": [
  {
   "cell_type": "markdown",
   "metadata": {
    "slideshow": {
     "slide_type": "slide"
    }
   },
   "source": [
    "## Import Mask Data"
   ]
  },
  {
   "cell_type": "markdown",
   "metadata": {
    "slideshow": {
     "slide_type": "slide"
    }
   },
   "source": [
    "molecule_name:       Symbolic name of each molecule.  Musks have names such\n",
    "                        as MUSK-188.  Non-musks have names such as\n",
    "                        NON-MUSK-jp13.\n",
    "                        \n",
    "conformation_name:   Symbolic name of each conformation.  These\n",
    "                        have the format MOL_ISO+CONF, where MOL is the\n",
    "                        molecule number, ISO is the stereoisomer\n",
    "                        number (usually 1), and CONF is the\n",
    "                        conformation number. \n",
    "                        \n",
    "f1 through f162:     These are \"distance features\" along rays (see\n",
    "                      paper cited above).  The distances are\n",
    "                        measured in hundredths of Angstroms.  The\n",
    "                        distances may be negative or positive, since\n",
    "                        they are actually measured relative to an\n",
    "                        origin placed along each ray.  The origin was\n",
    "                        defined by a \"consensus musk\" surface that is\n",
    "                        no longer used.  Hence, any experiments with\n",
    "                        the data should treat these feature values as\n",
    "                        lying on an arbitrary continuous scale.  In\n",
    "                        particular, the algorithm should not make any\n",
    "                        use of the zero point or the sign of each\n",
    "                        feature value. \n",
    "                        \n",
    "   f163:                This is the distance of the oxygen atom in the\n",
    "                        molecule to a designated point in 3-space.\n",
    "                        This is also called OXY-DIS.\n",
    "                        \n",
    "   f164:                OXY-X: X-displacement from the designated\n",
    "                        point.\n",
    "                        \n",
    "   f165:                OXY-Y: Y-displacement from the designated\n",
    "                        point.\n",
    "                        \n",
    "   f166:                OXY-Z: Z-displacement from the designated\n",
    "                        point. \n",
    "                        \n",
    "   class:               0 => non-musk, 1 => musk\n"
   ]
  },
  {
   "cell_type": "code",
   "execution_count": 1,
   "metadata": {
    "slideshow": {
     "slide_type": "slide"
    }
   },
   "outputs": [
    {
     "data": {
      "text/html": [
       "<div>\n",
       "<style scoped>\n",
       "    .dataframe tbody tr th:only-of-type {\n",
       "        vertical-align: middle;\n",
       "    }\n",
       "\n",
       "    .dataframe tbody tr th {\n",
       "        vertical-align: top;\n",
       "    }\n",
       "\n",
       "    .dataframe thead th {\n",
       "        text-align: right;\n",
       "    }\n",
       "</style>\n",
       "<table border=\"1\" class=\"dataframe\">\n",
       "  <thead>\n",
       "    <tr style=\"text-align: right;\">\n",
       "      <th></th>\n",
       "      <th>ID</th>\n",
       "      <th>molecule_name</th>\n",
       "      <th>conformation_name</th>\n",
       "      <th>f1</th>\n",
       "      <th>f2</th>\n",
       "      <th>f3</th>\n",
       "      <th>f4</th>\n",
       "      <th>f5</th>\n",
       "      <th>f6</th>\n",
       "      <th>f7</th>\n",
       "      <th>...</th>\n",
       "      <th>f158</th>\n",
       "      <th>f159</th>\n",
       "      <th>f160</th>\n",
       "      <th>f161</th>\n",
       "      <th>f162</th>\n",
       "      <th>f163</th>\n",
       "      <th>f164</th>\n",
       "      <th>f165</th>\n",
       "      <th>f166</th>\n",
       "      <th>class</th>\n",
       "    </tr>\n",
       "  </thead>\n",
       "  <tbody>\n",
       "    <tr>\n",
       "      <th>0</th>\n",
       "      <td>1</td>\n",
       "      <td>MUSK-211</td>\n",
       "      <td>211_1+1</td>\n",
       "      <td>46</td>\n",
       "      <td>-108</td>\n",
       "      <td>-60</td>\n",
       "      <td>-69</td>\n",
       "      <td>-117</td>\n",
       "      <td>49</td>\n",
       "      <td>38</td>\n",
       "      <td>...</td>\n",
       "      <td>-308</td>\n",
       "      <td>52</td>\n",
       "      <td>-7</td>\n",
       "      <td>39</td>\n",
       "      <td>126</td>\n",
       "      <td>156</td>\n",
       "      <td>-50</td>\n",
       "      <td>-112</td>\n",
       "      <td>96</td>\n",
       "      <td>1</td>\n",
       "    </tr>\n",
       "    <tr>\n",
       "      <th>1</th>\n",
       "      <td>2</td>\n",
       "      <td>MUSK-211</td>\n",
       "      <td>211_1+10</td>\n",
       "      <td>41</td>\n",
       "      <td>-188</td>\n",
       "      <td>-145</td>\n",
       "      <td>22</td>\n",
       "      <td>-117</td>\n",
       "      <td>-6</td>\n",
       "      <td>57</td>\n",
       "      <td>...</td>\n",
       "      <td>-59</td>\n",
       "      <td>-2</td>\n",
       "      <td>52</td>\n",
       "      <td>103</td>\n",
       "      <td>136</td>\n",
       "      <td>169</td>\n",
       "      <td>-61</td>\n",
       "      <td>-136</td>\n",
       "      <td>79</td>\n",
       "      <td>1</td>\n",
       "    </tr>\n",
       "    <tr>\n",
       "      <th>2</th>\n",
       "      <td>3</td>\n",
       "      <td>MUSK-211</td>\n",
       "      <td>211_1+11</td>\n",
       "      <td>46</td>\n",
       "      <td>-194</td>\n",
       "      <td>-145</td>\n",
       "      <td>28</td>\n",
       "      <td>-117</td>\n",
       "      <td>73</td>\n",
       "      <td>57</td>\n",
       "      <td>...</td>\n",
       "      <td>-134</td>\n",
       "      <td>-154</td>\n",
       "      <td>57</td>\n",
       "      <td>143</td>\n",
       "      <td>142</td>\n",
       "      <td>165</td>\n",
       "      <td>-67</td>\n",
       "      <td>-145</td>\n",
       "      <td>39</td>\n",
       "      <td>1</td>\n",
       "    </tr>\n",
       "    <tr>\n",
       "      <th>3</th>\n",
       "      <td>4</td>\n",
       "      <td>MUSK-211</td>\n",
       "      <td>211_1+12</td>\n",
       "      <td>41</td>\n",
       "      <td>-188</td>\n",
       "      <td>-145</td>\n",
       "      <td>22</td>\n",
       "      <td>-117</td>\n",
       "      <td>-7</td>\n",
       "      <td>57</td>\n",
       "      <td>...</td>\n",
       "      <td>-60</td>\n",
       "      <td>-4</td>\n",
       "      <td>52</td>\n",
       "      <td>104</td>\n",
       "      <td>136</td>\n",
       "      <td>168</td>\n",
       "      <td>-60</td>\n",
       "      <td>-135</td>\n",
       "      <td>80</td>\n",
       "      <td>1</td>\n",
       "    </tr>\n",
       "    <tr>\n",
       "      <th>4</th>\n",
       "      <td>5</td>\n",
       "      <td>MUSK-211</td>\n",
       "      <td>211_1+13</td>\n",
       "      <td>41</td>\n",
       "      <td>-188</td>\n",
       "      <td>-145</td>\n",
       "      <td>22</td>\n",
       "      <td>-117</td>\n",
       "      <td>-7</td>\n",
       "      <td>57</td>\n",
       "      <td>...</td>\n",
       "      <td>-60</td>\n",
       "      <td>-4</td>\n",
       "      <td>52</td>\n",
       "      <td>104</td>\n",
       "      <td>137</td>\n",
       "      <td>168</td>\n",
       "      <td>-60</td>\n",
       "      <td>-135</td>\n",
       "      <td>80</td>\n",
       "      <td>1</td>\n",
       "    </tr>\n",
       "    <tr>\n",
       "      <th>5</th>\n",
       "      <td>6</td>\n",
       "      <td>MUSK-211</td>\n",
       "      <td>211_1+14</td>\n",
       "      <td>46</td>\n",
       "      <td>-194</td>\n",
       "      <td>-145</td>\n",
       "      <td>28</td>\n",
       "      <td>-117</td>\n",
       "      <td>72</td>\n",
       "      <td>57</td>\n",
       "      <td>...</td>\n",
       "      <td>-138</td>\n",
       "      <td>-156</td>\n",
       "      <td>56</td>\n",
       "      <td>143</td>\n",
       "      <td>142</td>\n",
       "      <td>164</td>\n",
       "      <td>-67</td>\n",
       "      <td>-145</td>\n",
       "      <td>40</td>\n",
       "      <td>1</td>\n",
       "    </tr>\n",
       "    <tr>\n",
       "      <th>6</th>\n",
       "      <td>7</td>\n",
       "      <td>MUSK-211</td>\n",
       "      <td>211_1+15</td>\n",
       "      <td>47</td>\n",
       "      <td>-199</td>\n",
       "      <td>-106</td>\n",
       "      <td>28</td>\n",
       "      <td>-117</td>\n",
       "      <td>73</td>\n",
       "      <td>27</td>\n",
       "      <td>...</td>\n",
       "      <td>-133</td>\n",
       "      <td>-153</td>\n",
       "      <td>55</td>\n",
       "      <td>144</td>\n",
       "      <td>142</td>\n",
       "      <td>165</td>\n",
       "      <td>-68</td>\n",
       "      <td>-145</td>\n",
       "      <td>37</td>\n",
       "      <td>1</td>\n",
       "    </tr>\n",
       "    <tr>\n",
       "      <th>7</th>\n",
       "      <td>8</td>\n",
       "      <td>MUSK-211</td>\n",
       "      <td>211_1+16</td>\n",
       "      <td>41</td>\n",
       "      <td>-199</td>\n",
       "      <td>-101</td>\n",
       "      <td>22</td>\n",
       "      <td>-117</td>\n",
       "      <td>-6</td>\n",
       "      <td>26</td>\n",
       "      <td>...</td>\n",
       "      <td>-59</td>\n",
       "      <td>-1</td>\n",
       "      <td>50</td>\n",
       "      <td>100</td>\n",
       "      <td>135</td>\n",
       "      <td>169</td>\n",
       "      <td>-60</td>\n",
       "      <td>-135</td>\n",
       "      <td>81</td>\n",
       "      <td>1</td>\n",
       "    </tr>\n",
       "    <tr>\n",
       "      <th>8</th>\n",
       "      <td>9</td>\n",
       "      <td>MUSK-211</td>\n",
       "      <td>211_1+17</td>\n",
       "      <td>41</td>\n",
       "      <td>-199</td>\n",
       "      <td>-101</td>\n",
       "      <td>22</td>\n",
       "      <td>-117</td>\n",
       "      <td>-6</td>\n",
       "      <td>26</td>\n",
       "      <td>...</td>\n",
       "      <td>-59</td>\n",
       "      <td>-1</td>\n",
       "      <td>50</td>\n",
       "      <td>100</td>\n",
       "      <td>135</td>\n",
       "      <td>169</td>\n",
       "      <td>-60</td>\n",
       "      <td>-135</td>\n",
       "      <td>81</td>\n",
       "      <td>1</td>\n",
       "    </tr>\n",
       "    <tr>\n",
       "      <th>9</th>\n",
       "      <td>10</td>\n",
       "      <td>MUSK-211</td>\n",
       "      <td>211_1+18</td>\n",
       "      <td>47</td>\n",
       "      <td>-199</td>\n",
       "      <td>-106</td>\n",
       "      <td>28</td>\n",
       "      <td>-117</td>\n",
       "      <td>73</td>\n",
       "      <td>27</td>\n",
       "      <td>...</td>\n",
       "      <td>-133</td>\n",
       "      <td>-153</td>\n",
       "      <td>55</td>\n",
       "      <td>144</td>\n",
       "      <td>142</td>\n",
       "      <td>165</td>\n",
       "      <td>-68</td>\n",
       "      <td>-146</td>\n",
       "      <td>37</td>\n",
       "      <td>1</td>\n",
       "    </tr>\n",
       "  </tbody>\n",
       "</table>\n",
       "<p>10 rows × 170 columns</p>\n",
       "</div>"
      ],
      "text/plain": [
       "   ID molecule_name conformation_name  f1   f2   f3  f4   f5  f6  f7  ...  \\\n",
       "0   1      MUSK-211           211_1+1  46 -108  -60 -69 -117  49  38  ...   \n",
       "1   2      MUSK-211          211_1+10  41 -188 -145  22 -117  -6  57  ...   \n",
       "2   3      MUSK-211          211_1+11  46 -194 -145  28 -117  73  57  ...   \n",
       "3   4      MUSK-211          211_1+12  41 -188 -145  22 -117  -7  57  ...   \n",
       "4   5      MUSK-211          211_1+13  41 -188 -145  22 -117  -7  57  ...   \n",
       "5   6      MUSK-211          211_1+14  46 -194 -145  28 -117  72  57  ...   \n",
       "6   7      MUSK-211          211_1+15  47 -199 -106  28 -117  73  27  ...   \n",
       "7   8      MUSK-211          211_1+16  41 -199 -101  22 -117  -6  26  ...   \n",
       "8   9      MUSK-211          211_1+17  41 -199 -101  22 -117  -6  26  ...   \n",
       "9  10      MUSK-211          211_1+18  47 -199 -106  28 -117  73  27  ...   \n",
       "\n",
       "   f158  f159  f160  f161  f162  f163  f164  f165  f166  class  \n",
       "0  -308    52    -7    39   126   156   -50  -112    96      1  \n",
       "1   -59    -2    52   103   136   169   -61  -136    79      1  \n",
       "2  -134  -154    57   143   142   165   -67  -145    39      1  \n",
       "3   -60    -4    52   104   136   168   -60  -135    80      1  \n",
       "4   -60    -4    52   104   137   168   -60  -135    80      1  \n",
       "5  -138  -156    56   143   142   164   -67  -145    40      1  \n",
       "6  -133  -153    55   144   142   165   -68  -145    37      1  \n",
       "7   -59    -1    50   100   135   169   -60  -135    81      1  \n",
       "8   -59    -1    50   100   135   169   -60  -135    81      1  \n",
       "9  -133  -153    55   144   142   165   -68  -146    37      1  \n",
       "\n",
       "[10 rows x 170 columns]"
      ]
     },
     "execution_count": 1,
     "metadata": {},
     "output_type": "execute_result"
    }
   ],
   "source": [
    "import pandas as pd\n",
    "import numpy as np\n",
    "import matplotlib.pyplot as plt\n",
    "\n",
    "musk=pd.read_csv('musk.csv')\n",
    "musk.head(10)"
   ]
  },
  {
   "cell_type": "code",
   "execution_count": 2,
   "metadata": {},
   "outputs": [
    {
     "data": {
      "text/plain": [
       "(6598, 170)"
      ]
     },
     "execution_count": 2,
     "metadata": {},
     "output_type": "execute_result"
    }
   ],
   "source": [
    "musk.shape"
   ]
  },
  {
   "cell_type": "code",
   "execution_count": 3,
   "metadata": {},
   "outputs": [
    {
     "data": {
      "text/plain": [
       "0    5581\n",
       "1    1017\n",
       "Name: class, dtype: int64"
      ]
     },
     "execution_count": 3,
     "metadata": {},
     "output_type": "execute_result"
    }
   ],
   "source": [
    "musk['class'].value_counts()"
   ]
  },
  {
   "cell_type": "code",
   "execution_count": 4,
   "metadata": {
    "scrolled": false,
    "slideshow": {
     "slide_type": "slide"
    }
   },
   "outputs": [
    {
     "data": {
      "text/html": [
       "<div>\n",
       "<style scoped>\n",
       "    .dataframe tbody tr th:only-of-type {\n",
       "        vertical-align: middle;\n",
       "    }\n",
       "\n",
       "    .dataframe tbody tr th {\n",
       "        vertical-align: top;\n",
       "    }\n",
       "\n",
       "    .dataframe thead th {\n",
       "        text-align: right;\n",
       "    }\n",
       "</style>\n",
       "<table border=\"1\" class=\"dataframe\">\n",
       "  <thead>\n",
       "    <tr style=\"text-align: right;\">\n",
       "      <th></th>\n",
       "      <th>f1</th>\n",
       "      <th>f2</th>\n",
       "      <th>f3</th>\n",
       "      <th>f4</th>\n",
       "      <th>f5</th>\n",
       "      <th>f6</th>\n",
       "      <th>f7</th>\n",
       "      <th>f8</th>\n",
       "      <th>f9</th>\n",
       "      <th>f10</th>\n",
       "      <th>...</th>\n",
       "      <th>f158</th>\n",
       "      <th>f159</th>\n",
       "      <th>f160</th>\n",
       "      <th>f161</th>\n",
       "      <th>f162</th>\n",
       "      <th>f163</th>\n",
       "      <th>f164</th>\n",
       "      <th>f165</th>\n",
       "      <th>f166</th>\n",
       "      <th>class</th>\n",
       "    </tr>\n",
       "  </thead>\n",
       "  <tbody>\n",
       "    <tr>\n",
       "      <th>0</th>\n",
       "      <td>46</td>\n",
       "      <td>-108</td>\n",
       "      <td>-60</td>\n",
       "      <td>-69</td>\n",
       "      <td>-117</td>\n",
       "      <td>49</td>\n",
       "      <td>38</td>\n",
       "      <td>-161</td>\n",
       "      <td>-8</td>\n",
       "      <td>5</td>\n",
       "      <td>...</td>\n",
       "      <td>-308</td>\n",
       "      <td>52</td>\n",
       "      <td>-7</td>\n",
       "      <td>39</td>\n",
       "      <td>126</td>\n",
       "      <td>156</td>\n",
       "      <td>-50</td>\n",
       "      <td>-112</td>\n",
       "      <td>96</td>\n",
       "      <td>1</td>\n",
       "    </tr>\n",
       "    <tr>\n",
       "      <th>1</th>\n",
       "      <td>41</td>\n",
       "      <td>-188</td>\n",
       "      <td>-145</td>\n",
       "      <td>22</td>\n",
       "      <td>-117</td>\n",
       "      <td>-6</td>\n",
       "      <td>57</td>\n",
       "      <td>-171</td>\n",
       "      <td>-39</td>\n",
       "      <td>-100</td>\n",
       "      <td>...</td>\n",
       "      <td>-59</td>\n",
       "      <td>-2</td>\n",
       "      <td>52</td>\n",
       "      <td>103</td>\n",
       "      <td>136</td>\n",
       "      <td>169</td>\n",
       "      <td>-61</td>\n",
       "      <td>-136</td>\n",
       "      <td>79</td>\n",
       "      <td>1</td>\n",
       "    </tr>\n",
       "    <tr>\n",
       "      <th>2</th>\n",
       "      <td>46</td>\n",
       "      <td>-194</td>\n",
       "      <td>-145</td>\n",
       "      <td>28</td>\n",
       "      <td>-117</td>\n",
       "      <td>73</td>\n",
       "      <td>57</td>\n",
       "      <td>-168</td>\n",
       "      <td>-39</td>\n",
       "      <td>-22</td>\n",
       "      <td>...</td>\n",
       "      <td>-134</td>\n",
       "      <td>-154</td>\n",
       "      <td>57</td>\n",
       "      <td>143</td>\n",
       "      <td>142</td>\n",
       "      <td>165</td>\n",
       "      <td>-67</td>\n",
       "      <td>-145</td>\n",
       "      <td>39</td>\n",
       "      <td>1</td>\n",
       "    </tr>\n",
       "    <tr>\n",
       "      <th>3</th>\n",
       "      <td>41</td>\n",
       "      <td>-188</td>\n",
       "      <td>-145</td>\n",
       "      <td>22</td>\n",
       "      <td>-117</td>\n",
       "      <td>-7</td>\n",
       "      <td>57</td>\n",
       "      <td>-170</td>\n",
       "      <td>-39</td>\n",
       "      <td>-99</td>\n",
       "      <td>...</td>\n",
       "      <td>-60</td>\n",
       "      <td>-4</td>\n",
       "      <td>52</td>\n",
       "      <td>104</td>\n",
       "      <td>136</td>\n",
       "      <td>168</td>\n",
       "      <td>-60</td>\n",
       "      <td>-135</td>\n",
       "      <td>80</td>\n",
       "      <td>1</td>\n",
       "    </tr>\n",
       "    <tr>\n",
       "      <th>4</th>\n",
       "      <td>41</td>\n",
       "      <td>-188</td>\n",
       "      <td>-145</td>\n",
       "      <td>22</td>\n",
       "      <td>-117</td>\n",
       "      <td>-7</td>\n",
       "      <td>57</td>\n",
       "      <td>-170</td>\n",
       "      <td>-39</td>\n",
       "      <td>-99</td>\n",
       "      <td>...</td>\n",
       "      <td>-60</td>\n",
       "      <td>-4</td>\n",
       "      <td>52</td>\n",
       "      <td>104</td>\n",
       "      <td>137</td>\n",
       "      <td>168</td>\n",
       "      <td>-60</td>\n",
       "      <td>-135</td>\n",
       "      <td>80</td>\n",
       "      <td>1</td>\n",
       "    </tr>\n",
       "    <tr>\n",
       "      <th>5</th>\n",
       "      <td>46</td>\n",
       "      <td>-194</td>\n",
       "      <td>-145</td>\n",
       "      <td>28</td>\n",
       "      <td>-117</td>\n",
       "      <td>72</td>\n",
       "      <td>57</td>\n",
       "      <td>-168</td>\n",
       "      <td>-39</td>\n",
       "      <td>-22</td>\n",
       "      <td>...</td>\n",
       "      <td>-138</td>\n",
       "      <td>-156</td>\n",
       "      <td>56</td>\n",
       "      <td>143</td>\n",
       "      <td>142</td>\n",
       "      <td>164</td>\n",
       "      <td>-67</td>\n",
       "      <td>-145</td>\n",
       "      <td>40</td>\n",
       "      <td>1</td>\n",
       "    </tr>\n",
       "    <tr>\n",
       "      <th>6</th>\n",
       "      <td>47</td>\n",
       "      <td>-199</td>\n",
       "      <td>-106</td>\n",
       "      <td>28</td>\n",
       "      <td>-117</td>\n",
       "      <td>73</td>\n",
       "      <td>27</td>\n",
       "      <td>-104</td>\n",
       "      <td>-22</td>\n",
       "      <td>-23</td>\n",
       "      <td>...</td>\n",
       "      <td>-133</td>\n",
       "      <td>-153</td>\n",
       "      <td>55</td>\n",
       "      <td>144</td>\n",
       "      <td>142</td>\n",
       "      <td>165</td>\n",
       "      <td>-68</td>\n",
       "      <td>-145</td>\n",
       "      <td>37</td>\n",
       "      <td>1</td>\n",
       "    </tr>\n",
       "    <tr>\n",
       "      <th>7</th>\n",
       "      <td>41</td>\n",
       "      <td>-199</td>\n",
       "      <td>-101</td>\n",
       "      <td>22</td>\n",
       "      <td>-117</td>\n",
       "      <td>-6</td>\n",
       "      <td>26</td>\n",
       "      <td>-99</td>\n",
       "      <td>-21</td>\n",
       "      <td>-101</td>\n",
       "      <td>...</td>\n",
       "      <td>-59</td>\n",
       "      <td>-1</td>\n",
       "      <td>50</td>\n",
       "      <td>100</td>\n",
       "      <td>135</td>\n",
       "      <td>169</td>\n",
       "      <td>-60</td>\n",
       "      <td>-135</td>\n",
       "      <td>81</td>\n",
       "      <td>1</td>\n",
       "    </tr>\n",
       "    <tr>\n",
       "      <th>8</th>\n",
       "      <td>41</td>\n",
       "      <td>-199</td>\n",
       "      <td>-101</td>\n",
       "      <td>22</td>\n",
       "      <td>-117</td>\n",
       "      <td>-6</td>\n",
       "      <td>26</td>\n",
       "      <td>-100</td>\n",
       "      <td>-21</td>\n",
       "      <td>-101</td>\n",
       "      <td>...</td>\n",
       "      <td>-59</td>\n",
       "      <td>-1</td>\n",
       "      <td>50</td>\n",
       "      <td>100</td>\n",
       "      <td>135</td>\n",
       "      <td>169</td>\n",
       "      <td>-60</td>\n",
       "      <td>-135</td>\n",
       "      <td>81</td>\n",
       "      <td>1</td>\n",
       "    </tr>\n",
       "    <tr>\n",
       "      <th>9</th>\n",
       "      <td>47</td>\n",
       "      <td>-199</td>\n",
       "      <td>-106</td>\n",
       "      <td>28</td>\n",
       "      <td>-117</td>\n",
       "      <td>73</td>\n",
       "      <td>27</td>\n",
       "      <td>-104</td>\n",
       "      <td>-22</td>\n",
       "      <td>-23</td>\n",
       "      <td>...</td>\n",
       "      <td>-133</td>\n",
       "      <td>-153</td>\n",
       "      <td>55</td>\n",
       "      <td>144</td>\n",
       "      <td>142</td>\n",
       "      <td>165</td>\n",
       "      <td>-68</td>\n",
       "      <td>-146</td>\n",
       "      <td>37</td>\n",
       "      <td>1</td>\n",
       "    </tr>\n",
       "  </tbody>\n",
       "</table>\n",
       "<p>10 rows × 167 columns</p>\n",
       "</div>"
      ],
      "text/plain": [
       "   f1   f2   f3  f4   f5  f6  f7   f8  f9  f10  ...  f158  f159  f160  f161  \\\n",
       "0  46 -108  -60 -69 -117  49  38 -161  -8    5  ...  -308    52    -7    39   \n",
       "1  41 -188 -145  22 -117  -6  57 -171 -39 -100  ...   -59    -2    52   103   \n",
       "2  46 -194 -145  28 -117  73  57 -168 -39  -22  ...  -134  -154    57   143   \n",
       "3  41 -188 -145  22 -117  -7  57 -170 -39  -99  ...   -60    -4    52   104   \n",
       "4  41 -188 -145  22 -117  -7  57 -170 -39  -99  ...   -60    -4    52   104   \n",
       "5  46 -194 -145  28 -117  72  57 -168 -39  -22  ...  -138  -156    56   143   \n",
       "6  47 -199 -106  28 -117  73  27 -104 -22  -23  ...  -133  -153    55   144   \n",
       "7  41 -199 -101  22 -117  -6  26  -99 -21 -101  ...   -59    -1    50   100   \n",
       "8  41 -199 -101  22 -117  -6  26 -100 -21 -101  ...   -59    -1    50   100   \n",
       "9  47 -199 -106  28 -117  73  27 -104 -22  -23  ...  -133  -153    55   144   \n",
       "\n",
       "   f162  f163  f164  f165  f166  class  \n",
       "0   126   156   -50  -112    96      1  \n",
       "1   136   169   -61  -136    79      1  \n",
       "2   142   165   -67  -145    39      1  \n",
       "3   136   168   -60  -135    80      1  \n",
       "4   137   168   -60  -135    80      1  \n",
       "5   142   164   -67  -145    40      1  \n",
       "6   142   165   -68  -145    37      1  \n",
       "7   135   169   -60  -135    81      1  \n",
       "8   135   169   -60  -135    81      1  \n",
       "9   142   165   -68  -146    37      1  \n",
       "\n",
       "[10 rows x 167 columns]"
      ]
     },
     "execution_count": 4,
     "metadata": {},
     "output_type": "execute_result"
    }
   ],
   "source": [
    "musk_copy=musk.copy()\n",
    "musk_copy=musk_copy.drop(['ID', 'molecule_name','conformation_name'], axis=1)\n",
    "musk_copy.head(10)"
   ]
  },
  {
   "cell_type": "code",
   "execution_count": 5,
   "metadata": {},
   "outputs": [],
   "source": [
    "# Clean up dataframe and select target\n",
    "target = 'class'\n",
    "features = musk_copy.columns != target\n",
    "\n",
    "x = musk_copy.loc[:, features]\n",
    "y = musk_copy[target]"
   ]
  },
  {
   "cell_type": "code",
   "execution_count": 6,
   "metadata": {},
   "outputs": [
    {
     "name": "stdout",
     "output_type": "stream",
     "text": [
      "(4948, 166) (1650, 166) (4948,) (1650,)\n"
     ]
    }
   ],
   "source": [
    "from sklearn.model_selection import train_test_split\n",
    "\n",
    "x_train, x_test, y_train, y_test = train_test_split(x, y, random_state=8)\n",
    "print(x_train.shape, x_test.shape, y_train.shape, y_test.shape)"
   ]
  },
  {
   "cell_type": "markdown",
   "metadata": {},
   "source": [
    "## Implement ANN On Entire Dataset"
   ]
  },
  {
   "cell_type": "code",
   "execution_count": 7,
   "metadata": {},
   "outputs": [
    {
     "name": "stderr",
     "output_type": "stream",
     "text": [
      "Using TensorFlow backend.\n"
     ]
    }
   ],
   "source": [
    "#Implementing Deep Learning Model using Neural Network\n",
    "from keras.models import Sequential\n",
    "from keras.layers import Dense\n",
    "from keras.utils import np_utils\n",
    "from keras.layers import Dropout\n",
    "from keras.constraints import maxnorm\n",
    "from keras.optimizers import SGD\n",
    "from keras.callbacks import TensorBoard\n",
    "from keras.wrappers.scikit_learn import KerasClassifier\n",
    "import keras\n",
    "import time"
   ]
  },
  {
   "cell_type": "code",
   "execution_count": 8,
   "metadata": {},
   "outputs": [],
   "source": [
    "model = Sequential()\n",
    "model.add(Dense(200,input_shape=(166,), activation='relu'))\n",
    "model.add(Dense(200, kernel_constraint=maxnorm(3), activation='relu'))\n",
    "model.add(Dropout(0.25))\n",
    "model.add(Dense(1,activation='sigmoid'))\n",
    "# Compile model\n",
    "sgd = SGD(lr=0.1, momentum=0.8, decay=0.001, nesterov=False)\n",
    "tensorboard = TensorBoard(log_dir='./logs/mnist_mlp/%d' % time.time())\n",
    "model.compile(loss='binary_crossentropy', optimizer=sgd, metrics=['accuracy'])"
   ]
  },
  {
   "cell_type": "code",
   "execution_count": 9,
   "metadata": {
    "scrolled": false
   },
   "outputs": [
    {
     "name": "stdout",
     "output_type": "stream",
     "text": [
      "Train on 4948 samples, validate on 4948 samples\n",
      "Epoch 1/80\n",
      "4948/4948 [==============================] - 10s 2ms/step - loss: 2.8296 - acc: 0.8165 - val_loss: 2.4627 - val_acc: 0.8472\n",
      "Epoch 2/80\n",
      "4948/4948 [==============================] - 0s 18us/step - loss: 2.4627 - acc: 0.8472 - val_loss: 2.4627 - val_acc: 0.8472\n",
      "Epoch 3/80\n",
      "4948/4948 [==============================] - 0s 19us/step - loss: 2.4627 - acc: 0.8472 - val_loss: 2.4627 - val_acc: 0.8472\n",
      "Epoch 4/80\n",
      "4948/4948 [==============================] - 0s 19us/step - loss: 2.4627 - acc: 0.8472 - val_loss: 2.4627 - val_acc: 0.8472\n",
      "Epoch 5/80\n",
      "4948/4948 [==============================] - 0s 19us/step - loss: 2.4627 - acc: 0.8472 - val_loss: 2.4627 - val_acc: 0.8472\n",
      "Epoch 6/80\n",
      "4948/4948 [==============================] - 0s 19us/step - loss: 2.4627 - acc: 0.8472 - val_loss: 2.4627 - val_acc: 0.8472\n",
      "Epoch 7/80\n",
      "4948/4948 [==============================] - 0s 21us/step - loss: 2.4627 - acc: 0.8472 - val_loss: 2.4627 - val_acc: 0.8472\n",
      "Epoch 8/80\n",
      "4948/4948 [==============================] - 0s 19us/step - loss: 2.4627 - acc: 0.8472 - val_loss: 2.4627 - val_acc: 0.8472\n",
      "Epoch 9/80\n",
      "4948/4948 [==============================] - 0s 35us/step - loss: 2.4627 - acc: 0.8472 - val_loss: 2.4627 - val_acc: 0.8472\n",
      "Epoch 10/80\n",
      "4948/4948 [==============================] - 0s 24us/step - loss: 2.4627 - acc: 0.8472 - val_loss: 2.4627 - val_acc: 0.8472\n",
      "Epoch 11/80\n",
      "4948/4948 [==============================] - 0s 20us/step - loss: 2.4627 - acc: 0.8472 - val_loss: 2.4627 - val_acc: 0.8472\n",
      "Epoch 12/80\n",
      "4948/4948 [==============================] - 0s 21us/step - loss: 2.4627 - acc: 0.8472 - val_loss: 2.4627 - val_acc: 0.8472\n",
      "Epoch 13/80\n",
      "4948/4948 [==============================] - 0s 20us/step - loss: 2.4627 - acc: 0.8472 - val_loss: 2.4627 - val_acc: 0.8472\n",
      "Epoch 14/80\n",
      "4948/4948 [==============================] - 0s 19us/step - loss: 2.4627 - acc: 0.8472 - val_loss: 2.4627 - val_acc: 0.8472\n",
      "Epoch 15/80\n",
      "4948/4948 [==============================] - 0s 20us/step - loss: 2.4627 - acc: 0.8472 - val_loss: 2.4627 - val_acc: 0.8472\n",
      "Epoch 16/80\n",
      "4948/4948 [==============================] - 0s 20us/step - loss: 2.4627 - acc: 0.8472 - val_loss: 2.4627 - val_acc: 0.8472\n",
      "Epoch 17/80\n",
      "4948/4948 [==============================] - 0s 20us/step - loss: 2.4627 - acc: 0.8472 - val_loss: 2.4627 - val_acc: 0.8472\n",
      "Epoch 18/80\n",
      "4948/4948 [==============================] - 0s 18us/step - loss: 2.4627 - acc: 0.8472 - val_loss: 2.4627 - val_acc: 0.8472\n",
      "Epoch 19/80\n",
      "4948/4948 [==============================] - 0s 20us/step - loss: 2.4627 - acc: 0.8472 - val_loss: 2.4627 - val_acc: 0.8472\n",
      "Epoch 20/80\n",
      "4948/4948 [==============================] - 0s 18us/step - loss: 2.4627 - acc: 0.8472 - val_loss: 2.4627 - val_acc: 0.8472\n",
      "Epoch 21/80\n",
      "4948/4948 [==============================] - 0s 18us/step - loss: 2.4627 - acc: 0.8472 - val_loss: 2.4627 - val_acc: 0.8472\n",
      "Epoch 22/80\n",
      "4948/4948 [==============================] - 0s 20us/step - loss: 2.4627 - acc: 0.8472 - val_loss: 2.4627 - val_acc: 0.8472\n",
      "Epoch 23/80\n",
      "4948/4948 [==============================] - 0s 18us/step - loss: 2.4627 - acc: 0.8472 - val_loss: 2.4627 - val_acc: 0.8472\n",
      "Epoch 24/80\n",
      "4948/4948 [==============================] - 0s 18us/step - loss: 2.4627 - acc: 0.8472 - val_loss: 2.4627 - val_acc: 0.8472\n",
      "Epoch 25/80\n",
      "4948/4948 [==============================] - 0s 18us/step - loss: 2.4627 - acc: 0.8472 - val_loss: 2.4627 - val_acc: 0.8472\n",
      "Epoch 26/80\n",
      "4948/4948 [==============================] - 0s 20us/step - loss: 2.4627 - acc: 0.8472 - val_loss: 2.4627 - val_acc: 0.8472\n",
      "Epoch 27/80\n",
      "4948/4948 [==============================] - 0s 20us/step - loss: 2.4627 - acc: 0.8472 - val_loss: 2.4627 - val_acc: 0.8472\n",
      "Epoch 28/80\n",
      "4948/4948 [==============================] - 0s 18us/step - loss: 2.4627 - acc: 0.8472 - val_loss: 2.4627 - val_acc: 0.8472\n",
      "Epoch 29/80\n",
      "4948/4948 [==============================] - 0s 18us/step - loss: 2.4627 - acc: 0.8472 - val_loss: 2.4627 - val_acc: 0.8472\n",
      "Epoch 30/80\n",
      "4948/4948 [==============================] - 0s 18us/step - loss: 2.4627 - acc: 0.8472 - val_loss: 2.4627 - val_acc: 0.8472\n",
      "Epoch 31/80\n",
      "4948/4948 [==============================] - 0s 18us/step - loss: 2.4627 - acc: 0.8472 - val_loss: 2.4627 - val_acc: 0.8472\n",
      "Epoch 32/80\n",
      "4948/4948 [==============================] - 0s 16us/step - loss: 2.4627 - acc: 0.8472 - val_loss: 2.4627 - val_acc: 0.8472\n",
      "Epoch 33/80\n",
      "4948/4948 [==============================] - 0s 16us/step - loss: 2.4627 - acc: 0.8472 - val_loss: 2.4627 - val_acc: 0.8472\n",
      "Epoch 34/80\n",
      "4948/4948 [==============================] - 0s 18us/step - loss: 2.4627 - acc: 0.8472 - val_loss: 2.4627 - val_acc: 0.8472\n",
      "Epoch 35/80\n",
      "4948/4948 [==============================] - 0s 16us/step - loss: 2.4627 - acc: 0.8472 - val_loss: 2.4627 - val_acc: 0.8472\n",
      "Epoch 36/80\n",
      "4948/4948 [==============================] - 0s 16us/step - loss: 2.4627 - acc: 0.8472 - val_loss: 2.4627 - val_acc: 0.8472\n",
      "Epoch 37/80\n",
      "4948/4948 [==============================] - 0s 16us/step - loss: 2.4627 - acc: 0.8472 - val_loss: 2.4627 - val_acc: 0.8472\n",
      "Epoch 38/80\n",
      "4948/4948 [==============================] - 0s 16us/step - loss: 2.4627 - acc: 0.8472 - val_loss: 2.4627 - val_acc: 0.8472\n",
      "Epoch 39/80\n",
      "4948/4948 [==============================] - 0s 18us/step - loss: 2.4627 - acc: 0.8472 - val_loss: 2.4627 - val_acc: 0.8472\n",
      "Epoch 40/80\n",
      "4948/4948 [==============================] - 0s 16us/step - loss: 2.4627 - acc: 0.8472 - val_loss: 2.4627 - val_acc: 0.8472\n",
      "Epoch 41/80\n",
      "4948/4948 [==============================] - 0s 18us/step - loss: 2.4627 - acc: 0.8472 - val_loss: 2.4627 - val_acc: 0.8472\n",
      "Epoch 42/80\n",
      "4948/4948 [==============================] - 0s 16us/step - loss: 2.4627 - acc: 0.8472 - val_loss: 2.4627 - val_acc: 0.8472\n",
      "Epoch 43/80\n",
      "4948/4948 [==============================] - 0s 18us/step - loss: 2.4627 - acc: 0.8472 - val_loss: 2.4627 - val_acc: 0.8472\n",
      "Epoch 44/80\n",
      "4948/4948 [==============================] - 0s 18us/step - loss: 2.4627 - acc: 0.8472 - val_loss: 2.4627 - val_acc: 0.8472\n",
      "Epoch 45/80\n",
      "4948/4948 [==============================] - 0s 18us/step - loss: 2.4627 - acc: 0.8472 - val_loss: 2.4627 - val_acc: 0.8472\n",
      "Epoch 46/80\n",
      "4948/4948 [==============================] - 0s 16us/step - loss: 2.4627 - acc: 0.8472 - val_loss: 2.4627 - val_acc: 0.8472\n",
      "Epoch 47/80\n",
      "4948/4948 [==============================] - 0s 18us/step - loss: 2.4627 - acc: 0.8472 - val_loss: 2.4627 - val_acc: 0.8472\n",
      "Epoch 48/80\n",
      "4948/4948 [==============================] - 0s 16us/step - loss: 2.4627 - acc: 0.8472 - val_loss: 2.4627 - val_acc: 0.8472\n",
      "Epoch 49/80\n",
      "4948/4948 [==============================] - 0s 16us/step - loss: 2.4627 - acc: 0.8472 - val_loss: 2.4627 - val_acc: 0.8472\n",
      "Epoch 50/80\n",
      "4948/4948 [==============================] - 0s 18us/step - loss: 2.4627 - acc: 0.8472 - val_loss: 2.4627 - val_acc: 0.8472\n",
      "Epoch 51/80\n",
      "4948/4948 [==============================] - 0s 18us/step - loss: 2.4627 - acc: 0.8472 - val_loss: 2.4627 - val_acc: 0.8472\n",
      "Epoch 52/80\n",
      "4948/4948 [==============================] - 0s 16us/step - loss: 2.4627 - acc: 0.8472 - val_loss: 2.4627 - val_acc: 0.8472\n",
      "Epoch 53/80\n",
      "4948/4948 [==============================] - 0s 18us/step - loss: 2.4627 - acc: 0.8472 - val_loss: 2.4627 - val_acc: 0.8472\n",
      "Epoch 54/80\n",
      "4948/4948 [==============================] - 0s 18us/step - loss: 2.4627 - acc: 0.8472 - val_loss: 2.4627 - val_acc: 0.8472\n",
      "Epoch 55/80\n",
      "4948/4948 [==============================] - 0s 18us/step - loss: 2.4627 - acc: 0.8472 - val_loss: 2.4627 - val_acc: 0.8472\n",
      "Epoch 56/80\n",
      "4948/4948 [==============================] - 0s 16us/step - loss: 2.4627 - acc: 0.8472 - val_loss: 2.4627 - val_acc: 0.8472\n",
      "Epoch 57/80\n",
      "4948/4948 [==============================] - 0s 16us/step - loss: 2.4627 - acc: 0.8472 - val_loss: 2.4627 - val_acc: 0.8472\n",
      "Epoch 58/80\n",
      "4948/4948 [==============================] - 0s 18us/step - loss: 2.4627 - acc: 0.8472 - val_loss: 2.4627 - val_acc: 0.8472\n",
      "Epoch 59/80\n",
      "4948/4948 [==============================] - 0s 18us/step - loss: 2.4627 - acc: 0.8472 - val_loss: 2.4627 - val_acc: 0.8472\n",
      "Epoch 60/80\n",
      "4948/4948 [==============================] - 0s 16us/step - loss: 2.4627 - acc: 0.8472 - val_loss: 2.4627 - val_acc: 0.8472\n"
     ]
    },
    {
     "name": "stdout",
     "output_type": "stream",
     "text": [
      "Epoch 61/80\n",
      "4948/4948 [==============================] - 0s 18us/step - loss: 2.4627 - acc: 0.8472 - val_loss: 2.4627 - val_acc: 0.8472\n",
      "Epoch 62/80\n",
      "4948/4948 [==============================] - 0s 16us/step - loss: 2.4627 - acc: 0.8472 - val_loss: 2.4627 - val_acc: 0.8472\n",
      "Epoch 63/80\n",
      "4948/4948 [==============================] - 0s 17us/step - loss: 2.4627 - acc: 0.8472 - val_loss: 2.4627 - val_acc: 0.8472\n",
      "Epoch 64/80\n",
      "4948/4948 [==============================] - 0s 18us/step - loss: 2.4627 - acc: 0.8472 - val_loss: 2.4627 - val_acc: 0.8472\n",
      "Epoch 65/80\n",
      "4948/4948 [==============================] - 0s 18us/step - loss: 2.4627 - acc: 0.8472 - val_loss: 2.4627 - val_acc: 0.8472\n",
      "Epoch 66/80\n",
      "4948/4948 [==============================] - 0s 16us/step - loss: 2.4627 - acc: 0.8472 - val_loss: 2.4627 - val_acc: 0.8472\n",
      "Epoch 67/80\n",
      "4948/4948 [==============================] - 0s 18us/step - loss: 2.4627 - acc: 0.8472 - val_loss: 2.4627 - val_acc: 0.8472\n",
      "Epoch 68/80\n",
      "4948/4948 [==============================] - 0s 16us/step - loss: 2.4627 - acc: 0.8472 - val_loss: 2.4627 - val_acc: 0.8472\n",
      "Epoch 69/80\n",
      "4948/4948 [==============================] - 0s 18us/step - loss: 2.4627 - acc: 0.8472 - val_loss: 2.4627 - val_acc: 0.8472\n",
      "Epoch 70/80\n",
      "4948/4948 [==============================] - 0s 17us/step - loss: 2.4627 - acc: 0.8472 - val_loss: 2.4627 - val_acc: 0.8472\n",
      "Epoch 71/80\n",
      "4948/4948 [==============================] - 0s 18us/step - loss: 2.4627 - acc: 0.8472 - val_loss: 2.4627 - val_acc: 0.8472\n",
      "Epoch 72/80\n",
      "4948/4948 [==============================] - 0s 18us/step - loss: 2.4627 - acc: 0.8472 - val_loss: 2.4627 - val_acc: 0.8472\n",
      "Epoch 73/80\n",
      "4948/4948 [==============================] - 0s 16us/step - loss: 2.4627 - acc: 0.8472 - val_loss: 2.4627 - val_acc: 0.8472\n",
      "Epoch 74/80\n",
      "4948/4948 [==============================] - 0s 16us/step - loss: 2.4627 - acc: 0.8472 - val_loss: 2.4627 - val_acc: 0.8472\n",
      "Epoch 75/80\n",
      "4948/4948 [==============================] - 0s 18us/step - loss: 2.4627 - acc: 0.8472 - val_loss: 2.4627 - val_acc: 0.8472\n",
      "Epoch 76/80\n",
      "4948/4948 [==============================] - 0s 16us/step - loss: 2.4627 - acc: 0.8472 - val_loss: 2.4627 - val_acc: 0.8472\n",
      "Epoch 77/80\n",
      "4948/4948 [==============================] - 0s 18us/step - loss: 2.4627 - acc: 0.8472 - val_loss: 2.4627 - val_acc: 0.8472\n",
      "Epoch 78/80\n",
      "4948/4948 [==============================] - 0s 19us/step - loss: 2.4627 - acc: 0.8472 - val_loss: 2.4627 - val_acc: 0.8472\n",
      "Epoch 79/80\n",
      "4948/4948 [==============================] - 0s 18us/step - loss: 2.4627 - acc: 0.8472 - val_loss: 2.4627 - val_acc: 0.8472\n",
      "Epoch 80/80\n",
      "4948/4948 [==============================] - 0s 18us/step - loss: 2.4627 - acc: 0.8472 - val_loss: 2.4627 - val_acc: 0.8472\n"
     ]
    }
   ],
   "source": [
    "my_model = model.fit(x_train,y_train,epochs=80, batch_size=800, verbose=1,validation_data=(x_train,y_train))"
   ]
  },
  {
   "cell_type": "code",
   "execution_count": 10,
   "metadata": {},
   "outputs": [
    {
     "data": {
      "text/plain": [
       "array([[0],\n",
       "       [0],\n",
       "       [0],\n",
       "       ...,\n",
       "       [0],\n",
       "       [0],\n",
       "       [0]])"
      ]
     },
     "execution_count": 10,
     "metadata": {},
     "output_type": "execute_result"
    }
   ],
   "source": [
    "y_pred_nn = model.predict_classes(x_test)\n",
    "y_pred_nn"
   ]
  },
  {
   "cell_type": "code",
   "execution_count": 11,
   "metadata": {},
   "outputs": [
    {
     "data": {
      "text/plain": [
       "0    1389\n",
       "1     261\n",
       "Name: class, dtype: int64"
      ]
     },
     "execution_count": 11,
     "metadata": {},
     "output_type": "execute_result"
    }
   ],
   "source": [
    "syn=pd.concat([x_test, y_test],axis=1)\n",
    "syn['class'].value_counts() #Class distribution in test datasets"
   ]
  },
  {
   "cell_type": "code",
   "execution_count": 12,
   "metadata": {},
   "outputs": [
    {
     "data": {
      "text/plain": [
       "0    1650\n",
       "Name: class, dtype: int64"
      ]
     },
     "execution_count": 12,
     "metadata": {},
     "output_type": "execute_result"
    }
   ],
   "source": [
    "y_pred_nn=pd.DataFrame(y_pred_nn)\n",
    "y_pred_nn.columns=['class']\n",
    "y_pred_nn['class'].value_counts() #Class predicted in test dataset by neural networks"
   ]
  },
  {
   "cell_type": "code",
   "execution_count": 13,
   "metadata": {},
   "outputs": [
    {
     "data": {
      "text/plain": [
       "[Text(33.0, 0.5, 'Truth'), Text(0.5, 15.0, 'XGB_Prediction')]"
      ]
     },
     "execution_count": 13,
     "metadata": {},
     "output_type": "execute_result"
    },
    {
     "data": {
      "image/png": "[encoded data removed]",
      "text/plain": [
       "<Figure size 432x288 with 2 Axes>"
      ]
     },
     "metadata": {
      "needs_background": "light"
     },
     "output_type": "display_data"
    }
   ],
   "source": [
    "from sklearn.metrics import classification_report, confusion_matrix, accuracy_score\n",
    "import seaborn as sns\n",
    "\n",
    "ax = sns.heatmap(confusion_matrix(y_test, y_pred_nn), annot=True, fmt='d')\n",
    "ax.set(xlabel='XGB_Prediction', ylabel='Truth')"
   ]
  },
  {
   "cell_type": "code",
   "execution_count": 14,
   "metadata": {},
   "outputs": [
    {
     "name": "stdout",
     "output_type": "stream",
     "text": [
      "              precision    recall  f1-score   support\n",
      "\n",
      "           0       0.84      1.00      0.91      1389\n",
      "           1       0.00      0.00      0.00       261\n",
      "\n",
      "    accuracy                           0.84      1650\n",
      "   macro avg       0.42      0.50      0.46      1650\n",
      "weighted avg       0.71      0.84      0.77      1650\n",
      "\n"
     ]
    },
    {
     "name": "stderr",
     "output_type": "stream",
     "text": [
      "C:\\Users\\User\\Anaconda3\\envs\\anirban\\lib\\site-packages\\sklearn\\metrics\\classification.py:1437: UndefinedMetricWarning: Precision and F-score are ill-defined and being set to 0.0 in labels with no predicted samples.\n",
      "  'precision', 'predicted', average, warn_for)\n",
      "C:\\Users\\User\\Anaconda3\\envs\\anirban\\lib\\site-packages\\sklearn\\metrics\\classification.py:1437: UndefinedMetricWarning: Precision and F-score are ill-defined and being set to 0.0 in labels with no predicted samples.\n",
      "  'precision', 'predicted', average, warn_for)\n",
      "C:\\Users\\User\\Anaconda3\\envs\\anirban\\lib\\site-packages\\sklearn\\metrics\\classification.py:1437: UndefinedMetricWarning: Precision and F-score are ill-defined and being set to 0.0 in labels with no predicted samples.\n",
      "  'precision', 'predicted', average, warn_for)\n"
     ]
    }
   ],
   "source": [
    "print(classification_report(y_test, y_pred_nn))"
   ]
  },
  {
   "cell_type": "code",
   "execution_count": 15,
   "metadata": {},
   "outputs": [
    {
     "data": {
      "text/plain": [
       "0.8418181818181818"
      ]
     },
     "execution_count": 15,
     "metadata": {},
     "output_type": "execute_result"
    }
   ],
   "source": [
    "accuracy_score(y_test, y_pred_nn)"
   ]
  },
  {
   "cell_type": "markdown",
   "metadata": {},
   "source": [
    "## Feature Selection for Neural Network Modelling"
   ]
  },
  {
   "cell_type": "code",
   "execution_count": 16,
   "metadata": {},
   "outputs": [],
   "source": [
    "def m_model():\n",
    "    model = Sequential()\n",
    "    model.add(Dense(200,input_shape=(166,), activation='relu'))\n",
    "    model.add(Dense(200, kernel_constraint=maxnorm(3), activation='relu'))\n",
    "    model.add(Dropout(0.25))\n",
    "    model.add(Dense(1,activation='sigmoid'))\n",
    "    # Compile model\n",
    "    sgd = SGD(lr=0.1, momentum=0.8, decay=0.001, nesterov=False)\n",
    "    tensorboard = TensorBoard(log_dir='./logs/mnist_mlp/%d' % time.time())\n",
    "    model.compile(loss='binary_crossentropy', optimizer=sgd, metrics=['accuracy'])\n",
    "    return model"
   ]
  },
  {
   "cell_type": "code",
   "execution_count": 17,
   "metadata": {},
   "outputs": [],
   "source": [
    "my_model = KerasClassifier(build_fn=m_model,epochs=80, batch_size=800, verbose=1)"
   ]
  },
  {
   "cell_type": "code",
   "execution_count": 18,
   "metadata": {
    "scrolled": false
   },
   "outputs": [
    {
     "name": "stdout",
     "output_type": "stream",
     "text": [
      "Epoch 1/80\n",
      "6598/6598 [==============================] - 0s 55us/step - loss: 2.8107 - acc: 0.8206\n",
      "Epoch 2/80\n",
      "6598/6598 [==============================] - 0s 12us/step - loss: 2.4844 - acc: 0.8459\n",
      "Epoch 3/80\n",
      "6598/6598 [==============================] - 0s 12us/step - loss: 2.4844 - acc: 0.8459\n",
      "Epoch 4/80\n",
      "6598/6598 [==============================] - 0s 12us/step - loss: 2.4844 - acc: 0.8459\n",
      "Epoch 5/80\n",
      "6598/6598 [==============================] - 0s 12us/step - loss: 2.4844 - acc: 0.8459\n",
      "Epoch 6/80\n",
      "6598/6598 [==============================] - 0s 14us/step - loss: 2.4844 - acc: 0.8459\n",
      "Epoch 7/80\n",
      "6598/6598 [==============================] - 0s 12us/step - loss: 2.4844 - acc: 0.8459\n",
      "Epoch 8/80\n",
      "6598/6598 [==============================] - 0s 12us/step - loss: 2.4844 - acc: 0.8459\n",
      "Epoch 9/80\n",
      "6598/6598 [==============================] - 0s 13us/step - loss: 2.4844 - acc: 0.8459\n",
      "Epoch 10/80\n",
      "6598/6598 [==============================] - 0s 12us/step - loss: 2.4844 - acc: 0.8459\n",
      "Epoch 11/80\n",
      "6598/6598 [==============================] - 0s 12us/step - loss: 2.4844 - acc: 0.8459\n",
      "Epoch 12/80\n",
      "6598/6598 [==============================] - 0s 12us/step - loss: 2.4844 - acc: 0.8459\n",
      "Epoch 13/80\n",
      "6598/6598 [==============================] - 0s 14us/step - loss: 2.4844 - acc: 0.8459\n",
      "Epoch 14/80\n",
      "6598/6598 [==============================] - 0s 12us/step - loss: 2.4844 - acc: 0.8459\n",
      "Epoch 15/80\n",
      "6598/6598 [==============================] - 0s 13us/step - loss: 2.4844 - acc: 0.8459\n",
      "Epoch 16/80\n",
      "6598/6598 [==============================] - 0s 13us/step - loss: 2.4844 - acc: 0.8459\n",
      "Epoch 17/80\n",
      "6598/6598 [==============================] - 0s 12us/step - loss: 2.4844 - acc: 0.8459\n",
      "Epoch 18/80\n",
      "6598/6598 [==============================] - 0s 14us/step - loss: 2.4844 - acc: 0.8459\n",
      "Epoch 19/80\n",
      "6598/6598 [==============================] - 0s 13us/step - loss: 2.4844 - acc: 0.8459\n",
      "Epoch 20/80\n",
      "6598/6598 [==============================] - 0s 13us/step - loss: 2.4844 - acc: 0.8459\n",
      "Epoch 21/80\n",
      "6598/6598 [==============================] - 0s 14us/step - loss: 2.4844 - acc: 0.8459\n",
      "Epoch 22/80\n",
      "6598/6598 [==============================] - 0s 12us/step - loss: 2.4844 - acc: 0.8459\n",
      "Epoch 23/80\n",
      "6598/6598 [==============================] - 0s 11us/step - loss: 2.4844 - acc: 0.8459\n",
      "Epoch 24/80\n",
      "6598/6598 [==============================] - 0s 12us/step - loss: 2.4844 - acc: 0.8459\n",
      "Epoch 25/80\n",
      "6598/6598 [==============================] - 0s 12us/step - loss: 2.4844 - acc: 0.8459\n",
      "Epoch 26/80\n",
      "6598/6598 [==============================] - 0s 12us/step - loss: 2.4844 - acc: 0.8459\n",
      "Epoch 27/80\n",
      "6598/6598 [==============================] - 0s 14us/step - loss: 2.4844 - acc: 0.8459\n",
      "Epoch 28/80\n",
      "6598/6598 [==============================] - 0s 12us/step - loss: 2.4844 - acc: 0.8459\n",
      "Epoch 29/80\n",
      "6598/6598 [==============================] - 0s 12us/step - loss: 2.4844 - acc: 0.8459\n",
      "Epoch 30/80\n",
      "6598/6598 [==============================] - 0s 14us/step - loss: 2.4844 - acc: 0.8459\n",
      "Epoch 31/80\n",
      "6598/6598 [==============================] - 0s 12us/step - loss: 2.4844 - acc: 0.8459\n",
      "Epoch 32/80\n",
      "6598/6598 [==============================] - 0s 12us/step - loss: 2.4844 - acc: 0.8459\n",
      "Epoch 33/80\n",
      "6598/6598 [==============================] - 0s 14us/step - loss: 2.4844 - acc: 0.8459\n",
      "Epoch 34/80\n",
      "6598/6598 [==============================] - 0s 12us/step - loss: 2.4844 - acc: 0.8459\n",
      "Epoch 35/80\n",
      "6598/6598 [==============================] - 0s 11us/step - loss: 2.4844 - acc: 0.8459\n",
      "Epoch 36/80\n",
      "6598/6598 [==============================] - 0s 12us/step - loss: 2.4844 - acc: 0.8459\n",
      "Epoch 37/80\n",
      "6598/6598 [==============================] - 0s 14us/step - loss: 2.4844 - acc: 0.8459\n",
      "Epoch 38/80\n",
      "6598/6598 [==============================] - 0s 12us/step - loss: 2.4844 - acc: 0.8459\n",
      "Epoch 39/80\n",
      "6598/6598 [==============================] - 0s 14us/step - loss: 2.4844 - acc: 0.8459\n",
      "Epoch 40/80\n",
      "6598/6598 [==============================] - 0s 14us/step - loss: 2.4844 - acc: 0.8459\n",
      "Epoch 41/80\n",
      "6598/6598 [==============================] - 0s 13us/step - loss: 2.4844 - acc: 0.8459\n",
      "Epoch 42/80\n",
      "6598/6598 [==============================] - 0s 12us/step - loss: 2.4844 - acc: 0.8459\n",
      "Epoch 43/80\n",
      "6598/6598 [==============================] - 0s 12us/step - loss: 2.4844 - acc: 0.8459\n",
      "Epoch 44/80\n",
      "6598/6598 [==============================] - 0s 14us/step - loss: 2.4844 - acc: 0.8459\n",
      "Epoch 45/80\n",
      "6598/6598 [==============================] - 0s 14us/step - loss: 2.4844 - acc: 0.8459\n",
      "Epoch 46/80\n",
      "6598/6598 [==============================] - 0s 14us/step - loss: 2.4844 - acc: 0.8459\n",
      "Epoch 47/80\n",
      "6598/6598 [==============================] - 0s 15us/step - loss: 2.4844 - acc: 0.8459\n",
      "Epoch 48/80\n",
      "6598/6598 [==============================] - 0s 14us/step - loss: 2.4844 - acc: 0.8459\n",
      "Epoch 49/80\n",
      "6598/6598 [==============================] - 0s 12us/step - loss: 2.4844 - acc: 0.8459\n",
      "Epoch 50/80\n",
      "6598/6598 [==============================] - 0s 12us/step - loss: 2.4844 - acc: 0.8459\n",
      "Epoch 51/80\n",
      "6598/6598 [==============================] - 0s 12us/step - loss: 2.4844 - acc: 0.8459\n",
      "Epoch 52/80\n",
      "6598/6598 [==============================] - 0s 12us/step - loss: 2.4844 - acc: 0.8459\n",
      "Epoch 53/80\n",
      "6598/6598 [==============================] - 0s 12us/step - loss: 2.4844 - acc: 0.8459\n",
      "Epoch 54/80\n",
      "6598/6598 [==============================] - 0s 12us/step - loss: 2.4844 - acc: 0.8459\n",
      "Epoch 55/80\n",
      "6598/6598 [==============================] - 0s 12us/step - loss: 2.4844 - acc: 0.8459\n",
      "Epoch 56/80\n",
      "6598/6598 [==============================] - 0s 13us/step - loss: 2.4844 - acc: 0.8459\n",
      "Epoch 57/80\n",
      "6598/6598 [==============================] - 0s 12us/step - loss: 2.4844 - acc: 0.8459\n",
      "Epoch 58/80\n",
      "6598/6598 [==============================] - 0s 12us/step - loss: 2.4844 - acc: 0.8459\n",
      "Epoch 59/80\n",
      "6598/6598 [==============================] - 0s 12us/step - loss: 2.4844 - acc: 0.8459\n",
      "Epoch 60/80\n",
      "6598/6598 [==============================] - 0s 12us/step - loss: 2.4844 - acc: 0.8459\n",
      "Epoch 61/80\n",
      "6598/6598 [==============================] - 0s 14us/step - loss: 2.4844 - acc: 0.8459\n",
      "Epoch 62/80\n",
      "6598/6598 [==============================] - 0s 12us/step - loss: 2.4844 - acc: 0.8459\n",
      "Epoch 63/80\n",
      "6598/6598 [==============================] - 0s 12us/step - loss: 2.4844 - acc: 0.8459\n",
      "Epoch 64/80\n",
      "6598/6598 [==============================] - 0s 14us/step - loss: 2.4844 - acc: 0.8459\n",
      "Epoch 65/80\n",
      "6598/6598 [==============================] - 0s 12us/step - loss: 2.4844 - acc: 0.8459\n",
      "Epoch 66/80\n",
      "6598/6598 [==============================] - 0s 12us/step - loss: 2.4844 - acc: 0.8459\n",
      "Epoch 67/80\n",
      "6598/6598 [==============================] - 0s 12us/step - loss: 2.4844 - acc: 0.8459\n",
      "Epoch 68/80\n",
      "6598/6598 [==============================] - 0s 12us/step - loss: 2.4844 - acc: 0.8459\n",
      "Epoch 69/80\n",
      "6598/6598 [==============================] - 0s 12us/step - loss: 2.4844 - acc: 0.8459\n",
      "Epoch 70/80\n",
      "6598/6598 [==============================] - 0s 14us/step - loss: 2.4844 - acc: 0.8459\n",
      "Epoch 71/80\n",
      "6598/6598 [==============================] - 0s 13us/step - loss: 2.4844 - acc: 0.8459\n",
      "Epoch 72/80\n",
      "6598/6598 [==============================] - 0s 14us/step - loss: 2.4844 - acc: 0.8459\n",
      "Epoch 73/80\n",
      "6598/6598 [==============================] - 0s 12us/step - loss: 2.4844 - acc: 0.8459\n",
      "Epoch 74/80\n",
      "6598/6598 [==============================] - 0s 12us/step - loss: 2.4844 - acc: 0.8459\n",
      "Epoch 75/80\n",
      "6598/6598 [==============================] - 0s 14us/step - loss: 2.4844 - acc: 0.8459\n",
      "Epoch 76/80\n",
      "6598/6598 [==============================] - 0s 12us/step - loss: 2.4844 - acc: 0.8459\n",
      "Epoch 77/80\n",
      "6598/6598 [==============================] - 0s 12us/step - loss: 2.4844 - acc: 0.8459\n",
      "Epoch 78/80\n",
      "6598/6598 [==============================] - 0s 12us/step - loss: 2.4844 - acc: 0.8459\n",
      "Epoch 79/80\n",
      "6598/6598 [==============================] - 0s 12us/step - loss: 2.4844 - acc: 0.8459\n",
      "Epoch 80/80\n",
      "6598/6598 [==============================] - 0s 12us/step - loss: 2.4844 - acc: 0.8459\n"
     ]
    },
    {
     "ename": "RuntimeError",
     "evalue": "The classifier does not expose \"coef_\" or \"feature_importances_\" attributes",
     "output_type": "error",
     "traceback": [
      "\u001b[1;31m---------------------------------------------------------------------------\u001b[0m",
      "\u001b[1;31mRuntimeError\u001b[0m                              Traceback (most recent call last)",
      "\u001b[1;32m<ipython-input-18-b8f06352bbdc>\u001b[0m in \u001b[0;36m<module>\u001b[1;34m\u001b[0m\n\u001b[0;32m      2\u001b[0m \u001b[1;33m\u001b[0m\u001b[0m\n\u001b[0;32m      3\u001b[0m \u001b[0mselector\u001b[0m \u001b[1;33m=\u001b[0m \u001b[0mRFE\u001b[0m\u001b[1;33m(\u001b[0m\u001b[0mmy_model\u001b[0m\u001b[1;33m,\u001b[0m\u001b[1;36m40\u001b[0m\u001b[1;33m,\u001b[0m \u001b[0mstep\u001b[0m\u001b[1;33m=\u001b[0m\u001b[1;36m1\u001b[0m\u001b[1;33m)\u001b[0m\u001b[1;33m\u001b[0m\u001b[1;33m\u001b[0m\u001b[0m\n\u001b[1;32m----> 4\u001b[1;33m \u001b[0mselector\u001b[0m \u001b[1;33m=\u001b[0m \u001b[0mselector\u001b[0m\u001b[1;33m.\u001b[0m\u001b[0mfit\u001b[0m\u001b[1;33m(\u001b[0m\u001b[0mx\u001b[0m\u001b[1;33m,\u001b[0m \u001b[0my\u001b[0m\u001b[1;33m)\u001b[0m\u001b[1;33m\u001b[0m\u001b[1;33m\u001b[0m\u001b[0m\n\u001b[0m",
      "\u001b[1;32m~\\Anaconda3\\envs\\anirban\\lib\\site-packages\\sklearn\\feature_selection\\rfe.py\u001b[0m in \u001b[0;36mfit\u001b[1;34m(self, X, y)\u001b[0m\n\u001b[0;32m    142\u001b[0m             \u001b[0mThe\u001b[0m \u001b[0mtarget\u001b[0m \u001b[0mvalues\u001b[0m\u001b[1;33m.\u001b[0m\u001b[1;33m\u001b[0m\u001b[1;33m\u001b[0m\u001b[0m\n\u001b[0;32m    143\u001b[0m         \"\"\"\n\u001b[1;32m--> 144\u001b[1;33m         \u001b[1;32mreturn\u001b[0m \u001b[0mself\u001b[0m\u001b[1;33m.\u001b[0m\u001b[0m_fit\u001b[0m\u001b[1;33m(\u001b[0m\u001b[0mX\u001b[0m\u001b[1;33m,\u001b[0m \u001b[0my\u001b[0m\u001b[1;33m)\u001b[0m\u001b[1;33m\u001b[0m\u001b[1;33m\u001b[0m\u001b[0m\n\u001b[0m\u001b[0;32m    145\u001b[0m \u001b[1;33m\u001b[0m\u001b[0m\n\u001b[0;32m    146\u001b[0m     \u001b[1;32mdef\u001b[0m \u001b[0m_fit\u001b[0m\u001b[1;33m(\u001b[0m\u001b[0mself\u001b[0m\u001b[1;33m,\u001b[0m \u001b[0mX\u001b[0m\u001b[1;33m,\u001b[0m \u001b[0my\u001b[0m\u001b[1;33m,\u001b[0m \u001b[0mstep_score\u001b[0m\u001b[1;33m=\u001b[0m\u001b[1;32mNone\u001b[0m\u001b[1;33m)\u001b[0m\u001b[1;33m:\u001b[0m\u001b[1;33m\u001b[0m\u001b[1;33m\u001b[0m\u001b[0m\n",
      "\u001b[1;32m~\\Anaconda3\\envs\\anirban\\lib\\site-packages\\sklearn\\feature_selection\\rfe.py\u001b[0m in \u001b[0;36m_fit\u001b[1;34m(self, X, y, step_score)\u001b[0m\n\u001b[0;32m    189\u001b[0m                 \u001b[0mcoefs\u001b[0m \u001b[1;33m=\u001b[0m \u001b[0mgetattr\u001b[0m\u001b[1;33m(\u001b[0m\u001b[0mestimator\u001b[0m\u001b[1;33m,\u001b[0m \u001b[1;34m'feature_importances_'\u001b[0m\u001b[1;33m,\u001b[0m \u001b[1;32mNone\u001b[0m\u001b[1;33m)\u001b[0m\u001b[1;33m\u001b[0m\u001b[1;33m\u001b[0m\u001b[0m\n\u001b[0;32m    190\u001b[0m             \u001b[1;32mif\u001b[0m \u001b[0mcoefs\u001b[0m \u001b[1;32mis\u001b[0m \u001b[1;32mNone\u001b[0m\u001b[1;33m:\u001b[0m\u001b[1;33m\u001b[0m\u001b[1;33m\u001b[0m\u001b[0m\n\u001b[1;32m--> 191\u001b[1;33m                 raise RuntimeError('The classifier does not expose '\n\u001b[0m\u001b[0;32m    192\u001b[0m                                    \u001b[1;34m'\"coef_\" or \"feature_importances_\" '\u001b[0m\u001b[1;33m\u001b[0m\u001b[1;33m\u001b[0m\u001b[0m\n\u001b[0;32m    193\u001b[0m                                    'attributes')\n",
      "\u001b[1;31mRuntimeError\u001b[0m: The classifier does not expose \"coef_\" or \"feature_importances_\" attributes"
     ]
    }
   ],
   "source": [
    "from sklearn.feature_selection import RFE\n",
    "\n",
    "selector = RFE(my_model,40, step=1)\n",
    "selector = selector.fit(x, y)"
   ]
  },
  {
   "cell_type": "markdown",
   "metadata": {},
   "source": [
    "## Implement XGB\n"
   ]
  },
  {
   "cell_type": "code",
   "execution_count": 19,
   "metadata": {},
   "outputs": [
    {
     "data": {
      "text/plain": [
       "XGBClassifier(base_score=0.5, booster='gbtree', colsample_bylevel=1,\n",
       "              colsample_bytree=1, gamma=0, learning_rate=0.12, max_delta_step=0,\n",
       "              max_depth=3, min_child_weight=1, missing=None, n_estimators=100,\n",
       "              n_jobs=1, nthread=None, objective='binary:logistic',\n",
       "              random_state=0, reg_alpha=0, reg_lambda=1, scale_pos_weight=1,\n",
       "              seed=100, silent=True, subsample=1)"
      ]
     },
     "execution_count": 19,
     "metadata": {},
     "output_type": "execute_result"
    }
   ],
   "source": [
    "from xgboost import XGBClassifier\n",
    "\n",
    "xgb=XGBClassifier(n_estimators=100, learning_rate=0.12, seed=100)\n",
    "xgb.fit(x_train, y_train)"
   ]
  },
  {
   "cell_type": "code",
   "execution_count": 20,
   "metadata": {},
   "outputs": [
    {
     "data": {
      "text/html": [
       "<div>\n",
       "<style scoped>\n",
       "    .dataframe tbody tr th:only-of-type {\n",
       "        vertical-align: middle;\n",
       "    }\n",
       "\n",
       "    .dataframe tbody tr th {\n",
       "        vertical-align: top;\n",
       "    }\n",
       "\n",
       "    .dataframe thead th {\n",
       "        text-align: right;\n",
       "    }\n",
       "</style>\n",
       "<table border=\"1\" class=\"dataframe\">\n",
       "  <thead>\n",
       "    <tr style=\"text-align: right;\">\n",
       "      <th></th>\n",
       "      <th>fit_time</th>\n",
       "      <th>score_time</th>\n",
       "      <th>test_score</th>\n",
       "      <th>train_score</th>\n",
       "    </tr>\n",
       "  </thead>\n",
       "  <tbody>\n",
       "    <tr>\n",
       "      <th>0</th>\n",
       "      <td>1.779511</td>\n",
       "      <td>0.020263</td>\n",
       "      <td>0.974152</td>\n",
       "      <td>0.977131</td>\n",
       "    </tr>\n",
       "    <tr>\n",
       "      <th>1</th>\n",
       "      <td>1.730348</td>\n",
       "      <td>0.005064</td>\n",
       "      <td>0.969305</td>\n",
       "      <td>0.978748</td>\n",
       "    </tr>\n",
       "    <tr>\n",
       "      <th>2</th>\n",
       "      <td>1.764685</td>\n",
       "      <td>0.005006</td>\n",
       "      <td>0.961228</td>\n",
       "      <td>0.978748</td>\n",
       "    </tr>\n",
       "    <tr>\n",
       "      <th>3</th>\n",
       "      <td>1.645438</td>\n",
       "      <td>0.010104</td>\n",
       "      <td>0.964459</td>\n",
       "      <td>0.978748</td>\n",
       "    </tr>\n",
       "    <tr>\n",
       "      <th>4</th>\n",
       "      <td>1.621781</td>\n",
       "      <td>0.002056</td>\n",
       "      <td>0.954693</td>\n",
       "      <td>0.982448</td>\n",
       "    </tr>\n",
       "    <tr>\n",
       "      <th>5</th>\n",
       "      <td>1.595404</td>\n",
       "      <td>0.005011</td>\n",
       "      <td>0.962783</td>\n",
       "      <td>0.981062</td>\n",
       "    </tr>\n",
       "    <tr>\n",
       "      <th>6</th>\n",
       "      <td>1.589014</td>\n",
       "      <td>0.006086</td>\n",
       "      <td>0.964401</td>\n",
       "      <td>0.980600</td>\n",
       "    </tr>\n",
       "    <tr>\n",
       "      <th>7</th>\n",
       "      <td>1.582236</td>\n",
       "      <td>0.010085</td>\n",
       "      <td>0.964401</td>\n",
       "      <td>0.978984</td>\n",
       "    </tr>\n",
       "  </tbody>\n",
       "</table>\n",
       "</div>"
      ],
      "text/plain": [
       "   fit_time  score_time  test_score  train_score\n",
       "0  1.779511    0.020263    0.974152     0.977131\n",
       "1  1.730348    0.005064    0.969305     0.978748\n",
       "2  1.764685    0.005006    0.961228     0.978748\n",
       "3  1.645438    0.010104    0.964459     0.978748\n",
       "4  1.621781    0.002056    0.954693     0.982448\n",
       "5  1.595404    0.005011    0.962783     0.981062\n",
       "6  1.589014    0.006086    0.964401     0.980600\n",
       "7  1.582236    0.010085    0.964401     0.978984"
      ]
     },
     "execution_count": 20,
     "metadata": {},
     "output_type": "execute_result"
    }
   ],
   "source": [
    "from sklearn.model_selection import cross_validate\n",
    "\n",
    "# cross validate XGBoost Classifier\n",
    "scores_xgb = cross_validate(xgb, x_train, y_train, cv=8, return_train_score=True,return_estimator=False)\n",
    "scores_xgb =pd.DataFrame(scores_xgb)\n",
    "scores_xgb"
   ]
  },
  {
   "cell_type": "code",
   "execution_count": 21,
   "metadata": {},
   "outputs": [
    {
     "name": "stdout",
     "output_type": "stream",
     "text": [
      "Mean Test Score of XGBoost Classifier:  0.9644277621803619\n",
      "Mean Train Score of XGBoost Classifier:  0.9795587001995778\n"
     ]
    }
   ],
   "source": [
    "print('Mean Test Score of XGBoost Classifier: ', scores_xgb ['test_score'].mean())\n",
    "print('Mean Train Score of XGBoost Classifier: ', scores_xgb ['train_score'].mean())"
   ]
  },
  {
   "cell_type": "code",
   "execution_count": 22,
   "metadata": {},
   "outputs": [
    {
     "data": {
      "text/plain": [
       "array([1, 0, 1, ..., 0, 0, 0], dtype=int64)"
      ]
     },
     "execution_count": 22,
     "metadata": {},
     "output_type": "execute_result"
    }
   ],
   "source": [
    "y_pred_xgb = xgb.predict(x_test)\n",
    "y_pred_xgb"
   ]
  },
  {
   "cell_type": "code",
   "execution_count": 23,
   "metadata": {},
   "outputs": [
    {
     "data": {
      "text/plain": [
       "[Text(33.0, 0.5, 'Truth'), Text(0.5, 15.0, 'XGB_Prediction')]"
      ]
     },
     "execution_count": 23,
     "metadata": {},
     "output_type": "execute_result"
    },
    {
     "data": {
      "image/png": "[encoded data removed]",
      "text/plain": [
       "<Figure size 432x288 with 2 Axes>"
      ]
     },
     "metadata": {
      "needs_background": "light"
     },
     "output_type": "display_data"
    }
   ],
   "source": [
    "ax = sns.heatmap(confusion_matrix(y_test, y_pred_xgb), annot=True, fmt='d')\n",
    "ax.set(xlabel='XGB_Prediction', ylabel='Truth')"
   ]
  },
  {
   "cell_type": "code",
   "execution_count": 24,
   "metadata": {},
   "outputs": [
    {
     "name": "stdout",
     "output_type": "stream",
     "text": [
      "              precision    recall  f1-score   support\n",
      "\n",
      "           0       0.97      1.00      0.98      1389\n",
      "           1       0.99      0.81      0.89       261\n",
      "\n",
      "    accuracy                           0.97      1650\n",
      "   macro avg       0.98      0.90      0.94      1650\n",
      "weighted avg       0.97      0.97      0.97      1650\n",
      "\n"
     ]
    }
   ],
   "source": [
    "print(classification_report(y_test, y_pred_xgb))"
   ]
  },
  {
   "cell_type": "code",
   "execution_count": 25,
   "metadata": {},
   "outputs": [
    {
     "data": {
      "text/plain": [
       "0.9684848484848485"
      ]
     },
     "execution_count": 25,
     "metadata": {},
     "output_type": "execute_result"
    }
   ],
   "source": [
    "accuracy_score(y_test, y_pred_xgb)"
   ]
  },
  {
   "cell_type": "code",
   "execution_count": 26,
   "metadata": {},
   "outputs": [],
   "source": [
    "def plot_feature_importances (model, kind, title, color, dataframe):\n",
    "    importances = pd.Series(data=model.feature_importances_, index= dataframe.columns)\n",
    "    # Sort importances\n",
    "    importances_sorted = importances.sort_values()\n",
    "    # Draw a horizontal barplot of importances_sorted\n",
    "    importances_sorted.plot(kind=kind, color=color)\n",
    "    plt.title(title)\n",
    "    return(plt.show())"
   ]
  },
  {
   "cell_type": "code",
   "execution_count": 27,
   "metadata": {},
   "outputs": [
    {
     "data": {
      "text/plain": [
       "f58     0.010363\n",
       "f144    0.010363\n",
       "f34     0.010363\n",
       "f136    0.010363\n",
       "f71     0.010363\n",
       "f6      0.010363\n",
       "f63     0.010363\n",
       "f133    0.010363\n",
       "f138    0.010363\n",
       "f55     0.010363\n",
       "f7      0.010363\n",
       "f68     0.012090\n",
       "f146    0.012090\n",
       "f99     0.012090\n",
       "f17     0.012090\n",
       "f59     0.012090\n",
       "f25     0.012090\n",
       "f117    0.012090\n",
       "f67     0.012090\n",
       "f165    0.012090\n",
       "f83     0.013817\n",
       "f72     0.013817\n",
       "f4      0.013817\n",
       "f9      0.013817\n",
       "f61     0.013817\n",
       "f43     0.013817\n",
       "f102    0.015544\n",
       "f91     0.015544\n",
       "f66     0.015544\n",
       "f132    0.017271\n",
       "f22     0.017271\n",
       "f116    0.018998\n",
       "f151    0.018998\n",
       "f110    0.018998\n",
       "f122    0.022453\n",
       "f1      0.024180\n",
       "f111    0.025907\n",
       "f36     0.025907\n",
       "f92     0.029361\n",
       "f126    0.032815\n",
       "f163    0.036269\n",
       "dtype: float32"
      ]
     },
     "execution_count": 27,
     "metadata": {},
     "output_type": "execute_result"
    }
   ],
   "source": [
    "importances = pd.Series(data=xgb.feature_importances_, index= x_train.columns)\n",
    "# Sort importances\n",
    "importances_sorted = importances.sort_values()\n",
    "importances_sorted[importances_sorted>0.01] #Most significant features with weights above 0.01 detected by XGBoost model"
   ]
  },
  {
   "cell_type": "code",
   "execution_count": 28,
   "metadata": {},
   "outputs": [
    {
     "data": {
      "image/png": "[encoded data removed]",
      "text/plain": [
       "<Figure size 7200x7200 with 1 Axes>"
      ]
     },
     "metadata": {
      "needs_background": "light"
     },
     "output_type": "display_data"
    }
   ],
   "source": [
    "import matplotlib.pyplot as plt\n",
    "\n",
    "fig,ax=plt.subplots(figsize=(100,100))\n",
    "plot_feature_importances (xgb, 'bar', 'XGB feature selection', 'red', x)"
   ]
  },
  {
   "cell_type": "code",
   "execution_count": 29,
   "metadata": {},
   "outputs": [
    {
     "data": {
      "text/html": [
       "<div>\n",
       "<style scoped>\n",
       "    .dataframe tbody tr th:only-of-type {\n",
       "        vertical-align: middle;\n",
       "    }\n",
       "\n",
       "    .dataframe tbody tr th {\n",
       "        vertical-align: top;\n",
       "    }\n",
       "\n",
       "    .dataframe thead th {\n",
       "        text-align: right;\n",
       "    }\n",
       "</style>\n",
       "<table border=\"1\" class=\"dataframe\">\n",
       "  <thead>\n",
       "    <tr style=\"text-align: right;\">\n",
       "      <th></th>\n",
       "      <th>class</th>\n",
       "      <th>f163</th>\n",
       "      <th>f126</th>\n",
       "      <th>f92</th>\n",
       "      <th>f36</th>\n",
       "      <th>f111</th>\n",
       "      <th>f1</th>\n",
       "      <th>f122</th>\n",
       "      <th>f110</th>\n",
       "      <th>f151</th>\n",
       "      <th>...</th>\n",
       "      <th>f55</th>\n",
       "      <th>f138</th>\n",
       "      <th>f133</th>\n",
       "      <th>f63</th>\n",
       "      <th>f6</th>\n",
       "      <th>f71</th>\n",
       "      <th>f136</th>\n",
       "      <th>f34</th>\n",
       "      <th>f144</th>\n",
       "      <th>f58</th>\n",
       "    </tr>\n",
       "  </thead>\n",
       "  <tbody>\n",
       "    <tr>\n",
       "      <th>0</th>\n",
       "      <td>1</td>\n",
       "      <td>156</td>\n",
       "      <td>25</td>\n",
       "      <td>119</td>\n",
       "      <td>63</td>\n",
       "      <td>-239</td>\n",
       "      <td>46</td>\n",
       "      <td>72</td>\n",
       "      <td>-280</td>\n",
       "      <td>-81</td>\n",
       "      <td>...</td>\n",
       "      <td>108</td>\n",
       "      <td>-13</td>\n",
       "      <td>-75</td>\n",
       "      <td>-15</td>\n",
       "      <td>49</td>\n",
       "      <td>-48</td>\n",
       "      <td>-19</td>\n",
       "      <td>5</td>\n",
       "      <td>-20</td>\n",
       "      <td>-151</td>\n",
       "    </tr>\n",
       "    <tr>\n",
       "      <th>1</th>\n",
       "      <td>1</td>\n",
       "      <td>169</td>\n",
       "      <td>-17</td>\n",
       "      <td>82</td>\n",
       "      <td>61</td>\n",
       "      <td>-231</td>\n",
       "      <td>41</td>\n",
       "      <td>131</td>\n",
       "      <td>-246</td>\n",
       "      <td>-41</td>\n",
       "      <td>...</td>\n",
       "      <td>107</td>\n",
       "      <td>-79</td>\n",
       "      <td>-72</td>\n",
       "      <td>13</td>\n",
       "      <td>-6</td>\n",
       "      <td>-156</td>\n",
       "      <td>-94</td>\n",
       "      <td>42</td>\n",
       "      <td>17</td>\n",
       "      <td>-140</td>\n",
       "    </tr>\n",
       "    <tr>\n",
       "      <th>2</th>\n",
       "      <td>1</td>\n",
       "      <td>165</td>\n",
       "      <td>19</td>\n",
       "      <td>47</td>\n",
       "      <td>71</td>\n",
       "      <td>-230</td>\n",
       "      <td>46</td>\n",
       "      <td>122</td>\n",
       "      <td>-247</td>\n",
       "      <td>-41</td>\n",
       "      <td>...</td>\n",
       "      <td>147</td>\n",
       "      <td>-72</td>\n",
       "      <td>-74</td>\n",
       "      <td>34</td>\n",
       "      <td>73</td>\n",
       "      <td>-157</td>\n",
       "      <td>-93</td>\n",
       "      <td>6</td>\n",
       "      <td>17</td>\n",
       "      <td>-139</td>\n",
       "    </tr>\n",
       "    <tr>\n",
       "      <th>3</th>\n",
       "      <td>1</td>\n",
       "      <td>168</td>\n",
       "      <td>-18</td>\n",
       "      <td>82</td>\n",
       "      <td>62</td>\n",
       "      <td>-231</td>\n",
       "      <td>41</td>\n",
       "      <td>131</td>\n",
       "      <td>-247</td>\n",
       "      <td>-41</td>\n",
       "      <td>...</td>\n",
       "      <td>107</td>\n",
       "      <td>-78</td>\n",
       "      <td>-73</td>\n",
       "      <td>12</td>\n",
       "      <td>-7</td>\n",
       "      <td>-156</td>\n",
       "      <td>-93</td>\n",
       "      <td>41</td>\n",
       "      <td>17</td>\n",
       "      <td>-140</td>\n",
       "    </tr>\n",
       "    <tr>\n",
       "      <th>4</th>\n",
       "      <td>1</td>\n",
       "      <td>168</td>\n",
       "      <td>-18</td>\n",
       "      <td>82</td>\n",
       "      <td>62</td>\n",
       "      <td>-231</td>\n",
       "      <td>41</td>\n",
       "      <td>131</td>\n",
       "      <td>-247</td>\n",
       "      <td>-41</td>\n",
       "      <td>...</td>\n",
       "      <td>107</td>\n",
       "      <td>-78</td>\n",
       "      <td>-73</td>\n",
       "      <td>12</td>\n",
       "      <td>-7</td>\n",
       "      <td>-156</td>\n",
       "      <td>-93</td>\n",
       "      <td>41</td>\n",
       "      <td>17</td>\n",
       "      <td>-140</td>\n",
       "    </tr>\n",
       "  </tbody>\n",
       "</table>\n",
       "<p>5 rows × 42 columns</p>\n",
       "</div>"
      ],
      "text/plain": [
       "   class  f163  f126  f92  f36  f111  f1  f122  f110  f151  ...  f55  f138  \\\n",
       "0      1   156    25  119   63  -239  46    72  -280   -81  ...  108   -13   \n",
       "1      1   169   -17   82   61  -231  41   131  -246   -41  ...  107   -79   \n",
       "2      1   165    19   47   71  -230  46   122  -247   -41  ...  147   -72   \n",
       "3      1   168   -18   82   62  -231  41   131  -247   -41  ...  107   -78   \n",
       "4      1   168   -18   82   62  -231  41   131  -247   -41  ...  107   -78   \n",
       "\n",
       "   f133  f63  f6  f71  f136  f34  f144  f58  \n",
       "0   -75  -15  49  -48   -19    5   -20 -151  \n",
       "1   -72   13  -6 -156   -94   42    17 -140  \n",
       "2   -74   34  73 -157   -93    6    17 -139  \n",
       "3   -73   12  -7 -156   -93   41    17 -140  \n",
       "4   -73   12  -7 -156   -93   41    17 -140  \n",
       "\n",
       "[5 rows x 42 columns]"
      ]
     },
     "execution_count": 29,
     "metadata": {},
     "output_type": "execute_result"
    }
   ],
   "source": [
    "select_col=['class','f163','f126','f92','f36','f111','f1','f122','f110','f151','f116','f22','f132','f66','f91','f102','f43','f61','f9','f4','f72','f83','f165','f67','f117','f25','f59','f17','f99','f146','f68','f7','f55','f138','f133','f63','f6','f71','f136','f34','f144','f58']\n",
    "musk_copy1=musk_copy[select_col]\n",
    "musk_copy1.head()"
   ]
  },
  {
   "cell_type": "code",
   "execution_count": 30,
   "metadata": {},
   "outputs": [],
   "source": [
    "# Clean up dataframe and select target\n",
    "target = 'class'\n",
    "features = musk_copy1.columns != target\n",
    "\n",
    "x1 = musk_copy1.loc[:, features]\n",
    "y1 = musk_copy1[target]"
   ]
  },
  {
   "cell_type": "code",
   "execution_count": 31,
   "metadata": {},
   "outputs": [
    {
     "name": "stdout",
     "output_type": "stream",
     "text": [
      "(4948, 41) (1650, 41) (4948,) (1650,)\n"
     ]
    }
   ],
   "source": [
    "from sklearn.model_selection import train_test_split\n",
    "\n",
    "x1_train, x1_test, y1_train, y1_test = train_test_split(x1, y1, random_state=8)\n",
    "print(x1_train.shape, x1_test.shape, y1_train.shape, y1_test.shape)"
   ]
  },
  {
   "cell_type": "code",
   "execution_count": 32,
   "metadata": {},
   "outputs": [
    {
     "data": {
      "text/plain": [
       "XGBClassifier(base_score=0.5, booster='gbtree', colsample_bylevel=1,\n",
       "              colsample_bytree=1, gamma=0, learning_rate=0.12, max_delta_step=0,\n",
       "              max_depth=5, min_child_weight=1, missing=None, n_estimators=120,\n",
       "              n_jobs=1, nthread=None, objective='binary:logistic',\n",
       "              random_state=0, reg_alpha=0, reg_lambda=1.5, scale_pos_weight=1,\n",
       "              seed=100, silent=True, subsample=1)"
      ]
     },
     "execution_count": 32,
     "metadata": {},
     "output_type": "execute_result"
    }
   ],
   "source": [
    "xgb1=XGBClassifier(n_estimators=120, learning_rate=0.12, seed=100, max_depth=5,reg_lambda=1.5)\n",
    "xgb1.fit(x1_train, y1_train)"
   ]
  },
  {
   "cell_type": "code",
   "execution_count": 33,
   "metadata": {},
   "outputs": [
    {
     "data": {
      "text/html": [
       "<div>\n",
       "<style scoped>\n",
       "    .dataframe tbody tr th:only-of-type {\n",
       "        vertical-align: middle;\n",
       "    }\n",
       "\n",
       "    .dataframe tbody tr th {\n",
       "        vertical-align: top;\n",
       "    }\n",
       "\n",
       "    .dataframe thead th {\n",
       "        text-align: right;\n",
       "    }\n",
       "</style>\n",
       "<table border=\"1\" class=\"dataframe\">\n",
       "  <thead>\n",
       "    <tr style=\"text-align: right;\">\n",
       "      <th></th>\n",
       "      <th>fit_time</th>\n",
       "      <th>score_time</th>\n",
       "      <th>test_score</th>\n",
       "      <th>train_score</th>\n",
       "    </tr>\n",
       "  </thead>\n",
       "  <tbody>\n",
       "    <tr>\n",
       "      <th>0</th>\n",
       "      <td>1.016793</td>\n",
       "      <td>0.005107</td>\n",
       "      <td>0.980614</td>\n",
       "      <td>0.999307</td>\n",
       "    </tr>\n",
       "    <tr>\n",
       "      <th>1</th>\n",
       "      <td>1.024623</td>\n",
       "      <td>0.015208</td>\n",
       "      <td>0.991922</td>\n",
       "      <td>0.999307</td>\n",
       "    </tr>\n",
       "    <tr>\n",
       "      <th>2</th>\n",
       "      <td>0.905136</td>\n",
       "      <td>0.000000</td>\n",
       "      <td>0.975767</td>\n",
       "      <td>0.998845</td>\n",
       "    </tr>\n",
       "    <tr>\n",
       "      <th>3</th>\n",
       "      <td>0.910022</td>\n",
       "      <td>0.010001</td>\n",
       "      <td>0.983845</td>\n",
       "      <td>0.998845</td>\n",
       "    </tr>\n",
       "    <tr>\n",
       "      <th>4</th>\n",
       "      <td>0.880302</td>\n",
       "      <td>0.004509</td>\n",
       "      <td>0.962783</td>\n",
       "      <td>0.998845</td>\n",
       "    </tr>\n",
       "    <tr>\n",
       "      <th>5</th>\n",
       "      <td>0.889922</td>\n",
       "      <td>0.005054</td>\n",
       "      <td>0.985437</td>\n",
       "      <td>0.999307</td>\n",
       "    </tr>\n",
       "    <tr>\n",
       "      <th>6</th>\n",
       "      <td>0.949759</td>\n",
       "      <td>0.000000</td>\n",
       "      <td>0.978964</td>\n",
       "      <td>0.998845</td>\n",
       "    </tr>\n",
       "    <tr>\n",
       "      <th>7</th>\n",
       "      <td>0.984955</td>\n",
       "      <td>0.000000</td>\n",
       "      <td>0.982201</td>\n",
       "      <td>0.998845</td>\n",
       "    </tr>\n",
       "  </tbody>\n",
       "</table>\n",
       "</div>"
      ],
      "text/plain": [
       "   fit_time  score_time  test_score  train_score\n",
       "0  1.016793    0.005107    0.980614     0.999307\n",
       "1  1.024623    0.015208    0.991922     0.999307\n",
       "2  0.905136    0.000000    0.975767     0.998845\n",
       "3  0.910022    0.010001    0.983845     0.998845\n",
       "4  0.880302    0.004509    0.962783     0.998845\n",
       "5  0.889922    0.005054    0.985437     0.999307\n",
       "6  0.949759    0.000000    0.978964     0.998845\n",
       "7  0.984955    0.000000    0.982201     0.998845"
      ]
     },
     "execution_count": 33,
     "metadata": {},
     "output_type": "execute_result"
    }
   ],
   "source": [
    "# cross validate XGBoost Classifier\n",
    "scores_xgb1 = cross_validate(xgb1, x1_train, y1_train, cv=8, return_train_score=True,return_estimator=False)\n",
    "scores_xgb1 =pd.DataFrame(scores_xgb1)\n",
    "scores_xgb1"
   ]
  },
  {
   "cell_type": "code",
   "execution_count": 34,
   "metadata": {},
   "outputs": [
    {
     "name": "stdout",
     "output_type": "stream",
     "text": [
      "Mean Test Score of XGBoost Classifier with reduced data:  0.9801917175107571\n",
      "Mean Train Score of XGBoost Classifier with reduced data:  0.999018369053011\n"
     ]
    }
   ],
   "source": [
    "print('Mean Test Score of XGBoost Classifier with reduced data: ', scores_xgb1 ['test_score'].mean())\n",
    "print('Mean Train Score of XGBoost Classifier with reduced data: ', scores_xgb1 ['train_score'].mean())"
   ]
  },
  {
   "cell_type": "code",
   "execution_count": 35,
   "metadata": {},
   "outputs": [
    {
     "data": {
      "text/plain": [
       "array([1, 0, 1, ..., 0, 0, 0], dtype=int64)"
      ]
     },
     "execution_count": 35,
     "metadata": {},
     "output_type": "execute_result"
    }
   ],
   "source": [
    "y_pred_xgb1 = xgb1.predict(x1_test)\n",
    "y_pred_xgb1"
   ]
  },
  {
   "cell_type": "code",
   "execution_count": 36,
   "metadata": {},
   "outputs": [
    {
     "data": {
      "text/plain": [
       "[Text(33.0, 0.5, 'Truth'), Text(0.5, 15.0, 'XGB1_Prediction')]"
      ]
     },
     "execution_count": 36,
     "metadata": {},
     "output_type": "execute_result"
    },
    {
     "data": {
      "image/png": "[encoded data removed]",
      "text/plain": [
       "<Figure size 432x288 with 2 Axes>"
      ]
     },
     "metadata": {
      "needs_background": "light"
     },
     "output_type": "display_data"
    }
   ],
   "source": [
    "ax = sns.heatmap(confusion_matrix(y1_test, y_pred_xgb1), annot=True, fmt='d')\n",
    "ax.set(xlabel='XGB1_Prediction', ylabel='Truth')"
   ]
  },
  {
   "cell_type": "code",
   "execution_count": 37,
   "metadata": {},
   "outputs": [
    {
     "name": "stdout",
     "output_type": "stream",
     "text": [
      "              precision    recall  f1-score   support\n",
      "\n",
      "           0       0.98      1.00      0.99      1389\n",
      "           1       1.00      0.91      0.95       261\n",
      "\n",
      "    accuracy                           0.99      1650\n",
      "   macro avg       0.99      0.96      0.97      1650\n",
      "weighted avg       0.99      0.99      0.99      1650\n",
      "\n"
     ]
    }
   ],
   "source": [
    "print(classification_report(y1_test, y_pred_xgb1))"
   ]
  },
  {
   "cell_type": "code",
   "execution_count": 38,
   "metadata": {},
   "outputs": [
    {
     "data": {
      "text/plain": [
       "0.9854545454545455"
      ]
     },
     "execution_count": 38,
     "metadata": {},
     "output_type": "execute_result"
    }
   ],
   "source": [
    "accuracy_score(y1_test, y_pred_xgb1)"
   ]
  },
  {
   "cell_type": "markdown",
   "metadata": {},
   "source": [
    "## KNN Classifier"
   ]
  },
  {
   "cell_type": "code",
   "execution_count": 39,
   "metadata": {},
   "outputs": [
    {
     "data": {
      "text/plain": [
       "KNeighborsClassifier(algorithm='auto', leaf_size=30, metric='minkowski',\n",
       "                     metric_params=None, n_jobs=None, n_neighbors=3, p=1,\n",
       "                     weights='distance')"
      ]
     },
     "execution_count": 39,
     "metadata": {},
     "output_type": "execute_result"
    }
   ],
   "source": [
    "from sklearn.neighbors import KNeighborsClassifier\n",
    "\n",
    "weights='distance'\n",
    "algorithm='auto'\n",
    "n_neighbors=3\n",
    "leaf_size=30\n",
    "\n",
    "clf = KNeighborsClassifier(weights=weights,algorithm=algorithm,n_neighbors=n_neighbors, p=1,leaf_size=leaf_size)\n",
    "clf.fit(x1_train, y1_train)"
   ]
  },
  {
   "cell_type": "code",
   "execution_count": 40,
   "metadata": {},
   "outputs": [
    {
     "data": {
      "text/html": [
       "<div>\n",
       "<style scoped>\n",
       "    .dataframe tbody tr th:only-of-type {\n",
       "        vertical-align: middle;\n",
       "    }\n",
       "\n",
       "    .dataframe tbody tr th {\n",
       "        vertical-align: top;\n",
       "    }\n",
       "\n",
       "    .dataframe thead th {\n",
       "        text-align: right;\n",
       "    }\n",
       "</style>\n",
       "<table border=\"1\" class=\"dataframe\">\n",
       "  <thead>\n",
       "    <tr style=\"text-align: right;\">\n",
       "      <th></th>\n",
       "      <th>fit_time</th>\n",
       "      <th>score_time</th>\n",
       "      <th>test_score</th>\n",
       "      <th>train_score</th>\n",
       "    </tr>\n",
       "  </thead>\n",
       "  <tbody>\n",
       "    <tr>\n",
       "      <th>0</th>\n",
       "      <td>0.023983</td>\n",
       "      <td>0.155186</td>\n",
       "      <td>0.964459</td>\n",
       "      <td>1.0</td>\n",
       "    </tr>\n",
       "    <tr>\n",
       "      <th>1</th>\n",
       "      <td>0.014545</td>\n",
       "      <td>0.085464</td>\n",
       "      <td>0.969305</td>\n",
       "      <td>1.0</td>\n",
       "    </tr>\n",
       "    <tr>\n",
       "      <th>2</th>\n",
       "      <td>0.020142</td>\n",
       "      <td>0.084892</td>\n",
       "      <td>0.959612</td>\n",
       "      <td>1.0</td>\n",
       "    </tr>\n",
       "    <tr>\n",
       "      <th>3</th>\n",
       "      <td>0.010098</td>\n",
       "      <td>0.079951</td>\n",
       "      <td>0.961228</td>\n",
       "      <td>1.0</td>\n",
       "    </tr>\n",
       "    <tr>\n",
       "      <th>4</th>\n",
       "      <td>0.010052</td>\n",
       "      <td>0.080029</td>\n",
       "      <td>0.948220</td>\n",
       "      <td>1.0</td>\n",
       "    </tr>\n",
       "    <tr>\n",
       "      <th>5</th>\n",
       "      <td>0.015097</td>\n",
       "      <td>0.065064</td>\n",
       "      <td>0.959547</td>\n",
       "      <td>1.0</td>\n",
       "    </tr>\n",
       "    <tr>\n",
       "      <th>6</th>\n",
       "      <td>0.010091</td>\n",
       "      <td>0.074990</td>\n",
       "      <td>0.967638</td>\n",
       "      <td>1.0</td>\n",
       "    </tr>\n",
       "    <tr>\n",
       "      <th>7</th>\n",
       "      <td>0.010002</td>\n",
       "      <td>0.090167</td>\n",
       "      <td>0.959547</td>\n",
       "      <td>1.0</td>\n",
       "    </tr>\n",
       "  </tbody>\n",
       "</table>\n",
       "</div>"
      ],
      "text/plain": [
       "   fit_time  score_time  test_score  train_score\n",
       "0  0.023983    0.155186    0.964459          1.0\n",
       "1  0.014545    0.085464    0.969305          1.0\n",
       "2  0.020142    0.084892    0.959612          1.0\n",
       "3  0.010098    0.079951    0.961228          1.0\n",
       "4  0.010052    0.080029    0.948220          1.0\n",
       "5  0.015097    0.065064    0.959547          1.0\n",
       "6  0.010091    0.074990    0.967638          1.0\n",
       "7  0.010002    0.090167    0.959547          1.0"
      ]
     },
     "execution_count": 40,
     "metadata": {},
     "output_type": "execute_result"
    }
   ],
   "source": [
    "# cross validate KNN Classifier\n",
    "scores_clf = cross_validate(clf, x1_train, y1_train, cv=8, return_train_score=True,return_estimator=False)\n",
    "scores_clf = pd.DataFrame(scores_clf)\n",
    "scores_clf"
   ]
  },
  {
   "cell_type": "code",
   "execution_count": 41,
   "metadata": {},
   "outputs": [
    {
     "name": "stdout",
     "output_type": "stream",
     "text": [
      "Mean Test Score of KNN Classifier on reduced dataset:  0.9611944570792226\n",
      "Mean Train Score of KNN Classifier on reduced dataset:  1.0\n"
     ]
    }
   ],
   "source": [
    "print('Mean Test Score of KNN Classifier on reduced dataset: ', scores_clf ['test_score'].mean())\n",
    "print('Mean Train Score of KNN Classifier on reduced dataset: ', scores_clf ['train_score'].mean())"
   ]
  },
  {
   "cell_type": "code",
   "execution_count": 42,
   "metadata": {},
   "outputs": [
    {
     "data": {
      "text/plain": [
       "array([1, 0, 1, ..., 0, 0, 0], dtype=int64)"
      ]
     },
     "execution_count": 42,
     "metadata": {},
     "output_type": "execute_result"
    }
   ],
   "source": [
    "y_pred_clf = clf.predict(x1_test)\n",
    "y_pred_clf"
   ]
  },
  {
   "cell_type": "code",
   "execution_count": 43,
   "metadata": {},
   "outputs": [
    {
     "data": {
      "text/plain": [
       "[Text(33.0, 0.5, 'Truth'), Text(0.5, 15.0, 'SVM_Prediction')]"
      ]
     },
     "execution_count": 43,
     "metadata": {},
     "output_type": "execute_result"
    },
    {
     "data": {
      "image/png": "[encoded data removed]",
      "text/plain": [
       "<Figure size 432x288 with 2 Axes>"
      ]
     },
     "metadata": {
      "needs_background": "light"
     },
     "output_type": "display_data"
    }
   ],
   "source": [
    "from sklearn.metrics import classification_report, confusion_matrix, accuracy_score\n",
    "import seaborn as sns\n",
    "\n",
    "ax = sns.heatmap(confusion_matrix(y1_test, y_pred_clf), annot=True, fmt='d')\n",
    "ax.set(xlabel='SVM_Prediction', ylabel='Truth')"
   ]
  },
  {
   "cell_type": "code",
   "execution_count": 44,
   "metadata": {},
   "outputs": [
    {
     "name": "stdout",
     "output_type": "stream",
     "text": [
      "              precision    recall  f1-score   support\n",
      "\n",
      "           0       0.98      0.99      0.98      1389\n",
      "           1       0.92      0.87      0.89       261\n",
      "\n",
      "    accuracy                           0.97      1650\n",
      "   macro avg       0.95      0.93      0.94      1650\n",
      "weighted avg       0.97      0.97      0.97      1650\n",
      "\n"
     ]
    }
   ],
   "source": [
    "print(classification_report(y1_test, y_pred_clf))"
   ]
  },
  {
   "cell_type": "code",
   "execution_count": 45,
   "metadata": {},
   "outputs": [
    {
     "data": {
      "text/plain": [
       "0.9672727272727273"
      ]
     },
     "execution_count": 45,
     "metadata": {},
     "output_type": "execute_result"
    }
   ],
   "source": [
    "accuracy_score(y_pred_clf, y_test)"
   ]
  },
  {
   "cell_type": "markdown",
   "metadata": {},
   "source": [
    "#### Running KNN-Classifier On Entire Dataset"
   ]
  },
  {
   "cell_type": "code",
   "execution_count": 46,
   "metadata": {},
   "outputs": [
    {
     "data": {
      "text/plain": [
       "KNeighborsClassifier(algorithm='ball_tree', leaf_size=30, metric='minkowski',\n",
       "                     metric_params=None, n_jobs=None, n_neighbors=3, p=2,\n",
       "                     weights='distance')"
      ]
     },
     "execution_count": 46,
     "metadata": {},
     "output_type": "execute_result"
    }
   ],
   "source": [
    "weights='distance'\n",
    "algorithm='ball_tree'\n",
    "n_neighbors=3\n",
    "\n",
    "clf1 = KNeighborsClassifier(weights=weights,algorithm=algorithm,n_neighbors=n_neighbors, p=2)\n",
    "clf1.fit(x_train, y_train)"
   ]
  },
  {
   "cell_type": "code",
   "execution_count": 47,
   "metadata": {},
   "outputs": [
    {
     "data": {
      "text/html": [
       "<div>\n",
       "<style scoped>\n",
       "    .dataframe tbody tr th:only-of-type {\n",
       "        vertical-align: middle;\n",
       "    }\n",
       "\n",
       "    .dataframe tbody tr th {\n",
       "        vertical-align: top;\n",
       "    }\n",
       "\n",
       "    .dataframe thead th {\n",
       "        text-align: right;\n",
       "    }\n",
       "</style>\n",
       "<table border=\"1\" class=\"dataframe\">\n",
       "  <thead>\n",
       "    <tr style=\"text-align: right;\">\n",
       "      <th></th>\n",
       "      <th>fit_time</th>\n",
       "      <th>score_time</th>\n",
       "      <th>test_score</th>\n",
       "      <th>train_score</th>\n",
       "    </tr>\n",
       "  </thead>\n",
       "  <tbody>\n",
       "    <tr>\n",
       "      <th>0</th>\n",
       "      <td>0.046745</td>\n",
       "      <td>0.560032</td>\n",
       "      <td>0.959612</td>\n",
       "      <td>1.0</td>\n",
       "    </tr>\n",
       "    <tr>\n",
       "      <th>1</th>\n",
       "      <td>0.079941</td>\n",
       "      <td>0.600233</td>\n",
       "      <td>0.974152</td>\n",
       "      <td>1.0</td>\n",
       "    </tr>\n",
       "    <tr>\n",
       "      <th>2</th>\n",
       "      <td>0.034696</td>\n",
       "      <td>0.535776</td>\n",
       "      <td>0.956381</td>\n",
       "      <td>1.0</td>\n",
       "    </tr>\n",
       "    <tr>\n",
       "      <th>3</th>\n",
       "      <td>0.035022</td>\n",
       "      <td>0.534452</td>\n",
       "      <td>0.970921</td>\n",
       "      <td>1.0</td>\n",
       "    </tr>\n",
       "    <tr>\n",
       "      <th>4</th>\n",
       "      <td>0.040110</td>\n",
       "      <td>0.554884</td>\n",
       "      <td>0.948220</td>\n",
       "      <td>1.0</td>\n",
       "    </tr>\n",
       "    <tr>\n",
       "      <th>5</th>\n",
       "      <td>0.035270</td>\n",
       "      <td>0.530252</td>\n",
       "      <td>0.970874</td>\n",
       "      <td>1.0</td>\n",
       "    </tr>\n",
       "    <tr>\n",
       "      <th>6</th>\n",
       "      <td>0.030009</td>\n",
       "      <td>0.550080</td>\n",
       "      <td>0.961165</td>\n",
       "      <td>1.0</td>\n",
       "    </tr>\n",
       "    <tr>\n",
       "      <th>7</th>\n",
       "      <td>0.035080</td>\n",
       "      <td>0.559686</td>\n",
       "      <td>0.959547</td>\n",
       "      <td>1.0</td>\n",
       "    </tr>\n",
       "  </tbody>\n",
       "</table>\n",
       "</div>"
      ],
      "text/plain": [
       "   fit_time  score_time  test_score  train_score\n",
       "0  0.046745    0.560032    0.959612          1.0\n",
       "1  0.079941    0.600233    0.974152          1.0\n",
       "2  0.034696    0.535776    0.956381          1.0\n",
       "3  0.035022    0.534452    0.970921          1.0\n",
       "4  0.040110    0.554884    0.948220          1.0\n",
       "5  0.035270    0.530252    0.970874          1.0\n",
       "6  0.030009    0.550080    0.961165          1.0\n",
       "7  0.035080    0.559686    0.959547          1.0"
      ]
     },
     "execution_count": 47,
     "metadata": {},
     "output_type": "execute_result"
    }
   ],
   "source": [
    "# cross validate KNN Classifier\n",
    "scores_clf1 = cross_validate(clf1, x_train, y_train, cv=8, return_train_score=True,return_estimator=False)\n",
    "scores_clf1 = pd.DataFrame(scores_clf1)\n",
    "scores_clf1"
   ]
  },
  {
   "cell_type": "code",
   "execution_count": 48,
   "metadata": {},
   "outputs": [
    {
     "name": "stdout",
     "output_type": "stream",
     "text": [
      "Mean Test Score of KNN Classifier:  0.962609007638377\n",
      "Mean Train Score of KNN Classifier:  1.0\n"
     ]
    }
   ],
   "source": [
    "print('Mean Test Score of KNN Classifier: ', scores_clf1 ['test_score'].mean())\n",
    "print('Mean Train Score of KNN Classifier: ', scores_clf1 ['train_score'].mean())"
   ]
  },
  {
   "cell_type": "code",
   "execution_count": 49,
   "metadata": {},
   "outputs": [
    {
     "data": {
      "text/plain": [
       "array([1, 0, 1, ..., 0, 0, 0], dtype=int64)"
      ]
     },
     "execution_count": 49,
     "metadata": {},
     "output_type": "execute_result"
    }
   ],
   "source": [
    "y_pred_clf1 = clf1.predict(x_test)\n",
    "y_pred_clf1"
   ]
  },
  {
   "cell_type": "code",
   "execution_count": 50,
   "metadata": {},
   "outputs": [
    {
     "data": {
      "text/plain": [
       "[Text(33.0, 0.5, 'Truth'), Text(0.5, 15.0, 'SVM_Prediction')]"
      ]
     },
     "execution_count": 50,
     "metadata": {},
     "output_type": "execute_result"
    },
    {
     "data": {
      "image/png": "[encoded data removed]",
      "text/plain": [
       "<Figure size 432x288 with 2 Axes>"
      ]
     },
     "metadata": {
      "needs_background": "light"
     },
     "output_type": "display_data"
    }
   ],
   "source": [
    "ax = sns.heatmap(confusion_matrix(y_test, y_pred_clf1), annot=True, fmt='d')\n",
    "ax.set(xlabel='SVM_Prediction', ylabel='Truth')"
   ]
  },
  {
   "cell_type": "code",
   "execution_count": 51,
   "metadata": {},
   "outputs": [
    {
     "name": "stdout",
     "output_type": "stream",
     "text": [
      "              precision    recall  f1-score   support\n",
      "\n",
      "           0       0.97      0.99      0.98      1389\n",
      "           1       0.94      0.84      0.89       261\n",
      "\n",
      "    accuracy                           0.97      1650\n",
      "   macro avg       0.96      0.91      0.93      1650\n",
      "weighted avg       0.97      0.97      0.97      1650\n",
      "\n"
     ]
    }
   ],
   "source": [
    "print(classification_report(y_test, y_pred_clf1))"
   ]
  },
  {
   "cell_type": "code",
   "execution_count": 52,
   "metadata": {},
   "outputs": [
    {
     "data": {
      "text/plain": [
       "0.9660606060606061"
      ]
     },
     "execution_count": 52,
     "metadata": {},
     "output_type": "execute_result"
    }
   ],
   "source": [
    "accuracy_score(y_pred_clf1, y_test)"
   ]
  },
  {
   "cell_type": "markdown",
   "metadata": {},
   "source": [
    "## Feeding NN Network On Reduced Dataset"
   ]
  },
  {
   "cell_type": "code",
   "execution_count": 53,
   "metadata": {},
   "outputs": [],
   "source": [
    "model1 = Sequential()\n",
    "model1.add(Dense(80,input_shape=(41,), activation='relu'))\n",
    "model1.add(Dense(80, kernel_constraint=maxnorm(3), activation='relu'))\n",
    "model1.add(Dropout(0.25))\n",
    "model1.add(Dense(1,activation='sigmoid'))\n",
    "# Compile model\n",
    "sgd = SGD(lr=0.1, momentum=0.8, decay=0.001, nesterov=False)\n",
    "tensorboard = TensorBoard(log_dir='./logs/mnist_mlp/%d' % time.time())\n",
    "model1.compile(loss='binary_crossentropy', optimizer=sgd, metrics=['accuracy'])"
   ]
  },
  {
   "cell_type": "code",
   "execution_count": 54,
   "metadata": {
    "scrolled": false
   },
   "outputs": [
    {
     "name": "stdout",
     "output_type": "stream",
     "text": [
      "Train on 4948 samples, validate on 4948 samples\n",
      "Epoch 1/80\n",
      "4948/4948 [==============================] - 1s 112us/step - loss: 2.5771 - acc: 0.8377 - val_loss: 2.4627 - val_acc: 0.8472\n",
      "Epoch 2/80\n",
      "4948/4948 [==============================] - 0s 40us/step - loss: 2.4627 - acc: 0.8472 - val_loss: 2.4627 - val_acc: 0.8472\n",
      "Epoch 3/80\n",
      "4948/4948 [==============================] - 0s 46us/step - loss: 2.4627 - acc: 0.8472 - val_loss: 2.4627 - val_acc: 0.8472\n",
      "Epoch 4/80\n",
      "4948/4948 [==============================] - 0s 42us/step - loss: 2.4627 - acc: 0.8472 - val_loss: 2.4627 - val_acc: 0.8472\n",
      "Epoch 5/80\n",
      "4948/4948 [==============================] - 0s 38us/step - loss: 2.4627 - acc: 0.8472 - val_loss: 2.4627 - val_acc: 0.8472\n",
      "Epoch 6/80\n",
      "4948/4948 [==============================] - 0s 43us/step - loss: 2.4627 - acc: 0.8472 - val_loss: 2.4627 - val_acc: 0.8472\n",
      "Epoch 7/80\n",
      "4948/4948 [==============================] - 0s 38us/step - loss: 2.4627 - acc: 0.8472 - val_loss: 2.4627 - val_acc: 0.8472\n",
      "Epoch 8/80\n",
      "4948/4948 [==============================] - 0s 40us/step - loss: 2.4627 - acc: 0.8472 - val_loss: 2.4627 - val_acc: 0.8472\n",
      "Epoch 9/80\n",
      "4948/4948 [==============================] - 0s 46us/step - loss: 2.4627 - acc: 0.8472 - val_loss: 2.4627 - val_acc: 0.8472\n",
      "Epoch 10/80\n",
      "4948/4948 [==============================] - 0s 43us/step - loss: 2.4627 - acc: 0.8472 - val_loss: 2.4627 - val_acc: 0.8472\n",
      "Epoch 11/80\n",
      "4948/4948 [==============================] - 0s 38us/step - loss: 2.4627 - acc: 0.8472 - val_loss: 2.4627 - val_acc: 0.8472\n",
      "Epoch 12/80\n",
      "4948/4948 [==============================] - 0s 36us/step - loss: 2.4627 - acc: 0.8472 - val_loss: 2.4627 - val_acc: 0.8472\n",
      "Epoch 13/80\n",
      "4948/4948 [==============================] - 0s 36us/step - loss: 2.4627 - acc: 0.8472 - val_loss: 2.4627 - val_acc: 0.8472\n",
      "Epoch 14/80\n",
      "4948/4948 [==============================] - 0s 53us/step - loss: 2.4627 - acc: 0.8472 - val_loss: 2.4627 - val_acc: 0.8472\n",
      "Epoch 15/80\n",
      "4948/4948 [==============================] - 0s 48us/step - loss: 2.4627 - acc: 0.8472 - val_loss: 2.4627 - val_acc: 0.8472\n",
      "Epoch 16/80\n",
      "4948/4948 [==============================] - 0s 38us/step - loss: 2.4627 - acc: 0.8472 - val_loss: 2.4627 - val_acc: 0.8472\n",
      "Epoch 17/80\n",
      "4948/4948 [==============================] - 0s 38us/step - loss: 2.4627 - acc: 0.8472 - val_loss: 2.4627 - val_acc: 0.8472\n",
      "Epoch 18/80\n",
      "4948/4948 [==============================] - 0s 40us/step - loss: 2.4627 - acc: 0.8472 - val_loss: 2.4627 - val_acc: 0.8472\n",
      "Epoch 19/80\n",
      "4948/4948 [==============================] - 0s 42us/step - loss: 2.4627 - acc: 0.8472 - val_loss: 2.4627 - val_acc: 0.8472\n",
      "Epoch 20/80\n",
      "4948/4948 [==============================] - 0s 40us/step - loss: 2.4627 - acc: 0.8472 - val_loss: 2.4627 - val_acc: 0.8472\n",
      "Epoch 21/80\n",
      "4948/4948 [==============================] - 0s 38us/step - loss: 2.4627 - acc: 0.8472 - val_loss: 2.4627 - val_acc: 0.8472\n",
      "Epoch 22/80\n",
      "4948/4948 [==============================] - 0s 36us/step - loss: 2.4627 - acc: 0.8472 - val_loss: 2.4627 - val_acc: 0.8472\n",
      "Epoch 23/80\n",
      "4948/4948 [==============================] - 0s 42us/step - loss: 2.4627 - acc: 0.8472 - val_loss: 2.4627 - val_acc: 0.8472\n",
      "Epoch 24/80\n",
      "4948/4948 [==============================] - 0s 38us/step - loss: 2.4627 - acc: 0.8472 - val_loss: 2.4627 - val_acc: 0.8472\n",
      "Epoch 25/80\n",
      "4948/4948 [==============================] - 0s 44us/step - loss: 2.4627 - acc: 0.8472 - val_loss: 2.4627 - val_acc: 0.8472\n",
      "Epoch 26/80\n",
      "4948/4948 [==============================] - 0s 40us/step - loss: 2.4627 - acc: 0.8472 - val_loss: 2.4627 - val_acc: 0.8472\n",
      "Epoch 27/80\n",
      "4948/4948 [==============================] - 0s 42us/step - loss: 2.4627 - acc: 0.8472 - val_loss: 2.4627 - val_acc: 0.8472\n",
      "Epoch 28/80\n",
      "4948/4948 [==============================] - 0s 34us/step - loss: 2.4627 - acc: 0.8472 - val_loss: 2.4627 - val_acc: 0.8472\n",
      "Epoch 29/80\n",
      "4948/4948 [==============================] - 0s 40us/step - loss: 2.4627 - acc: 0.8472 - val_loss: 2.4627 - val_acc: 0.8472\n",
      "Epoch 30/80\n",
      "4948/4948 [==============================] - 0s 40us/step - loss: 2.4627 - acc: 0.8472 - val_loss: 2.4627 - val_acc: 0.8472\n",
      "Epoch 31/80\n",
      "4948/4948 [==============================] - 0s 36us/step - loss: 2.4627 - acc: 0.8472 - val_loss: 2.4627 - val_acc: 0.8472\n",
      "Epoch 32/80\n",
      "4948/4948 [==============================] - 0s 38us/step - loss: 2.4627 - acc: 0.8472 - val_loss: 2.4627 - val_acc: 0.8472\n",
      "Epoch 33/80\n",
      "4948/4948 [==============================] - 0s 38us/step - loss: 2.4627 - acc: 0.8472 - val_loss: 2.4627 - val_acc: 0.8472\n",
      "Epoch 34/80\n",
      "4948/4948 [==============================] - 0s 36us/step - loss: 2.4627 - acc: 0.8472 - val_loss: 2.4627 - val_acc: 0.8472\n",
      "Epoch 35/80\n",
      "4948/4948 [==============================] - 0s 48us/step - loss: 2.4627 - acc: 0.8472 - val_loss: 2.4627 - val_acc: 0.8472\n",
      "Epoch 36/80\n",
      "4948/4948 [==============================] - 0s 36us/step - loss: 2.4627 - acc: 0.8472 - val_loss: 2.4627 - val_acc: 0.8472\n",
      "Epoch 37/80\n",
      "4948/4948 [==============================] - 0s 37us/step - loss: 2.4627 - acc: 0.8472 - val_loss: 2.4627 - val_acc: 0.8472\n",
      "Epoch 38/80\n",
      "4948/4948 [==============================] - 0s 38us/step - loss: 2.4627 - acc: 0.8472 - val_loss: 2.4627 - val_acc: 0.8472\n",
      "Epoch 39/80\n",
      "4948/4948 [==============================] - 0s 38us/step - loss: 2.4627 - acc: 0.8472 - val_loss: 2.4627 - val_acc: 0.8472\n",
      "Epoch 40/80\n",
      "4948/4948 [==============================] - 0s 36us/step - loss: 2.4627 - acc: 0.8472 - val_loss: 2.4627 - val_acc: 0.8472\n",
      "Epoch 41/80\n",
      "4948/4948 [==============================] - 0s 38us/step - loss: 2.4627 - acc: 0.8472 - val_loss: 2.4627 - val_acc: 0.8472\n",
      "Epoch 42/80\n",
      "4948/4948 [==============================] - 0s 46us/step - loss: 2.4627 - acc: 0.8472 - val_loss: 2.4627 - val_acc: 0.8472\n",
      "Epoch 43/80\n",
      "4948/4948 [==============================] - 0s 40us/step - loss: 2.4627 - acc: 0.8472 - val_loss: 2.4627 - val_acc: 0.8472\n",
      "Epoch 44/80\n",
      "4948/4948 [==============================] - 0s 34us/step - loss: 2.4627 - acc: 0.8472 - val_loss: 2.4627 - val_acc: 0.8472\n",
      "Epoch 45/80\n",
      "4948/4948 [==============================] - 0s 38us/step - loss: 2.4627 - acc: 0.8472 - val_loss: 2.4627 - val_acc: 0.8472\n",
      "Epoch 46/80\n",
      "4948/4948 [==============================] - 0s 42us/step - loss: 2.4627 - acc: 0.8472 - val_loss: 2.4627 - val_acc: 0.8472\n",
      "Epoch 47/80\n",
      "4948/4948 [==============================] - 0s 49us/step - loss: 2.4627 - acc: 0.8472 - val_loss: 2.4627 - val_acc: 0.8472\n",
      "Epoch 48/80\n",
      "4948/4948 [==============================] - 0s 40us/step - loss: 2.4627 - acc: 0.8472 - val_loss: 2.4627 - val_acc: 0.8472\n",
      "Epoch 49/80\n",
      "4948/4948 [==============================] - 0s 36us/step - loss: 2.4627 - acc: 0.8472 - val_loss: 2.4627 - val_acc: 0.8472\n",
      "Epoch 50/80\n",
      "4948/4948 [==============================] - 0s 40us/step - loss: 2.4627 - acc: 0.8472 - val_loss: 2.4627 - val_acc: 0.8472\n",
      "Epoch 51/80\n",
      "4948/4948 [==============================] - 0s 38us/step - loss: 2.4627 - acc: 0.8472 - val_loss: 2.4627 - val_acc: 0.8472\n",
      "Epoch 52/80\n",
      "4948/4948 [==============================] - 0s 42us/step - loss: 2.4627 - acc: 0.8472 - val_loss: 2.4627 - val_acc: 0.8472\n",
      "Epoch 53/80\n",
      "4948/4948 [==============================] - 0s 36us/step - loss: 2.4627 - acc: 0.8472 - val_loss: 2.4627 - val_acc: 0.8472\n",
      "Epoch 54/80\n",
      "4948/4948 [==============================] - 0s 38us/step - loss: 2.4627 - acc: 0.8472 - val_loss: 2.4627 - val_acc: 0.8472\n",
      "Epoch 55/80\n",
      "4948/4948 [==============================] - 0s 36us/step - loss: 2.4627 - acc: 0.8472 - val_loss: 2.4627 - val_acc: 0.8472\n",
      "Epoch 56/80\n",
      "4948/4948 [==============================] - 0s 39us/step - loss: 2.4627 - acc: 0.8472 - val_loss: 2.4627 - val_acc: 0.8472\n",
      "Epoch 57/80\n",
      "4948/4948 [==============================] - 0s 38us/step - loss: 2.4627 - acc: 0.8472 - val_loss: 2.4627 - val_acc: 0.8472\n",
      "Epoch 58/80\n",
      "4948/4948 [==============================] - 0s 40us/step - loss: 2.4627 - acc: 0.8472 - val_loss: 2.4627 - val_acc: 0.8472\n",
      "Epoch 59/80\n",
      "4948/4948 [==============================] - 0s 36us/step - loss: 2.4627 - acc: 0.8472 - val_loss: 2.4627 - val_acc: 0.8472\n",
      "Epoch 60/80\n",
      "4948/4948 [==============================] - 0s 40us/step - loss: 2.4627 - acc: 0.8472 - val_loss: 2.4627 - val_acc: 0.8472\n"
     ]
    },
    {
     "name": "stdout",
     "output_type": "stream",
     "text": [
      "Epoch 61/80\n",
      "4948/4948 [==============================] - 0s 36us/step - loss: 2.4627 - acc: 0.8472 - val_loss: 2.4627 - val_acc: 0.8472\n",
      "Epoch 62/80\n",
      "4948/4948 [==============================] - 0s 53us/step - loss: 2.4627 - acc: 0.8472 - val_loss: 2.4627 - val_acc: 0.8472\n",
      "Epoch 63/80\n",
      "4948/4948 [==============================] - 0s 38us/step - loss: 2.4627 - acc: 0.8472 - val_loss: 2.4627 - val_acc: 0.8472\n",
      "Epoch 64/80\n",
      "4948/4948 [==============================] - 0s 34us/step - loss: 2.4627 - acc: 0.8472 - val_loss: 2.4627 - val_acc: 0.8472\n",
      "Epoch 65/80\n",
      "4948/4948 [==============================] - 0s 38us/step - loss: 2.4627 - acc: 0.8472 - val_loss: 2.4627 - val_acc: 0.8472\n",
      "Epoch 66/80\n",
      "4948/4948 [==============================] - 0s 36us/step - loss: 2.4627 - acc: 0.8472 - val_loss: 2.4627 - val_acc: 0.8472\n",
      "Epoch 67/80\n",
      "4948/4948 [==============================] - 0s 36us/step - loss: 2.4627 - acc: 0.8472 - val_loss: 2.4627 - val_acc: 0.8472\n",
      "Epoch 68/80\n",
      "4948/4948 [==============================] - 0s 42us/step - loss: 2.4627 - acc: 0.8472 - val_loss: 2.4627 - val_acc: 0.8472\n",
      "Epoch 69/80\n",
      "4948/4948 [==============================] - 0s 40us/step - loss: 2.4627 - acc: 0.8472 - val_loss: 2.4627 - val_acc: 0.8472\n",
      "Epoch 70/80\n",
      "4948/4948 [==============================] - 0s 38us/step - loss: 2.4627 - acc: 0.8472 - val_loss: 2.4627 - val_acc: 0.8472\n",
      "Epoch 71/80\n",
      "4948/4948 [==============================] - 0s 38us/step - loss: 2.4627 - acc: 0.8472 - val_loss: 2.4627 - val_acc: 0.8472\n",
      "Epoch 72/80\n",
      "4948/4948 [==============================] - 0s 40us/step - loss: 2.4627 - acc: 0.8472 - val_loss: 2.4627 - val_acc: 0.8472\n",
      "Epoch 73/80\n",
      "4948/4948 [==============================] - 0s 36us/step - loss: 2.4627 - acc: 0.8472 - val_loss: 2.4627 - val_acc: 0.8472\n",
      "Epoch 74/80\n",
      "4948/4948 [==============================] - 0s 47us/step - loss: 2.4627 - acc: 0.8472 - val_loss: 2.4627 - val_acc: 0.8472\n",
      "Epoch 75/80\n",
      "4948/4948 [==============================] - 0s 38us/step - loss: 2.4627 - acc: 0.8472 - val_loss: 2.4627 - val_acc: 0.8472\n",
      "Epoch 76/80\n",
      "4948/4948 [==============================] - 0s 34us/step - loss: 2.4627 - acc: 0.8472 - val_loss: 2.4627 - val_acc: 0.8472\n",
      "Epoch 77/80\n",
      "4948/4948 [==============================] - 0s 38us/step - loss: 2.4627 - acc: 0.8472 - val_loss: 2.4627 - val_acc: 0.8472\n",
      "Epoch 78/80\n",
      "4948/4948 [==============================] - 0s 46us/step - loss: 2.4627 - acc: 0.8472 - val_loss: 2.4627 - val_acc: 0.8472\n",
      "Epoch 79/80\n",
      "4948/4948 [==============================] - 0s 38us/step - loss: 2.4627 - acc: 0.8472 - val_loss: 2.4627 - val_acc: 0.8472\n",
      "Epoch 80/80\n",
      "4948/4948 [==============================] - 0s 36us/step - loss: 2.4627 - acc: 0.8472 - val_loss: 2.4627 - val_acc: 0.8472\n"
     ]
    }
   ],
   "source": [
    "history = model1.fit(x1_train,y1_train,epochs=80, batch_size=200, verbose=1,validation_data=(x1_train,y1_train))"
   ]
  },
  {
   "cell_type": "code",
   "execution_count": 55,
   "metadata": {},
   "outputs": [
    {
     "data": {
      "text/plain": [
       "array([[0],\n",
       "       [0],\n",
       "       [0],\n",
       "       ...,\n",
       "       [0],\n",
       "       [0],\n",
       "       [0]])"
      ]
     },
     "execution_count": 55,
     "metadata": {},
     "output_type": "execute_result"
    }
   ],
   "source": [
    "y1_pred_nn = model1.predict_classes(x1_test)\n",
    "y1_pred_nn"
   ]
  },
  {
   "cell_type": "code",
   "execution_count": 56,
   "metadata": {},
   "outputs": [
    {
     "data": {
      "text/plain": [
       "[Text(33.0, 0.5, 'Truth'), Text(0.5, 15.0, 'nn1_Prediction')]"
      ]
     },
     "execution_count": 56,
     "metadata": {},
     "output_type": "execute_result"
    },
    {
     "data": {
      "image/png": "[encoded data removed]",
      "text/plain": [
       "<Figure size 432x288 with 2 Axes>"
      ]
     },
     "metadata": {
      "needs_background": "light"
     },
     "output_type": "display_data"
    }
   ],
   "source": [
    "ax = sns.heatmap(confusion_matrix(y1_test, y1_pred_nn), annot=True, fmt='d')\n",
    "ax.set(xlabel='nn1_Prediction', ylabel='Truth')"
   ]
  },
  {
   "cell_type": "code",
   "execution_count": 57,
   "metadata": {},
   "outputs": [
    {
     "name": "stdout",
     "output_type": "stream",
     "text": [
      "              precision    recall  f1-score   support\n",
      "\n",
      "           0       0.84      1.00      0.91      1389\n",
      "           1       0.00      0.00      0.00       261\n",
      "\n",
      "    accuracy                           0.84      1650\n",
      "   macro avg       0.42      0.50      0.46      1650\n",
      "weighted avg       0.71      0.84      0.77      1650\n",
      "\n"
     ]
    },
    {
     "name": "stderr",
     "output_type": "stream",
     "text": [
      "C:\\Users\\User\\Anaconda3\\envs\\anirban\\lib\\site-packages\\sklearn\\metrics\\classification.py:1437: UndefinedMetricWarning: Precision and F-score are ill-defined and being set to 0.0 in labels with no predicted samples.\n",
      "  'precision', 'predicted', average, warn_for)\n",
      "C:\\Users\\User\\Anaconda3\\envs\\anirban\\lib\\site-packages\\sklearn\\metrics\\classification.py:1437: UndefinedMetricWarning: Precision and F-score are ill-defined and being set to 0.0 in labels with no predicted samples.\n",
      "  'precision', 'predicted', average, warn_for)\n",
      "C:\\Users\\User\\Anaconda3\\envs\\anirban\\lib\\site-packages\\sklearn\\metrics\\classification.py:1437: UndefinedMetricWarning: Precision and F-score are ill-defined and being set to 0.0 in labels with no predicted samples.\n",
      "  'precision', 'predicted', average, warn_for)\n"
     ]
    }
   ],
   "source": [
    "print(classification_report(y1_test, y1_pred_nn))"
   ]
  },
  {
   "cell_type": "markdown",
   "metadata": {},
   "source": [
    "The neural network did not classify under-represented class 1 correctly.\n",
    "Conclusion: Neural networks perform better on larger number of training instances."
   ]
  },
  {
   "cell_type": "code",
   "execution_count": null,
   "metadata": {},
   "outputs": [],
   "source": []
  }
 ],
 "metadata": {
  "kernelspec": {
   "display_name": "Python 3",
   "language": "python",
   "name": "python3"
  },
  "language_info": {
   "codemirror_mode": {
    "name": "ipython",
    "version": 3
   },
   "file_extension": ".py",
   "mimetype": "text/x-python",
   "name": "python",
   "nbconvert_exporter": "python",
   "pygments_lexer": "ipython3",
   "version": "3.6.8"
  }
 },
 "nbformat": 4,
 "nbformat_minor": 2
}
