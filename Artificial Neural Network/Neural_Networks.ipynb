{
 "cells": [
  {
   "cell_type": "markdown",
   "metadata": {},
   "source": [
    "# Neural Networks\n",
    "\n",
    "## Keras\n",
    "Keras Introduction: https://keras.io/\n",
    "\n",
    "Keras Cheatsheet: https://s3.amazonaws.com/assets.datacamp.com/blog_assets/Keras_Cheat_Sheet_Python.pdf\n",
    "\n",
    "Keras FAQ: https://keras.io/getting-started/faq/\n",
    "\n",
    "Keras Sequential API: https://keras.io/getting-started/sequential-model-guide/"
   ]
  },
  {
   "cell_type": "markdown",
   "metadata": {},
   "source": [
    "## What about Tensorflow?\n",
    "\n",
    "Tensorflow is available as a \"backend\" for Keras. By default, Keras will use Tensorflow to perform deep learning operations.\n",
    "\n",
    "More about backends here: https://keras.io/backend/"
   ]
  },
  {
   "cell_type": "markdown",
   "metadata": {},
   "source": [
    "## Major Differences between Keras and Scikit-Learn\n",
    "\n",
    "|Sklearn|Keras|\n",
    "|--|--|\n",
    "|Use for Machine Learning and limited Deep Learning (MLPClassifier, MLPRegressor)|Use only for Deep Learning|\n",
    "|Scope: Linear Regression, Logistic Regression, Support Vector Machines, KMeans, PCA, etc|Scope: Deep Learning layers such as Dense, Convolutional, Recurrent|\n",
    "|Only SGDRegressor, SGDClassifier,  MLP* do gradient descent|Exclusively uses gradient descent and back propagation|\n",
    "|Not designed for long-haul training|Designed for long-haul training, supports saving and resuming training|\n",
    "|Limited support for incremental fit|Always fits incrementally, unless you recompile network|\n",
    "|Does not support GPU|Supports GPU|\n",
    "|Does not support Tensorflow|Supports Tensorflow through a backend|\n",
    "|Provides learning_curve() function for learning curve|Uses [Tensorboard](https://www.tensorflow.org/guide/summaries_and_tensorboard) for learning curve|\n",
    "|Provides cross_validate() function for cross validation|Cross-validation is not supported, use validation split that is built into fit()|\n",
    "|Supports fit with univariate y output only|Supports fit with univariate and multi-variate y output. For classification, y must be one-hot (more in the workshop)|\n",
    "\n",
    "There are other minor differences between how the two libraries work. We'll highlight it along the way.\n",
    "\n",
    "**Caution**: always consult documentation (don't assume Keras works like Scikit-learn, otherwise you waste time debugging)"
   ]
  },
  {
   "cell_type": "markdown",
   "metadata": {},
   "source": [
    "## Keras Machine Learning Workflow\n",
    "\n",
    "1. Problem Definition\n",
    "    - Same as you normally would for any machine learning problem. The key difference with Keras is in the choice of neural networks as the model.\n",
    "\n",
    "2. Data Engineering\n",
    "    - Use pandas as you normally would\n",
    "\n",
    "3. Feature Engineering\n",
    "    - Use sklearn as you normally would\n",
    "\n",
    "4. Model Engineering\n",
    "    \n",
    "    a. Define initial neural net\n",
    "        - Define model architecture, such as the input shapes, output shapes, and neural network layers\n",
    "        - model.compile to pick optimiser, loss function, metrics\n",
    "\n",
    "    b. Setup training callbacks:\n",
    "        - Learning curve using Tensorboard\n",
    "        - Early stopping\n",
    "        - [Optional] Model checkpoints to automatically save weights after every epoch\n",
    "    \n",
    "    c. Train model:\n",
    "        - model.fit(): Unlike sklearn, fit() is cumulative (continues progress if you it call repeatedly)\n",
    "\n",
    "        sklearn:\n",
    "        ```\n",
    "            model = SGDRegressor()\n",
    "            model.fit(X_train, y_train)\n",
    "            model.fit(X_train, y_train) # RESTARTS from scratch\n",
    "        ```\n",
    "\n",
    "         Keras:\n",
    "         ```\n",
    "             model.compile()\n",
    "             model.fit(X_train, y_train) \n",
    "             model.fit(X_train, y_train) # RESUMES training from previously\n",
    "         ```\n",
    "         \n",
    "5. Evaluation metrics\n",
    "    - Keras: model.evaluate() - similar to model.score() in sklearn\n",
    "    - Evaluation metrics in sklearn are more comprehensive. Use them here (e.g. classification_report)\n",
    "\n",
    "6. Deployment\n",
    "    - model.save()\n",
    "    - load_model()\n",
    "    - model.predict()"
   ]
  },
  {
   "cell_type": "code",
   "execution_count": null,
   "metadata": {},
   "outputs": [],
   "source": []
  },
  {
   "cell_type": "markdown",
   "metadata": {},
   "source": [
    "In this workshop, we'll walk through a simple Keras example to understand how to use it:\n",
    "\n",
    "https://github.com/keras-team/keras/blob/master/examples/mnist_mlp.py"
   ]
  },
  {
   "cell_type": "code",
   "execution_count": null,
   "metadata": {},
   "outputs": [],
   "source": []
  },
  {
   "cell_type": "code",
   "execution_count": 1,
   "metadata": {},
   "outputs": [
    {
     "name": "stderr",
     "output_type": "stream",
     "text": [
      "Using TensorFlow backend.\n"
     ]
    }
   ],
   "source": [
    "import keras\n",
    "import matplotlib.pyplot as plt\n",
    "from sklearn.metrics import confusion_matrix, classification_report\n",
    "\n",
    "%matplotlib inline"
   ]
  },
  {
   "cell_type": "markdown",
   "metadata": {},
   "source": [
    "## Load dataset\n",
    "\n",
    "Keras includes some built-in datasets that are useful for learning and practice.\n",
    "\n",
    "https://keras.io/datasets/"
   ]
  },
  {
   "cell_type": "code",
   "execution_count": 2,
   "metadata": {},
   "outputs": [],
   "source": [
    "from keras.datasets import mnist\n",
    "\n",
    "(X_train, y_train), (X_test, y_test) = mnist.load_data()"
   ]
  },
  {
   "cell_type": "markdown",
   "metadata": {},
   "source": [
    "## Data processing"
   ]
  },
  {
   "cell_type": "code",
   "execution_count": 3,
   "metadata": {},
   "outputs": [
    {
     "data": {
      "text/plain": [
       "(60000, 28, 28)"
      ]
     },
     "execution_count": 3,
     "metadata": {},
     "output_type": "execute_result"
    }
   ],
   "source": [
    "X_train.shape # 60000 rows, 28 x 28 pixels"
   ]
  },
  {
   "cell_type": "code",
   "execution_count": 4,
   "metadata": {},
   "outputs": [
    {
     "data": {
      "text/plain": [
       "5"
      ]
     },
     "execution_count": 4,
     "metadata": {},
     "output_type": "execute_result"
    }
   ],
   "source": [
    "y_train[0]"
   ]
  },
  {
   "cell_type": "code",
   "execution_count": 5,
   "metadata": {},
   "outputs": [
    {
     "data": {
      "text/plain": [
       "<matplotlib.image.AxesImage at 0x1fc907e73c8>"
      ]
     },
     "execution_count": 5,
     "metadata": {},
     "output_type": "execute_result"
    },
    {
     "data": {
      "image/png": "[encoded data removed]",
      "text/plain": [
       "<Figure size 432x288 with 1 Axes>"
      ]
     },
     "metadata": {
      "needs_background": "light"
     },
     "output_type": "display_data"
    }
   ],
   "source": [
    "plt.imshow(X_train[0]) # display first image (first row)"
   ]
  },
  {
   "cell_type": "code",
   "execution_count": 6,
   "metadata": {},
   "outputs": [],
   "source": [
    "# Keras requires the targets to be categorical (one-hot)\n",
    "# vectors rather than class (label) vectors\n",
    "# This means that we need to convert the target\n",
    "# before passing it to fit() if doing multi-class classification\n",
    "\n",
    "# convert class vectors to categorical vectors\n",
    "# 5 to [0., 0., 0., 0., 0., 1., 0., 0., 0., 0.]\n",
    "num_classes = 10 # 10 digits\n",
    "\n",
    "y_train = keras.utils.to_categorical(y_train, num_classes)\n",
    "y_test = keras.utils.to_categorical(y_test, num_classes)"
   ]
  },
  {
   "cell_type": "code",
   "execution_count": 7,
   "metadata": {},
   "outputs": [
    {
     "data": {
      "text/plain": [
       "array([[0., 0., 0., ..., 0., 0., 0.],\n",
       "       [1., 0., 0., ..., 0., 0., 0.],\n",
       "       [0., 0., 0., ..., 0., 0., 0.],\n",
       "       ...,\n",
       "       [0., 0., 0., ..., 0., 0., 0.],\n",
       "       [0., 0., 0., ..., 0., 0., 0.],\n",
       "       [0., 0., 0., ..., 0., 1., 0.]], dtype=float32)"
      ]
     },
     "execution_count": 7,
     "metadata": {},
     "output_type": "execute_result"
    }
   ],
   "source": [
    "y_train"
   ]
  },
  {
   "cell_type": "code",
   "execution_count": 8,
   "metadata": {},
   "outputs": [
    {
     "data": {
      "text/plain": [
       "array([0., 0., 1., 0., 0.], dtype=float32)"
      ]
     },
     "execution_count": 8,
     "metadata": {},
     "output_type": "execute_result"
    }
   ],
   "source": [
    "keras.utils.to_categorical(2, 5)"
   ]
  },
  {
   "cell_type": "code",
   "execution_count": 9,
   "metadata": {},
   "outputs": [
    {
     "data": {
      "text/plain": [
       "array([[0., 0., 0., ..., 0., 0., 0.],\n",
       "       [1., 0., 0., ..., 0., 0., 0.],\n",
       "       [0., 0., 0., ..., 0., 0., 0.],\n",
       "       ...,\n",
       "       [0., 0., 0., ..., 0., 0., 0.],\n",
       "       [0., 0., 0., ..., 0., 0., 0.],\n",
       "       [0., 0., 0., ..., 0., 1., 0.]], dtype=float32)"
      ]
     },
     "execution_count": 9,
     "metadata": {},
     "output_type": "execute_result"
    }
   ],
   "source": [
    "y_train"
   ]
  },
  {
   "cell_type": "code",
   "execution_count": null,
   "metadata": {},
   "outputs": [],
   "source": []
  },
  {
   "cell_type": "markdown",
   "metadata": {},
   "source": [
    "## Feature engineering\n",
    "\n",
    "This is an example dataset, so not much feature engineering is needed."
   ]
  },
  {
   "cell_type": "code",
   "execution_count": null,
   "metadata": {},
   "outputs": [],
   "source": []
  },
  {
   "cell_type": "markdown",
   "metadata": {},
   "source": [
    "## Model engineering\n",
    "\n",
    "To run tensorboard for viewing the Learning Curve\n",
    "\n",
    "- Launch another Anaconda Prompt (because tensorboard will run in its own console):\n",
    "\n",
    "```\n",
    "(base) conda activate mldds\n",
    "(mldds) cd folder\\to\\this\\notebook\n",
    "(mldds)tensorboard --logdir=logs --host=0.0.0.0\n",
    "```\n",
    "\n",
    "If this is the first time you are launching Tensorboard, you will not see any sessions until you call model.fit():\n",
    "\n",
    "```\n",
    "tensorboard = TensorBoard(log_dir='./logs/mnist_mlp/%d' % time.time())\n",
    "history = model.fit(X_train, y_train, batch_size=128, epochs=10,\n",
    "                    callbacks=[tensorboard], validation_split=.25)\n",
    "```\n"
   ]
  },
  {
   "cell_type": "code",
   "execution_count": 10,
   "metadata": {},
   "outputs": [
    {
     "name": "stdout",
     "output_type": "stream",
     "text": [
      "60000 train samples\n",
      "10000 test samples\n"
     ]
    }
   ],
   "source": [
    "# Flatten from 28x28 to 784 (because we are using MLP)\n",
    "X_train = X_train.reshape(60000, 784)\n",
    "X_test = X_test.reshape(10000, 784)\n",
    "\n",
    "# Scale from 0-255 into 0-1\n",
    "# Scaling is generally recommended for neural networks\n",
    "# for faster convergence\n",
    "X_train = X_train.astype('float32')\n",
    "X_test = X_test.astype('float32')\n",
    "X_train /= 255\n",
    "X_test /= 255\n",
    "\n",
    "print(X_train.shape[0], 'train samples')\n",
    "print(X_test.shape[0], 'test samples')"
   ]
  },
  {
   "cell_type": "code",
   "execution_count": 11,
   "metadata": {},
   "outputs": [
    {
     "name": "stdout",
     "output_type": "stream",
     "text": [
      "_________________________________________________________________\n",
      "Layer (type)                 Output Shape              Param #   \n",
      "=================================================================\n",
      "dense_1 (Dense)              (None, 512)               401920    \n",
      "_________________________________________________________________\n",
      "dense_2 (Dense)              (None, 512)               262656    \n",
      "_________________________________________________________________\n",
      "dense_3 (Dense)              (None, 10)                5130      \n",
      "=================================================================\n",
      "Total params: 669,706\n",
      "Trainable params: 669,706\n",
      "Non-trainable params: 0\n",
      "_________________________________________________________________\n"
     ]
    }
   ],
   "source": [
    "from keras.models import Sequential\n",
    "from keras.layers import Dense\n",
    "# from keras.layers import Dropout\n",
    "\n",
    "model = Sequential()\n",
    "\n",
    "# input: 784, output: 512 => 784 x 512 weights + 512 bias\n",
    "# (512 neurons)\n",
    "model.add(Dense(512, activation='relu', input_shape=(784,)))\n",
    "# model.add(Dropout(0.2))\n",
    "\n",
    "# input: 512, output: 512 => 512 x 512 weights + 512 bias\n",
    "# (512 neurons)\n",
    "model.add(Dense(512, activation='relu'))\n",
    "# model.add(Dropout(0.2))\n",
    "\n",
    "# input: 512, output: 10 => 512 x 10 weights\n",
    "# (10 neurons)\n",
    "# softmax converts a set of outputs to probabilities that add up to 1\n",
    "model.add(Dense(num_classes, activation='softmax'))\n",
    "\n",
    "model.summary()\n",
    "# Param # is W + bias\n",
    "# Dense: input_shape x output_shape + output_shape\n",
    "#  (where input_shape = previous layer's output_shape)"
   ]
  },
  {
   "cell_type": "code",
   "execution_count": null,
   "metadata": {},
   "outputs": [],
   "source": []
  },
  {
   "cell_type": "code",
   "execution_count": 12,
   "metadata": {},
   "outputs": [
    {
     "name": "stdout",
     "output_type": "stream",
     "text": [
      "Train on 60000 samples, validate on 10000 samples\n",
      "Epoch 1/20\n",
      "60000/60000 [==============================] - 44s 729us/step - loss: 0.2217 - acc: 0.9325 - val_loss: 0.1101 - val_acc: 0.9633\n",
      "Epoch 2/20\n",
      "60000/60000 [==============================] - 11s 178us/step - loss: 0.0810 - acc: 0.9750 - val_loss: 0.0901 - val_acc: 0.9742\n",
      "Epoch 3/20\n",
      "60000/60000 [==============================] - 10s 160us/step - loss: 0.0548 - acc: 0.9830 - val_loss: 0.0726 - val_acc: 0.9800\n",
      "Epoch 4/20\n",
      "60000/60000 [==============================] - 10s 161us/step - loss: 0.0391 - acc: 0.9878 - val_loss: 0.0870 - val_acc: 0.9762\n",
      "Epoch 5/20\n",
      "60000/60000 [==============================] - 10s 169us/step - loss: 0.0283 - acc: 0.9912 - val_loss: 0.0850 - val_acc: 0.9807\n",
      "Epoch 6/20\n",
      "60000/60000 [==============================] - 10s 172us/step - loss: 0.0234 - acc: 0.9929 - val_loss: 0.0869 - val_acc: 0.9806\n",
      "Epoch 7/20\n",
      "60000/60000 [==============================] - 10s 167us/step - loss: 0.0181 - acc: 0.9943 - val_loss: 0.0933 - val_acc: 0.9813\n",
      "Epoch 8/20\n",
      "60000/60000 [==============================] - 10s 170us/step - loss: 0.0163 - acc: 0.9952 - val_loss: 0.1026 - val_acc: 0.9801\n",
      "Epoch 9/20\n",
      "60000/60000 [==============================] - 10s 170us/step - loss: 0.0125 - acc: 0.9960 - val_loss: 0.1161 - val_acc: 0.9791\n",
      "Epoch 10/20\n",
      "60000/60000 [==============================] - 11s 182us/step - loss: 0.0113 - acc: 0.9965 - val_loss: 0.1019 - val_acc: 0.9827\n",
      "Epoch 11/20\n",
      "60000/60000 [==============================] - 11s 175us/step - loss: 0.0105 - acc: 0.9969 - val_loss: 0.1189 - val_acc: 0.9810\n",
      "Epoch 12/20\n",
      "60000/60000 [==============================] - 10s 166us/step - loss: 0.0092 - acc: 0.9972 - val_loss: 0.1028 - val_acc: 0.9830\n",
      "Epoch 13/20\n",
      "60000/60000 [==============================] - 10s 167us/step - loss: 0.0082 - acc: 0.9977 - val_loss: 0.1201 - val_acc: 0.9822\n",
      "Epoch 14/20\n",
      "60000/60000 [==============================] - 10s 165us/step - loss: 0.0068 - acc: 0.9980 - val_loss: 0.1282 - val_acc: 0.9794\n",
      "Epoch 15/20\n",
      "60000/60000 [==============================] - 9s 150us/step - loss: 0.0077 - acc: 0.9978 - val_loss: 0.1255 - val_acc: 0.9825\n",
      "Epoch 16/20\n",
      "60000/60000 [==============================] - 11s 178us/step - loss: 0.0061 - acc: 0.9982 - val_loss: 0.1503 - val_acc: 0.9803\n",
      "Epoch 17/20\n",
      "60000/60000 [==============================] - 10s 169us/step - loss: 0.0070 - acc: 0.9983 - val_loss: 0.1456 - val_acc: 0.9799\n",
      "Epoch 18/20\n",
      "60000/60000 [==============================] - 10s 164us/step - loss: 0.0064 - acc: 0.9984 - val_loss: 0.1326 - val_acc: 0.9822\n",
      "Epoch 19/20\n",
      "60000/60000 [==============================] - 8s 130us/step - loss: 0.0063 - acc: 0.9982 - val_loss: 0.1412 - val_acc: 0.9827loss: 0.0065 - \n",
      "Epoch 20/20\n",
      "60000/60000 [==============================] - 10s 173us/step - loss: 0.0049 - acc: 0.9985 - val_loss: 0.1389 - val_acc: 0.9823\n"
     ]
    }
   ],
   "source": [
    "from keras.callbacks import TensorBoard\n",
    "from keras.optimizers import RMSprop\n",
    "import time\n",
    "\n",
    "batch_size = 128\n",
    "num_classes = 10\n",
    "epochs = 20\n",
    "\n",
    "tensorboard = TensorBoard(log_dir='./logs/mnist_mlp/%d' % time.time())\n",
    "\n",
    "model.compile(loss='categorical_crossentropy',\n",
    "              optimizer=RMSprop(),\n",
    "              metrics=['accuracy']) # Tensorboard will display\n",
    "                                    # acc in addition to loss\n",
    "\n",
    "history = model.fit(X_train, y_train,\n",
    "                    batch_size=batch_size,\n",
    "                    epochs=epochs,\n",
    "                    verbose=1,\n",
    "                    callbacks=[tensorboard],\n",
    "                    validation_data=(X_test, y_test))"
   ]
  },
  {
   "cell_type": "code",
   "execution_count": 13,
   "metadata": {
    "scrolled": false
   },
   "outputs": [
    {
     "name": "stdout",
     "output_type": "stream",
     "text": [
      "{'name': 'dense_1', 'trainable': True, 'batch_input_shape': (None, 784), 'dtype': 'float32', 'units': 512, 'activation': 'relu', 'use_bias': True, 'kernel_initializer': {'class_name': 'VarianceScaling', 'config': {'scale': 1.0, 'mode': 'fan_avg', 'distribution': 'uniform', 'seed': None}}, 'bias_initializer': {'class_name': 'Zeros', 'config': {}}, 'kernel_regularizer': None, 'bias_regularizer': None, 'activity_regularizer': None, 'kernel_constraint': None, 'bias_constraint': None}\n",
      "[array([[-0.02687832, -0.05516374,  0.01237827, ..., -0.03513752,\n",
      "         0.01474103,  0.04615369],\n",
      "       [-0.01131217, -0.01923892,  0.02422648, ...,  0.00201312,\n",
      "        -0.01998544, -0.03846251],\n",
      "       [-0.03517682, -0.06047336, -0.00754339, ...,  0.01250513,\n",
      "        -0.00824294, -0.00975702],\n",
      "       ...,\n",
      "       [ 0.03877281,  0.03775353, -0.01422515, ...,  0.06636353,\n",
      "        -0.04554664,  0.04578243],\n",
      "       [-0.01001232,  0.06227018, -0.03251781, ...,  0.04080224,\n",
      "        -0.01955776,  0.01130953],\n",
      "       [-0.0167254 , -0.02657912, -0.0432925 , ..., -0.0269761 ,\n",
      "         0.02770712, -0.05079152]], dtype=float32), array([-1.81805678e-02,  2.55882721e-02, -5.96563332e-02, -1.87557992e-02,\n",
      "       -6.40957803e-02, -2.39793733e-02, -1.05043903e-01, -3.05986330e-02,\n",
      "       -1.55534908e-01, -1.34074226e-01, -5.40080704e-02, -7.27329925e-02,\n",
      "       -3.80543321e-02, -6.37713447e-02, -4.75537544e-03, -5.72406016e-02,\n",
      "       -3.00870407e-02, -3.47404331e-02, -6.05938323e-02,  1.11685973e-02,\n",
      "       -5.33400141e-02, -2.62320414e-02, -3.50231640e-02, -2.39354279e-02,\n",
      "       -5.72526157e-02, -2.30987766e-03, -1.38178822e-02, -6.01994358e-02,\n",
      "       -2.75377673e-03, -7.39591792e-02, -9.96118505e-03, -1.65724773e-02,\n",
      "       -4.78367768e-02, -1.43915322e-02, -7.91059285e-02, -8.87793303e-02,\n",
      "        7.88105354e-02, -5.44750430e-02, -4.37741540e-02, -2.17729583e-02,\n",
      "        1.10143907e-02, -1.28293514e-01, -2.19221171e-02, -2.50067208e-02,\n",
      "       -6.30959943e-02, -9.26252902e-02, -6.87978789e-02, -1.08044088e-01,\n",
      "       -1.23750921e-02, -4.82721962e-02, -1.10640742e-01, -3.96595448e-02,\n",
      "       -8.11342895e-02, -2.79926714e-02,  4.36359842e-04, -2.07175314e-02,\n",
      "        5.62119000e-02, -3.44825201e-02, -5.79147041e-03, -1.46049604e-01,\n",
      "       -1.29391393e-02, -1.01317406e-01, -6.15043938e-02, -6.07352220e-02,\n",
      "       -9.73865986e-02, -9.29233246e-03, -1.45249236e-02, -2.06793789e-02,\n",
      "       -2.95855422e-02, -3.28161083e-02, -1.42814130e-01,  6.63232878e-02,\n",
      "       -7.91299641e-02, -2.78024171e-02, -1.27983361e-01, -1.12969533e-01,\n",
      "       -4.47623767e-02, -1.80519018e-02, -6.41646907e-02, -7.66846910e-02,\n",
      "       -8.07726905e-02, -1.17914513e-01, -4.39224914e-02,  1.24835661e-02,\n",
      "        1.41099868e-02, -2.60172635e-02,  5.38817421e-02,  2.28934288e-02,\n",
      "       -5.20928539e-02, -1.02534391e-01, -9.55388471e-02, -7.64686838e-02,\n",
      "        2.93895509e-02, -7.85348713e-02,  2.82822177e-03, -7.11517185e-02,\n",
      "       -9.50204358e-02, -1.45393029e-01, -5.44750988e-02, -8.02138448e-02,\n",
      "       -3.31382155e-02, -7.41461152e-03, -3.23112719e-02, -2.14183535e-02,\n",
      "       -9.12628621e-02, -1.11799315e-02, -2.51847189e-02,  2.57564355e-02,\n",
      "       -4.08746675e-02, -7.17204884e-02, -9.44471508e-02, -8.61977879e-03,\n",
      "       -3.73032354e-02, -6.21956680e-03, -3.95538397e-02,  4.87154648e-02,\n",
      "       -6.96387747e-03, -7.36752599e-02, -5.30699156e-02, -1.10300094e-01,\n",
      "       -5.38826641e-03, -5.71655184e-02, -5.42105362e-02, -3.46489064e-02,\n",
      "       -4.10339013e-02, -9.99882072e-02, -3.00985835e-02, -1.44943362e-02,\n",
      "       -3.57184485e-02, -3.18950005e-02, -7.87861347e-02, -8.68128091e-02,\n",
      "       -2.08659861e-02, -3.92690264e-02, -2.51385272e-02, -9.92811918e-02,\n",
      "       -2.10036356e-02, -3.92148383e-02,  4.15427703e-03,  4.05465439e-02,\n",
      "       -1.00195380e-02, -1.10455295e-02, -3.54667939e-02,  8.61445162e-03,\n",
      "        1.83125865e-02, -4.79156487e-02, -6.43255264e-02, -5.38723692e-02,\n",
      "       -4.33379151e-02, -2.42204964e-02, -2.16689538e-02, -9.00930837e-02,\n",
      "       -5.75486794e-02, -1.67126320e-02, -3.52886803e-02, -4.06928286e-02,\n",
      "        3.96108143e-02, -1.24133840e-01, -4.16081659e-02, -9.04220939e-02,\n",
      "       -5.74195981e-02, -5.67110218e-02, -3.28514576e-02,  9.18427762e-03,\n",
      "       -7.96164274e-02, -3.29708047e-02, -8.49156231e-02, -2.42252536e-02,\n",
      "       -6.16249628e-02,  2.23087259e-02, -1.02211595e-01,  1.96117517e-02,\n",
      "       -3.20620649e-02, -1.04124397e-02, -7.47509077e-02, -4.21828665e-02,\n",
      "       -1.29224867e-01, -1.90757290e-02, -2.37548398e-03,  7.20992638e-03,\n",
      "       -2.57692039e-02, -1.14717476e-01, -4.72020805e-02, -5.60782291e-02,\n",
      "       -4.50637676e-02, -3.09381820e-02, -9.39408094e-02, -7.54200667e-02,\n",
      "       -1.54042952e-02, -7.19326213e-02, -4.58202288e-02,  5.44224717e-02,\n",
      "        1.50472345e-02, -1.25343073e-02, -1.55760914e-01, -3.89505550e-02,\n",
      "       -4.87293024e-03, -2.77127046e-02, -3.05111893e-02, -1.29784182e-01,\n",
      "       -4.66128848e-02, -3.64242084e-02, -6.06102087e-02, -1.06470138e-01,\n",
      "       -1.29279703e-01, -1.12768002e-01, -8.10795426e-02,  2.60846671e-02,\n",
      "       -4.97603863e-02, -4.64362465e-02, -3.86722200e-02,  2.57893875e-02,\n",
      "       -4.44319509e-02, -3.42721716e-02, -2.89493101e-03, -4.77430895e-02,\n",
      "       -9.19510275e-02, -8.07383284e-02, -1.28475353e-01, -8.26320350e-02,\n",
      "       -6.53963238e-02, -2.54795551e-02, -9.13404301e-02, -1.15064448e-02,\n",
      "       -5.22260889e-02, -1.27473730e-03,  1.72645263e-02, -9.68990549e-02,\n",
      "       -1.71964392e-02, -6.01024516e-02, -7.19216242e-02, -4.70376723e-02,\n",
      "       -2.26080362e-02, -6.57953098e-02, -8.94740969e-02, -9.21219364e-02,\n",
      "        4.19566818e-02,  3.48254181e-02,  1.25077739e-01, -8.22070092e-02,\n",
      "       -3.48317958e-02, -1.21109620e-01, -4.62374687e-02, -4.27471846e-02,\n",
      "       -4.01787162e-02, -1.01102881e-01, -1.10763252e-01, -2.98973918e-02,\n",
      "       -1.02756187e-01, -4.00713682e-02, -5.20324102e-03, -8.64709169e-02,\n",
      "       -4.84018289e-02, -6.30221441e-02, -4.49387953e-02, -3.92840207e-02,\n",
      "       -1.36627182e-01, -2.99520846e-02, -6.90561384e-02, -7.92792533e-03,\n",
      "       -3.42212133e-02, -7.29241818e-02, -1.09689925e-02, -3.28661390e-02,\n",
      "       -8.24176222e-02, -1.57069907e-01, -1.16398782e-02, -1.20087331e-02,\n",
      "       -3.34140025e-02,  5.02453111e-02, -7.92622268e-02,  2.64160298e-02,\n",
      "        4.36569145e-03,  2.85824910e-02, -2.81062871e-02, -2.46230909e-03,\n",
      "       -2.44253986e-02, -4.32512090e-02, -1.81587841e-02,  2.00222898e-02,\n",
      "       -2.71201767e-02, -2.88649835e-02, -4.86776344e-02,  1.70217305e-02,\n",
      "       -7.59382918e-02, -1.09141925e-02, -5.88802202e-03, -4.29066531e-02,\n",
      "        2.10140459e-02,  1.26742362e-03, -1.31323040e-01, -5.37834652e-02,\n",
      "       -7.83905983e-02, -2.08268594e-02, -9.14154202e-02, -1.57573968e-02,\n",
      "       -3.00600883e-02, -3.65747660e-02, -6.27768487e-02, -3.47226784e-02,\n",
      "       -5.09098135e-02, -3.65247056e-02, -9.40498039e-02,  2.40340326e-02,\n",
      "       -2.21967157e-02, -4.74776104e-02,  7.79899536e-03, -3.67433876e-02,\n",
      "       -8.67005661e-02, -5.70079051e-02,  1.52221369e-03, -1.17846243e-02,\n",
      "       -7.75855314e-03, -5.26108071e-02, -6.35907501e-02, -5.18737845e-02,\n",
      "        6.34316057e-02,  3.87414545e-02, -2.89061125e-02,  3.80320139e-02,\n",
      "       -1.01329908e-01, -1.12345427e-01,  1.77135728e-02, -1.54733852e-01,\n",
      "       -9.88315120e-02,  1.09123662e-02, -1.05267502e-01,  1.64693873e-02,\n",
      "        6.14666492e-02, -1.15800433e-01, -1.02008814e-02, -7.32918978e-02,\n",
      "       -2.81936396e-02,  4.61979508e-02,  1.06833491e-03, -3.72276977e-02,\n",
      "       -3.36231217e-02, -1.33646816e-01, -6.00501932e-02, -1.00299805e-01,\n",
      "       -5.33621460e-02,  7.47714117e-02, -1.33294240e-01, -3.96181829e-02,\n",
      "       -8.36143643e-02, -3.96658145e-02, -6.36207014e-02,  5.00356667e-02,\n",
      "        2.00735182e-02, -7.70201758e-02, -9.60782021e-02, -2.88784113e-02,\n",
      "        2.25173738e-02, -1.23890206e-01, -7.03914165e-02, -8.12607408e-02,\n",
      "       -5.94626144e-02, -1.85323711e-02, -2.32636314e-02,  2.40771268e-02,\n",
      "       -3.33666727e-02, -5.81908114e-02, -8.54763612e-02, -8.11567679e-02,\n",
      "       -3.89742441e-02, -1.66645661e-01, -2.28913184e-02, -4.12258804e-02,\n",
      "       -5.50582521e-02, -2.95807105e-02, -1.39571307e-02, -1.09528437e-01,\n",
      "       -4.23048548e-02, -6.85665980e-02,  1.96469991e-04, -1.15884207e-01,\n",
      "       -3.29743810e-02,  1.37509378e-02,  8.54577348e-02, -3.42350416e-02,\n",
      "       -1.29868428e-03, -4.82205972e-02,  1.16603607e-02, -1.08675323e-02,\n",
      "       -6.43201619e-02, -3.98804434e-03, -4.22549807e-02, -3.46519947e-02,\n",
      "       -8.03161561e-02, -6.95061237e-02, -7.67499730e-02, -4.93076891e-02,\n",
      "       -5.33040911e-02, -1.29394993e-01, -1.78543571e-02, -8.93857777e-02,\n",
      "       -2.49449629e-03, -1.21662535e-01,  3.46425665e-03, -6.41754717e-02,\n",
      "       -9.68367234e-02, -3.93864512e-02, -1.59907422e-03, -9.23592150e-02,\n",
      "        1.05852615e-02,  1.78335290e-02, -6.13135844e-02,  2.00870968e-02,\n",
      "        1.71671547e-02, -1.44346466e-03, -1.24228835e-01, -5.61776906e-02,\n",
      "       -5.62490895e-02, -3.30951437e-02, -1.13912717e-01, -5.99315912e-02,\n",
      "       -7.82185420e-02, -5.75733110e-02, -3.76072451e-02,  2.07969062e-02,\n",
      "       -1.27852401e-02, -6.65093660e-02, -3.79460678e-02, -3.50017101e-02,\n",
      "        1.95404403e-02, -3.24910730e-02, -1.18456380e-02, -1.45917356e-01,\n",
      "       -1.07808106e-01, -1.34350751e-02,  3.79787735e-03, -7.78279603e-02,\n",
      "       -4.65298407e-02, -3.10960654e-02, -3.97139601e-02, -5.15023507e-02,\n",
      "        8.98603573e-02, -8.61543324e-03, -3.94326486e-02,  7.73715694e-03,\n",
      "        3.07680462e-02, -4.23625968e-02, -5.27135432e-02, -5.36181554e-02,\n",
      "        2.42933892e-02, -7.39752352e-02,  2.22934373e-02, -6.65109009e-02,\n",
      "       -7.54910409e-02, -2.11693682e-02,  3.75839174e-02, -3.71811949e-02,\n",
      "       -2.63276361e-02,  5.83000407e-02, -6.56992942e-02, -4.75195684e-02,\n",
      "       -1.46352481e-02, -5.94679341e-02, -1.89837553e-02, -8.84658471e-03,\n",
      "       -5.64086512e-02, -9.36852247e-02,  9.18822810e-02, -5.16707487e-02,\n",
      "       -1.89127456e-02, -3.82648371e-02, -3.17454971e-02,  1.79647096e-02,\n",
      "       -6.20284155e-02, -4.06991206e-02, -7.08001032e-02, -2.39004232e-02,\n",
      "        3.24828178e-02, -6.91857114e-02, -8.96230191e-02, -4.08783779e-02,\n",
      "       -6.77530915e-02, -1.93728488e-02, -5.78972474e-02, -6.81597739e-02,\n",
      "       -2.87786387e-02, -1.77304503e-02, -1.08056307e-01, -1.22083336e-01,\n",
      "        6.03702269e-04, -2.43010614e-02, -1.75540820e-02, -2.75086816e-02,\n",
      "       -7.60490000e-02,  9.48570762e-03, -1.05239101e-01, -4.20877300e-02,\n",
      "       -1.38498768e-01, -2.29619574e-02, -8.97390023e-02,  2.62218546e-02,\n",
      "       -4.37954776e-02, -1.16859354e-01, -3.42511162e-02, -1.13218017e-01,\n",
      "        2.86312122e-02, -6.74658790e-02, -1.37049079e-01,  5.54616638e-02,\n",
      "       -5.58859706e-02, -1.42890764e-02, -8.67033214e-06, -7.37352446e-02,\n",
      "       -1.10586420e-01, -4.45167609e-02, -1.23072185e-01, -7.29465336e-02],\n",
      "      dtype=float32)]\n",
      "{'name': 'dense_2', 'trainable': True, 'units': 512, 'activation': 'relu', 'use_bias': True, 'kernel_initializer': {'class_name': 'VarianceScaling', 'config': {'scale': 1.0, 'mode': 'fan_avg', 'distribution': 'uniform', 'seed': None}}, 'bias_initializer': {'class_name': 'Zeros', 'config': {}}, 'kernel_regularizer': None, 'bias_regularizer': None, 'activity_regularizer': None, 'kernel_constraint': None, 'bias_constraint': None}\n",
      "[array([[ 0.12734567, -0.14530224,  0.15347123, ...,  0.06411053,\n",
      "         0.13225389, -0.12096885],\n",
      "       [-0.09476002, -0.00262938, -0.16194163, ...,  0.11216153,\n",
      "         0.03512416, -0.04747011],\n",
      "       [-0.07701614, -0.10233156,  0.00087298, ..., -0.13514642,\n",
      "        -0.082804  ,  0.18034601],\n",
      "       ...,\n",
      "       [-0.01329029, -0.02978469,  0.12145455, ..., -0.00469129,\n",
      "        -0.20075324,  0.02573927],\n",
      "       [ 0.04206979,  0.0530708 , -0.020925  , ...,  0.02138135,\n",
      "         0.07882497, -0.09171114],\n",
      "       [ 0.0939903 ,  0.07573419, -0.11466791, ..., -0.09296101,\n",
      "        -0.0103416 ,  0.05570367]], dtype=float32), array([-9.68432650e-02, -5.07734157e-02, -2.50532832e-02, -7.82107338e-02,\n",
      "       -8.72926712e-02,  5.72936935e-03, -3.89019810e-02, -7.01800883e-02,\n",
      "       -6.99284896e-02, -4.69982177e-02, -1.30395591e-01, -1.43006206e-01,\n",
      "       -3.77414003e-02,  6.87192380e-03, -4.52135280e-02, -1.68572851e-02,\n",
      "       -1.19097508e-01, -4.99722594e-03, -1.12469219e-01, -3.46556678e-02,\n",
      "       -1.69948235e-01, -8.42644870e-02, -1.04832249e-02, -7.64552727e-02,\n",
      "       -2.91992929e-02, -5.54184951e-02, -8.59041959e-02, -1.06932819e-01,\n",
      "       -6.85888454e-02, -6.55526221e-02, -9.62216407e-02, -4.13794369e-02,\n",
      "       -6.14583679e-02, -1.05933420e-01, -7.20831379e-02, -1.01407006e-01,\n",
      "       -5.39979525e-02,  1.39885172e-02, -4.62552067e-03, -3.00385896e-02,\n",
      "       -5.60661294e-02, -9.83898789e-02, -6.08481318e-02, -2.93835886e-02,\n",
      "       -2.91980579e-02,  2.20402554e-02, -1.10326245e-01, -1.09731052e-02,\n",
      "       -3.59069668e-02, -1.07500292e-01, -7.70173445e-02, -1.59960523e-01,\n",
      "       -7.67211318e-02, -6.02363050e-03,  1.93485413e-02, -7.10725337e-02,\n",
      "       -1.07521519e-01,  1.68890972e-02, -3.99850905e-02, -8.98587331e-02,\n",
      "       -9.87704918e-02, -4.25248370e-02, -4.32476513e-02, -8.30221102e-02,\n",
      "       -4.19378094e-02, -1.13234937e-01, -7.25272745e-02, -1.14995893e-02,\n",
      "       -2.99230739e-02, -1.53962225e-01, -4.49404381e-02, -1.76007628e-01,\n",
      "       -4.34496328e-02, -1.77963637e-02, -1.56694710e-01, -7.32404441e-02,\n",
      "       -2.12590307e-01, -1.10802449e-01, -8.55216011e-02, -7.08113909e-02,\n",
      "       -5.74084558e-02, -1.44381717e-01, -3.27697136e-02, -3.96137387e-02,\n",
      "       -9.01678652e-02,  5.23981638e-02, -1.83507159e-01, -7.11225122e-02,\n",
      "       -1.08562462e-01, -4.75882627e-02, -4.94624451e-02, -3.60446274e-02,\n",
      "       -7.46040046e-02,  1.86487865e-02, -1.01427495e-01, -1.02079257e-01,\n",
      "       -9.73975137e-02, -1.02585234e-01,  1.04321155e-03, -6.75176904e-02,\n",
      "       -9.47251469e-02, -1.55669659e-01,  4.22527455e-02, -1.13362908e-01,\n",
      "       -1.12533845e-01, -1.48855299e-01, -1.48608819e-01, -8.76428261e-02,\n",
      "        7.82586187e-02, -3.26072983e-02, -9.57741663e-02, -4.25713174e-02,\n",
      "       -5.27912863e-02, -1.38525143e-01,  2.60154344e-02, -5.92150129e-02,\n",
      "       -7.70467892e-02, -6.58562258e-02, -4.44950014e-02, -1.06313102e-01,\n",
      "       -3.07982340e-02, -7.51511231e-02, -7.96425268e-02, -1.67872041e-01,\n",
      "       -1.83171079e-01, -9.94433835e-02, -1.77532975e-02, -6.80454224e-02,\n",
      "       -1.44587755e-01, -9.50143263e-02, -7.41455555e-02,  1.16077717e-02,\n",
      "        5.04891314e-02, -7.65891895e-02, -3.82619500e-02, -8.67325962e-02,\n",
      "       -1.13528721e-01,  5.02491333e-02, -5.46877533e-02, -1.68640792e-01,\n",
      "       -1.14803780e-02, -3.19158919e-02, -1.33039773e-01, -1.20520173e-02,\n",
      "       -1.05254672e-01, -5.58196157e-02, -2.47871522e-02, -6.65940568e-02,\n",
      "       -6.55851662e-02, -1.27807200e-01, -1.04718544e-01, -6.34277984e-02,\n",
      "       -1.06667660e-01, -3.62184178e-03, -5.06650582e-02, -6.91694617e-02,\n",
      "       -1.18283249e-01, -1.90884564e-02, -2.33720597e-02, -8.13457370e-02,\n",
      "       -1.77882671e-01, -4.08051684e-02, -3.22188740e-03, -4.48113941e-02,\n",
      "       -8.69721249e-02, -9.12782177e-02, -1.50369912e-01, -1.40496612e-01,\n",
      "       -1.17947452e-01, -1.13236800e-01, -3.64169069e-02, -1.46591112e-01,\n",
      "        6.00504689e-02, -1.33276075e-01, -1.30768284e-01, -1.28385589e-01,\n",
      "       -1.31034285e-01, -6.12232387e-02, -1.01228438e-01, -4.28510085e-02,\n",
      "       -2.15093675e-03, -1.24975756e-01, -2.40025762e-02, -4.43633124e-02,\n",
      "       -1.19447045e-01, -3.32116038e-02, -1.32578790e-01, -1.30922079e-01,\n",
      "       -1.07996441e-01, -1.50090000e-02, -3.50874141e-02, -1.09770350e-01,\n",
      "       -9.22640041e-02, -1.99988738e-01, -1.54197186e-01, -3.16386446e-02,\n",
      "       -6.80966154e-02, -1.16021201e-01,  1.05488207e-02, -2.92874649e-02,\n",
      "       -9.10785571e-02, -1.39536917e-01, -6.09985925e-02, -8.49885792e-02,\n",
      "       -8.81756917e-02, -5.05552553e-02,  1.80651732e-02, -8.93458873e-02,\n",
      "       -1.46436999e-02,  1.77043341e-02, -7.53428638e-02, -1.17270797e-01,\n",
      "       -1.16576657e-01, -4.52166870e-02,  4.26774658e-03, -1.77366119e-02,\n",
      "       -1.02160566e-01,  2.78936420e-03, -8.36124420e-02, -2.31126145e-01,\n",
      "       -7.94359371e-02,  1.62113924e-02, -4.16290425e-02, -9.55497921e-02,\n",
      "       -1.39394641e-01, -1.97614238e-01, -6.77590864e-03, -3.83994281e-02,\n",
      "       -6.99140057e-02, -5.57415225e-02,  6.41883165e-03, -1.68183371e-01,\n",
      "       -2.30493188e-01, -5.18703870e-02, -4.55132946e-02, -1.28221855e-01,\n",
      "       -9.15494934e-02, -1.01600830e-02, -4.99897487e-02, -1.37829393e-01,\n",
      "       -1.73163608e-01, -4.00277153e-02, -2.44984217e-03, -1.81519389e-02,\n",
      "       -9.99716371e-02, -1.27590001e-01, -5.57420254e-02, -1.62720069e-01,\n",
      "       -8.80514979e-02, -8.12459737e-02, -1.24511883e-01, -7.88443536e-02,\n",
      "       -2.47415140e-01, -7.86194801e-02, -1.49499960e-02, -2.45618578e-02,\n",
      "       -1.35191172e-01, -4.35220338e-02, -4.98089008e-02, -2.52337698e-02,\n",
      "       -1.91417322e-01,  1.18949385e-02, -6.16948828e-02, -2.70592161e-02,\n",
      "       -1.87768772e-01, -1.08183086e-01,  7.44637873e-06, -1.25067741e-01,\n",
      "       -9.47856084e-02, -9.09434035e-02, -2.91650333e-02, -8.98543894e-02,\n",
      "       -4.90972251e-02, -1.73913211e-01, -8.91437009e-02,  4.47741672e-02,\n",
      "       -9.96146798e-02, -9.75015983e-02, -7.40121771e-03, -1.15939118e-01,\n",
      "       -1.08584069e-01, -4.20460515e-02, -9.51050818e-02, -5.27009405e-02,\n",
      "       -5.76472543e-02, -4.01258878e-02, -6.43982273e-03, -7.49517977e-02,\n",
      "        4.62726578e-02, -3.28368880e-02, -5.07015623e-02, -2.06253007e-02,\n",
      "       -1.30542904e-01, -5.68679199e-02, -2.83812806e-02, -4.94214743e-02,\n",
      "       -9.44647938e-03, -1.61009222e-01,  3.99070568e-02, -9.80114043e-02,\n",
      "       -1.43842474e-01, -2.40533263e-03, -2.91041825e-02, -1.03294887e-01,\n",
      "       -7.20914230e-02, -1.85971081e-01, -8.88115168e-02, -8.13273489e-02,\n",
      "       -1.03493467e-01,  2.04474498e-02, -9.04906467e-02, -1.56847127e-02,\n",
      "       -2.07394198e-01, -2.91369837e-02, -2.27582961e-01, -7.23074982e-03,\n",
      "       -3.09114009e-02, -1.62543118e-01, -4.70687561e-02,  2.25475430e-02,\n",
      "       -1.19761862e-01, -9.47286859e-02, -1.51901260e-01, -6.28178567e-02,\n",
      "       -2.07018808e-01, -2.51006261e-02, -3.60207483e-02, -1.58800617e-01,\n",
      "       -4.63139713e-02, -1.21515542e-01, -7.33764395e-02, -7.14964196e-02,\n",
      "       -2.75714193e-02, -5.57946824e-02, -3.17332968e-02, -1.62517771e-01,\n",
      "       -1.43282518e-01, -6.62990510e-02, -1.79497957e-01, -1.80923209e-01,\n",
      "        5.51467482e-03, -7.63979778e-02, -4.17021625e-02,  1.10406615e-02,\n",
      "       -7.37721920e-02, -4.65030670e-02,  1.18746972e-02, -4.47602160e-02,\n",
      "        3.27295549e-02, -4.06859368e-02, -2.40589380e-02, -3.37731913e-02,\n",
      "       -5.86785050e-03, -1.82338115e-02,  1.16240764e-02, -1.10529274e-01,\n",
      "       -6.92240149e-02, -7.13943914e-02,  9.49766953e-03, -1.69990525e-01,\n",
      "       -7.71461576e-02, -7.94543922e-02, -6.13884255e-03,  1.90561963e-03,\n",
      "       -7.10009336e-02, -9.70932022e-02, -7.61022866e-02, -8.41996819e-02,\n",
      "       -1.76839769e-01, -1.40863344e-01, -7.74834305e-02, -1.21986993e-01,\n",
      "       -7.17182383e-02, -1.69569775e-01, -3.74550074e-02, -1.15504116e-01,\n",
      "        1.04697132e-02, -8.20638090e-02, -7.61472881e-02, -1.40233226e-02,\n",
      "       -6.65559992e-02, -1.18231922e-01, -3.34426872e-02, -1.02335736e-01,\n",
      "       -1.12712905e-01, -8.22991878e-02, -5.89359142e-02, -5.26931398e-02,\n",
      "        6.27361820e-04, -6.60192743e-02, -2.51884982e-02, -8.65518861e-03,\n",
      "       -4.04115319e-02, -3.48375142e-02,  3.87374721e-02, -9.26905423e-02,\n",
      "       -5.30588627e-02, -3.99824679e-02, -2.38135830e-01, -8.34295452e-02,\n",
      "       -6.51447549e-02, -1.06115110e-01, -9.56627205e-02, -6.45020977e-02,\n",
      "       -5.01537621e-02, -5.00591546e-02, -1.14886731e-01, -1.42588839e-01,\n",
      "       -1.01624861e-01, -8.09959397e-02,  5.64919375e-02, -1.36631370e-01,\n",
      "       -4.74215038e-02, -4.83819731e-02, -1.12277426e-01, -7.38738701e-02,\n",
      "       -4.75016460e-02,  1.02663003e-02, -3.30006368e-02,  1.28903929e-02,\n",
      "       -4.56322767e-02, -1.32210910e-01, -1.70299411e-01, -8.25519711e-02,\n",
      "        9.69899260e-03, -5.14447875e-02, -1.09534316e-01, -8.35748911e-02,\n",
      "       -7.60152265e-02, -4.40058969e-02, -1.36947766e-01, -1.13885030e-01,\n",
      "       -1.02727309e-01, -1.47533074e-01, -1.47917331e-03, -5.67958392e-02,\n",
      "       -1.17746860e-01, -5.52526712e-02,  2.22110096e-03, -1.10176094e-01,\n",
      "       -7.75140598e-02, -6.27896041e-02,  4.95660044e-02, -2.24113613e-02,\n",
      "       -5.91678172e-02, -6.67171255e-02, -8.79707411e-02, -8.27502683e-02,\n",
      "       -1.15992427e-01, -6.98135644e-02, -5.42867631e-02,  1.82116795e-02,\n",
      "        1.15202582e-02, -8.03419948e-02, -1.24589965e-01, -4.40048203e-02,\n",
      "        4.78478223e-02,  5.68906218e-02, -1.34479813e-02,  1.45342750e-02,\n",
      "       -5.78498431e-02, -9.50496942e-02, -1.02575414e-01, -1.84543222e-01,\n",
      "       -1.21573238e-02, -9.67833400e-02, -9.07402858e-03,  1.09606301e-02,\n",
      "        9.13293567e-03, -3.81468050e-02, -9.04932618e-02, -1.58463910e-01,\n",
      "       -9.89874303e-02, -1.63955942e-01, -6.60428107e-02, -9.94519889e-02,\n",
      "        1.92832313e-02, -1.10586755e-01, -3.88277248e-02, -9.16662961e-02,\n",
      "       -1.17978603e-01,  9.85692069e-03, -1.37099013e-01, -2.78273933e-02,\n",
      "       -2.19277143e-02, -7.19125494e-02,  2.29471903e-02, -9.13099200e-02,\n",
      "       -7.31700286e-02, -9.04224291e-02, -1.86705902e-01,  4.39515673e-02,\n",
      "       -1.20668299e-01,  1.70503091e-02, -1.23850159e-01, -7.70049319e-02,\n",
      "       -5.49278297e-02, -1.30154490e-01, -1.83721811e-01,  2.55881343e-03,\n",
      "       -4.03057933e-02, -1.49702877e-01,  2.04876978e-02, -9.16506797e-02,\n",
      "       -4.32076827e-02, -9.53564718e-02, -3.25210616e-02, -4.33680303e-02,\n",
      "       -5.76758534e-02, -1.44534677e-01, -9.15434584e-02,  2.72429101e-02],\n",
      "      dtype=float32)]\n",
      "{'name': 'dense_3', 'trainable': True, 'units': 10, 'activation': 'softmax', 'use_bias': True, 'kernel_initializer': {'class_name': 'VarianceScaling', 'config': {'scale': 1.0, 'mode': 'fan_avg', 'distribution': 'uniform', 'seed': None}}, 'bias_initializer': {'class_name': 'Zeros', 'config': {}}, 'kernel_regularizer': None, 'bias_regularizer': None, 'activity_regularizer': None, 'kernel_constraint': None, 'bias_constraint': None}\n",
      "[array([[-0.27806276, -0.01290534, -0.28468728, ..., -0.43767264,\n",
      "        -0.02300325, -0.22548962],\n",
      "       [-0.1719317 , -0.13429831,  0.01609201, ...,  0.02211084,\n",
      "         0.00300323,  0.07536757],\n",
      "       [-0.31136364, -0.0449315 , -0.3662461 , ..., -0.10620508,\n",
      "         0.06548698, -0.05515675],\n",
      "       ...,\n",
      "       [-0.03439513, -0.37299147,  0.04213059, ...,  0.10356977,\n",
      "        -0.2814992 , -0.15677729],\n",
      "       [ 0.03185324,  0.06436542,  0.07284862, ..., -0.22696653,\n",
      "        -0.21577866,  0.06612173],\n",
      "       [-0.00773913, -0.3054535 , -0.28008023, ..., -0.06177674,\n",
      "         0.05379219, -0.07638037]], dtype=float32), array([-0.06324539, -0.09180539, -0.06599806, -0.0042833 , -0.06843721,\n",
      "       -0.03169769, -0.08548226, -0.03858399,  0.1131208 ,  0.0252605 ],\n",
      "      dtype=float32)]\n"
     ]
    }
   ],
   "source": [
    "for layer in model.layers:\n",
    "    print(layer.get_config())\n",
    "    print(layer.get_weights())"
   ]
  },
  {
   "cell_type": "markdown",
   "metadata": {},
   "source": [
    "## Predictions"
   ]
  },
  {
   "cell_type": "code",
   "execution_count": 14,
   "metadata": {},
   "outputs": [
    {
     "name": "stdout",
     "output_type": "stream",
     "text": [
      "9\n"
     ]
    },
    {
     "data": {
      "image/png": "[encoded data removed]",
      "text/plain": [
       "<Figure size 432x288 with 1 Axes>"
      ]
     },
     "metadata": {
      "needs_background": "light"
     },
     "output_type": "display_data"
    }
   ],
   "source": [
    "# for display, un-flatten to 28x28\n",
    "plt.imshow(X_test[7].reshape(28, 28))\n",
    "\n",
    "# argmax converts one-hot to the value (which is the maximum index)\n",
    "# [0 .... 0 1] => 9 (9 is the 9th index in the one-hot array)\n",
    "print(y_test[7].argmax())\n",
    "\n",
    "# need the flattened (784) shape for predict because the model\n",
    "# expects it\n"
   ]
  },
  {
   "cell_type": "code",
   "execution_count": 15,
   "metadata": {},
   "outputs": [],
   "source": [
    "# before feeding into Keras, we need to reshape\n",
    "# input into (batch_index, 784)\n",
    "\n",
    "# Typical error when forgetting to reshape:\n",
    "#\n",
    "# ValueError: Error when checking input: expected dense_7_input \n",
    "# to have shape (784,) but got array with shape (1,)\n",
    "#"
   ]
  },
  {
   "cell_type": "code",
   "execution_count": 16,
   "metadata": {},
   "outputs": [
    {
     "data": {
      "text/plain": [
       "9"
      ]
     },
     "execution_count": 16,
     "metadata": {},
     "output_type": "execute_result"
    }
   ],
   "source": [
    "# reshape to (1, anything)\n",
    "pred = model.predict(X_test[7].reshape(1, -1)) # can also .reshape(1, 784)\n",
    "pred.argmax()"
   ]
  },
  {
   "cell_type": "code",
   "execution_count": 17,
   "metadata": {},
   "outputs": [
    {
     "data": {
      "text/plain": [
       "array([9], dtype=int64)"
      ]
     },
     "execution_count": 17,
     "metadata": {},
     "output_type": "execute_result"
    }
   ],
   "source": [
    "model.predict_classes(X_test[7].reshape(1, -1))"
   ]
  },
  {
   "cell_type": "code",
   "execution_count": null,
   "metadata": {},
   "outputs": [],
   "source": []
  },
  {
   "cell_type": "markdown",
   "metadata": {},
   "source": [
    "## Metrics"
   ]
  },
  {
   "cell_type": "code",
   "execution_count": 18,
   "metadata": {},
   "outputs": [
    {
     "data": {
      "text/plain": [
       "array([7, 2, 1, ..., 4, 5, 6], dtype=int64)"
      ]
     },
     "execution_count": 18,
     "metadata": {},
     "output_type": "execute_result"
    }
   ],
   "source": [
    "y_pred = model.predict_classes(X_test) # return labels so that\n",
    "                                       # sklearn metrics work\n",
    "y_pred"
   ]
  },
  {
   "cell_type": "code",
   "execution_count": 19,
   "metadata": {},
   "outputs": [
    {
     "data": {
      "text/plain": [
       "array([7, 2, 1, ..., 4, 5, 6], dtype=int64)"
      ]
     },
     "execution_count": 19,
     "metadata": {},
     "output_type": "execute_result"
    }
   ],
   "source": [
    "# Truth needs to be converted from one-hot to labels again\n",
    "# so that sklearn metrics work\n",
    "y_test.argmax(axis=1) # column-wise, axis=1 (10 columns)"
   ]
  },
  {
   "cell_type": "code",
   "execution_count": 20,
   "metadata": {},
   "outputs": [
    {
     "name": "stdout",
     "output_type": "stream",
     "text": [
      "              precision    recall  f1-score   support\n",
      "\n",
      "           0       0.98      0.99      0.98       980\n",
      "           1       0.99      0.99      0.99      1135\n",
      "           2       0.98      0.98      0.98      1032\n",
      "           3       0.99      0.98      0.98      1010\n",
      "           4       0.99      0.98      0.98       982\n",
      "           5       0.98      0.98      0.98       892\n",
      "           6       0.98      0.99      0.99       958\n",
      "           7       0.99      0.98      0.98      1028\n",
      "           8       0.98      0.97      0.97       974\n",
      "           9       0.97      0.98      0.97      1009\n",
      "\n",
      "   micro avg       0.98      0.98      0.98     10000\n",
      "   macro avg       0.98      0.98      0.98     10000\n",
      "weighted avg       0.98      0.98      0.98     10000\n",
      "\n"
     ]
    }
   ],
   "source": [
    "print(classification_report(y_test.argmax(axis=1), y_pred))"
   ]
  },
  {
   "cell_type": "code",
   "execution_count": null,
   "metadata": {},
   "outputs": [],
   "source": []
  }
 ],
 "metadata": {
  "kernelspec": {
   "display_name": "Python 3",
   "language": "python",
   "name": "python3"
  },
  "language_info": {
   "codemirror_mode": {
    "name": "ipython",
    "version": 3
   },
   "file_extension": ".py",
   "mimetype": "text/x-python",
   "name": "python",
   "nbconvert_exporter": "python",
   "pygments_lexer": "ipython3",
   "version": "3.6.7"
  }
 },
 "nbformat": 4,
 "nbformat_minor": 2
}
