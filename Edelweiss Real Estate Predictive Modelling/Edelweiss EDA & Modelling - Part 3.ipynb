{
 "cells": [
  {
   "cell_type": "markdown",
   "metadata": {},
   "source": [
    "# Edelweiss: Data Analysis and Modelling Part 3 - XG Boost Regressor with Linear Regression Residuals\n",
    "\n",
    "We will be feeding residuals of finalised linear regression model to XG Boost Regresssor as dependent variable.\n",
    "\n",
    "## 1. Data Preprocessing"
   ]
  },
  {
   "cell_type": "code",
   "execution_count": 1,
   "metadata": {},
   "outputs": [
    {
     "data": {
      "text/html": [
       "<div>\n",
       "<style scoped>\n",
       "    .dataframe tbody tr th:only-of-type {\n",
       "        vertical-align: middle;\n",
       "    }\n",
       "\n",
       "    .dataframe tbody tr th {\n",
       "        vertical-align: top;\n",
       "    }\n",
       "\n",
       "    .dataframe thead th {\n",
       "        text-align: right;\n",
       "    }\n",
       "</style>\n",
       "<table border=\"1\" class=\"dataframe\">\n",
       "  <thead>\n",
       "    <tr style=\"text-align: right;\">\n",
       "      <th></th>\n",
       "      <th>pid</th>\n",
       "      <th>b1</th>\n",
       "      <th>b2</th>\n",
       "      <th>b3</th>\n",
       "      <th>b4</th>\n",
       "      <th>b5</th>\n",
       "      <th>b6</th>\n",
       "      <th>b7</th>\n",
       "      <th>b8</th>\n",
       "      <th>zone</th>\n",
       "      <th>...</th>\n",
       "      <th>V16</th>\n",
       "      <th>V17</th>\n",
       "      <th>V18</th>\n",
       "      <th>V19</th>\n",
       "      <th>V20</th>\n",
       "      <th>V21</th>\n",
       "      <th>V22</th>\n",
       "      <th>V23</th>\n",
       "      <th>V24</th>\n",
       "      <th>V25</th>\n",
       "    </tr>\n",
       "  </thead>\n",
       "  <tbody>\n",
       "    <tr>\n",
       "      <th>0</th>\n",
       "      <td>1</td>\n",
       "      <td>106.0</td>\n",
       "      <td>5.0</td>\n",
       "      <td>NaN</td>\n",
       "      <td>NaN</td>\n",
       "      <td>NaN</td>\n",
       "      <td>NaN</td>\n",
       "      <td>NaN</td>\n",
       "      <td>NaN</td>\n",
       "      <td>Zone A</td>\n",
       "      <td>...</td>\n",
       "      <td>-0.422871</td>\n",
       "      <td>-0.789669</td>\n",
       "      <td>-0.659173</td>\n",
       "      <td>0.189961</td>\n",
       "      <td>0.335592</td>\n",
       "      <td>1.264041</td>\n",
       "      <td>0.054089</td>\n",
       "      <td>-0.131723</td>\n",
       "      <td>-0.580872</td>\n",
       "      <td>0.412611</td>\n",
       "    </tr>\n",
       "    <tr>\n",
       "      <th>1</th>\n",
       "      <td>2</td>\n",
       "      <td>NaN</td>\n",
       "      <td>98.0</td>\n",
       "      <td>52.0</td>\n",
       "      <td>NaN</td>\n",
       "      <td>NaN</td>\n",
       "      <td>NaN</td>\n",
       "      <td>NaN</td>\n",
       "      <td>NaN</td>\n",
       "      <td>Zone A</td>\n",
       "      <td>...</td>\n",
       "      <td>-0.056276</td>\n",
       "      <td>-0.577943</td>\n",
       "      <td>-0.373556</td>\n",
       "      <td>-0.023348</td>\n",
       "      <td>0.538932</td>\n",
       "      <td>0.988884</td>\n",
       "      <td>-0.303059</td>\n",
       "      <td>0.348402</td>\n",
       "      <td>-0.405855</td>\n",
       "      <td>0.458890</td>\n",
       "    </tr>\n",
       "    <tr>\n",
       "      <th>2</th>\n",
       "      <td>3</td>\n",
       "      <td>NaN</td>\n",
       "      <td>98.0</td>\n",
       "      <td>52.0</td>\n",
       "      <td>NaN</td>\n",
       "      <td>NaN</td>\n",
       "      <td>NaN</td>\n",
       "      <td>NaN</td>\n",
       "      <td>NaN</td>\n",
       "      <td>Zone A</td>\n",
       "      <td>...</td>\n",
       "      <td>-0.055074</td>\n",
       "      <td>-0.553753</td>\n",
       "      <td>-0.389509</td>\n",
       "      <td>-0.025317</td>\n",
       "      <td>0.572751</td>\n",
       "      <td>1.003029</td>\n",
       "      <td>-0.347910</td>\n",
       "      <td>0.379972</td>\n",
       "      <td>-0.367028</td>\n",
       "      <td>0.492925</td>\n",
       "    </tr>\n",
       "    <tr>\n",
       "      <th>3</th>\n",
       "      <td>6</td>\n",
       "      <td>107.0</td>\n",
       "      <td>13.0</td>\n",
       "      <td>NaN</td>\n",
       "      <td>NaN</td>\n",
       "      <td>NaN</td>\n",
       "      <td>NaN</td>\n",
       "      <td>NaN</td>\n",
       "      <td>NaN</td>\n",
       "      <td>Zone A</td>\n",
       "      <td>...</td>\n",
       "      <td>-0.174178</td>\n",
       "      <td>-0.400852</td>\n",
       "      <td>-0.209210</td>\n",
       "      <td>-0.201405</td>\n",
       "      <td>0.652291</td>\n",
       "      <td>1.168787</td>\n",
       "      <td>0.021800</td>\n",
       "      <td>0.150187</td>\n",
       "      <td>-0.344659</td>\n",
       "      <td>0.357670</td>\n",
       "    </tr>\n",
       "    <tr>\n",
       "      <th>4</th>\n",
       "      <td>7</td>\n",
       "      <td>1.0</td>\n",
       "      <td>22.0</td>\n",
       "      <td>10.0</td>\n",
       "      <td>NaN</td>\n",
       "      <td>NaN</td>\n",
       "      <td>NaN</td>\n",
       "      <td>NaN</td>\n",
       "      <td>NaN</td>\n",
       "      <td>Zone A</td>\n",
       "      <td>...</td>\n",
       "      <td>-0.063372</td>\n",
       "      <td>-0.468529</td>\n",
       "      <td>-0.364467</td>\n",
       "      <td>-0.108515</td>\n",
       "      <td>0.692411</td>\n",
       "      <td>1.022727</td>\n",
       "      <td>-0.269232</td>\n",
       "      <td>0.352715</td>\n",
       "      <td>-0.367375</td>\n",
       "      <td>0.468766</td>\n",
       "    </tr>\n",
       "  </tbody>\n",
       "</table>\n",
       "<p>5 rows × 48 columns</p>\n",
       "</div>"
      ],
      "text/plain": [
       "   pid     b1    b2    b3  b4  b5  b6  b7  b8    zone  ...       V16  \\\n",
       "0    1  106.0   5.0   NaN NaN NaN NaN NaN NaN  Zone A  ... -0.422871   \n",
       "1    2    NaN  98.0  52.0 NaN NaN NaN NaN NaN  Zone A  ... -0.056276   \n",
       "2    3    NaN  98.0  52.0 NaN NaN NaN NaN NaN  Zone A  ... -0.055074   \n",
       "3    6  107.0  13.0   NaN NaN NaN NaN NaN NaN  Zone A  ... -0.174178   \n",
       "4    7    1.0  22.0  10.0 NaN NaN NaN NaN NaN  Zone A  ... -0.063372   \n",
       "\n",
       "        V17       V18       V19       V20       V21       V22       V23  \\\n",
       "0 -0.789669 -0.659173  0.189961  0.335592  1.264041  0.054089 -0.131723   \n",
       "1 -0.577943 -0.373556 -0.023348  0.538932  0.988884 -0.303059  0.348402   \n",
       "2 -0.553753 -0.389509 -0.025317  0.572751  1.003029 -0.347910  0.379972   \n",
       "3 -0.400852 -0.209210 -0.201405  0.652291  1.168787  0.021800  0.150187   \n",
       "4 -0.468529 -0.364467 -0.108515  0.692411  1.022727 -0.269232  0.352715   \n",
       "\n",
       "        V24       V25  \n",
       "0 -0.580872  0.412611  \n",
       "1 -0.405855  0.458890  \n",
       "2 -0.367028  0.492925  \n",
       "3 -0.344659  0.357670  \n",
       "4 -0.367375  0.468766  \n",
       "\n",
       "[5 rows x 48 columns]"
      ]
     },
     "execution_count": 1,
     "metadata": {},
     "output_type": "execute_result"
    }
   ],
   "source": [
    "import pandas as pd\n",
    "import numpy as np\n",
    "\n",
    "df=pd.read_csv('edw_launch_price_data_with_am_sp_word_embed.csv')\n",
    "df.head()"
   ]
  },
  {
   "cell_type": "markdown",
   "metadata": {},
   "source": [
    "#### 1.1 Creation of micro_market number and developer_number columns"
   ]
  },
  {
   "cell_type": "code",
   "execution_count": 2,
   "metadata": {},
   "outputs": [],
   "source": [
    "df['micro_market_number']=df['micro_market'].str.extract('(\\d+)')\n",
    "df['developer_number']=df['developer'].str.extract('(\\d+)')\n",
    "df['project_number']=df['project'].str.extract('(\\d+)')"
   ]
  },
  {
   "cell_type": "markdown",
   "metadata": {},
   "source": [
    "#### 1.2 Extract launch year from launch date"
   ]
  },
  {
   "cell_type": "code",
   "execution_count": 3,
   "metadata": {},
   "outputs": [],
   "source": [
    "df['launch_year'] = pd.DatetimeIndex(df['launch_date']).year"
   ]
  },
  {
   "cell_type": "markdown",
   "metadata": {},
   "source": [
    "#### 1.3 Log-transformation of wap into log_wap"
   ]
  },
  {
   "cell_type": "code",
   "execution_count": 4,
   "metadata": {},
   "outputs": [],
   "source": [
    "df['log_wap'] = np.log(df['wap'])"
   ]
  },
  {
   "cell_type": "markdown",
   "metadata": {},
   "source": [
    "#### 1.4 Recoding of proj_bedrooms"
   ]
  },
  {
   "cell_type": "code",
   "execution_count": 5,
   "metadata": {},
   "outputs": [
    {
     "data": {
      "text/plain": [
       "1,2              1075\n",
       "1                 519\n",
       "1,2,3             296\n",
       "2,3               241\n",
       "2                 161\n",
       "3                  56\n",
       "2,3,4              51\n",
       "3,4                39\n",
       "1,2,3,4            33\n",
       "3,2                17\n",
       "4                  16\n",
       "3,1,2              14\n",
       "1,3                12\n",
       "3,4,5              10\n",
       "1,2,4               9\n",
       "1,2,3,5             8\n",
       "2,4                 6\n",
       "2,3,5               6\n",
       "1,3,4               6\n",
       "2,3,4,5             5\n",
       "3,5                 4\n",
       "4,2,3               3\n",
       "1,2,3,4,5           3\n",
       "4,5                 3\n",
       "3,4,2               3\n",
       "4,3                 3\n",
       "1,3,4,5             2\n",
       "2,3,4,5,1           1\n",
       "2,5                 1\n",
       "2,3,4,1             1\n",
       "4,1,3               1\n",
       "4,1,2,3             1\n",
       "3,1                 1\n",
       "6,2,3,4,5           1\n",
       "6,1,2,3,4           1\n",
       "4,2                 1\n",
       "4,5,8               1\n",
       "2,3,8               1\n",
       "1,5,8               1\n",
       "3,6                 1\n",
       "5,2,3,4             1\n",
       "2,3,5,1             1\n",
       "3,4,6               1\n",
       "4,5,6,3             1\n",
       "6,7,1,2,3,4,5       1\n",
       "1,2,4,5             1\n",
       "2,3,4,6             1\n",
       "Name: proj_bedrooms, dtype: int64"
      ]
     },
     "execution_count": 5,
     "metadata": {},
     "output_type": "execute_result"
    }
   ],
   "source": [
    "df['proj_bedrooms'].value_counts()"
   ]
  },
  {
   "cell_type": "code",
   "execution_count": 6,
   "metadata": {},
   "outputs": [
    {
     "data": {
      "text/plain": [
       "1 and more    1985\n",
       "2 and more     498\n",
       "3 and more     114\n",
       "4 and more      21\n",
       "6 and more       3\n",
       "Name: proj_bedrooms_clean, dtype: int64"
      ]
     },
     "execution_count": 6,
     "metadata": {},
     "output_type": "execute_result"
    }
   ],
   "source": [
    "new_tags=['1,2,3','1,2,3,4','1,2,3,4','1,3','2,3','2,4','1,3,4','1,2,3,4,5','2,3,4,5','3,4','1,2,3,5','2,3,4','2,3,4']\n",
    "old_tags=['3,1,2','4,1,2,3','2,3,4,1','3,1','3,2','4,2','4,1,3','2,3,4,5,1','5,2,3,4','4,3','2,3,5,1','4,2,3','3,4,2']\n",
    "\n",
    "df[\"proj_bedrooms_clean\"]=df[\"proj_bedrooms\"]\n",
    "df[\"proj_bedrooms_clean\"]=df[\"proj_bedrooms_clean\"].replace(old_tags,new_tags)\n",
    "df[\"proj_bedrooms_clean\"]=df[\"proj_bedrooms_clean\"].str.split(',').str[0]\n",
    "df[\"proj_bedrooms_clean\"]=df[\"proj_bedrooms_clean\"].replace(['1','2','3','4','5','6'],['1 and more','2 and more','3 and more','4 and more','5 and more','6 and more'])\n",
    "df[\"proj_bedrooms_clean\"].value_counts()"
   ]
  },
  {
   "cell_type": "code",
   "execution_count": 7,
   "metadata": {},
   "outputs": [
    {
     "data": {
      "text/html": [
       "<div>\n",
       "<style scoped>\n",
       "    .dataframe tbody tr th:only-of-type {\n",
       "        vertical-align: middle;\n",
       "    }\n",
       "\n",
       "    .dataframe tbody tr th {\n",
       "        vertical-align: top;\n",
       "    }\n",
       "\n",
       "    .dataframe thead th {\n",
       "        text-align: right;\n",
       "    }\n",
       "</style>\n",
       "<table border=\"1\" class=\"dataframe\">\n",
       "  <thead>\n",
       "    <tr style=\"text-align: right;\">\n",
       "      <th></th>\n",
       "      <th>zone</th>\n",
       "      <th>micro_market_number</th>\n",
       "      <th>developer_number</th>\n",
       "      <th>project_number</th>\n",
       "      <th>wap</th>\n",
       "      <th>log_wap</th>\n",
       "      <th>proj_bedrooms_clean</th>\n",
       "      <th>unit_type</th>\n",
       "      <th>proj_launched_units</th>\n",
       "      <th>launch_year</th>\n",
       "      <th>...</th>\n",
       "      <th>V16</th>\n",
       "      <th>V17</th>\n",
       "      <th>V18</th>\n",
       "      <th>V19</th>\n",
       "      <th>V20</th>\n",
       "      <th>V21</th>\n",
       "      <th>V22</th>\n",
       "      <th>V23</th>\n",
       "      <th>V24</th>\n",
       "      <th>V25</th>\n",
       "    </tr>\n",
       "  </thead>\n",
       "  <tbody>\n",
       "    <tr>\n",
       "      <th>0</th>\n",
       "      <td>Zone A</td>\n",
       "      <td>1</td>\n",
       "      <td>1</td>\n",
       "      <td>1</td>\n",
       "      <td>14464.0000</td>\n",
       "      <td>9.579418</td>\n",
       "      <td>1 and more</td>\n",
       "      <td>Apartment</td>\n",
       "      <td>111</td>\n",
       "      <td>2015</td>\n",
       "      <td>...</td>\n",
       "      <td>-0.422871</td>\n",
       "      <td>-0.789669</td>\n",
       "      <td>-0.659173</td>\n",
       "      <td>0.189961</td>\n",
       "      <td>0.335592</td>\n",
       "      <td>1.264041</td>\n",
       "      <td>0.054089</td>\n",
       "      <td>-0.131723</td>\n",
       "      <td>-0.580872</td>\n",
       "      <td>0.412611</td>\n",
       "    </tr>\n",
       "    <tr>\n",
       "      <th>1</th>\n",
       "      <td>Zone A</td>\n",
       "      <td>1</td>\n",
       "      <td>2</td>\n",
       "      <td>2</td>\n",
       "      <td>13982.0000</td>\n",
       "      <td>9.545526</td>\n",
       "      <td>2 and more</td>\n",
       "      <td>Apartment</td>\n",
       "      <td>150</td>\n",
       "      <td>2014</td>\n",
       "      <td>...</td>\n",
       "      <td>-0.056276</td>\n",
       "      <td>-0.577943</td>\n",
       "      <td>-0.373556</td>\n",
       "      <td>-0.023348</td>\n",
       "      <td>0.538932</td>\n",
       "      <td>0.988884</td>\n",
       "      <td>-0.303059</td>\n",
       "      <td>0.348402</td>\n",
       "      <td>-0.405855</td>\n",
       "      <td>0.458890</td>\n",
       "    </tr>\n",
       "    <tr>\n",
       "      <th>2</th>\n",
       "      <td>Zone A</td>\n",
       "      <td>1</td>\n",
       "      <td>2</td>\n",
       "      <td>3</td>\n",
       "      <td>13982.0000</td>\n",
       "      <td>9.545526</td>\n",
       "      <td>2 and more</td>\n",
       "      <td>Apartment</td>\n",
       "      <td>150</td>\n",
       "      <td>2014</td>\n",
       "      <td>...</td>\n",
       "      <td>-0.055074</td>\n",
       "      <td>-0.553753</td>\n",
       "      <td>-0.389509</td>\n",
       "      <td>-0.025317</td>\n",
       "      <td>0.572751</td>\n",
       "      <td>1.003029</td>\n",
       "      <td>-0.347910</td>\n",
       "      <td>0.379972</td>\n",
       "      <td>-0.367028</td>\n",
       "      <td>0.492925</td>\n",
       "    </tr>\n",
       "    <tr>\n",
       "      <th>3</th>\n",
       "      <td>Zone A</td>\n",
       "      <td>1</td>\n",
       "      <td>5</td>\n",
       "      <td>6</td>\n",
       "      <td>12857.0000</td>\n",
       "      <td>9.461644</td>\n",
       "      <td>1 and more</td>\n",
       "      <td>Apartment</td>\n",
       "      <td>120</td>\n",
       "      <td>2016</td>\n",
       "      <td>...</td>\n",
       "      <td>-0.174178</td>\n",
       "      <td>-0.400852</td>\n",
       "      <td>-0.209210</td>\n",
       "      <td>-0.201405</td>\n",
       "      <td>0.652291</td>\n",
       "      <td>1.168787</td>\n",
       "      <td>0.021800</td>\n",
       "      <td>0.150187</td>\n",
       "      <td>-0.344659</td>\n",
       "      <td>0.357670</td>\n",
       "    </tr>\n",
       "    <tr>\n",
       "      <th>4</th>\n",
       "      <td>Zone A</td>\n",
       "      <td>1</td>\n",
       "      <td>7</td>\n",
       "      <td>8</td>\n",
       "      <td>16981.5758</td>\n",
       "      <td>9.739884</td>\n",
       "      <td>1 and more</td>\n",
       "      <td>Apartment</td>\n",
       "      <td>33</td>\n",
       "      <td>2015</td>\n",
       "      <td>...</td>\n",
       "      <td>-0.063372</td>\n",
       "      <td>-0.468529</td>\n",
       "      <td>-0.364467</td>\n",
       "      <td>-0.108515</td>\n",
       "      <td>0.692411</td>\n",
       "      <td>1.022727</td>\n",
       "      <td>-0.269232</td>\n",
       "      <td>0.352715</td>\n",
       "      <td>-0.367375</td>\n",
       "      <td>0.468766</td>\n",
       "    </tr>\n",
       "  </tbody>\n",
       "</table>\n",
       "<p>5 rows × 46 columns</p>\n",
       "</div>"
      ],
      "text/plain": [
       "     zone micro_market_number developer_number project_number         wap  \\\n",
       "0  Zone A                   1                1              1  14464.0000   \n",
       "1  Zone A                   1                2              2  13982.0000   \n",
       "2  Zone A                   1                2              3  13982.0000   \n",
       "3  Zone A                   1                5              6  12857.0000   \n",
       "4  Zone A                   1                7              8  16981.5758   \n",
       "\n",
       "    log_wap proj_bedrooms_clean  unit_type  proj_launched_units  launch_year  \\\n",
       "0  9.579418          1 and more  Apartment                  111         2015   \n",
       "1  9.545526          2 and more  Apartment                  150         2014   \n",
       "2  9.545526          2 and more  Apartment                  150         2014   \n",
       "3  9.461644          1 and more  Apartment                  120         2016   \n",
       "4  9.739884          1 and more  Apartment                   33         2015   \n",
       "\n",
       "   ...       V16       V17       V18       V19       V20       V21       V22  \\\n",
       "0  ... -0.422871 -0.789669 -0.659173  0.189961  0.335592  1.264041  0.054089   \n",
       "1  ... -0.056276 -0.577943 -0.373556 -0.023348  0.538932  0.988884 -0.303059   \n",
       "2  ... -0.055074 -0.553753 -0.389509 -0.025317  0.572751  1.003029 -0.347910   \n",
       "3  ... -0.174178 -0.400852 -0.209210 -0.201405  0.652291  1.168787  0.021800   \n",
       "4  ... -0.063372 -0.468529 -0.364467 -0.108515  0.692411  1.022727 -0.269232   \n",
       "\n",
       "        V23       V24       V25  \n",
       "0 -0.131723 -0.580872  0.412611  \n",
       "1  0.348402 -0.405855  0.458890  \n",
       "2  0.379972 -0.367028  0.492925  \n",
       "3  0.150187 -0.344659  0.357670  \n",
       "4  0.352715 -0.367375  0.468766  \n",
       "\n",
       "[5 rows x 46 columns]"
      ]
     },
     "execution_count": 7,
     "metadata": {},
     "output_type": "execute_result"
    }
   ],
   "source": [
    "cols=['zone', 'micro_market_number', 'developer_number','project_number','wap','log_wap','proj_bedrooms_clean','unit_type','proj_launched_units','launch_year','construction_status','max_size','min_size','b1','b2','b3','b4','b5','b6','b7','b8']\n",
    "df1=pd.DataFrame(df[cols]).fillna(\"0\")\n",
    "w_emb=df.loc[:,'V1':'V25']\n",
    "df1=pd.concat([df1, w_emb], axis=1)\n",
    "df1.head()"
   ]
  },
  {
   "cell_type": "markdown",
   "metadata": {},
   "source": [
    "#### 1.5 Type Conversion\n"
   ]
  },
  {
   "cell_type": "code",
   "execution_count": 8,
   "metadata": {},
   "outputs": [
    {
     "name": "stdout",
     "output_type": "stream",
     "text": [
      "<class 'pandas.core.frame.DataFrame'>\n",
      "RangeIndex: 2621 entries, 0 to 2620\n",
      "Data columns (total 46 columns):\n",
      "zone                   2621 non-null object\n",
      "micro_market_number    2621 non-null object\n",
      "developer_number       2621 non-null object\n",
      "project_number         2621 non-null object\n",
      "wap                    2621 non-null float64\n",
      "log_wap                2621 non-null float64\n",
      "proj_bedrooms_clean    2621 non-null object\n",
      "unit_type              2621 non-null object\n",
      "proj_launched_units    2621 non-null int64\n",
      "launch_year            2621 non-null int64\n",
      "construction_status    2621 non-null object\n",
      "max_size               2621 non-null float64\n",
      "min_size               2621 non-null float64\n",
      "b1                     2621 non-null object\n",
      "b2                     2621 non-null object\n",
      "b3                     2621 non-null object\n",
      "b4                     2621 non-null object\n",
      "b5                     2621 non-null object\n",
      "b6                     2621 non-null object\n",
      "b7                     2621 non-null object\n",
      "b8                     2621 non-null object\n",
      "V1                     2621 non-null float64\n",
      "V2                     2621 non-null float64\n",
      "V3                     2621 non-null float64\n",
      "V4                     2621 non-null float64\n",
      "V5                     2621 non-null float64\n",
      "V6                     2621 non-null float64\n",
      "V7                     2621 non-null float64\n",
      "V8                     2621 non-null float64\n",
      "V9                     2621 non-null float64\n",
      "V10                    2621 non-null float64\n",
      "V11                    2621 non-null float64\n",
      "V12                    2621 non-null float64\n",
      "V13                    2621 non-null float64\n",
      "V14                    2621 non-null float64\n",
      "V15                    2621 non-null float64\n",
      "V16                    2621 non-null float64\n",
      "V17                    2621 non-null float64\n",
      "V18                    2621 non-null float64\n",
      "V19                    2621 non-null float64\n",
      "V20                    2621 non-null float64\n",
      "V21                    2621 non-null float64\n",
      "V22                    2621 non-null float64\n",
      "V23                    2621 non-null float64\n",
      "V24                    2621 non-null float64\n",
      "V25                    2621 non-null float64\n",
      "dtypes: float64(29), int64(2), object(15)\n",
      "memory usage: 942.0+ KB\n"
     ]
    }
   ],
   "source": [
    "df1.info()"
   ]
  },
  {
   "cell_type": "code",
   "execution_count": 9,
   "metadata": {},
   "outputs": [],
   "source": [
    "def type_converter (dataframe, col_name, data_type):\n",
    "    dataframe[col_name]=dataframe[col_name].astype(data_type)"
   ]
  },
  {
   "cell_type": "code",
   "execution_count": 10,
   "metadata": {},
   "outputs": [],
   "source": [
    "for i in ['b1','b2','b3','b4','b5','b6','b7','b8']:\n",
    "    type_converter (df1, i, 'int')"
   ]
  },
  {
   "cell_type": "code",
   "execution_count": 11,
   "metadata": {},
   "outputs": [],
   "source": [
    "for i in ['zone','micro_market_number','proj_bedrooms_clean','project_number','unit_type','launch_year','construction_status']:\n",
    "    type_converter (df1, i, 'category')"
   ]
  },
  {
   "cell_type": "code",
   "execution_count": 12,
   "metadata": {},
   "outputs": [
    {
     "name": "stdout",
     "output_type": "stream",
     "text": [
      "<class 'pandas.core.frame.DataFrame'>\n",
      "RangeIndex: 2621 entries, 0 to 2620\n",
      "Data columns (total 46 columns):\n",
      "zone                   2621 non-null category\n",
      "micro_market_number    2621 non-null category\n",
      "developer_number       2621 non-null object\n",
      "project_number         2621 non-null category\n",
      "wap                    2621 non-null float64\n",
      "log_wap                2621 non-null float64\n",
      "proj_bedrooms_clean    2621 non-null category\n",
      "unit_type              2621 non-null category\n",
      "proj_launched_units    2621 non-null int64\n",
      "launch_year            2621 non-null category\n",
      "construction_status    2621 non-null category\n",
      "max_size               2621 non-null float64\n",
      "min_size               2621 non-null float64\n",
      "b1                     2621 non-null int32\n",
      "b2                     2621 non-null int32\n",
      "b3                     2621 non-null int32\n",
      "b4                     2621 non-null int32\n",
      "b5                     2621 non-null int32\n",
      "b6                     2621 non-null int32\n",
      "b7                     2621 non-null int32\n",
      "b8                     2621 non-null int32\n",
      "V1                     2621 non-null float64\n",
      "V2                     2621 non-null float64\n",
      "V3                     2621 non-null float64\n",
      "V4                     2621 non-null float64\n",
      "V5                     2621 non-null float64\n",
      "V6                     2621 non-null float64\n",
      "V7                     2621 non-null float64\n",
      "V8                     2621 non-null float64\n",
      "V9                     2621 non-null float64\n",
      "V10                    2621 non-null float64\n",
      "V11                    2621 non-null float64\n",
      "V12                    2621 non-null float64\n",
      "V13                    2621 non-null float64\n",
      "V14                    2621 non-null float64\n",
      "V15                    2621 non-null float64\n",
      "V16                    2621 non-null float64\n",
      "V17                    2621 non-null float64\n",
      "V18                    2621 non-null float64\n",
      "V19                    2621 non-null float64\n",
      "V20                    2621 non-null float64\n",
      "V21                    2621 non-null float64\n",
      "V22                    2621 non-null float64\n",
      "V23                    2621 non-null float64\n",
      "V24                    2621 non-null float64\n",
      "V25                    2621 non-null float64\n",
      "dtypes: category(7), float64(29), int32(8), int64(1), object(1)\n",
      "memory usage: 842.8+ KB\n"
     ]
    }
   ],
   "source": [
    "df1.info()"
   ]
  },
  {
   "cell_type": "markdown",
   "metadata": {},
   "source": [
    "#### 1.6 Creation of bedrooms by typology columns\n"
   ]
  },
  {
   "cell_type": "code",
   "execution_count": 13,
   "metadata": {},
   "outputs": [],
   "source": [
    "df1['bp1']=df1['b1']/df1['proj_launched_units']\n",
    "df1['bp2']=df1['b2']/df1['proj_launched_units']\n",
    "df1['bp3']=df1['b3']/df1['proj_launched_units']\n",
    "df1['bp4']=df1['b4']/df1['proj_launched_units']\n",
    "df1['bp5']=df1['b5']/df1['proj_launched_units']\n",
    "df1['bp6']=df1['b6']/df1['proj_launched_units']\n",
    "df1['bp7']=df1['b7']/df1['proj_launched_units']\n",
    "df1['bp8']=df1['b8']/df1['proj_launched_units']"
   ]
  },
  {
   "cell_type": "code",
   "execution_count": 14,
   "metadata": {},
   "outputs": [],
   "source": [
    "df1['bp48']=df1['bp4']+df1['bp5']+df1['bp6']+df1['bp7']+df1['bp8']\n",
    "df1['bp58']=df1['bp5']+df1['bp6']+df1['bp7']+df1['bp8']"
   ]
  },
  {
   "cell_type": "markdown",
   "metadata": {},
   "source": [
    "#### 1.7 rv_size column\n"
   ]
  },
  {
   "cell_type": "code",
   "execution_count": 15,
   "metadata": {},
   "outputs": [],
   "source": [
    "df1['size_range'] = df1['max_size'] - df1['min_size']\n",
    "df1['size_rv'] = df1['size_range'] / df1['min_size']"
   ]
  },
  {
   "cell_type": "code",
   "execution_count": 16,
   "metadata": {},
   "outputs": [
    {
     "data": {
      "text/html": [
       "<div>\n",
       "<style scoped>\n",
       "    .dataframe tbody tr th:only-of-type {\n",
       "        vertical-align: middle;\n",
       "    }\n",
       "\n",
       "    .dataframe tbody tr th {\n",
       "        vertical-align: top;\n",
       "    }\n",
       "\n",
       "    .dataframe thead th {\n",
       "        text-align: right;\n",
       "    }\n",
       "</style>\n",
       "<table border=\"1\" class=\"dataframe\">\n",
       "  <thead>\n",
       "    <tr style=\"text-align: right;\">\n",
       "      <th></th>\n",
       "      <th>zone</th>\n",
       "      <th>micro_market_number</th>\n",
       "      <th>developer_number</th>\n",
       "      <th>project_number</th>\n",
       "      <th>wap</th>\n",
       "      <th>log_wap</th>\n",
       "      <th>proj_bedrooms_clean</th>\n",
       "      <th>unit_type</th>\n",
       "      <th>proj_launched_units</th>\n",
       "      <th>launch_year</th>\n",
       "      <th>...</th>\n",
       "      <th>bp3</th>\n",
       "      <th>bp4</th>\n",
       "      <th>bp5</th>\n",
       "      <th>bp6</th>\n",
       "      <th>bp7</th>\n",
       "      <th>bp8</th>\n",
       "      <th>bp48</th>\n",
       "      <th>bp58</th>\n",
       "      <th>size_range</th>\n",
       "      <th>size_rv</th>\n",
       "    </tr>\n",
       "  </thead>\n",
       "  <tbody>\n",
       "    <tr>\n",
       "      <th>0</th>\n",
       "      <td>Zone A</td>\n",
       "      <td>1</td>\n",
       "      <td>1</td>\n",
       "      <td>1</td>\n",
       "      <td>14464.0000</td>\n",
       "      <td>9.579418</td>\n",
       "      <td>1 and more</td>\n",
       "      <td>Apartment</td>\n",
       "      <td>111</td>\n",
       "      <td>2015</td>\n",
       "      <td>...</td>\n",
       "      <td>0.000000</td>\n",
       "      <td>0.0</td>\n",
       "      <td>0.0</td>\n",
       "      <td>0.0</td>\n",
       "      <td>0.0</td>\n",
       "      <td>0.0</td>\n",
       "      <td>0.0</td>\n",
       "      <td>0.0</td>\n",
       "      <td>432.27</td>\n",
       "      <td>1.383353</td>\n",
       "    </tr>\n",
       "    <tr>\n",
       "      <th>1</th>\n",
       "      <td>Zone A</td>\n",
       "      <td>1</td>\n",
       "      <td>2</td>\n",
       "      <td>2</td>\n",
       "      <td>13982.0000</td>\n",
       "      <td>9.545526</td>\n",
       "      <td>2 and more</td>\n",
       "      <td>Apartment</td>\n",
       "      <td>150</td>\n",
       "      <td>2014</td>\n",
       "      <td>...</td>\n",
       "      <td>0.346667</td>\n",
       "      <td>0.0</td>\n",
       "      <td>0.0</td>\n",
       "      <td>0.0</td>\n",
       "      <td>0.0</td>\n",
       "      <td>0.0</td>\n",
       "      <td>0.0</td>\n",
       "      <td>0.0</td>\n",
       "      <td>272.43</td>\n",
       "      <td>0.372748</td>\n",
       "    </tr>\n",
       "    <tr>\n",
       "      <th>2</th>\n",
       "      <td>Zone A</td>\n",
       "      <td>1</td>\n",
       "      <td>2</td>\n",
       "      <td>3</td>\n",
       "      <td>13982.0000</td>\n",
       "      <td>9.545526</td>\n",
       "      <td>2 and more</td>\n",
       "      <td>Apartment</td>\n",
       "      <td>150</td>\n",
       "      <td>2014</td>\n",
       "      <td>...</td>\n",
       "      <td>0.346667</td>\n",
       "      <td>0.0</td>\n",
       "      <td>0.0</td>\n",
       "      <td>0.0</td>\n",
       "      <td>0.0</td>\n",
       "      <td>0.0</td>\n",
       "      <td>0.0</td>\n",
       "      <td>0.0</td>\n",
       "      <td>272.43</td>\n",
       "      <td>0.372748</td>\n",
       "    </tr>\n",
       "    <tr>\n",
       "      <th>3</th>\n",
       "      <td>Zone A</td>\n",
       "      <td>1</td>\n",
       "      <td>5</td>\n",
       "      <td>6</td>\n",
       "      <td>12857.0000</td>\n",
       "      <td>9.461644</td>\n",
       "      <td>1 and more</td>\n",
       "      <td>Apartment</td>\n",
       "      <td>120</td>\n",
       "      <td>2016</td>\n",
       "      <td>...</td>\n",
       "      <td>0.000000</td>\n",
       "      <td>0.0</td>\n",
       "      <td>0.0</td>\n",
       "      <td>0.0</td>\n",
       "      <td>0.0</td>\n",
       "      <td>0.0</td>\n",
       "      <td>0.0</td>\n",
       "      <td>0.0</td>\n",
       "      <td>320.55</td>\n",
       "      <td>1.187398</td>\n",
       "    </tr>\n",
       "    <tr>\n",
       "      <th>4</th>\n",
       "      <td>Zone A</td>\n",
       "      <td>1</td>\n",
       "      <td>7</td>\n",
       "      <td>8</td>\n",
       "      <td>16981.5758</td>\n",
       "      <td>9.739884</td>\n",
       "      <td>1 and more</td>\n",
       "      <td>Apartment</td>\n",
       "      <td>33</td>\n",
       "      <td>2015</td>\n",
       "      <td>...</td>\n",
       "      <td>0.303030</td>\n",
       "      <td>0.0</td>\n",
       "      <td>0.0</td>\n",
       "      <td>0.0</td>\n",
       "      <td>0.0</td>\n",
       "      <td>0.0</td>\n",
       "      <td>0.0</td>\n",
       "      <td>0.0</td>\n",
       "      <td>1035.43</td>\n",
       "      <td>1.519184</td>\n",
       "    </tr>\n",
       "  </tbody>\n",
       "</table>\n",
       "<p>5 rows × 58 columns</p>\n",
       "</div>"
      ],
      "text/plain": [
       "     zone micro_market_number developer_number project_number         wap  \\\n",
       "0  Zone A                   1                1              1  14464.0000   \n",
       "1  Zone A                   1                2              2  13982.0000   \n",
       "2  Zone A                   1                2              3  13982.0000   \n",
       "3  Zone A                   1                5              6  12857.0000   \n",
       "4  Zone A                   1                7              8  16981.5758   \n",
       "\n",
       "    log_wap proj_bedrooms_clean  unit_type  proj_launched_units launch_year  \\\n",
       "0  9.579418          1 and more  Apartment                  111        2015   \n",
       "1  9.545526          2 and more  Apartment                  150        2014   \n",
       "2  9.545526          2 and more  Apartment                  150        2014   \n",
       "3  9.461644          1 and more  Apartment                  120        2016   \n",
       "4  9.739884          1 and more  Apartment                   33        2015   \n",
       "\n",
       "   ...       bp3  bp4  bp5  bp6  bp7  bp8  bp48  bp58  size_range   size_rv  \n",
       "0  ...  0.000000  0.0  0.0  0.0  0.0  0.0   0.0   0.0      432.27  1.383353  \n",
       "1  ...  0.346667  0.0  0.0  0.0  0.0  0.0   0.0   0.0      272.43  0.372748  \n",
       "2  ...  0.346667  0.0  0.0  0.0  0.0  0.0   0.0   0.0      272.43  0.372748  \n",
       "3  ...  0.000000  0.0  0.0  0.0  0.0  0.0   0.0   0.0      320.55  1.187398  \n",
       "4  ...  0.303030  0.0  0.0  0.0  0.0  0.0   0.0   0.0     1035.43  1.519184  \n",
       "\n",
       "[5 rows x 58 columns]"
      ]
     },
     "execution_count": 16,
     "metadata": {},
     "output_type": "execute_result"
    }
   ],
   "source": [
    "df1.head()"
   ]
  },
  {
   "cell_type": "markdown",
   "metadata": {},
   "source": [
    "## 2. Data and Cluster Analysis\n",
    "\n",
    "### 2.1 Clustering of Micromarkets\n",
    "\n",
    "1. K-Means Clustering based on mean of wap for every micromarket\n",
    "\n",
    "2. Assigning cluster numbers to respective micro_markets\n",
    "\n",
    "3. Counting number of projects and micromarkets in every cluster\n"
   ]
  },
  {
   "cell_type": "code",
   "execution_count": 17,
   "metadata": {},
   "outputs": [],
   "source": [
    "import matplotlib.pyplot as plt\n",
    "import seaborn as sns\n",
    "%matplotlib inline\n",
    "\n",
    "sns.set(style=\"darkgrid\")\n",
    "sns.set_color_codes(\"dark\")"
   ]
  },
  {
   "cell_type": "code",
   "execution_count": 18,
   "metadata": {},
   "outputs": [
    {
     "data": {
      "text/plain": [
       "micro_market_number\n",
       "1      16070.897978\n",
       "10     12709.734924\n",
       "100     6730.000000\n",
       "101     4800.454082\n",
       "102     7601.348358\n",
       "104     4550.000000\n",
       "105     9666.666667\n",
       "106     5561.967821\n",
       "107     8028.775714\n",
       "108    10951.648586\n",
       "109     4281.954455\n",
       "11     13484.938329\n",
       "110     5600.885779\n",
       "111    15000.000000\n",
       "112     3487.000000\n",
       "113     4788.333333\n",
       "114    10016.946792\n",
       "115    24283.307556\n",
       "116    49078.461538\n",
       "118    36898.200000\n",
       "119    34324.333333\n",
       "12     12687.445504\n",
       "120    33074.574463\n",
       "121    19744.017888\n",
       "122    38020.914456\n",
       "123    28022.157103\n",
       "124    31466.083000\n",
       "13     14725.692669\n",
       "14      3217.645000\n",
       "15      3230.666667\n",
       "           ...     \n",
       "69      3134.751107\n",
       "7      14843.527256\n",
       "70      2900.637781\n",
       "72      4615.802286\n",
       "73      4877.616544\n",
       "75     17564.462999\n",
       "76     17072.694050\n",
       "77     18741.930000\n",
       "79     17901.507612\n",
       "8      16130.349347\n",
       "80     20000.000000\n",
       "81     50000.000000\n",
       "82     24814.456483\n",
       "84     31521.000000\n",
       "85     31160.750000\n",
       "86     24508.750000\n",
       "87     26954.200000\n",
       "88     29835.340446\n",
       "89     30000.000000\n",
       "9      15391.270927\n",
       "90     27500.000000\n",
       "91     21137.908679\n",
       "92     27392.152940\n",
       "93     42797.333333\n",
       "94     41928.750000\n",
       "95     10719.430572\n",
       "96      5898.400000\n",
       "97      4174.288250\n",
       "98      9155.409091\n",
       "99      5780.332080\n",
       "Name: wap, Length: 113, dtype: float64"
      ]
     },
     "execution_count": 18,
     "metadata": {},
     "output_type": "execute_result"
    }
   ],
   "source": [
    "mm_prices=df1.groupby('micro_market_number')['wap'].mean()\n",
    "mm_prices"
   ]
  },
  {
   "cell_type": "markdown",
   "metadata": {},
   "source": [
    "The number of micromarkets is too large to be used as a variable for regression model. Let's cluster micromarkets in terms of prices. Let us try kmeans clustering."
   ]
  },
  {
   "cell_type": "code",
   "execution_count": 19,
   "metadata": {},
   "outputs": [
    {
     "data": {
      "text/plain": [
       "(113, 1)"
      ]
     },
     "execution_count": 19,
     "metadata": {},
     "output_type": "execute_result"
    }
   ],
   "source": [
    "mm=mm_prices.values\n",
    "mm=mm.reshape(-1, 1)\n",
    "mm.shape"
   ]
  },
  {
   "cell_type": "code",
   "execution_count": 20,
   "metadata": {},
   "outputs": [
    {
     "name": "stdout",
     "output_type": "stream",
     "text": [
      "Silhoutte Score of Micromarket Clusters: 0.659594734571081\n"
     ]
    }
   ],
   "source": [
    "from sklearn.cluster import KMeans\n",
    "\n",
    "#clustering formula\n",
    "kmeans = KMeans(n_clusters=20, n_init=100, max_iter=1000,n_jobs=5)\n",
    "\n",
    "# get the clusters\n",
    "kmm = kmeans.fit_predict(mm)\n",
    "\n",
    "#clustering metric\n",
    "from sklearn.metrics import silhouette_score\n",
    "print(\"Silhoutte Score of Micromarket Clusters:\", silhouette_score(mm, kmm))"
   ]
  },
  {
   "cell_type": "code",
   "execution_count": 21,
   "metadata": {},
   "outputs": [
    {
     "data": {
      "text/html": [
       "<div>\n",
       "<style scoped>\n",
       "    .dataframe tbody tr th:only-of-type {\n",
       "        vertical-align: middle;\n",
       "    }\n",
       "\n",
       "    .dataframe tbody tr th {\n",
       "        vertical-align: top;\n",
       "    }\n",
       "\n",
       "    .dataframe thead th {\n",
       "        text-align: right;\n",
       "    }\n",
       "</style>\n",
       "<table border=\"1\" class=\"dataframe\">\n",
       "  <thead>\n",
       "    <tr style=\"text-align: right;\">\n",
       "      <th></th>\n",
       "      <th>micro_market_number</th>\n",
       "      <th>project_number</th>\n",
       "      <th>mm_cluster</th>\n",
       "    </tr>\n",
       "  </thead>\n",
       "  <tbody>\n",
       "    <tr>\n",
       "      <th>0</th>\n",
       "      <td>1</td>\n",
       "      <td>49</td>\n",
       "      <td>2</td>\n",
       "    </tr>\n",
       "    <tr>\n",
       "      <th>1</th>\n",
       "      <td>10</td>\n",
       "      <td>12</td>\n",
       "      <td>9</td>\n",
       "    </tr>\n",
       "    <tr>\n",
       "      <th>2</th>\n",
       "      <td>100</td>\n",
       "      <td>5</td>\n",
       "      <td>13</td>\n",
       "    </tr>\n",
       "    <tr>\n",
       "      <th>3</th>\n",
       "      <td>101</td>\n",
       "      <td>49</td>\n",
       "      <td>0</td>\n",
       "    </tr>\n",
       "    <tr>\n",
       "      <th>4</th>\n",
       "      <td>102</td>\n",
       "      <td>33</td>\n",
       "      <td>13</td>\n",
       "    </tr>\n",
       "    <tr>\n",
       "      <th>5</th>\n",
       "      <td>104</td>\n",
       "      <td>2</td>\n",
       "      <td>0</td>\n",
       "    </tr>\n",
       "    <tr>\n",
       "      <th>6</th>\n",
       "      <td>105</td>\n",
       "      <td>3</td>\n",
       "      <td>5</td>\n",
       "    </tr>\n",
       "    <tr>\n",
       "      <th>7</th>\n",
       "      <td>106</td>\n",
       "      <td>55</td>\n",
       "      <td>19</td>\n",
       "    </tr>\n",
       "    <tr>\n",
       "      <th>8</th>\n",
       "      <td>107</td>\n",
       "      <td>7</td>\n",
       "      <td>13</td>\n",
       "    </tr>\n",
       "    <tr>\n",
       "      <th>9</th>\n",
       "      <td>108</td>\n",
       "      <td>14</td>\n",
       "      <td>18</td>\n",
       "    </tr>\n",
       "    <tr>\n",
       "      <th>10</th>\n",
       "      <td>109</td>\n",
       "      <td>49</td>\n",
       "      <td>16</td>\n",
       "    </tr>\n",
       "    <tr>\n",
       "      <th>11</th>\n",
       "      <td>11</td>\n",
       "      <td>28</td>\n",
       "      <td>9</td>\n",
       "    </tr>\n",
       "    <tr>\n",
       "      <th>12</th>\n",
       "      <td>110</td>\n",
       "      <td>129</td>\n",
       "      <td>19</td>\n",
       "    </tr>\n",
       "    <tr>\n",
       "      <th>13</th>\n",
       "      <td>111</td>\n",
       "      <td>1</td>\n",
       "      <td>14</td>\n",
       "    </tr>\n",
       "    <tr>\n",
       "      <th>14</th>\n",
       "      <td>112</td>\n",
       "      <td>1</td>\n",
       "      <td>7</td>\n",
       "    </tr>\n",
       "    <tr>\n",
       "      <th>15</th>\n",
       "      <td>113</td>\n",
       "      <td>3</td>\n",
       "      <td>0</td>\n",
       "    </tr>\n",
       "    <tr>\n",
       "      <th>16</th>\n",
       "      <td>114</td>\n",
       "      <td>181</td>\n",
       "      <td>18</td>\n",
       "    </tr>\n",
       "    <tr>\n",
       "      <th>17</th>\n",
       "      <td>115</td>\n",
       "      <td>9</td>\n",
       "      <td>11</td>\n",
       "    </tr>\n",
       "    <tr>\n",
       "      <th>18</th>\n",
       "      <td>116</td>\n",
       "      <td>13</td>\n",
       "      <td>3</td>\n",
       "    </tr>\n",
       "    <tr>\n",
       "      <th>19</th>\n",
       "      <td>118</td>\n",
       "      <td>5</td>\n",
       "      <td>4</td>\n",
       "    </tr>\n",
       "    <tr>\n",
       "      <th>20</th>\n",
       "      <td>119</td>\n",
       "      <td>15</td>\n",
       "      <td>15</td>\n",
       "    </tr>\n",
       "    <tr>\n",
       "      <th>21</th>\n",
       "      <td>12</td>\n",
       "      <td>27</td>\n",
       "      <td>9</td>\n",
       "    </tr>\n",
       "    <tr>\n",
       "      <th>22</th>\n",
       "      <td>120</td>\n",
       "      <td>8</td>\n",
       "      <td>15</td>\n",
       "    </tr>\n",
       "    <tr>\n",
       "      <th>23</th>\n",
       "      <td>121</td>\n",
       "      <td>26</td>\n",
       "      <td>6</td>\n",
       "    </tr>\n",
       "    <tr>\n",
       "      <th>24</th>\n",
       "      <td>122</td>\n",
       "      <td>18</td>\n",
       "      <td>4</td>\n",
       "    </tr>\n",
       "    <tr>\n",
       "      <th>25</th>\n",
       "      <td>123</td>\n",
       "      <td>33</td>\n",
       "      <td>1</td>\n",
       "    </tr>\n",
       "    <tr>\n",
       "      <th>26</th>\n",
       "      <td>124</td>\n",
       "      <td>10</td>\n",
       "      <td>8</td>\n",
       "    </tr>\n",
       "    <tr>\n",
       "      <th>27</th>\n",
       "      <td>13</td>\n",
       "      <td>52</td>\n",
       "      <td>14</td>\n",
       "    </tr>\n",
       "    <tr>\n",
       "      <th>28</th>\n",
       "      <td>14</td>\n",
       "      <td>2</td>\n",
       "      <td>7</td>\n",
       "    </tr>\n",
       "    <tr>\n",
       "      <th>29</th>\n",
       "      <td>15</td>\n",
       "      <td>3</td>\n",
       "      <td>7</td>\n",
       "    </tr>\n",
       "    <tr>\n",
       "      <th>...</th>\n",
       "      <td>...</td>\n",
       "      <td>...</td>\n",
       "      <td>...</td>\n",
       "    </tr>\n",
       "    <tr>\n",
       "      <th>83</th>\n",
       "      <td>69</td>\n",
       "      <td>46</td>\n",
       "      <td>7</td>\n",
       "    </tr>\n",
       "    <tr>\n",
       "      <th>84</th>\n",
       "      <td>7</td>\n",
       "      <td>27</td>\n",
       "      <td>14</td>\n",
       "    </tr>\n",
       "    <tr>\n",
       "      <th>85</th>\n",
       "      <td>70</td>\n",
       "      <td>7</td>\n",
       "      <td>7</td>\n",
       "    </tr>\n",
       "    <tr>\n",
       "      <th>86</th>\n",
       "      <td>72</td>\n",
       "      <td>50</td>\n",
       "      <td>0</td>\n",
       "    </tr>\n",
       "    <tr>\n",
       "      <th>87</th>\n",
       "      <td>73</td>\n",
       "      <td>32</td>\n",
       "      <td>0</td>\n",
       "    </tr>\n",
       "    <tr>\n",
       "      <th>88</th>\n",
       "      <td>75</td>\n",
       "      <td>95</td>\n",
       "      <td>12</td>\n",
       "    </tr>\n",
       "    <tr>\n",
       "      <th>89</th>\n",
       "      <td>76</td>\n",
       "      <td>6</td>\n",
       "      <td>2</td>\n",
       "    </tr>\n",
       "    <tr>\n",
       "      <th>90</th>\n",
       "      <td>77</td>\n",
       "      <td>4</td>\n",
       "      <td>12</td>\n",
       "    </tr>\n",
       "    <tr>\n",
       "      <th>91</th>\n",
       "      <td>79</td>\n",
       "      <td>8</td>\n",
       "      <td>12</td>\n",
       "    </tr>\n",
       "    <tr>\n",
       "      <th>92</th>\n",
       "      <td>8</td>\n",
       "      <td>15</td>\n",
       "      <td>2</td>\n",
       "    </tr>\n",
       "    <tr>\n",
       "      <th>93</th>\n",
       "      <td>80</td>\n",
       "      <td>2</td>\n",
       "      <td>6</td>\n",
       "    </tr>\n",
       "    <tr>\n",
       "      <th>94</th>\n",
       "      <td>81</td>\n",
       "      <td>1</td>\n",
       "      <td>3</td>\n",
       "    </tr>\n",
       "    <tr>\n",
       "      <th>95</th>\n",
       "      <td>82</td>\n",
       "      <td>12</td>\n",
       "      <td>11</td>\n",
       "    </tr>\n",
       "    <tr>\n",
       "      <th>96</th>\n",
       "      <td>84</td>\n",
       "      <td>12</td>\n",
       "      <td>8</td>\n",
       "    </tr>\n",
       "    <tr>\n",
       "      <th>97</th>\n",
       "      <td>85</td>\n",
       "      <td>8</td>\n",
       "      <td>8</td>\n",
       "    </tr>\n",
       "    <tr>\n",
       "      <th>98</th>\n",
       "      <td>86</td>\n",
       "      <td>11</td>\n",
       "      <td>11</td>\n",
       "    </tr>\n",
       "    <tr>\n",
       "      <th>99</th>\n",
       "      <td>87</td>\n",
       "      <td>5</td>\n",
       "      <td>1</td>\n",
       "    </tr>\n",
       "    <tr>\n",
       "      <th>100</th>\n",
       "      <td>88</td>\n",
       "      <td>5</td>\n",
       "      <td>17</td>\n",
       "    </tr>\n",
       "    <tr>\n",
       "      <th>101</th>\n",
       "      <td>89</td>\n",
       "      <td>2</td>\n",
       "      <td>17</td>\n",
       "    </tr>\n",
       "    <tr>\n",
       "      <th>102</th>\n",
       "      <td>9</td>\n",
       "      <td>21</td>\n",
       "      <td>14</td>\n",
       "    </tr>\n",
       "    <tr>\n",
       "      <th>103</th>\n",
       "      <td>90</td>\n",
       "      <td>1</td>\n",
       "      <td>1</td>\n",
       "    </tr>\n",
       "    <tr>\n",
       "      <th>104</th>\n",
       "      <td>91</td>\n",
       "      <td>5</td>\n",
       "      <td>6</td>\n",
       "    </tr>\n",
       "    <tr>\n",
       "      <th>105</th>\n",
       "      <td>92</td>\n",
       "      <td>5</td>\n",
       "      <td>1</td>\n",
       "    </tr>\n",
       "    <tr>\n",
       "      <th>106</th>\n",
       "      <td>93</td>\n",
       "      <td>3</td>\n",
       "      <td>10</td>\n",
       "    </tr>\n",
       "    <tr>\n",
       "      <th>107</th>\n",
       "      <td>94</td>\n",
       "      <td>4</td>\n",
       "      <td>10</td>\n",
       "    </tr>\n",
       "    <tr>\n",
       "      <th>108</th>\n",
       "      <td>95</td>\n",
       "      <td>4</td>\n",
       "      <td>18</td>\n",
       "    </tr>\n",
       "    <tr>\n",
       "      <th>109</th>\n",
       "      <td>96</td>\n",
       "      <td>5</td>\n",
       "      <td>19</td>\n",
       "    </tr>\n",
       "    <tr>\n",
       "      <th>110</th>\n",
       "      <td>97</td>\n",
       "      <td>40</td>\n",
       "      <td>16</td>\n",
       "    </tr>\n",
       "    <tr>\n",
       "      <th>111</th>\n",
       "      <td>98</td>\n",
       "      <td>11</td>\n",
       "      <td>5</td>\n",
       "    </tr>\n",
       "    <tr>\n",
       "      <th>112</th>\n",
       "      <td>99</td>\n",
       "      <td>5</td>\n",
       "      <td>19</td>\n",
       "    </tr>\n",
       "  </tbody>\n",
       "</table>\n",
       "<p>113 rows × 3 columns</p>\n",
       "</div>"
      ],
      "text/plain": [
       "    micro_market_number  project_number  mm_cluster\n",
       "0                     1              49           2\n",
       "1                    10              12           9\n",
       "2                   100               5          13\n",
       "3                   101              49           0\n",
       "4                   102              33          13\n",
       "5                   104               2           0\n",
       "6                   105               3           5\n",
       "7                   106              55          19\n",
       "8                   107               7          13\n",
       "9                   108              14          18\n",
       "10                  109              49          16\n",
       "11                   11              28           9\n",
       "12                  110             129          19\n",
       "13                  111               1          14\n",
       "14                  112               1           7\n",
       "15                  113               3           0\n",
       "16                  114             181          18\n",
       "17                  115               9          11\n",
       "18                  116              13           3\n",
       "19                  118               5           4\n",
       "20                  119              15          15\n",
       "21                   12              27           9\n",
       "22                  120               8          15\n",
       "23                  121              26           6\n",
       "24                  122              18           4\n",
       "25                  123              33           1\n",
       "26                  124              10           8\n",
       "27                   13              52          14\n",
       "28                   14               2           7\n",
       "29                   15               3           7\n",
       "..                  ...             ...         ...\n",
       "83                   69              46           7\n",
       "84                    7              27          14\n",
       "85                   70               7           7\n",
       "86                   72              50           0\n",
       "87                   73              32           0\n",
       "88                   75              95          12\n",
       "89                   76               6           2\n",
       "90                   77               4          12\n",
       "91                   79               8          12\n",
       "92                    8              15           2\n",
       "93                   80               2           6\n",
       "94                   81               1           3\n",
       "95                   82              12          11\n",
       "96                   84              12           8\n",
       "97                   85               8           8\n",
       "98                   86              11          11\n",
       "99                   87               5           1\n",
       "100                  88               5          17\n",
       "101                  89               2          17\n",
       "102                   9              21          14\n",
       "103                  90               1           1\n",
       "104                  91               5           6\n",
       "105                  92               5           1\n",
       "106                  93               3          10\n",
       "107                  94               4          10\n",
       "108                  95               4          18\n",
       "109                  96               5          19\n",
       "110                  97              40          16\n",
       "111                  98              11           5\n",
       "112                  99               5          19\n",
       "\n",
       "[113 rows x 3 columns]"
      ]
     },
     "execution_count": 21,
     "metadata": {},
     "output_type": "execute_result"
    }
   ],
   "source": [
    "#cluster dataframe\n",
    "kmm=pd.DataFrame(kmm)\n",
    "kmm.columns=['mm_cluster']\n",
    "\n",
    "#cluster number and number of projects for every micromarket\n",
    "mm_proj=df1.groupby('micro_market_number')['project_number'].count().reset_index()\n",
    "mm_proj=pd.concat([mm_proj, kmm],axis=1)\n",
    "mm_proj"
   ]
  },
  {
   "cell_type": "code",
   "execution_count": 22,
   "metadata": {},
   "outputs": [],
   "source": [
    "# Dictionary mapping micromarket number with cluster numbers\n",
    "market_cluster = dict(zip(mm_proj['micro_market_number'], mm_proj['mm_cluster']))"
   ]
  },
  {
   "cell_type": "code",
   "execution_count": 23,
   "metadata": {},
   "outputs": [
    {
     "data": {
      "text/plain": [
       "7     559\n",
       "19    347\n",
       "18    230\n",
       "14    218\n",
       "16    202\n",
       "0     192\n",
       "2     187\n",
       "9     129\n",
       "13    126\n",
       "12    124\n",
       "6      87\n",
       "1      46\n",
       "4      42\n",
       "11     32\n",
       "8      30\n",
       "15     23\n",
       "5      19\n",
       "3      14\n",
       "17      7\n",
       "10      7\n",
       "Name: mm_cluster, dtype: int64"
      ]
     },
     "execution_count": 23,
     "metadata": {},
     "output_type": "execute_result"
    }
   ],
   "source": [
    "# Create a new column in the dataset indicating cluster numbers, initialised with micromarket numbers\n",
    "df1['mm_cluster']=df1['micro_market_number']\n",
    "# Map cluster numbers to their respective micromarket numbers \n",
    "df1['mm_cluster']=df1['mm_cluster'].map(market_cluster)\n",
    "df1['mm_cluster'].value_counts()"
   ]
  },
  {
   "cell_type": "markdown",
   "metadata": {},
   "source": [
    "### 2.2 Clustering Developers"
   ]
  },
  {
   "cell_type": "markdown",
   "metadata": {},
   "source": [
    "Number of developers are too large to be used as predictors. It is better to cluster them.\n",
    "\n",
    "Clustering done based on agglomerative clustering using Ward's linkage."
   ]
  },
  {
   "cell_type": "code",
   "execution_count": 24,
   "metadata": {},
   "outputs": [
    {
     "data": {
      "text/plain": [
       "developer_number\n",
       "1       14464.000000\n",
       "10      12610.000000\n",
       "100     15750.000000\n",
       "1000     3000.000000\n",
       "1002     4500.000000\n",
       "1003     4171.000000\n",
       "1004     4500.000000\n",
       "1006     5650.000000\n",
       "1007     5662.000000\n",
       "1008     5657.580600\n",
       "101     18500.000000\n",
       "1011     9642.000000\n",
       "1012     5000.000000\n",
       "1014    10850.000000\n",
       "1017     4751.106867\n",
       "1018     7500.000000\n",
       "1019     9160.000000\n",
       "102      8949.836325\n",
       "1020     7857.000000\n",
       "1021     4609.000000\n",
       "1023     4875.000000\n",
       "1025     4532.000000\n",
       "1026     5303.000000\n",
       "1029     3958.500000\n",
       "1030     5006.879833\n",
       "1031    10000.000000\n",
       "1032     3999.000000\n",
       "1033     4753.500000\n",
       "1035     4821.884067\n",
       "1037     4408.000000\n",
       "            ...     \n",
       "947      3104.000000\n",
       "949      3750.000000\n",
       "952      5107.000000\n",
       "956      2900.000000\n",
       "957      3578.000000\n",
       "959      3250.000000\n",
       "96      16465.620000\n",
       "960     10791.333333\n",
       "962      4500.000000\n",
       "963      3400.000000\n",
       "965      5178.000000\n",
       "967      5100.000000\n",
       "968      3750.000000\n",
       "970      4000.000000\n",
       "971     12330.000000\n",
       "972      4339.000000\n",
       "976      4701.000000\n",
       "978      4204.000000\n",
       "979      4036.500000\n",
       "982      4210.000000\n",
       "985      4500.000000\n",
       "989      6664.086000\n",
       "99      20000.000000\n",
       "991      7000.000000\n",
       "992      4532.000000\n",
       "993      4590.000000\n",
       "994      6075.000000\n",
       "995      4821.000000\n",
       "996      5592.000000\n",
       "999      4500.000000\n",
       "Name: wap, Length: 1504, dtype: float64"
      ]
     },
     "execution_count": 24,
     "metadata": {},
     "output_type": "execute_result"
    }
   ],
   "source": [
    "devn_prices=df1.groupby('developer_number')['wap'].mean()\n",
    "devn_prices"
   ]
  },
  {
   "cell_type": "code",
   "execution_count": 25,
   "metadata": {},
   "outputs": [
    {
     "data": {
      "text/plain": [
       "(1504, 1)"
      ]
     },
     "execution_count": 25,
     "metadata": {},
     "output_type": "execute_result"
    }
   ],
   "source": [
    "devn=devn_prices.values # Reshape the array consisting of data with one feature into one column only \n",
    "devn=devn.reshape(-1, 1)\n",
    "devn.shape"
   ]
  },
  {
   "cell_type": "code",
   "execution_count": 26,
   "metadata": {},
   "outputs": [
    {
     "data": {
      "text/plain": [
       "[Text(0, 0.5, 'Inter-cluster distance'), Text(0.5, 1.0, 'Dendrogram')]"
      ]
     },
     "execution_count": 26,
     "metadata": {},
     "output_type": "execute_result"
    },
    {
     "data": {
      "image/png": "[encoded data removed]",
      "text/plain": [
       "<Figure size 720x720 with 1 Axes>"
      ]
     },
     "metadata": {
      "needs_background": "light"
     },
     "output_type": "display_data"
    }
   ],
   "source": [
    "# for visualisation for hierarchal cluster linkage\n",
    "from scipy.cluster.hierarchy import dendrogram, linkage\n",
    "\n",
    "links = linkage(devn, method='ward', metric='euclidean')\n",
    "\n",
    "fig, ax = plt.subplots(figsize=(10, 10))\n",
    "dendrogram(links, ax=ax)\n",
    "\n",
    "ax.set(title='Dendrogram', ylabel='Inter-cluster distance')"
   ]
  },
  {
   "cell_type": "code",
   "execution_count": 27,
   "metadata": {},
   "outputs": [
    {
     "name": "stdout",
     "output_type": "stream",
     "text": [
      "Silhoutte Score of Developer Clusters: 0.5551048139920645\n"
     ]
    }
   ],
   "source": [
    "from sklearn.cluster import AgglomerativeClustering\n",
    "\n",
    "agg = AgglomerativeClustering(n_clusters=20,linkage='ward')\n",
    "clusters_agg = agg.fit_predict(devn)\n",
    "\n",
    "print(\"Silhoutte Score of Developer Clusters:\", silhouette_score(devn, clusters_agg))"
   ]
  },
  {
   "cell_type": "code",
   "execution_count": 28,
   "metadata": {},
   "outputs": [
    {
     "data": {
      "text/html": [
       "<div>\n",
       "<style scoped>\n",
       "    .dataframe tbody tr th:only-of-type {\n",
       "        vertical-align: middle;\n",
       "    }\n",
       "\n",
       "    .dataframe tbody tr th {\n",
       "        vertical-align: top;\n",
       "    }\n",
       "\n",
       "    .dataframe thead th {\n",
       "        text-align: right;\n",
       "    }\n",
       "</style>\n",
       "<table border=\"1\" class=\"dataframe\">\n",
       "  <thead>\n",
       "    <tr style=\"text-align: right;\">\n",
       "      <th></th>\n",
       "      <th>developer_number</th>\n",
       "      <th>project_number</th>\n",
       "      <th>dev_cluster</th>\n",
       "    </tr>\n",
       "  </thead>\n",
       "  <tbody>\n",
       "    <tr>\n",
       "      <th>0</th>\n",
       "      <td>1</td>\n",
       "      <td>1</td>\n",
       "      <td>16</td>\n",
       "    </tr>\n",
       "    <tr>\n",
       "      <th>1</th>\n",
       "      <td>10</td>\n",
       "      <td>1</td>\n",
       "      <td>3</td>\n",
       "    </tr>\n",
       "    <tr>\n",
       "      <th>2</th>\n",
       "      <td>100</td>\n",
       "      <td>2</td>\n",
       "      <td>11</td>\n",
       "    </tr>\n",
       "    <tr>\n",
       "      <th>3</th>\n",
       "      <td>1000</td>\n",
       "      <td>1</td>\n",
       "      <td>4</td>\n",
       "    </tr>\n",
       "    <tr>\n",
       "      <th>4</th>\n",
       "      <td>1002</td>\n",
       "      <td>1</td>\n",
       "      <td>13</td>\n",
       "    </tr>\n",
       "    <tr>\n",
       "      <th>5</th>\n",
       "      <td>1003</td>\n",
       "      <td>1</td>\n",
       "      <td>13</td>\n",
       "    </tr>\n",
       "    <tr>\n",
       "      <th>6</th>\n",
       "      <td>1004</td>\n",
       "      <td>1</td>\n",
       "      <td>13</td>\n",
       "    </tr>\n",
       "    <tr>\n",
       "      <th>7</th>\n",
       "      <td>1006</td>\n",
       "      <td>1</td>\n",
       "      <td>8</td>\n",
       "    </tr>\n",
       "    <tr>\n",
       "      <th>8</th>\n",
       "      <td>1007</td>\n",
       "      <td>1</td>\n",
       "      <td>8</td>\n",
       "    </tr>\n",
       "    <tr>\n",
       "      <th>9</th>\n",
       "      <td>1008</td>\n",
       "      <td>1</td>\n",
       "      <td>8</td>\n",
       "    </tr>\n",
       "    <tr>\n",
       "      <th>10</th>\n",
       "      <td>101</td>\n",
       "      <td>1</td>\n",
       "      <td>2</td>\n",
       "    </tr>\n",
       "    <tr>\n",
       "      <th>11</th>\n",
       "      <td>1011</td>\n",
       "      <td>1</td>\n",
       "      <td>6</td>\n",
       "    </tr>\n",
       "    <tr>\n",
       "      <th>12</th>\n",
       "      <td>1012</td>\n",
       "      <td>1</td>\n",
       "      <td>8</td>\n",
       "    </tr>\n",
       "    <tr>\n",
       "      <th>13</th>\n",
       "      <td>1014</td>\n",
       "      <td>2</td>\n",
       "      <td>18</td>\n",
       "    </tr>\n",
       "    <tr>\n",
       "      <th>14</th>\n",
       "      <td>1017</td>\n",
       "      <td>3</td>\n",
       "      <td>13</td>\n",
       "    </tr>\n",
       "    <tr>\n",
       "      <th>15</th>\n",
       "      <td>1018</td>\n",
       "      <td>1</td>\n",
       "      <td>17</td>\n",
       "    </tr>\n",
       "    <tr>\n",
       "      <th>16</th>\n",
       "      <td>1019</td>\n",
       "      <td>1</td>\n",
       "      <td>6</td>\n",
       "    </tr>\n",
       "    <tr>\n",
       "      <th>17</th>\n",
       "      <td>102</td>\n",
       "      <td>4</td>\n",
       "      <td>6</td>\n",
       "    </tr>\n",
       "    <tr>\n",
       "      <th>18</th>\n",
       "      <td>1020</td>\n",
       "      <td>2</td>\n",
       "      <td>6</td>\n",
       "    </tr>\n",
       "    <tr>\n",
       "      <th>19</th>\n",
       "      <td>1021</td>\n",
       "      <td>1</td>\n",
       "      <td>13</td>\n",
       "    </tr>\n",
       "    <tr>\n",
       "      <th>20</th>\n",
       "      <td>1023</td>\n",
       "      <td>2</td>\n",
       "      <td>13</td>\n",
       "    </tr>\n",
       "    <tr>\n",
       "      <th>21</th>\n",
       "      <td>1025</td>\n",
       "      <td>1</td>\n",
       "      <td>13</td>\n",
       "    </tr>\n",
       "    <tr>\n",
       "      <th>22</th>\n",
       "      <td>1026</td>\n",
       "      <td>1</td>\n",
       "      <td>8</td>\n",
       "    </tr>\n",
       "    <tr>\n",
       "      <th>23</th>\n",
       "      <td>1029</td>\n",
       "      <td>2</td>\n",
       "      <td>13</td>\n",
       "    </tr>\n",
       "    <tr>\n",
       "      <th>24</th>\n",
       "      <td>1030</td>\n",
       "      <td>3</td>\n",
       "      <td>8</td>\n",
       "    </tr>\n",
       "    <tr>\n",
       "      <th>25</th>\n",
       "      <td>1031</td>\n",
       "      <td>1</td>\n",
       "      <td>18</td>\n",
       "    </tr>\n",
       "    <tr>\n",
       "      <th>26</th>\n",
       "      <td>1032</td>\n",
       "      <td>1</td>\n",
       "      <td>13</td>\n",
       "    </tr>\n",
       "    <tr>\n",
       "      <th>27</th>\n",
       "      <td>1033</td>\n",
       "      <td>2</td>\n",
       "      <td>13</td>\n",
       "    </tr>\n",
       "    <tr>\n",
       "      <th>28</th>\n",
       "      <td>1035</td>\n",
       "      <td>3</td>\n",
       "      <td>13</td>\n",
       "    </tr>\n",
       "    <tr>\n",
       "      <th>29</th>\n",
       "      <td>1037</td>\n",
       "      <td>1</td>\n",
       "      <td>13</td>\n",
       "    </tr>\n",
       "    <tr>\n",
       "      <th>...</th>\n",
       "      <td>...</td>\n",
       "      <td>...</td>\n",
       "      <td>...</td>\n",
       "    </tr>\n",
       "    <tr>\n",
       "      <th>1474</th>\n",
       "      <td>947</td>\n",
       "      <td>1</td>\n",
       "      <td>4</td>\n",
       "    </tr>\n",
       "    <tr>\n",
       "      <th>1475</th>\n",
       "      <td>949</td>\n",
       "      <td>1</td>\n",
       "      <td>13</td>\n",
       "    </tr>\n",
       "    <tr>\n",
       "      <th>1476</th>\n",
       "      <td>952</td>\n",
       "      <td>1</td>\n",
       "      <td>8</td>\n",
       "    </tr>\n",
       "    <tr>\n",
       "      <th>1477</th>\n",
       "      <td>956</td>\n",
       "      <td>1</td>\n",
       "      <td>4</td>\n",
       "    </tr>\n",
       "    <tr>\n",
       "      <th>1478</th>\n",
       "      <td>957</td>\n",
       "      <td>4</td>\n",
       "      <td>4</td>\n",
       "    </tr>\n",
       "    <tr>\n",
       "      <th>1479</th>\n",
       "      <td>959</td>\n",
       "      <td>1</td>\n",
       "      <td>4</td>\n",
       "    </tr>\n",
       "    <tr>\n",
       "      <th>1480</th>\n",
       "      <td>96</td>\n",
       "      <td>6</td>\n",
       "      <td>11</td>\n",
       "    </tr>\n",
       "    <tr>\n",
       "      <th>1481</th>\n",
       "      <td>960</td>\n",
       "      <td>3</td>\n",
       "      <td>18</td>\n",
       "    </tr>\n",
       "    <tr>\n",
       "      <th>1482</th>\n",
       "      <td>962</td>\n",
       "      <td>1</td>\n",
       "      <td>13</td>\n",
       "    </tr>\n",
       "    <tr>\n",
       "      <th>1483</th>\n",
       "      <td>963</td>\n",
       "      <td>1</td>\n",
       "      <td>4</td>\n",
       "    </tr>\n",
       "    <tr>\n",
       "      <th>1484</th>\n",
       "      <td>965</td>\n",
       "      <td>1</td>\n",
       "      <td>8</td>\n",
       "    </tr>\n",
       "    <tr>\n",
       "      <th>1485</th>\n",
       "      <td>967</td>\n",
       "      <td>1</td>\n",
       "      <td>8</td>\n",
       "    </tr>\n",
       "    <tr>\n",
       "      <th>1486</th>\n",
       "      <td>968</td>\n",
       "      <td>1</td>\n",
       "      <td>13</td>\n",
       "    </tr>\n",
       "    <tr>\n",
       "      <th>1487</th>\n",
       "      <td>970</td>\n",
       "      <td>1</td>\n",
       "      <td>13</td>\n",
       "    </tr>\n",
       "    <tr>\n",
       "      <th>1488</th>\n",
       "      <td>971</td>\n",
       "      <td>2</td>\n",
       "      <td>3</td>\n",
       "    </tr>\n",
       "    <tr>\n",
       "      <th>1489</th>\n",
       "      <td>972</td>\n",
       "      <td>1</td>\n",
       "      <td>13</td>\n",
       "    </tr>\n",
       "    <tr>\n",
       "      <th>1490</th>\n",
       "      <td>976</td>\n",
       "      <td>2</td>\n",
       "      <td>13</td>\n",
       "    </tr>\n",
       "    <tr>\n",
       "      <th>1491</th>\n",
       "      <td>978</td>\n",
       "      <td>2</td>\n",
       "      <td>13</td>\n",
       "    </tr>\n",
       "    <tr>\n",
       "      <th>1492</th>\n",
       "      <td>979</td>\n",
       "      <td>2</td>\n",
       "      <td>13</td>\n",
       "    </tr>\n",
       "    <tr>\n",
       "      <th>1493</th>\n",
       "      <td>982</td>\n",
       "      <td>1</td>\n",
       "      <td>13</td>\n",
       "    </tr>\n",
       "    <tr>\n",
       "      <th>1494</th>\n",
       "      <td>985</td>\n",
       "      <td>1</td>\n",
       "      <td>13</td>\n",
       "    </tr>\n",
       "    <tr>\n",
       "      <th>1495</th>\n",
       "      <td>989</td>\n",
       "      <td>1</td>\n",
       "      <td>17</td>\n",
       "    </tr>\n",
       "    <tr>\n",
       "      <th>1496</th>\n",
       "      <td>99</td>\n",
       "      <td>1</td>\n",
       "      <td>2</td>\n",
       "    </tr>\n",
       "    <tr>\n",
       "      <th>1497</th>\n",
       "      <td>991</td>\n",
       "      <td>1</td>\n",
       "      <td>17</td>\n",
       "    </tr>\n",
       "    <tr>\n",
       "      <th>1498</th>\n",
       "      <td>992</td>\n",
       "      <td>1</td>\n",
       "      <td>13</td>\n",
       "    </tr>\n",
       "    <tr>\n",
       "      <th>1499</th>\n",
       "      <td>993</td>\n",
       "      <td>1</td>\n",
       "      <td>13</td>\n",
       "    </tr>\n",
       "    <tr>\n",
       "      <th>1500</th>\n",
       "      <td>994</td>\n",
       "      <td>2</td>\n",
       "      <td>8</td>\n",
       "    </tr>\n",
       "    <tr>\n",
       "      <th>1501</th>\n",
       "      <td>995</td>\n",
       "      <td>1</td>\n",
       "      <td>13</td>\n",
       "    </tr>\n",
       "    <tr>\n",
       "      <th>1502</th>\n",
       "      <td>996</td>\n",
       "      <td>1</td>\n",
       "      <td>8</td>\n",
       "    </tr>\n",
       "    <tr>\n",
       "      <th>1503</th>\n",
       "      <td>999</td>\n",
       "      <td>1</td>\n",
       "      <td>13</td>\n",
       "    </tr>\n",
       "  </tbody>\n",
       "</table>\n",
       "<p>1504 rows × 3 columns</p>\n",
       "</div>"
      ],
      "text/plain": [
       "     developer_number  project_number  dev_cluster\n",
       "0                   1               1           16\n",
       "1                  10               1            3\n",
       "2                 100               2           11\n",
       "3                1000               1            4\n",
       "4                1002               1           13\n",
       "5                1003               1           13\n",
       "6                1004               1           13\n",
       "7                1006               1            8\n",
       "8                1007               1            8\n",
       "9                1008               1            8\n",
       "10                101               1            2\n",
       "11               1011               1            6\n",
       "12               1012               1            8\n",
       "13               1014               2           18\n",
       "14               1017               3           13\n",
       "15               1018               1           17\n",
       "16               1019               1            6\n",
       "17                102               4            6\n",
       "18               1020               2            6\n",
       "19               1021               1           13\n",
       "20               1023               2           13\n",
       "21               1025               1           13\n",
       "22               1026               1            8\n",
       "23               1029               2           13\n",
       "24               1030               3            8\n",
       "25               1031               1           18\n",
       "26               1032               1           13\n",
       "27               1033               2           13\n",
       "28               1035               3           13\n",
       "29               1037               1           13\n",
       "...               ...             ...          ...\n",
       "1474              947               1            4\n",
       "1475              949               1           13\n",
       "1476              952               1            8\n",
       "1477              956               1            4\n",
       "1478              957               4            4\n",
       "1479              959               1            4\n",
       "1480               96               6           11\n",
       "1481              960               3           18\n",
       "1482              962               1           13\n",
       "1483              963               1            4\n",
       "1484              965               1            8\n",
       "1485              967               1            8\n",
       "1486              968               1           13\n",
       "1487              970               1           13\n",
       "1488              971               2            3\n",
       "1489              972               1           13\n",
       "1490              976               2           13\n",
       "1491              978               2           13\n",
       "1492              979               2           13\n",
       "1493              982               1           13\n",
       "1494              985               1           13\n",
       "1495              989               1           17\n",
       "1496               99               1            2\n",
       "1497              991               1           17\n",
       "1498              992               1           13\n",
       "1499              993               1           13\n",
       "1500              994               2            8\n",
       "1501              995               1           13\n",
       "1502              996               1            8\n",
       "1503              999               1           13\n",
       "\n",
       "[1504 rows x 3 columns]"
      ]
     },
     "execution_count": 28,
     "metadata": {},
     "output_type": "execute_result"
    }
   ],
   "source": [
    "#cluster dataframe\n",
    "clusters_agg =pd.DataFrame(clusters_agg)\n",
    "clusters_agg .columns=['dev_cluster']\n",
    "\n",
    "#cluster number and number of projects for every micromarket\n",
    "dev_proj=df1.groupby('developer_number')['project_number'].count().reset_index()\n",
    "dev_proj=pd.concat([dev_proj, clusters_agg ],axis=1)\n",
    "dev_proj"
   ]
  },
  {
   "cell_type": "code",
   "execution_count": 29,
   "metadata": {},
   "outputs": [],
   "source": [
    "# Dictionary mapping micromarket number with cluster numbers\n",
    "dev_cluster = dict(zip(dev_proj['developer_number'], dev_proj['dev_cluster']))"
   ]
  },
  {
   "cell_type": "code",
   "execution_count": 30,
   "metadata": {},
   "outputs": [
    {
     "name": "stdout",
     "output_type": "stream",
     "text": [
      "value counts of developer clusters\n"
     ]
    },
    {
     "data": {
      "text/plain": [
       "4     491\n",
       "13    412\n",
       "8     246\n",
       "11    198\n",
       "6     190\n",
       "3     181\n",
       "17    172\n",
       "18    154\n",
       "2     147\n",
       "16    138\n",
       "10    125\n",
       "5      74\n",
       "14     24\n",
       "7      21\n",
       "9      16\n",
       "1      16\n",
       "12      6\n",
       "15      6\n",
       "0       3\n",
       "19      1\n",
       "Name: dev_cluster, dtype: int64"
      ]
     },
     "execution_count": 30,
     "metadata": {},
     "output_type": "execute_result"
    }
   ],
   "source": [
    "# Create a new column in the dataset indicating cluster numbers, initialised with micromarket numbers\n",
    "df1['dev_cluster']=df1['developer_number']\n",
    "# Map cluster numbers to their respective micromarket numbers \n",
    "df1['dev_cluster']=df1['dev_cluster'].map(dev_cluster)\n",
    "print('value counts of developer clusters')\n",
    "df1['dev_cluster'].value_counts()"
   ]
  },
  {
   "cell_type": "code",
   "execution_count": 31,
   "metadata": {},
   "outputs": [
    {
     "data": {
      "text/plain": [
       "4     491\n",
       "13    412\n",
       "8     246\n",
       "11    198\n",
       "6     190\n",
       "3     181\n",
       "17    172\n",
       "18    154\n",
       "2     147\n",
       "16    138\n",
       "10    125\n",
       "5      74\n",
       "14     24\n",
       "7      21\n",
       "15     16\n",
       "9      16\n",
       "1      16\n",
       "Name: dev_cluster, dtype: int64"
      ]
     },
     "execution_count": 31,
     "metadata": {},
     "output_type": "execute_result"
    }
   ],
   "source": [
    "df1['dev_cluster']=df1['dev_cluster'].replace([19,0,12],[15,15,15])\n",
    "df1['dev_cluster'].value_counts()"
   ]
  },
  {
   "cell_type": "markdown",
   "metadata": {},
   "source": [
    "## 3. Calcuting Residuals of Finalised Linear Regression Model"
   ]
  },
  {
   "cell_type": "code",
   "execution_count": 32,
   "metadata": {},
   "outputs": [],
   "source": [
    "def calculate_vif (inc, dataframe): # Function for calculating and returning VIF values\n",
    "    from statsmodels.stats.outliers_influence import variance_inflation_factor\n",
    "    from statsmodels.tools.tools import add_constant\n",
    "    \n",
    "    df_vif=dataframe[inc]\n",
    "    df_vifx = add_constant(df_vif)\n",
    "    print('--Calculated VIF values--')\n",
    "    return (pd.Series([variance_inflation_factor(df_vifx.values, i) for i in range(df_vifx.shape[1])], index=df_vifx.columns))"
   ]
  },
  {
   "cell_type": "code",
   "execution_count": 33,
   "metadata": {},
   "outputs": [
    {
     "name": "stdout",
     "output_type": "stream",
     "text": [
      "                            OLS Regression Results                            \n",
      "==============================================================================\n",
      "Dep. Variable:                log_wap   R-squared:                       0.924\n",
      "Model:                            OLS   Adj. R-squared:                  0.923\n",
      "Method:                 Least Squares   F-statistic:                     867.5\n",
      "Date:                Sat, 16 Mar 2019   Prob (F-statistic):               0.00\n",
      "Time:                        21:22:37   Log-Likelihood:                 313.85\n",
      "No. Observations:                2621   AIC:                            -553.7\n",
      "Df Residuals:                    2584   BIC:                            -336.5\n",
      "Df Model:                          36                                         \n",
      "Covariance Type:            nonrobust                                         \n",
      "=======================================================================================\n",
      "                          coef    std err          t      P>|t|      [0.025      0.975]\n",
      "---------------------------------------------------------------------------------------\n",
      "Intercept               8.4927      0.024    358.858      0.000       8.446       8.539\n",
      "C(mm_cluster)[T.1]      1.6438      0.037     44.923      0.000       1.572       1.716\n",
      "C(mm_cluster)[T.2]      1.1525      0.023     50.461      0.000       1.108       1.197\n",
      "C(mm_cluster)[T.3]      2.0445      0.063     32.704      0.000       1.922       2.167\n",
      "C(mm_cluster)[T.4]      1.8588      0.039     47.434      0.000       1.782       1.936\n",
      "C(mm_cluster)[T.5]      0.5807      0.052     11.102      0.000       0.478       0.683\n",
      "C(mm_cluster)[T.6]      1.3382      0.029     46.504      0.000       1.282       1.395\n",
      "C(mm_cluster)[T.7]     -0.3909      0.018    -21.328      0.000      -0.427      -0.355\n",
      "C(mm_cluster)[T.8]      1.7459      0.044     40.023      0.000       1.660       1.831\n",
      "C(mm_cluster)[T.9]      0.9722      0.025     38.960      0.000       0.923       1.021\n",
      "C(mm_cluster)[T.10]     1.8799      0.085     22.001      0.000       1.712       2.047\n",
      "C(mm_cluster)[T.11]     1.5436      0.042     36.690      0.000       1.461       1.626\n",
      "C(mm_cluster)[T.12]     1.2260      0.026     48.071      0.000       1.176       1.276\n",
      "C(mm_cluster)[T.13]     0.4037      0.025     16.167      0.000       0.355       0.453\n",
      "C(mm_cluster)[T.14]     1.0634      0.022     48.228      0.000       1.020       1.107\n",
      "C(mm_cluster)[T.15]     1.8308      0.049     37.650      0.000       1.735       1.926\n",
      "C(mm_cluster)[T.16]    -0.1147      0.022     -5.225      0.000      -0.158      -0.072\n",
      "C(mm_cluster)[T.17]     1.7562      0.084     20.948      0.000       1.592       1.921\n",
      "C(mm_cluster)[T.18]     0.6909      0.022     31.955      0.000       0.648       0.733\n",
      "C(mm_cluster)[T.19]     0.1332      0.020      6.830      0.000       0.095       0.171\n",
      "b2                     -0.0002   5.23e-05     -3.042      0.002      -0.000   -5.65e-05\n",
      "bp1                    -0.1474      0.016     -8.967      0.000      -0.180      -0.115\n",
      "bp3                     0.1083      0.023      4.661      0.000       0.063       0.154\n",
      "bp4                     0.2790      0.041      6.730      0.000       0.198       0.360\n",
      "bp58                    0.5037      0.180      2.804      0.005       0.152       0.856\n",
      "size_rv                 0.0053      0.003      1.735      0.083      -0.001       0.011\n",
      "V4                     -0.1925      0.064     -2.998      0.003      -0.318      -0.067\n",
      "V5                      0.1149      0.077      1.497      0.135      -0.036       0.265\n",
      "V6                      0.1681      0.068      2.471      0.014       0.035       0.301\n",
      "V7                     -0.1997      0.100     -1.988      0.047      -0.397      -0.003\n",
      "V8                     -0.1344      0.083     -1.616      0.106      -0.297       0.029\n",
      "V12                     0.1458      0.070      2.093      0.036       0.009       0.282\n",
      "V13                     0.3396      0.102      3.335      0.001       0.140       0.539\n",
      "V16                     0.1969      0.089      2.212      0.027       0.022       0.371\n",
      "V17                    -0.1376      0.082     -1.680      0.093      -0.298       0.023\n",
      "V23                    -0.3513      0.082     -4.263      0.000      -0.513      -0.190\n",
      "V24                    -0.4056      0.082     -4.976      0.000      -0.565      -0.246\n",
      "==============================================================================\n",
      "Omnibus:                      196.834   Durbin-Watson:                   1.694\n",
      "Prob(Omnibus):                  0.000   Jarque-Bera (JB):             1057.813\n",
      "Skew:                          -0.032   Prob(JB):                    1.99e-230\n",
      "Kurtosis:                       6.112   Cond. No.                     4.32e+03\n",
      "==============================================================================\n",
      "\n",
      "Warnings:\n",
      "[1] Standard Errors assume that the covariance matrix of the errors is correctly specified.\n",
      "[2] The condition number is large, 4.32e+03. This might indicate that there are\n",
      "strong multicollinearity or other numerical problems.\n"
     ]
    }
   ],
   "source": [
    "import statsmodels.api as sm\n",
    "import statsmodels.formula.api as smf\n",
    "\n",
    "mod = smf.ols(formula='log_wap ~ C(mm_cluster) + b2 + bp1 + bp3 + bp4 + bp58 + size_rv + V4 + V5 + V6 + V7 + V8 + V12 + V13 + V16 + V17 + V23 + V24', data=df1).fit()\n",
    "print(mod.summary())"
   ]
  },
  {
   "cell_type": "code",
   "execution_count": 34,
   "metadata": {},
   "outputs": [],
   "source": [
    "def residual_log (model, dataframe, residual_log, residual):\n",
    "    # Function To Compute and return residual summary statistics for a model\n",
    "    predicted_lwap = model.predict()\n",
    "    predicted_wap=np.exp(predicted_lwap)\n",
    "    dataframe[residual_log]=dataframe['log_wap'] - predicted_lwap\n",
    "    dataframe[residual]=dataframe['wap'] - predicted_wap\n",
    "    return (dataframe[residual_log].describe(), print('median:  ',dataframe[residual_log].median()))"
   ]
  },
  {
   "cell_type": "code",
   "execution_count": 35,
   "metadata": {},
   "outputs": [],
   "source": [
    "def percentage_error_projects (dataframe, residual, percentage_error,percentage_error_interval):\n",
    "    #Calculate percentage error w.r.t wap\n",
    "    dataframe[percentage_error]=(dataframe[residual]/dataframe['wap'])*100\n",
    "    #Split percentage error into equal intervals\n",
    "    dataframe[percentage_error_interval] = pd.cut(dataframe[percentage_error], bins=[-float(\"inf\"),-30,-20,-10,0,10,20,30,float(\"inf\")])\n",
    "    # How many projects in each interval of wap?\n",
    "    grouped_df = dataframe.groupby(percentage_error_interval)['project_number'].count().reset_index()\n",
    "    # Percentage of projects under each interval\n",
    "    grouped_df['percentage_projects']=(grouped_df['project_number']/grouped_df['project_number'].sum())*100\n",
    "    return (grouped_df)  "
   ]
  },
  {
   "cell_type": "code",
   "execution_count": 36,
   "metadata": {},
   "outputs": [
    {
     "name": "stdout",
     "output_type": "stream",
     "text": [
      "median:   0.003237368314518818\n"
     ]
    },
    {
     "data": {
      "text/plain": [
       "(count    2.621000e+03\n",
       " mean     9.416182e-14\n",
       " std      2.147043e-01\n",
       " min     -1.208032e+00\n",
       " 25%     -1.229116e-01\n",
       " 50%      3.237368e-03\n",
       " 75%      1.192870e-01\n",
       " max      1.166836e+00\n",
       " Name: residual_log_mod, dtype: float64, None)"
      ]
     },
     "execution_count": 36,
     "metadata": {},
     "output_type": "execute_result"
    }
   ],
   "source": [
    "residual_log (mod, df1, 'residual_log_mod','residual_mod') # Residual statistics for log-transformed proposed base model"
   ]
  },
  {
   "cell_type": "code",
   "execution_count": 37,
   "metadata": {},
   "outputs": [
    {
     "data": {
      "text/html": [
       "<div>\n",
       "<style scoped>\n",
       "    .dataframe tbody tr th:only-of-type {\n",
       "        vertical-align: middle;\n",
       "    }\n",
       "\n",
       "    .dataframe tbody tr th {\n",
       "        vertical-align: top;\n",
       "    }\n",
       "\n",
       "    .dataframe thead th {\n",
       "        text-align: right;\n",
       "    }\n",
       "</style>\n",
       "<table border=\"1\" class=\"dataframe\">\n",
       "  <thead>\n",
       "    <tr style=\"text-align: right;\">\n",
       "      <th></th>\n",
       "      <th>percentage_error_interval_mod</th>\n",
       "      <th>project_number</th>\n",
       "      <th>percentage_projects</th>\n",
       "    </tr>\n",
       "  </thead>\n",
       "  <tbody>\n",
       "    <tr>\n",
       "      <th>0</th>\n",
       "      <td>(-inf, -30.0]</td>\n",
       "      <td>237</td>\n",
       "      <td>9.042350</td>\n",
       "    </tr>\n",
       "    <tr>\n",
       "      <th>1</th>\n",
       "      <td>(-30.0, -20.0]</td>\n",
       "      <td>196</td>\n",
       "      <td>7.478062</td>\n",
       "    </tr>\n",
       "    <tr>\n",
       "      <th>2</th>\n",
       "      <td>(-20.0, -10.0]</td>\n",
       "      <td>363</td>\n",
       "      <td>13.849676</td>\n",
       "    </tr>\n",
       "    <tr>\n",
       "      <th>3</th>\n",
       "      <td>(-10.0, 0.0]</td>\n",
       "      <td>495</td>\n",
       "      <td>18.885921</td>\n",
       "    </tr>\n",
       "    <tr>\n",
       "      <th>4</th>\n",
       "      <td>(0.0, 10.0]</td>\n",
       "      <td>608</td>\n",
       "      <td>23.197253</td>\n",
       "    </tr>\n",
       "    <tr>\n",
       "      <th>5</th>\n",
       "      <td>(10.0, 20.0]</td>\n",
       "      <td>418</td>\n",
       "      <td>15.948111</td>\n",
       "    </tr>\n",
       "    <tr>\n",
       "      <th>6</th>\n",
       "      <td>(20.0, 30.0]</td>\n",
       "      <td>192</td>\n",
       "      <td>7.325448</td>\n",
       "    </tr>\n",
       "    <tr>\n",
       "      <th>7</th>\n",
       "      <td>(30.0, inf]</td>\n",
       "      <td>112</td>\n",
       "      <td>4.273178</td>\n",
       "    </tr>\n",
       "  </tbody>\n",
       "</table>\n",
       "</div>"
      ],
      "text/plain": [
       "  percentage_error_interval_mod  project_number  percentage_projects\n",
       "0                 (-inf, -30.0]             237             9.042350\n",
       "1                (-30.0, -20.0]             196             7.478062\n",
       "2                (-20.0, -10.0]             363            13.849676\n",
       "3                  (-10.0, 0.0]             495            18.885921\n",
       "4                   (0.0, 10.0]             608            23.197253\n",
       "5                  (10.0, 20.0]             418            15.948111\n",
       "6                  (20.0, 30.0]             192             7.325448\n",
       "7                   (30.0, inf]             112             4.273178"
      ]
     },
     "execution_count": 37,
     "metadata": {},
     "output_type": "execute_result"
    }
   ],
   "source": [
    "percentage_error_projects (df1, 'residual_mod', 'percentage_error_mod','percentage_error_interval_mod')"
   ]
  },
  {
   "cell_type": "code",
   "execution_count": 38,
   "metadata": {},
   "outputs": [
    {
     "data": {
      "text/plain": [
       "16.177160729828856"
      ]
     },
     "execution_count": 38,
     "metadata": {},
     "output_type": "execute_result"
    }
   ],
   "source": [
    "# Mean Absolute Percentage Error of log-transformed base model\n",
    "np.absolute(df1['percentage_error_mod']).mean()"
   ]
  },
  {
   "cell_type": "code",
   "execution_count": 39,
   "metadata": {},
   "outputs": [
    {
     "data": {
      "text/plain": [
       "(0.0, 5000.0]         1017\n",
       "(10000.0, 30000.0]     927\n",
       "(5000.0, 10000.0]      565\n",
       "(30000.0, 90000.0]     112\n",
       "Name: wap_interval, dtype: int64"
      ]
     },
     "execution_count": 39,
     "metadata": {},
     "output_type": "execute_result"
    }
   ],
   "source": [
    "# Split up wap into intervals\n",
    "df1['wap_interval'] = pd.cut(df1['wap'], bins=[0,5e+3,1e+4,3e+4,9e+4]) \n",
    "df1['wap_interval'].value_counts()"
   ]
  },
  {
   "cell_type": "code",
   "execution_count": 40,
   "metadata": {},
   "outputs": [
    {
     "data": {
      "text/plain": [
       "<seaborn.axisgrid.FacetGrid at 0x298ef71acc0>"
      ]
     },
     "execution_count": 40,
     "metadata": {},
     "output_type": "execute_result"
    },
    {
     "data": {
      "image/png": "[encoded data removed]",
      "text/plain": [
       "<Figure size 864x216 with 4 Axes>"
      ]
     },
     "metadata": {
      "needs_background": "light"
     },
     "output_type": "display_data"
    }
   ],
   "source": [
    "sns.FacetGrid(df1, col=\"wap_interval\").map(plt.hist, \"residual_mod\")"
   ]
  },
  {
   "cell_type": "markdown",
   "metadata": {},
   "source": [
    "## 4. Exploratory Data Analysis With Residuals of Finalised Regression Linearised Models\n",
    "\n",
    "### 4.1 Residual Distribution of Linear Model Across Different Categorical Variables"
   ]
  },
  {
   "cell_type": "markdown",
   "metadata": {},
   "source": [
    "Categories with higher frequency counts have smaller variations in price prediction errors overall."
   ]
  },
  {
   "cell_type": "code",
   "execution_count": 41,
   "metadata": {},
   "outputs": [
    {
     "data": {
      "text/plain": [
       "<matplotlib.axes._subplots.AxesSubplot at 0x298f0988240>"
      ]
     },
     "execution_count": 41,
     "metadata": {},
     "output_type": "execute_result"
    },
    {
     "data": {
      "image/png": "[encoded data removed]",
      "text/plain": [
       "<Figure size 720x360 with 1 Axes>"
      ]
     },
     "metadata": {
      "needs_background": "light"
     },
     "output_type": "display_data"
    }
   ],
   "source": [
    "f, ax = plt.subplots(figsize=(10,5))\n",
    "sns.boxplot(x=\"mm_cluster\", y=\"residual_mod\", data=df1,palette='Set1')"
   ]
  },
  {
   "cell_type": "code",
   "execution_count": 42,
   "metadata": {},
   "outputs": [
    {
     "data": {
      "text/plain": [
       "<matplotlib.axes._subplots.AxesSubplot at 0x298f0a65dd8>"
      ]
     },
     "execution_count": 42,
     "metadata": {},
     "output_type": "execute_result"
    },
    {
     "data": {
      "image/png": "[encoded data removed]",
      "text/plain": [
       "<Figure size 720x360 with 1 Axes>"
      ]
     },
     "metadata": {
      "needs_background": "light"
     },
     "output_type": "display_data"
    }
   ],
   "source": [
    "f, ax = plt.subplots(figsize=(10,5))\n",
    "sns.boxplot(x=\"dev_cluster\", y=\"residual_mod\", data=df1,palette='Set1')"
   ]
  },
  {
   "cell_type": "code",
   "execution_count": 43,
   "metadata": {},
   "outputs": [
    {
     "data": {
      "text/plain": [
       "<matplotlib.axes._subplots.AxesSubplot at 0x298f0be5a90>"
      ]
     },
     "execution_count": 43,
     "metadata": {},
     "output_type": "execute_result"
    },
    {
     "data": {
      "image/png": "[encoded data removed]",
      "text/plain": [
       "<Figure size 720x360 with 1 Axes>"
      ]
     },
     "metadata": {
      "needs_background": "light"
     },
     "output_type": "display_data"
    }
   ],
   "source": [
    "f, ax = plt.subplots(figsize=(10,5))\n",
    "sns.boxplot(x=\"proj_bedrooms_clean\", y=\"residual_mod\", data=df1,palette='Set1')"
   ]
  },
  {
   "cell_type": "code",
   "execution_count": 44,
   "metadata": {},
   "outputs": [
    {
     "data": {
      "text/plain": [
       "<matplotlib.axes._subplots.AxesSubplot at 0x298f30f2f60>"
      ]
     },
     "execution_count": 44,
     "metadata": {},
     "output_type": "execute_result"
    },
    {
     "data": {
      "image/png": "[encoded data removed]",
      "text/plain": [
       "<Figure size 720x360 with 1 Axes>"
      ]
     },
     "metadata": {
      "needs_background": "light"
     },
     "output_type": "display_data"
    }
   ],
   "source": [
    "f, ax = plt.subplots(figsize=(10,5))\n",
    "sns.boxplot(x=\"unit_type\", y=\"residual_mod\", data=df1,palette='Set1')"
   ]
  },
  {
   "cell_type": "code",
   "execution_count": 45,
   "metadata": {},
   "outputs": [
    {
     "data": {
      "text/plain": [
       "<matplotlib.axes._subplots.AxesSubplot at 0x298f3158eb8>"
      ]
     },
     "execution_count": 45,
     "metadata": {},
     "output_type": "execute_result"
    },
    {
     "data": {
      "image/png": "[encoded data removed]",
      "text/plain": [
       "<Figure size 720x360 with 1 Axes>"
      ]
     },
     "metadata": {
      "needs_background": "light"
     },
     "output_type": "display_data"
    }
   ],
   "source": [
    "f, ax = plt.subplots(figsize=(10,5))\n",
    "sns.boxplot(x=\"construction_status\", y=\"residual_mod\", data=df1,palette='Set1')"
   ]
  },
  {
   "cell_type": "markdown",
   "metadata": {},
   "source": [
    "### 4.2 Predictive Power of Linear Model Over Years Across Different Categorical Variables"
   ]
  },
  {
   "cell_type": "code",
   "execution_count": 46,
   "metadata": {},
   "outputs": [
    {
     "data": {
      "text/plain": [
       "<seaborn.axisgrid.FacetGrid at 0x298efd4d2e8>"
      ]
     },
     "execution_count": 46,
     "metadata": {},
     "output_type": "execute_result"
    },
    {
     "data": {
      "image/png": "[encoded data removed]",
      "text/plain": [
       "<Figure size 720x720 with 3 Axes>"
      ]
     },
     "metadata": {
      "needs_background": "light"
     },
     "output_type": "display_data"
    }
   ],
   "source": [
    "sns.catplot(x=\"launch_year\", y=\"residual_mod\", col=\"construction_status\",col_wrap=2, data=df1, kind=\"point\", height=5, aspect=1, color='darkorange')"
   ]
  },
  {
   "cell_type": "markdown",
   "metadata": {},
   "source": [
    "Predictive power of models for different construction statuses of flats are shown to be decreasing.\n",
    "\n",
    "There are a lot of outlier cases for residuals of completed flats. Its error bars are longest. \n",
    "\n",
    "The residuals for flats under construction show greater variation in prices and thus residuals as well. No wonder its residuals shows sharpest rise across years."
   ]
  },
  {
   "cell_type": "code",
   "execution_count": 47,
   "metadata": {},
   "outputs": [
    {
     "data": {
      "text/plain": [
       "<seaborn.axisgrid.FacetGrid at 0x298f348d128>"
      ]
     },
     "execution_count": 47,
     "metadata": {},
     "output_type": "execute_result"
    },
    {
     "data": {
      "image/png": "[encoded data removed]",
      "text/plain": [
       "<Figure size 720x360 with 2 Axes>"
      ]
     },
     "metadata": {
      "needs_background": "light"
     },
     "output_type": "display_data"
    }
   ],
   "source": [
    "sns.catplot(x=\"launch_year\", y=\"residual_mod\", col=\"unit_type\",col_wrap=2, data=df1, kind=\"point\", height=5, aspect=1, color='darkorange')"
   ]
  },
  {
   "cell_type": "markdown",
   "metadata": {},
   "source": [
    "The linear regression model is better able to predict prices of villas compared to apartments. Apartments show lesser variations in price prediction errors as its frequency is higher than villas."
   ]
  },
  {
   "cell_type": "code",
   "execution_count": 48,
   "metadata": {},
   "outputs": [
    {
     "data": {
      "text/plain": [
       "<seaborn.axisgrid.FacetGrid at 0x298f35098d0>"
      ]
     },
     "execution_count": 48,
     "metadata": {},
     "output_type": "execute_result"
    },
    {
     "data": {
      "image/png": "[encoded data removed]",
      "text/plain": [
       "<Figure size 720x1080 with 5 Axes>"
      ]
     },
     "metadata": {
      "needs_background": "light"
     },
     "output_type": "display_data"
    }
   ],
   "source": [
    "sns.catplot(x=\"launch_year\", y=\"residual_mod\", col=\"proj_bedrooms_clean\",col_wrap=2, data=df1, kind=\"point\", height=5, aspect=1, color='darkorange')"
   ]
  },
  {
   "cell_type": "markdown",
   "metadata": {},
   "source": [
    "Due to large frequencies of 1 and 2 or more bedroom flats, the model is able to predict their prices with lesser errors compared to those with higher number of bedrooms."
   ]
  },
  {
   "cell_type": "code",
   "execution_count": 49,
   "metadata": {
    "scrolled": false
   },
   "outputs": [
    {
     "data": {
      "text/plain": [
       "<seaborn.axisgrid.FacetGrid at 0x298f3565f60>"
      ]
     },
     "execution_count": 49,
     "metadata": {},
     "output_type": "execute_result"
    },
    {
     "data": {
      "image/png": "[encoded data removed]",
      "text/plain": [
       "<Figure size 720x1800 with 10 Axes>"
      ]
     },
     "metadata": {
      "needs_background": "light"
     },
     "output_type": "display_data"
    }
   ],
   "source": [
    "sns.catplot(x=\"launch_year\", y=\"residual_mod\", col=\"zone\",col_wrap=2, data=df1, kind=\"point\", height=5, aspect=1, color='darkorange')"
   ]
  },
  {
   "cell_type": "markdown",
   "metadata": {},
   "source": [
    "Overall, predictive power of models across different zones are decreasing over years due to increasing value of residuals."
   ]
  },
  {
   "cell_type": "markdown",
   "metadata": {},
   "source": [
    "### 4.3 How Percentage Error of Linear Model Varies Across Prices\n"
   ]
  },
  {
   "cell_type": "code",
   "execution_count": 50,
   "metadata": {
    "scrolled": false
   },
   "outputs": [
    {
     "data": {
      "text/plain": [
       "<seaborn.axisgrid.FacetGrid at 0x298f483f7f0>"
      ]
     },
     "execution_count": 50,
     "metadata": {},
     "output_type": "execute_result"
    },
    {
     "data": {
      "image/png": "[encoded data removed]",
      "text/plain": [
       "<Figure size 436.35x360 with 1 Axes>"
      ]
     },
     "metadata": {
      "needs_background": "light"
     },
     "output_type": "display_data"
    },
    {
     "data": {
      "image/png": "[encoded data removed]",
      "text/plain": [
       "<Figure size 494.6x360 with 1 Axes>"
      ]
     },
     "metadata": {
      "needs_background": "light"
     },
     "output_type": "display_data"
    },
    {
     "data": {
      "image/png": "[encoded data removed]",
      "text/plain": [
       "<Figure size 450.725x360 with 1 Axes>"
      ]
     },
     "metadata": {
      "needs_background": "light"
     },
     "output_type": "display_data"
    },
    {
     "data": {
      "image/png": "[encoded data removed]",
      "text/plain": [
       "<Figure size 505.85x360 with 1 Axes>"
      ]
     },
     "metadata": {
      "needs_background": "light"
     },
     "output_type": "display_data"
    }
   ],
   "source": [
    "# Scatterplots of percentage error of finalised linear regression model against residual amount\n",
    "sns.relplot(x=\"wap\", y=\"percentage_error_mod\", hue=\"zone\", data=df1)\n",
    "sns.relplot(x=\"wap\", y=\"percentage_error_mod\", hue=\"construction_status\", data=df1)\n",
    "sns.relplot(x=\"wap\", y=\"percentage_error_mod\", hue=\"unit_type\", data=df1)\n",
    "sns.relplot(x=\"wap\", y=\"percentage_error_mod\", hue=\"proj_bedrooms_clean\", data=df1)"
   ]
  },
  {
   "cell_type": "markdown",
   "metadata": {},
   "source": [
    "Most of the projects can be classified under lower category of prediction errors at lower prices."
   ]
  },
  {
   "cell_type": "markdown",
   "metadata": {},
   "source": [
    "## 5. XGBoost Regressor Using All Features"
   ]
  },
  {
   "cell_type": "code",
   "execution_count": 51,
   "metadata": {},
   "outputs": [],
   "source": [
    "def label_encoder(dataframe, col_name): # Function for label encoding categorical variables\n",
    "    from sklearn.preprocessing import LabelEncoder\n",
    "    le = LabelEncoder()\n",
    "    le.fit(dataframe[col_name].unique())\n",
    "    dataframe[col_name] = le.transform(dataframe[col_name])"
   ]
  },
  {
   "cell_type": "code",
   "execution_count": 52,
   "metadata": {},
   "outputs": [
    {
     "data": {
      "text/html": [
       "<div>\n",
       "<style scoped>\n",
       "    .dataframe tbody tr th:only-of-type {\n",
       "        vertical-align: middle;\n",
       "    }\n",
       "\n",
       "    .dataframe tbody tr th {\n",
       "        vertical-align: top;\n",
       "    }\n",
       "\n",
       "    .dataframe thead th {\n",
       "        text-align: right;\n",
       "    }\n",
       "</style>\n",
       "<table border=\"1\" class=\"dataframe\">\n",
       "  <thead>\n",
       "    <tr style=\"text-align: right;\">\n",
       "      <th></th>\n",
       "      <th>residual_mod</th>\n",
       "      <th>mm_cluster</th>\n",
       "      <th>dev_cluster</th>\n",
       "      <th>b1</th>\n",
       "      <th>b2</th>\n",
       "      <th>b3</th>\n",
       "      <th>b4</th>\n",
       "      <th>b5</th>\n",
       "      <th>b6</th>\n",
       "      <th>b7</th>\n",
       "      <th>...</th>\n",
       "      <th>V16</th>\n",
       "      <th>V17</th>\n",
       "      <th>V18</th>\n",
       "      <th>V19</th>\n",
       "      <th>V20</th>\n",
       "      <th>V21</th>\n",
       "      <th>V22</th>\n",
       "      <th>V23</th>\n",
       "      <th>V24</th>\n",
       "      <th>V25</th>\n",
       "    </tr>\n",
       "  </thead>\n",
       "  <tbody>\n",
       "    <tr>\n",
       "      <th>0</th>\n",
       "      <td>5.333808</td>\n",
       "      <td>2</td>\n",
       "      <td>16</td>\n",
       "      <td>106</td>\n",
       "      <td>5</td>\n",
       "      <td>0</td>\n",
       "      <td>0</td>\n",
       "      <td>0</td>\n",
       "      <td>0</td>\n",
       "      <td>0</td>\n",
       "      <td>...</td>\n",
       "      <td>-0.422871</td>\n",
       "      <td>-0.789669</td>\n",
       "      <td>-0.659173</td>\n",
       "      <td>0.189961</td>\n",
       "      <td>0.335592</td>\n",
       "      <td>1.264041</td>\n",
       "      <td>0.054089</td>\n",
       "      <td>-0.131723</td>\n",
       "      <td>-0.580872</td>\n",
       "      <td>0.412611</td>\n",
       "    </tr>\n",
       "    <tr>\n",
       "      <th>1</th>\n",
       "      <td>-2256.206867</td>\n",
       "      <td>2</td>\n",
       "      <td>16</td>\n",
       "      <td>0</td>\n",
       "      <td>98</td>\n",
       "      <td>52</td>\n",
       "      <td>0</td>\n",
       "      <td>0</td>\n",
       "      <td>0</td>\n",
       "      <td>0</td>\n",
       "      <td>...</td>\n",
       "      <td>-0.056276</td>\n",
       "      <td>-0.577943</td>\n",
       "      <td>-0.373556</td>\n",
       "      <td>-0.023348</td>\n",
       "      <td>0.538932</td>\n",
       "      <td>0.988884</td>\n",
       "      <td>-0.303059</td>\n",
       "      <td>0.348402</td>\n",
       "      <td>-0.405855</td>\n",
       "      <td>0.458890</td>\n",
       "    </tr>\n",
       "    <tr>\n",
       "      <th>2</th>\n",
       "      <td>-1917.604198</td>\n",
       "      <td>2</td>\n",
       "      <td>16</td>\n",
       "      <td>0</td>\n",
       "      <td>98</td>\n",
       "      <td>52</td>\n",
       "      <td>0</td>\n",
       "      <td>0</td>\n",
       "      <td>0</td>\n",
       "      <td>0</td>\n",
       "      <td>...</td>\n",
       "      <td>-0.055074</td>\n",
       "      <td>-0.553753</td>\n",
       "      <td>-0.389509</td>\n",
       "      <td>-0.025317</td>\n",
       "      <td>0.572751</td>\n",
       "      <td>1.003029</td>\n",
       "      <td>-0.347910</td>\n",
       "      <td>0.379972</td>\n",
       "      <td>-0.367028</td>\n",
       "      <td>0.492925</td>\n",
       "    </tr>\n",
       "    <tr>\n",
       "      <th>3</th>\n",
       "      <td>-1289.240782</td>\n",
       "      <td>2</td>\n",
       "      <td>3</td>\n",
       "      <td>107</td>\n",
       "      <td>13</td>\n",
       "      <td>0</td>\n",
       "      <td>0</td>\n",
       "      <td>0</td>\n",
       "      <td>0</td>\n",
       "      <td>0</td>\n",
       "      <td>...</td>\n",
       "      <td>-0.174178</td>\n",
       "      <td>-0.400852</td>\n",
       "      <td>-0.209210</td>\n",
       "      <td>-0.201405</td>\n",
       "      <td>0.652291</td>\n",
       "      <td>1.168787</td>\n",
       "      <td>0.021800</td>\n",
       "      <td>0.150187</td>\n",
       "      <td>-0.344659</td>\n",
       "      <td>0.357670</td>\n",
       "    </tr>\n",
       "    <tr>\n",
       "      <th>4</th>\n",
       "      <td>589.981900</td>\n",
       "      <td>2</td>\n",
       "      <td>11</td>\n",
       "      <td>1</td>\n",
       "      <td>22</td>\n",
       "      <td>10</td>\n",
       "      <td>0</td>\n",
       "      <td>0</td>\n",
       "      <td>0</td>\n",
       "      <td>0</td>\n",
       "      <td>...</td>\n",
       "      <td>-0.063372</td>\n",
       "      <td>-0.468529</td>\n",
       "      <td>-0.364467</td>\n",
       "      <td>-0.108515</td>\n",
       "      <td>0.692411</td>\n",
       "      <td>1.022727</td>\n",
       "      <td>-0.269232</td>\n",
       "      <td>0.352715</td>\n",
       "      <td>-0.367375</td>\n",
       "      <td>0.468766</td>\n",
       "    </tr>\n",
       "  </tbody>\n",
       "</table>\n",
       "<p>5 rows × 54 columns</p>\n",
       "</div>"
      ],
      "text/plain": [
       "   residual_mod  mm_cluster  dev_cluster   b1  b2  b3  b4  b5  b6  b7  ...  \\\n",
       "0      5.333808           2           16  106   5   0   0   0   0   0  ...   \n",
       "1  -2256.206867           2           16    0  98  52   0   0   0   0  ...   \n",
       "2  -1917.604198           2           16    0  98  52   0   0   0   0  ...   \n",
       "3  -1289.240782           2            3  107  13   0   0   0   0   0  ...   \n",
       "4    589.981900           2           11    1  22  10   0   0   0   0  ...   \n",
       "\n",
       "        V16       V17       V18       V19       V20       V21       V22  \\\n",
       "0 -0.422871 -0.789669 -0.659173  0.189961  0.335592  1.264041  0.054089   \n",
       "1 -0.056276 -0.577943 -0.373556 -0.023348  0.538932  0.988884 -0.303059   \n",
       "2 -0.055074 -0.553753 -0.389509 -0.025317  0.572751  1.003029 -0.347910   \n",
       "3 -0.174178 -0.400852 -0.209210 -0.201405  0.652291  1.168787  0.021800   \n",
       "4 -0.063372 -0.468529 -0.364467 -0.108515  0.692411  1.022727 -0.269232   \n",
       "\n",
       "        V23       V24       V25  \n",
       "0 -0.131723 -0.580872  0.412611  \n",
       "1  0.348402 -0.405855  0.458890  \n",
       "2  0.379972 -0.367028  0.492925  \n",
       "3  0.150187 -0.344659  0.357670  \n",
       "4  0.352715 -0.367375  0.468766  \n",
       "\n",
       "[5 rows x 54 columns]"
      ]
     },
     "execution_count": 52,
     "metadata": {},
     "output_type": "execute_result"
    }
   ],
   "source": [
    "include=['residual_mod','mm_cluster','dev_cluster','b1','b2','b3','b4','b5','b6','b7','b8','bp1','bp3','bp4','bp5','bp6','bp7','bp8','bp48','bp58','min_size','max_size','size_rv','unit_type','construction_status','proj_bedrooms_clean','proj_launched_units','launch_year','size_range','V1','V2','V3','V4','V5','V6','V7','V8','V9','V10','V11','V12','V13','V14','V15','V16','V17','V18','V19','V20','V21','V22','V23','V24','V25']\n",
    "df2=pd.DataFrame(df1[include])\n",
    "\n",
    "df2['launch_year']=df2['launch_year'].astype('int')\n",
    "for i in ['unit_type','construction_status','proj_bedrooms_clean']: # Label-encoding of amenities features\n",
    "    label_encoder(df2, i)\n",
    "    \n",
    "df2.head()"
   ]
  },
  {
   "cell_type": "code",
   "execution_count": 53,
   "metadata": {},
   "outputs": [
    {
     "name": "stdout",
     "output_type": "stream",
     "text": [
      "(1965, 53) (656, 53) (1965,) (656,)\n"
     ]
    }
   ],
   "source": [
    "from sklearn.model_selection import train_test_split\n",
    "\n",
    "target = 'residual_mod'\n",
    "features = df2.columns != target\n",
    "x = df2.loc[:,features]\n",
    "y = df2[target]\n",
    "x_train, x_test, y_train, y_test = train_test_split(x, y, random_state=8)\n",
    "print(x_train.shape, x_test.shape, y_train.shape, y_test.shape)"
   ]
  },
  {
   "cell_type": "code",
   "execution_count": 54,
   "metadata": {},
   "outputs": [
    {
     "data": {
      "text/plain": [
       "XGBRegressor(base_score=0.5, booster='gbtree', colsample_bylevel=1,\n",
       "       colsample_bytree=1, gamma=0, learning_rate=1.195, max_delta_step=0,\n",
       "       max_depth=5, min_child_weight=1, missing=None, n_estimators=1500,\n",
       "       n_jobs=1, nthread=None, objective='reg:linear', random_state=0,\n",
       "       reg_alpha=1200, reg_lambda=0, scale_pos_weight=1, seed=None,\n",
       "       silent=True, subsample=1)"
      ]
     },
     "execution_count": 54,
     "metadata": {},
     "output_type": "execute_result"
    }
   ],
   "source": [
    "import xgboost as xgb\n",
    "\n",
    "xg_reg_all=xgb.XGBRegressor(base_score=0.5,booster='gbtree', objective='reg:linear',n_estimators=1500,learning_rate=1.195,reg_lambda=0,reg_alpha=1200,max_depth=5)\n",
    "xg_reg_all.fit(x_train,y_train)"
   ]
  },
  {
   "cell_type": "code",
   "execution_count": 55,
   "metadata": {},
   "outputs": [
    {
     "data": {
      "text/html": [
       "<div>\n",
       "<style scoped>\n",
       "    .dataframe tbody tr th:only-of-type {\n",
       "        vertical-align: middle;\n",
       "    }\n",
       "\n",
       "    .dataframe tbody tr th {\n",
       "        vertical-align: top;\n",
       "    }\n",
       "\n",
       "    .dataframe thead th {\n",
       "        text-align: right;\n",
       "    }\n",
       "</style>\n",
       "<table border=\"1\" class=\"dataframe\">\n",
       "  <thead>\n",
       "    <tr style=\"text-align: right;\">\n",
       "      <th></th>\n",
       "      <th>fit_time</th>\n",
       "      <th>score_time</th>\n",
       "      <th>test_score</th>\n",
       "      <th>train_score</th>\n",
       "    </tr>\n",
       "  </thead>\n",
       "  <tbody>\n",
       "    <tr>\n",
       "      <th>0</th>\n",
       "      <td>2.142543</td>\n",
       "      <td>0.008341</td>\n",
       "      <td>-0.516286</td>\n",
       "      <td>0.999440</td>\n",
       "    </tr>\n",
       "    <tr>\n",
       "      <th>1</th>\n",
       "      <td>2.296493</td>\n",
       "      <td>0.010079</td>\n",
       "      <td>-1.715465</td>\n",
       "      <td>0.999505</td>\n",
       "    </tr>\n",
       "    <tr>\n",
       "      <th>2</th>\n",
       "      <td>2.059148</td>\n",
       "      <td>0.008057</td>\n",
       "      <td>-0.918906</td>\n",
       "      <td>0.999529</td>\n",
       "    </tr>\n",
       "    <tr>\n",
       "      <th>3</th>\n",
       "      <td>1.854014</td>\n",
       "      <td>0.000000</td>\n",
       "      <td>-1.434444</td>\n",
       "      <td>0.999472</td>\n",
       "    </tr>\n",
       "    <tr>\n",
       "      <th>4</th>\n",
       "      <td>1.935092</td>\n",
       "      <td>0.015623</td>\n",
       "      <td>-0.581224</td>\n",
       "      <td>0.999449</td>\n",
       "    </tr>\n",
       "  </tbody>\n",
       "</table>\n",
       "</div>"
      ],
      "text/plain": [
       "   fit_time  score_time  test_score  train_score\n",
       "0  2.142543    0.008341   -0.516286     0.999440\n",
       "1  2.296493    0.010079   -1.715465     0.999505\n",
       "2  2.059148    0.008057   -0.918906     0.999529\n",
       "3  1.854014    0.000000   -1.434444     0.999472\n",
       "4  1.935092    0.015623   -0.581224     0.999449"
      ]
     },
     "execution_count": 55,
     "metadata": {},
     "output_type": "execute_result"
    }
   ],
   "source": [
    "from sklearn.model_selection import cross_validate\n",
    "\n",
    "# cross validate\n",
    "scores_xgreg_all = cross_validate(xg_reg_all, x_train, y_train, cv=5,\n",
    "                        return_train_score=True,\n",
    "                        return_estimator=False)\n",
    "scores_xgreg_all=pd.DataFrame(scores_xgreg_all)\n",
    "scores_xgreg_all"
   ]
  },
  {
   "cell_type": "code",
   "execution_count": 56,
   "metadata": {},
   "outputs": [
    {
     "name": "stdout",
     "output_type": "stream",
     "text": [
      "Mean Test Score of XG Boost Regressor using  features in finalised model:  -1.0332647930665115\n",
      "Mean Train Score of XG Boost Regressor using features in finalised model:  0.9994789414261142\n"
     ]
    }
   ],
   "source": [
    "print('Mean Test Score of XG Boost Regressor using  features in finalised model: ', scores_xgreg_all['test_score'].mean())\n",
    "print('Mean Train Score of XG Boost Regressor using features in finalised model: ', scores_xgreg_all['train_score'].mean())"
   ]
  },
  {
   "cell_type": "code",
   "execution_count": 57,
   "metadata": {},
   "outputs": [],
   "source": [
    "def model_R2 (model,x_testdataframe,y_testdataframe):\n",
    "    from sklearn.metrics import r2_score\n",
    "    \n",
    "    y_pred=model.predict(x_testdataframe)\n",
    "    return (print(\"R2 Score -\", r2_score(y_testdataframe, y_pred)))"
   ]
  },
  {
   "cell_type": "code",
   "execution_count": 58,
   "metadata": {},
   "outputs": [
    {
     "name": "stdout",
     "output_type": "stream",
     "text": [
      "XGBoost Regressor with selected features in finalised regression model:\n",
      "R2 Score - -1.507631680208505\n"
     ]
    }
   ],
   "source": [
    "print(\"XGBoost Regressor with selected features in finalised regression model:\") \n",
    "model_R2 (xg_reg_all, x_test, y_test)"
   ]
  },
  {
   "cell_type": "markdown",
   "metadata": {},
   "source": [
    "Even though train and test scores are minimised, poor R-squared values imply that the model is poor fit."
   ]
  },
  {
   "cell_type": "markdown",
   "metadata": {},
   "source": [
    "## 6. XGBoost Regressor Using Selected Features in Final Model"
   ]
  },
  {
   "cell_type": "code",
   "execution_count": 59,
   "metadata": {},
   "outputs": [
    {
     "data": {
      "text/html": [
       "<div>\n",
       "<style scoped>\n",
       "    .dataframe tbody tr th:only-of-type {\n",
       "        vertical-align: middle;\n",
       "    }\n",
       "\n",
       "    .dataframe tbody tr th {\n",
       "        vertical-align: top;\n",
       "    }\n",
       "\n",
       "    .dataframe thead th {\n",
       "        text-align: right;\n",
       "    }\n",
       "</style>\n",
       "<table border=\"1\" class=\"dataframe\">\n",
       "  <thead>\n",
       "    <tr style=\"text-align: right;\">\n",
       "      <th></th>\n",
       "      <th>residual_mod</th>\n",
       "      <th>mm_cluster</th>\n",
       "      <th>b1</th>\n",
       "      <th>bp1</th>\n",
       "      <th>bp3</th>\n",
       "      <th>bp4</th>\n",
       "      <th>bp58</th>\n",
       "      <th>size_rv</th>\n",
       "      <th>V4</th>\n",
       "      <th>V5</th>\n",
       "      <th>V6</th>\n",
       "      <th>V7</th>\n",
       "      <th>V8</th>\n",
       "      <th>V12</th>\n",
       "      <th>V13</th>\n",
       "      <th>V16</th>\n",
       "      <th>V17</th>\n",
       "      <th>V23</th>\n",
       "      <th>V24</th>\n",
       "    </tr>\n",
       "  </thead>\n",
       "  <tbody>\n",
       "    <tr>\n",
       "      <th>0</th>\n",
       "      <td>5.333808</td>\n",
       "      <td>2</td>\n",
       "      <td>106</td>\n",
       "      <td>0.954955</td>\n",
       "      <td>0.000000</td>\n",
       "      <td>0.0</td>\n",
       "      <td>0.0</td>\n",
       "      <td>1.383353</td>\n",
       "      <td>-0.067081</td>\n",
       "      <td>-0.185371</td>\n",
       "      <td>-0.032546</td>\n",
       "      <td>0.435810</td>\n",
       "      <td>0.264055</td>\n",
       "      <td>-0.116487</td>\n",
       "      <td>-0.252410</td>\n",
       "      <td>-0.422871</td>\n",
       "      <td>-0.789669</td>\n",
       "      <td>-0.131723</td>\n",
       "      <td>-0.580872</td>\n",
       "    </tr>\n",
       "    <tr>\n",
       "      <th>1</th>\n",
       "      <td>-2256.206867</td>\n",
       "      <td>2</td>\n",
       "      <td>0</td>\n",
       "      <td>0.000000</td>\n",
       "      <td>0.346667</td>\n",
       "      <td>0.0</td>\n",
       "      <td>0.0</td>\n",
       "      <td>0.372748</td>\n",
       "      <td>0.278550</td>\n",
       "      <td>-0.111899</td>\n",
       "      <td>0.312749</td>\n",
       "      <td>0.307807</td>\n",
       "      <td>-0.034639</td>\n",
       "      <td>0.294924</td>\n",
       "      <td>-0.167680</td>\n",
       "      <td>-0.056276</td>\n",
       "      <td>-0.577943</td>\n",
       "      <td>0.348402</td>\n",
       "      <td>-0.405855</td>\n",
       "    </tr>\n",
       "    <tr>\n",
       "      <th>2</th>\n",
       "      <td>-1917.604198</td>\n",
       "      <td>2</td>\n",
       "      <td>0</td>\n",
       "      <td>0.000000</td>\n",
       "      <td>0.346667</td>\n",
       "      <td>0.0</td>\n",
       "      <td>0.0</td>\n",
       "      <td>0.372748</td>\n",
       "      <td>0.282199</td>\n",
       "      <td>-0.090756</td>\n",
       "      <td>0.292134</td>\n",
       "      <td>0.288563</td>\n",
       "      <td>-0.021560</td>\n",
       "      <td>0.282619</td>\n",
       "      <td>-0.137335</td>\n",
       "      <td>-0.055074</td>\n",
       "      <td>-0.553753</td>\n",
       "      <td>0.379972</td>\n",
       "      <td>-0.367028</td>\n",
       "    </tr>\n",
       "    <tr>\n",
       "      <th>3</th>\n",
       "      <td>-1289.240782</td>\n",
       "      <td>2</td>\n",
       "      <td>107</td>\n",
       "      <td>0.891667</td>\n",
       "      <td>0.000000</td>\n",
       "      <td>0.0</td>\n",
       "      <td>0.0</td>\n",
       "      <td>1.187398</td>\n",
       "      <td>0.391827</td>\n",
       "      <td>-0.249752</td>\n",
       "      <td>0.281397</td>\n",
       "      <td>0.277463</td>\n",
       "      <td>0.051048</td>\n",
       "      <td>0.525415</td>\n",
       "      <td>-0.076936</td>\n",
       "      <td>-0.174178</td>\n",
       "      <td>-0.400852</td>\n",
       "      <td>0.150187</td>\n",
       "      <td>-0.344659</td>\n",
       "    </tr>\n",
       "    <tr>\n",
       "      <th>4</th>\n",
       "      <td>589.981900</td>\n",
       "      <td>2</td>\n",
       "      <td>1</td>\n",
       "      <td>0.030303</td>\n",
       "      <td>0.303030</td>\n",
       "      <td>0.0</td>\n",
       "      <td>0.0</td>\n",
       "      <td>1.519184</td>\n",
       "      <td>0.307399</td>\n",
       "      <td>-0.107702</td>\n",
       "      <td>0.292808</td>\n",
       "      <td>0.239444</td>\n",
       "      <td>-0.048153</td>\n",
       "      <td>0.321322</td>\n",
       "      <td>-0.099483</td>\n",
       "      <td>-0.063372</td>\n",
       "      <td>-0.468529</td>\n",
       "      <td>0.352715</td>\n",
       "      <td>-0.367375</td>\n",
       "    </tr>\n",
       "  </tbody>\n",
       "</table>\n",
       "</div>"
      ],
      "text/plain": [
       "   residual_mod  mm_cluster   b1       bp1       bp3  bp4  bp58   size_rv  \\\n",
       "0      5.333808           2  106  0.954955  0.000000  0.0   0.0  1.383353   \n",
       "1  -2256.206867           2    0  0.000000  0.346667  0.0   0.0  0.372748   \n",
       "2  -1917.604198           2    0  0.000000  0.346667  0.0   0.0  0.372748   \n",
       "3  -1289.240782           2  107  0.891667  0.000000  0.0   0.0  1.187398   \n",
       "4    589.981900           2    1  0.030303  0.303030  0.0   0.0  1.519184   \n",
       "\n",
       "         V4        V5        V6        V7        V8       V12       V13  \\\n",
       "0 -0.067081 -0.185371 -0.032546  0.435810  0.264055 -0.116487 -0.252410   \n",
       "1  0.278550 -0.111899  0.312749  0.307807 -0.034639  0.294924 -0.167680   \n",
       "2  0.282199 -0.090756  0.292134  0.288563 -0.021560  0.282619 -0.137335   \n",
       "3  0.391827 -0.249752  0.281397  0.277463  0.051048  0.525415 -0.076936   \n",
       "4  0.307399 -0.107702  0.292808  0.239444 -0.048153  0.321322 -0.099483   \n",
       "\n",
       "        V16       V17       V23       V24  \n",
       "0 -0.422871 -0.789669 -0.131723 -0.580872  \n",
       "1 -0.056276 -0.577943  0.348402 -0.405855  \n",
       "2 -0.055074 -0.553753  0.379972 -0.367028  \n",
       "3 -0.174178 -0.400852  0.150187 -0.344659  \n",
       "4 -0.063372 -0.468529  0.352715 -0.367375  "
      ]
     },
     "execution_count": 59,
     "metadata": {},
     "output_type": "execute_result"
    }
   ],
   "source": [
    "include=['residual_mod','mm_cluster','b1','bp1','bp3','bp4','bp58','size_rv','V4','V5','V6','V7','V8','V12','V13','V16','V17','V23','V24']\n",
    "df3=pd.DataFrame(df1[include])\n",
    "    \n",
    "df3.head()"
   ]
  },
  {
   "cell_type": "code",
   "execution_count": 60,
   "metadata": {},
   "outputs": [
    {
     "name": "stdout",
     "output_type": "stream",
     "text": [
      "(1965, 18) (656, 18) (1965,) (656,)\n"
     ]
    }
   ],
   "source": [
    "dependent = 'residual_mod'\n",
    "independent = df3.columns != dependent\n",
    "x1 = df3.loc[:,independent]\n",
    "y1 = df3[dependent]\n",
    "x1_train, x1_test, y1_train, y1_test = train_test_split(x1, y1, random_state=8)\n",
    "print(x1_train.shape, x1_test.shape, y1_train.shape, y1_test.shape)"
   ]
  },
  {
   "cell_type": "code",
   "execution_count": 61,
   "metadata": {},
   "outputs": [
    {
     "data": {
      "text/plain": [
       "XGBRegressor(base_score=0.5, booster='gbtree', colsample_bylevel=1,\n",
       "       colsample_bytree=1, gamma=0, learning_rate=1.1195, max_delta_step=0,\n",
       "       max_depth=6, min_child_weight=1, missing=None, n_estimators=1500,\n",
       "       n_jobs=1, nthread=None, objective='reg:linear', random_state=0,\n",
       "       reg_alpha=1200, reg_lambda=0, scale_pos_weight=1, seed=None,\n",
       "       silent=True, subsample=1)"
      ]
     },
     "execution_count": 61,
     "metadata": {},
     "output_type": "execute_result"
    }
   ],
   "source": [
    "xg_reg=xgb.XGBRegressor(base_score=0.5,booster='gbtree', objective='reg:linear',n_estimators=1500,learning_rate=1.1195,reg_lambda=0,reg_alpha=1200,max_depth=6)\n",
    "xg_reg.fit(x1_train,y1_train)"
   ]
  },
  {
   "cell_type": "code",
   "execution_count": 62,
   "metadata": {},
   "outputs": [
    {
     "data": {
      "text/html": [
       "<div>\n",
       "<style scoped>\n",
       "    .dataframe tbody tr th:only-of-type {\n",
       "        vertical-align: middle;\n",
       "    }\n",
       "\n",
       "    .dataframe tbody tr th {\n",
       "        vertical-align: top;\n",
       "    }\n",
       "\n",
       "    .dataframe thead th {\n",
       "        text-align: right;\n",
       "    }\n",
       "</style>\n",
       "<table border=\"1\" class=\"dataframe\">\n",
       "  <thead>\n",
       "    <tr style=\"text-align: right;\">\n",
       "      <th></th>\n",
       "      <th>fit_time</th>\n",
       "      <th>score_time</th>\n",
       "      <th>test_score</th>\n",
       "      <th>train_score</th>\n",
       "    </tr>\n",
       "  </thead>\n",
       "  <tbody>\n",
       "    <tr>\n",
       "      <th>0</th>\n",
       "      <td>2.142543</td>\n",
       "      <td>0.008341</td>\n",
       "      <td>-0.516286</td>\n",
       "      <td>0.999440</td>\n",
       "    </tr>\n",
       "    <tr>\n",
       "      <th>1</th>\n",
       "      <td>2.296493</td>\n",
       "      <td>0.010079</td>\n",
       "      <td>-1.715465</td>\n",
       "      <td>0.999505</td>\n",
       "    </tr>\n",
       "    <tr>\n",
       "      <th>2</th>\n",
       "      <td>2.059148</td>\n",
       "      <td>0.008057</td>\n",
       "      <td>-0.918906</td>\n",
       "      <td>0.999529</td>\n",
       "    </tr>\n",
       "    <tr>\n",
       "      <th>3</th>\n",
       "      <td>1.854014</td>\n",
       "      <td>0.000000</td>\n",
       "      <td>-1.434444</td>\n",
       "      <td>0.999472</td>\n",
       "    </tr>\n",
       "    <tr>\n",
       "      <th>4</th>\n",
       "      <td>1.935092</td>\n",
       "      <td>0.015623</td>\n",
       "      <td>-0.581224</td>\n",
       "      <td>0.999449</td>\n",
       "    </tr>\n",
       "  </tbody>\n",
       "</table>\n",
       "</div>"
      ],
      "text/plain": [
       "   fit_time  score_time  test_score  train_score\n",
       "0  2.142543    0.008341   -0.516286     0.999440\n",
       "1  2.296493    0.010079   -1.715465     0.999505\n",
       "2  2.059148    0.008057   -0.918906     0.999529\n",
       "3  1.854014    0.000000   -1.434444     0.999472\n",
       "4  1.935092    0.015623   -0.581224     0.999449"
      ]
     },
     "execution_count": 62,
     "metadata": {},
     "output_type": "execute_result"
    }
   ],
   "source": [
    "# cross validate\n",
    "scores_xgreg = cross_validate(xg_reg, x1_train, y1_train, cv=8,\n",
    "                        return_train_score=True,return_estimator=False)\n",
    "\n",
    "scores_xgreg = pd.DataFrame(scores_xgreg_all)\n",
    "scores_xgreg"
   ]
  },
  {
   "cell_type": "code",
   "execution_count": 63,
   "metadata": {},
   "outputs": [
    {
     "name": "stdout",
     "output_type": "stream",
     "text": [
      "Mean Test Score of XG Boost Regressor using features in finalised regression model:  -1.0332647930665115\n",
      "Mean Train Score of XG Boost Regressor using features in finalised regression model:  0.9994789414261142\n"
     ]
    }
   ],
   "source": [
    "print('Mean Test Score of XG Boost Regressor using features in finalised regression model: ', scores_xgreg['test_score'].mean())\n",
    "print('Mean Train Score of XG Boost Regressor using features in finalised regression model: ', scores_xgreg['train_score'].mean())"
   ]
  },
  {
   "cell_type": "code",
   "execution_count": 64,
   "metadata": {},
   "outputs": [
    {
     "name": "stdout",
     "output_type": "stream",
     "text": [
      "XGBoost Regressor with all features:\n",
      "R2 Score - -1.0832136205310672\n"
     ]
    }
   ],
   "source": [
    "print(\"XGBoost Regressor with all features:\") \n",
    "model_R2 (xg_reg, x1_test, y1_test)"
   ]
  },
  {
   "cell_type": "markdown",
   "metadata": {},
   "source": [
    "This model is also a poor fit."
   ]
  }
 ],
 "metadata": {
  "kernelspec": {
   "display_name": "Python 3",
   "language": "python",
   "name": "python3"
  },
  "language_info": {
   "codemirror_mode": {
    "name": "ipython",
    "version": 3
   },
   "file_extension": ".py",
   "mimetype": "text/x-python",
   "name": "python",
   "nbconvert_exporter": "python",
   "pygments_lexer": "ipython3",
   "version": "3.6.8"
  }
 },
 "nbformat": 4,
 "nbformat_minor": 2
}
