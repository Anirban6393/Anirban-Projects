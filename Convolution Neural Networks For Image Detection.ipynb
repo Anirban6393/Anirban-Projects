{
 "cells": [
  {
   "cell_type": "markdown",
   "metadata": {},
   "source": [
    "# Convolutional Neural Nets\n",
    "\n",
    "We'll explore the different layers that make up a Convolutional Neural Network.\n",
    "\n",
    "Code reference:\n",
    "https://github.com/keras-team/keras/blob/master/examples/mnist_cnn.py"
   ]
  },
  {
   "cell_type": "code",
   "execution_count": 5,
   "metadata": {},
   "outputs": [
    {
     "name": "stderr",
     "output_type": "stream",
     "text": [
      "Using TensorFlow backend.\n"
     ]
    }
   ],
   "source": [
    "import keras\n",
    "from keras import backend as K\n",
    "\n",
    "from keras.models import Sequential\n",
    "from keras.layers import Dense, Flatten\n",
    "from keras.layers import Conv2D, MaxPooling2D\n",
    "\n",
    "from keras.datasets import mnist\n",
    "\n",
    "import matplotlib.pyplot as plt\n",
    "import numpy as np\n",
    "\n",
    "%matplotlib inline"
   ]
  },
  {
   "cell_type": "code",
   "execution_count": 22,
   "metadata": {},
   "outputs": [],
   "source": [
    "(X_train, y_train), (X_test, y_test) = mnist.load_data()\n",
    "\n"
   ]
  },
  {
   "cell_type": "code",
   "execution_count": 27,
   "metadata": {},
   "outputs": [],
   "source": [
    "X_train = X_train.astype('float32')\n",
    "X_test = X_test.astype('float32')\n",
    "X_train /= 255\n",
    "X_test /= 255"
   ]
  },
  {
   "cell_type": "code",
   "execution_count": 29,
   "metadata": {},
   "outputs": [],
   "source": [
    "# convert class vectors to binary class matrices\n",
    "num_classes = 10\n",
    "y_train = keras.utils.to_categorical(y_train, num_classes)\n",
    "y_test = keras.utils.to_categorical(y_test, num_classes)"
   ]
  },
  {
   "cell_type": "code",
   "execution_count": 25,
   "metadata": {},
   "outputs": [
    {
     "name": "stdout",
     "output_type": "stream",
     "text": [
      "[0. 0. 0. 0. 0. 1. 0. 0. 0. 0.]\n"
     ]
    },
    {
     "data": {
      "image/png": "[encoded data removed]",
      "text/plain": [
       "<Figure size 432x288 with 1 Axes>"
      ]
     },
     "metadata": {
      "needs_background": "light"
     },
     "output_type": "display_data"
    }
   ],
   "source": [
    "plt.imshow(X_train[0])\n",
    "print(y_train[0])"
   ]
  },
  {
   "cell_type": "markdown",
   "metadata": {},
   "source": [
    "## Reshaping image data\n",
    "\n",
    "The first difference with MLP is that we have to treat the images as 2D images (or 2D images with RGB channels).\n",
    "\n",
    "For MLP, we flatten the input to a vector. \n",
    "\n",
    "For CNNs, the input is expected to be processed as (rows, cols, channels) or (channels, rows, cols)"
   ]
  },
  {
   "cell_type": "code",
   "execution_count": 30,
   "metadata": {},
   "outputs": [],
   "source": [
    "img_rows = 28\n",
    "img_cols = 28\n",
    "\n",
    "if K.image_data_format() == 'channels_first':\n",
    "    X_train = X_train.reshape(X_train.shape[0], 1, img_rows, img_cols)\n",
    "    X_test = X_test.reshape(X_test.shape[0], 1, img_rows, img_cols)\n",
    "    input_shape = (1, img_rows, img_cols)\n",
    "else:\n",
    "    X_train = X_train.reshape(X_train.shape[0], img_rows, img_cols, 1)\n",
    "    X_test = X_test.reshape(X_test.shape[0], img_rows, img_cols, 1)\n",
    "    input_shape = (img_rows, img_cols, 1)\n",
    "    K.image_data_format()"
   ]
  },
  {
   "cell_type": "code",
   "execution_count": 31,
   "metadata": {},
   "outputs": [
    {
     "data": {
      "text/plain": [
       "'channels_last'"
      ]
     },
     "execution_count": 31,
     "metadata": {},
     "output_type": "execute_result"
    }
   ],
   "source": [
    " K.image_data_format()"
   ]
  },
  {
   "cell_type": "code",
   "execution_count": 32,
   "metadata": {},
   "outputs": [
    {
     "data": {
      "text/plain": [
       "(60000, 28, 28, 1)"
      ]
     },
     "execution_count": 32,
     "metadata": {},
     "output_type": "execute_result"
    }
   ],
   "source": [
    "X_train.shape"
   ]
  },
  {
   "cell_type": "code",
   "execution_count": 33,
   "metadata": {},
   "outputs": [
    {
     "data": {
      "text/plain": [
       "(28, 28, 1)"
      ]
     },
     "execution_count": 33,
     "metadata": {},
     "output_type": "execute_result"
    }
   ],
   "source": [
    "input_shape"
   ]
  },
  {
   "cell_type": "code",
   "execution_count": null,
   "metadata": {},
   "outputs": [],
   "source": []
  },
  {
   "cell_type": "markdown",
   "metadata": {},
   "source": [
    "## Model"
   ]
  },
  {
   "cell_type": "code",
   "execution_count": null,
   "metadata": {},
   "outputs": [],
   "source": []
  },
  {
   "cell_type": "code",
   "execution_count": 34,
   "metadata": {},
   "outputs": [
    {
     "name": "stdout",
     "output_type": "stream",
     "text": [
      "_________________________________________________________________\n",
      "Layer (type)                 Output Shape              Param #   \n",
      "=================================================================\n",
      "conv2d_1 (Conv2D)            (None, 26, 26, 32)        320       \n",
      "_________________________________________________________________\n",
      "conv2d_2 (Conv2D)            (None, 24, 24, 64)        18496     \n",
      "_________________________________________________________________\n",
      "max_pooling2d_1 (MaxPooling2 (None, 12, 12, 64)        0         \n",
      "_________________________________________________________________\n",
      "flatten_1 (Flatten)          (None, 9216)              0         \n",
      "_________________________________________________________________\n",
      "dense_1 (Dense)              (None, 128)               1179776   \n",
      "_________________________________________________________________\n",
      "dense_2 (Dense)              (None, 10)                1290      \n",
      "=================================================================\n",
      "Total params: 1,199,882\n",
      "Trainable params: 1,199,882\n",
      "Non-trainable params: 0\n",
      "_________________________________________________________________\n"
     ]
    }
   ],
   "source": [
    "model = Sequential()\n",
    "\n",
    "# filters = 32 (output depth, number of sets of filters)\n",
    "# kernel_size = 3, 3 (size of the filter)\n",
    "# strides = 1, 1 (how much to slide the window)\n",
    "# padding = 'valid' (no padding). ('same' = padding)\n",
    "model.add(Conv2D(32, kernel_size=(3, 3),\n",
    "                 activation='relu',\n",
    "                 input_shape=input_shape))\n",
    "model.add(Conv2D(64, (3, 3), activation='relu'))\n",
    "model.add(MaxPooling2D(pool_size=(2, 2)))\n",
    "\n",
    "model.add(Flatten())\n",
    "model.add(Dense(128, activation='relu'))\n",
    "model.add(Dense(num_classes, activation='softmax'))\n",
    "\n",
    "model.summary()"
   ]
  },
  {
   "cell_type": "code",
   "execution_count": 9,
   "metadata": {},
   "outputs": [],
   "source": [
    "from keras import optimizers\n",
    "\n",
    "# losses: https://keras.io/losses/\n",
    "# multi-class classification - categorical_crossentropy\n",
    "# binary classification - binary_crossentropy\n",
    "# regression - mean_squared_error\n",
    "\n",
    "# optimisers: https://keras.io/optimizers/\n",
    "# SGD - simple (good for fine tuning with lr=very small)\n",
    "# RMSProp - apparently good for RNNs\n",
    "# Adam - more black box but popular!\n",
    "# Adagrad - smaller updates for more frequently updated weights\n",
    "\n",
    "sgd = optimizers.SGD(lr=0.01)\n",
    "model.compile(optimizer=sgd, loss='categorical_crossentropy',\n",
    "              metrics=['accuracy'])"
   ]
  },
  {
   "cell_type": "code",
   "execution_count": 10,
   "metadata": {},
   "outputs": [
    {
     "name": "stdout",
     "output_type": "stream",
     "text": [
      "{'name': 'conv2d_1', 'trainable': True, 'batch_input_shape': (None, 28, 28, 1), 'dtype': 'float32', 'filters': 32, 'kernel_size': (3, 3), 'strides': (1, 1), 'padding': 'valid', 'data_format': 'channels_last', 'dilation_rate': (1, 1), 'activation': 'relu', 'use_bias': True, 'kernel_initializer': {'class_name': 'VarianceScaling', 'config': {'scale': 1.0, 'mode': 'fan_avg', 'distribution': 'uniform', 'seed': None}}, 'bias_initializer': {'class_name': 'Zeros', 'config': {}}, 'kernel_regularizer': None, 'bias_regularizer': None, 'activity_regularizer': None, 'kernel_constraint': None, 'bias_constraint': None}\n",
      "[array([[[[ 0.14113684, -0.11764049,  0.06494218,  0.05986044,\n",
      "          -0.14181189, -0.03348093, -0.10424963, -0.10664333,\n",
      "          -0.10048977, -0.06299061, -0.10053846,  0.09345746,\n",
      "           0.00092174, -0.02446293,  0.11413531, -0.04758857,\n",
      "          -0.14075996,  0.04174687,  0.08749041,  0.08250149,\n",
      "          -0.03173411, -0.08323589, -0.08082453,  0.12619053,\n",
      "          -0.02424185, -0.00192091, -0.10508014, -0.08894916,\n",
      "           0.10812508,  0.03911549, -0.0156386 , -0.00630599]],\n",
      "\n",
      "        [[-0.11133216, -0.07011206,  0.04427446, -0.07452966,\n",
      "           0.01209785, -0.14071241, -0.03874574, -0.02564448,\n",
      "          -0.10275507,  0.01664665,  0.03857   , -0.02169217,\n",
      "           0.03406529,  0.05195232, -0.06725631,  0.13711916,\n",
      "          -0.03398985, -0.10983531, -0.06546208, -0.10958106,\n",
      "          -0.05879024,  0.0694558 ,  0.10471426,  0.13195185,\n",
      "           0.03653492,  0.02507551, -0.11549976,  0.06858554,\n",
      "          -0.11407493, -0.01990245, -0.04157143, -0.07189159]],\n",
      "\n",
      "        [[-0.13294831,  0.12386449, -0.11439486, -0.04854938,\n",
      "           0.02628417,  0.09116739, -0.02220289, -0.11434023,\n",
      "           0.04273452,  0.0451593 , -0.05721566,  0.10827653,\n",
      "           0.09557782, -0.1341567 ,  0.05893452, -0.03712829,\n",
      "           0.06721039, -0.04247274,  0.03796433, -0.00328301,\n",
      "          -0.10999534,  0.02669482,  0.09545252,  0.09024043,\n",
      "           0.05110244, -0.13748363,  0.0569265 ,  0.09038025,\n",
      "          -0.08602546,  0.00494647,  0.11870308,  0.11747952]]],\n",
      "\n",
      "\n",
      "       [[[-0.09320707,  0.00486174,  0.11201836,  0.12081115,\n",
      "          -0.09547731,  0.07478194, -0.12380212,  0.07827492,\n",
      "           0.05785708, -0.03673045,  0.07069035, -0.08080311,\n",
      "          -0.09675555,  0.05685598,  0.02455162, -0.01847382,\n",
      "           0.12712274,  0.05553718, -0.10859731, -0.09214636,\n",
      "           0.0161358 ,  0.02973662, -0.00667411,  0.08125442,\n",
      "           0.00112614,  0.06061591,  0.07103194, -0.03886349,\n",
      "          -0.02180837,  0.13068451, -0.07139718, -0.12172523]],\n",
      "\n",
      "        [[ 0.09766386, -0.09050222,  0.0699311 , -0.08668572,\n",
      "           0.13805069,  0.01204208, -0.06784107, -0.0266239 ,\n",
      "           0.01541539,  0.06515405, -0.02441119,  0.08632161,\n",
      "          -0.11261879,  0.12143625,  0.12687768, -0.06471846,\n",
      "           0.09869732, -0.13296783, -0.1108863 , -0.0236512 ,\n",
      "           0.06428605,  0.04523693, -0.02420739,  0.11252914,\n",
      "          -0.10955808, -0.08341566, -0.01862391,  0.03188081,\n",
      "          -0.11139342,  0.01760194,  0.0831003 , -0.06462692]],\n",
      "\n",
      "        [[ 0.05293739,  0.1246032 , -0.13864319, -0.04187039,\n",
      "          -0.00096227,  0.09365773, -0.00559579, -0.0422506 ,\n",
      "           0.10801996,  0.00897428,  0.08720902, -0.08892608,\n",
      "          -0.0465301 , -0.01105198,  0.10954465, -0.00665131,\n",
      "          -0.10929861,  0.0353283 , -0.00205421,  0.14126374,\n",
      "          -0.10473748, -0.0070318 ,  0.0728378 ,  0.13181283,\n",
      "           0.12093322,  0.0482017 , -0.00781137,  0.06137829,\n",
      "          -0.0314806 ,  0.13325907, -0.08624935,  0.06313351]]],\n",
      "\n",
      "\n",
      "       [[[ 0.07358244,  0.04582325, -0.06209446, -0.1134128 ,\n",
      "           0.09836462, -0.08534154, -0.11319271, -0.09314977,\n",
      "          -0.04134957,  0.05067337,  0.0175654 ,  0.11083497,\n",
      "           0.09468631,  0.1273395 , -0.0384904 , -0.131654  ,\n",
      "          -0.10163214, -0.12892507,  0.0832265 ,  0.02256602,\n",
      "           0.11991931,  0.05024849,  0.10918833, -0.13308007,\n",
      "          -0.07758205, -0.03866851,  0.10401808,  0.10266422,\n",
      "          -0.02842715,  0.07447238,  0.08471043, -0.01331048]],\n",
      "\n",
      "        [[-0.00860837,  0.01072094, -0.08833559,  0.07989347,\n",
      "          -0.12463361, -0.04248134,  0.11478813, -0.11961486,\n",
      "           0.05558307,  0.11789058,  0.09143327, -0.1223858 ,\n",
      "          -0.04763893, -0.12720692, -0.06323805,  0.03065978,\n",
      "          -0.04915319,  0.03276527,  0.10800327, -0.03208735,\n",
      "           0.08537757, -0.09780707, -0.08963382,  0.12452473,\n",
      "           0.06603579, -0.01026776,  0.12588339, -0.11878825,\n",
      "           0.08687152,  0.0348005 , -0.04263665, -0.05860148]],\n",
      "\n",
      "        [[-0.11748291, -0.02995905, -0.10773911, -0.02358393,\n",
      "          -0.04664356,  0.07766399,  0.10094951, -0.1290552 ,\n",
      "          -0.11582927, -0.01368344,  0.07928832,  0.03848697,\n",
      "          -0.05795214,  0.13200645, -0.07547595, -0.0676267 ,\n",
      "          -0.09306102, -0.00674948,  0.10023311, -0.11055898,\n",
      "           0.05320591, -0.06568079,  0.12759031,  0.03083532,\n",
      "           0.00674938,  0.12259586, -0.0446482 ,  0.09106329,\n",
      "           0.00574058, -0.07813835, -0.03988547,  0.07904992]]]],\n",
      "      dtype=float32), array([0., 0., 0., 0., 0., 0., 0., 0., 0., 0., 0., 0., 0., 0., 0., 0., 0.,\n",
      "       0., 0., 0., 0., 0., 0., 0., 0., 0., 0., 0., 0., 0., 0., 0.],\n",
      "      dtype=float32)]\n",
      "{'name': 'conv2d_2', 'trainable': True, 'filters': 64, 'kernel_size': (3, 3), 'strides': (1, 1), 'padding': 'valid', 'data_format': 'channels_last', 'dilation_rate': (1, 1), 'activation': 'relu', 'use_bias': True, 'kernel_initializer': {'class_name': 'VarianceScaling', 'config': {'scale': 1.0, 'mode': 'fan_avg', 'distribution': 'uniform', 'seed': None}}, 'bias_initializer': {'class_name': 'Zeros', 'config': {}}, 'kernel_regularizer': None, 'bias_regularizer': None, 'activity_regularizer': None, 'kernel_constraint': None, 'bias_constraint': None}\n",
      "[array([[[[-2.30267048e-02,  8.30451325e-02,  4.19787541e-02, ...,\n",
      "           2.84990668e-02,  7.80203715e-02,  8.23588446e-02],\n",
      "         [-5.91385588e-02, -3.57231908e-02,  2.54817232e-02, ...,\n",
      "          -1.83361396e-02, -8.09375048e-02, -1.94149613e-02],\n",
      "         [ 2.55871192e-02,  5.27946427e-02,  8.32286701e-02, ...,\n",
      "           1.02199316e-02,  5.79815134e-02,  3.66278738e-03],\n",
      "         ...,\n",
      "         [-1.03282556e-02,  4.79580984e-02,  1.12497211e-02, ...,\n",
      "          -4.45498638e-02, -6.77268133e-02, -7.43679032e-02],\n",
      "         [ 3.63689065e-02, -1.29447803e-02, -1.15933418e-02, ...,\n",
      "           7.99312666e-02,  4.58265916e-02, -2.22240314e-02],\n",
      "         [ 7.34930113e-02,  7.37092867e-02, -4.20488119e-02, ...,\n",
      "          -3.59992981e-02, -3.45101580e-02,  8.33199173e-03]],\n",
      "\n",
      "        [[ 7.21178427e-02,  3.84613127e-03,  4.84069362e-02, ...,\n",
      "           6.85523972e-02, -5.01348376e-02,  1.93037987e-02],\n",
      "         [ 1.21186003e-02,  6.32689148e-03,  6.22471943e-02, ...,\n",
      "           3.13232169e-02, -7.56664127e-02, -3.26642394e-02],\n",
      "         [-2.16576271e-02,  8.26214328e-02, -7.94570073e-02, ...,\n",
      "          -2.95105204e-02,  7.81297684e-04, -3.15056071e-02],\n",
      "         ...,\n",
      "         [ 3.94685492e-02,  2.30295882e-02, -4.78343777e-02, ...,\n",
      "          -4.97022271e-02, -7.63496384e-02, -1.71343908e-02],\n",
      "         [ 1.05724931e-02,  7.56764412e-03,  6.04445711e-02, ...,\n",
      "           6.85043409e-02, -7.63652772e-02, -1.02069378e-02],\n",
      "         [ 5.10933176e-02,  7.07877353e-02, -5.67082316e-03, ...,\n",
      "          -8.21974128e-03, -7.80493468e-02,  4.46900502e-02]],\n",
      "\n",
      "        [[-7.45751858e-02,  1.98777691e-02, -4.32287268e-02, ...,\n",
      "           8.90932977e-04,  2.05682144e-02,  4.37000170e-02],\n",
      "         [ 1.19078532e-02, -2.31247358e-02, -1.03767738e-02, ...,\n",
      "           4.65623215e-02, -7.53876418e-02, -6.18715696e-02],\n",
      "         [ 6.13010600e-02,  2.23952755e-02,  1.97471380e-02, ...,\n",
      "           8.07614103e-02,  6.09862879e-02,  1.52263865e-02],\n",
      "         ...,\n",
      "         [-4.78880815e-02,  4.39438000e-02, -5.41905575e-02, ...,\n",
      "          -1.50799751e-05, -3.48670110e-02,  5.86507693e-02],\n",
      "         [-7.71303773e-02,  7.97239691e-03,  5.14737517e-03, ...,\n",
      "           5.01459315e-02, -1.15313902e-02, -7.95180053e-02],\n",
      "         [-4.09460887e-02,  4.09952626e-02, -5.00748158e-02, ...,\n",
      "          -1.59691349e-02,  1.44948140e-02, -1.97695494e-02]]],\n",
      "\n",
      "\n",
      "       [[[-4.49605584e-02, -4.63084802e-02,  5.85448742e-03, ...,\n",
      "          -6.88437074e-02, -7.34837875e-02,  1.08054504e-02],\n",
      "         [-1.48087367e-02, -2.73328833e-02, -3.77688408e-02, ...,\n",
      "           5.14825061e-02, -6.99623674e-03,  2.49642134e-02],\n",
      "         [-5.07437810e-02,  4.17950004e-03, -3.84391956e-02, ...,\n",
      "           2.78277025e-02, -6.61550164e-02,  6.53511286e-03],\n",
      "         ...,\n",
      "         [ 3.69853973e-02,  3.76785398e-02, -1.28519908e-02, ...,\n",
      "           2.52582654e-02, -3.62303481e-02,  7.78334960e-02],\n",
      "         [ 4.75114658e-02, -7.12195858e-02,  2.95872912e-02, ...,\n",
      "          -2.05628872e-02,  7.74118677e-02, -3.48301530e-02],\n",
      "         [ 1.58759579e-02,  6.29212484e-02,  8.23642388e-02, ...,\n",
      "          -7.02859163e-02,  6.39693514e-02, -3.95465307e-02]],\n",
      "\n",
      "        [[ 7.56765082e-02, -8.09817910e-02,  8.03952590e-02, ...,\n",
      "          -1.27754807e-02,  1.64737925e-02, -7.06202239e-02],\n",
      "         [-6.36483654e-02,  2.98910961e-02,  8.12291875e-02, ...,\n",
      "          -4.02294211e-02, -2.12454014e-02,  7.46290907e-02],\n",
      "         [-3.26623917e-02, -1.34361163e-02, -7.03465939e-02, ...,\n",
      "          -4.73985486e-02, -4.04229984e-02,  3.43311802e-02],\n",
      "         ...,\n",
      "         [ 3.30809578e-02,  4.56456169e-02, -6.00675754e-02, ...,\n",
      "           8.04398432e-02,  7.81872347e-02, -3.04422006e-02],\n",
      "         [ 1.88444629e-02, -7.42774233e-02,  5.02792969e-02, ...,\n",
      "           7.71221295e-02,  1.69450045e-02,  2.17789039e-02],\n",
      "         [ 5.62056676e-02, -6.11925721e-02, -5.74623756e-02, ...,\n",
      "           4.49159816e-02, -6.49127960e-02, -7.43787512e-02]],\n",
      "\n",
      "        [[ 7.54685178e-02,  3.26788798e-02,  1.84414983e-02, ...,\n",
      "          -2.17897706e-02, -7.34943002e-02, -4.65026721e-02],\n",
      "         [ 6.54243007e-02,  5.85565194e-02,  5.79913333e-02, ...,\n",
      "           7.75486305e-02, -1.22525692e-02, -4.24195528e-02],\n",
      "         [-2.89375409e-02,  4.25189808e-02,  5.69665059e-02, ...,\n",
      "          -1.79661140e-02,  2.02752128e-02,  6.84919134e-02],\n",
      "         ...,\n",
      "         [ 4.67840582e-03, -6.82039708e-02,  2.01656818e-02, ...,\n",
      "           2.05235705e-02,  2.79151797e-02, -3.58754992e-02],\n",
      "         [ 3.71384844e-02, -6.53115511e-02,  7.51997605e-02, ...,\n",
      "           7.81137720e-02, -5.41809946e-03,  3.92066017e-02],\n",
      "         [-7.92899355e-02,  9.68553126e-04, -3.64249349e-02, ...,\n",
      "          -2.11131573e-03,  6.50547519e-02,  1.86105818e-03]]],\n",
      "\n",
      "\n",
      "       [[[ 2.09521875e-02, -7.96737075e-02,  5.85163906e-02, ...,\n",
      "           3.49924341e-02,  3.49500403e-02,  6.81751445e-02],\n",
      "         [ 3.99003029e-02, -2.07185373e-02, -5.88396415e-02, ...,\n",
      "           6.72047362e-02,  1.12957731e-02,  6.53162226e-02],\n",
      "         [-5.53340726e-02, -3.33273225e-02,  6.32586256e-02, ...,\n",
      "          -5.18467836e-02,  5.84902540e-02, -2.06825137e-02],\n",
      "         ...,\n",
      "         [-4.66530137e-02,  7.70682096e-03,  7.38103762e-02, ...,\n",
      "          -2.56608538e-02, -3.86057496e-02, -4.80856113e-02],\n",
      "         [-5.88995218e-02,  7.63052329e-02, -3.72070298e-02, ...,\n",
      "          -8.24839920e-02, -2.74016485e-02, -3.28951105e-02],\n",
      "         [-4.62528877e-02,  4.83833775e-02,  3.32970992e-02, ...,\n",
      "           4.24674898e-03,  1.54646486e-03,  3.97731066e-02]],\n",
      "\n",
      "        [[-2.88227201e-02, -5.77653050e-02,  8.54716450e-03, ...,\n",
      "           3.92694473e-02,  3.38889658e-04,  3.03709880e-02],\n",
      "         [ 2.64594778e-02, -4.12041545e-02, -1.57732368e-02, ...,\n",
      "          -1.39555931e-02,  8.05926546e-02, -2.95585804e-02],\n",
      "         [-3.65704112e-02, -9.00080055e-03,  4.83516082e-02, ...,\n",
      "          -5.64005002e-02, -6.53904900e-02, -7.68349022e-02],\n",
      "         ...,\n",
      "         [ 1.99807659e-02,  4.14395332e-03,  3.27020064e-02, ...,\n",
      "          -3.25922780e-02, -7.90762752e-02, -7.36750960e-02],\n",
      "         [-4.72204909e-02, -4.16641831e-02, -2.37460546e-02, ...,\n",
      "           3.64517570e-02, -1.41627789e-02, -8.08074325e-03],\n",
      "         [-6.73935264e-02, -2.63095498e-02, -4.24697250e-03, ...,\n",
      "          -7.96616673e-02, -3.50355506e-02, -4.28693891e-02]],\n",
      "\n",
      "        [[-4.10199165e-04,  2.91263089e-02,  6.49518445e-02, ...,\n",
      "           5.70646301e-02, -6.70991540e-02,  3.87583748e-02],\n",
      "         [ 7.06597641e-02, -4.24505100e-02,  3.99693847e-02, ...,\n",
      "          -7.76264817e-03, -1.66813135e-02, -6.38349056e-02],\n",
      "         [ 3.13043818e-02,  3.39883342e-02, -6.12989664e-02, ...,\n",
      "          -5.57676703e-03,  3.58758792e-02, -6.47418350e-02],\n",
      "         ...,\n",
      "         [ 3.23329791e-02, -1.57988295e-02,  1.46664754e-02, ...,\n",
      "          -3.97205576e-02, -2.09217891e-02,  5.30570820e-02],\n",
      "         [ 4.96213511e-02,  6.07131943e-02,  3.74490842e-02, ...,\n",
      "          -4.90190610e-02,  7.32154474e-02,  5.15123680e-02],\n",
      "         [ 4.01400328e-02, -1.87759772e-02, -5.43869957e-02, ...,\n",
      "           7.45824799e-02,  4.33105603e-02,  2.67895460e-02]]]],\n",
      "      dtype=float32), array([0., 0., 0., 0., 0., 0., 0., 0., 0., 0., 0., 0., 0., 0., 0., 0., 0.,\n",
      "       0., 0., 0., 0., 0., 0., 0., 0., 0., 0., 0., 0., 0., 0., 0., 0., 0.,\n",
      "       0., 0., 0., 0., 0., 0., 0., 0., 0., 0., 0., 0., 0., 0., 0., 0., 0.,\n",
      "       0., 0., 0., 0., 0., 0., 0., 0., 0., 0., 0., 0., 0.], dtype=float32)]\n",
      "{'name': 'max_pooling2d_1', 'trainable': True, 'pool_size': (2, 2), 'padding': 'valid', 'strides': (2, 2), 'data_format': 'channels_last'}\n",
      "[]\n",
      "{'name': 'flatten_1', 'trainable': True, 'data_format': 'channels_last'}\n",
      "[]\n",
      "{'name': 'dense_1', 'trainable': True, 'units': 128, 'activation': 'relu', 'use_bias': True, 'kernel_initializer': {'class_name': 'VarianceScaling', 'config': {'scale': 1.0, 'mode': 'fan_avg', 'distribution': 'uniform', 'seed': None}}, 'bias_initializer': {'class_name': 'Zeros', 'config': {}}, 'kernel_regularizer': None, 'bias_regularizer': None, 'activity_regularizer': None, 'kernel_constraint': None, 'bias_constraint': None}\n",
      "[array([[-0.00124424,  0.00315025,  0.00140338, ..., -0.01410699,\n",
      "         0.02195339, -0.01637154],\n",
      "       [-0.02527112, -0.01948262, -0.00355945, ..., -0.01002225,\n",
      "        -0.00615259,  0.00691687],\n",
      "       [ 0.01385037,  0.00027672, -0.02148385, ...,  0.00057881,\n",
      "         0.00189692, -0.01684292],\n",
      "       ...,\n",
      "       [ 0.0130637 , -0.00180547, -0.01188713, ...,  0.00054442,\n",
      "         0.00457261, -0.00451042],\n",
      "       [-0.00383089, -0.00207261,  0.01863792, ..., -0.02381757,\n",
      "         0.01564589,  0.02243783],\n",
      "       [-0.01422673,  0.00430813,  0.00010732, ...,  0.02415797,\n",
      "        -0.00745491, -0.01764699]], dtype=float32), array([0., 0., 0., 0., 0., 0., 0., 0., 0., 0., 0., 0., 0., 0., 0., 0., 0.,\n",
      "       0., 0., 0., 0., 0., 0., 0., 0., 0., 0., 0., 0., 0., 0., 0., 0., 0.,\n",
      "       0., 0., 0., 0., 0., 0., 0., 0., 0., 0., 0., 0., 0., 0., 0., 0., 0.,\n",
      "       0., 0., 0., 0., 0., 0., 0., 0., 0., 0., 0., 0., 0., 0., 0., 0., 0.,\n",
      "       0., 0., 0., 0., 0., 0., 0., 0., 0., 0., 0., 0., 0., 0., 0., 0., 0.,\n",
      "       0., 0., 0., 0., 0., 0., 0., 0., 0., 0., 0., 0., 0., 0., 0., 0., 0.,\n",
      "       0., 0., 0., 0., 0., 0., 0., 0., 0., 0., 0., 0., 0., 0., 0., 0., 0.,\n",
      "       0., 0., 0., 0., 0., 0., 0., 0., 0.], dtype=float32)]\n",
      "{'name': 'dense_2', 'trainable': True, 'units': 10, 'activation': 'softmax', 'use_bias': True, 'kernel_initializer': {'class_name': 'VarianceScaling', 'config': {'scale': 1.0, 'mode': 'fan_avg', 'distribution': 'uniform', 'seed': None}}, 'bias_initializer': {'class_name': 'Zeros', 'config': {}}, 'kernel_regularizer': None, 'bias_regularizer': None, 'activity_regularizer': None, 'kernel_constraint': None, 'bias_constraint': None}\n",
      "[array([[-0.06918646, -0.13945213,  0.07428829, ..., -0.11767986,\n",
      "         0.19306748, -0.12236985],\n",
      "       [ 0.18480684, -0.16523798,  0.07523872, ..., -0.03788796,\n",
      "        -0.01954196,  0.1170197 ],\n",
      "       [-0.18352526, -0.01863031, -0.04808757, ..., -0.0497746 ,\n",
      "         0.15700962,  0.10171469],\n",
      "       ...,\n",
      "       [-0.10115035,  0.03780653,  0.10031615, ..., -0.08564713,\n",
      "         0.17790781,  0.19831695],\n",
      "       [-0.06864494,  0.20549364,  0.01459675, ..., -0.04750538,\n",
      "         0.02566779, -0.13209574],\n",
      "       [-0.00377953,  0.07734339, -0.15793881, ..., -0.19122702,\n",
      "         0.12708674, -0.0562707 ]], dtype=float32), array([0., 0., 0., 0., 0., 0., 0., 0., 0., 0.], dtype=float32)]\n"
     ]
    }
   ],
   "source": [
    "# inspect weights before training. See how\n",
    "# they are randomly initialised!\n",
    "for layer in model.layers:\n",
    "    g = layer.get_config()\n",
    "    h = layer.get_weights()\n",
    "    print(g)\n",
    "    print(h)"
   ]
  },
  {
   "cell_type": "code",
   "execution_count": 13,
   "metadata": {},
   "outputs": [],
   "source": [
    "# Tensorboard for learning curve\n",
    "# Early stopping (to avoid overfitting)\n",
    "# Model checkpoint (to save model periodically)\n",
    "\n",
    "from keras.callbacks import TensorBoard, EarlyStopping, ModelCheckpoint"
   ]
  },
  {
   "cell_type": "code",
   "execution_count": 14,
   "metadata": {},
   "outputs": [],
   "source": [
    "tensorboard = TensorBoard(log_dir='./logs/mnist_cnn')\n",
    "\n",
    "# stop training early if val_loss increases for 2 consecutive epochs\n",
    "# this way we don't train forever and overfit\n",
    "earlystop = EarlyStopping(patience=2)\n",
    "\n",
    "checkpoint = ModelCheckpoint('weights.{epoch:02d}-{val_loss:.2f}.hdf5')"
   ]
  },
  {
   "cell_type": "code",
   "execution_count": 15,
   "metadata": {},
   "outputs": [
    {
     "name": "stdout",
     "output_type": "stream",
     "text": [
      "Train on 45000 samples, validate on 15000 samples\n",
      "Epoch 1/20\n",
      "45000/45000 [==============================] - 57s 1ms/step - loss: 0.8625 - acc: 0.7748 - val_loss: 0.4269 - val_acc: 0.8714\n",
      "Epoch 2/20\n",
      "45000/45000 [==============================] - 34s 750us/step - loss: 0.3045 - acc: 0.9088 - val_loss: 0.2958 - val_acc: 0.9063\n",
      "Epoch 3/20\n",
      "45000/45000 [==============================] - 34s 751us/step - loss: 0.2433 - acc: 0.9272 - val_loss: 0.2480 - val_acc: 0.9244\n",
      "Epoch 4/20\n",
      "45000/45000 [==============================] - 33s 740us/step - loss: 0.2046 - acc: 0.9397 - val_loss: 0.2095 - val_acc: 0.9355\n",
      "Epoch 5/20\n",
      "45000/45000 [==============================] - 35s 788us/step - loss: 0.1762 - acc: 0.9478 - val_loss: 0.1680 - val_acc: 0.9504\n",
      "Epoch 6/20\n",
      "45000/45000 [==============================] - 36s 798us/step - loss: 0.1543 - acc: 0.9538 - val_loss: 0.1564 - val_acc: 0.9533\n",
      "Epoch 7/20\n",
      "45000/45000 [==============================] - 35s 785us/step - loss: 0.1369 - acc: 0.9594 - val_loss: 0.1718 - val_acc: 0.9465\n",
      "Epoch 8/20\n",
      "45000/45000 [==============================] - 34s 745us/step - loss: 0.1240 - acc: 0.9630 - val_loss: 0.1470 - val_acc: 0.9564\n",
      "Epoch 9/20\n",
      "45000/45000 [==============================] - 36s 808us/step - loss: 0.1142 - acc: 0.9654 - val_loss: 0.1365 - val_acc: 0.9597\n",
      "Epoch 10/20\n",
      "45000/45000 [==============================] - 37s 818us/step - loss: 0.1040 - acc: 0.9692 - val_loss: 0.1411 - val_acc: 0.9570\n",
      "Epoch 11/20\n",
      "45000/45000 [==============================] - 36s 799us/step - loss: 0.0972 - acc: 0.9705 - val_loss: 0.1110 - val_acc: 0.9676\n",
      "Epoch 12/20\n",
      "45000/45000 [==============================] - 36s 799us/step - loss: 0.0918 - acc: 0.9722 - val_loss: 0.1224 - val_acc: 0.9649\n",
      "Epoch 13/20\n",
      "45000/45000 [==============================] - 37s 824us/step - loss: 0.0860 - acc: 0.9741 - val_loss: 0.1319 - val_acc: 0.9602\n"
     ]
    },
    {
     "data": {
      "text/plain": [
       "<keras.callbacks.History at 0x26593c1c0b8>"
      ]
     },
     "execution_count": 15,
     "metadata": {},
     "output_type": "execute_result"
    }
   ],
   "source": [
    "model.fit(X_train, y_train, batch_size=128, epochs=20,\n",
    "          verbose=1, callbacks=[tensorboard, earlystop, checkpoint],\n",
    "          validation_split=0.25) # set aside 25% for validation"
   ]
  },
  {
   "cell_type": "code",
   "execution_count": 16,
   "metadata": {},
   "outputs": [
    {
     "name": "stdout",
     "output_type": "stream",
     "text": [
      " Volume in drive C is Windows\n",
      " Volume Serial Number is AEA3-B078\n",
      "\n",
      " Directory of C:\\Users\\Anirban\\Desktop\\NUS-Machine Learning For Data Science\\Week 4 Codes\\CNN 2\n",
      "\n",
      "16/12/2018  09:20 PM         9,626,952 weights.01-0.33.hdf5\n",
      "22/12/2018  09:12 AM         9,626,952 weights.01-0.43.hdf5\n",
      "16/12/2018  09:21 PM         9,626,952 weights.02-0.27.hdf5\n",
      "22/12/2018  09:13 AM         9,626,952 weights.02-0.30.hdf5\n",
      "16/12/2018  09:21 PM         9,626,952 weights.03-0.24.hdf5\n",
      "22/12/2018  09:13 AM         9,626,952 weights.03-0.25.hdf5\n",
      "16/12/2018  09:22 PM         9,626,952 weights.04-0.19.hdf5\n",
      "22/12/2018  09:14 AM         9,626,952 weights.04-0.21.hdf5\n",
      "22/12/2018  09:14 AM         9,626,952 weights.05-0.17.hdf5\n",
      "16/12/2018  09:22 PM         9,626,952 weights.05-0.18.hdf5\n",
      "16/12/2018  09:23 PM         9,626,952 weights.06-0.15.hdf5\n",
      "22/12/2018  09:15 AM         9,626,952 weights.06-0.16.hdf5\n",
      "16/12/2018  09:24 PM         9,626,952 weights.07-0.14.hdf5\n",
      "22/12/2018  09:16 AM         9,626,952 weights.07-0.17.hdf5\n",
      "16/12/2018  09:24 PM         9,626,952 weights.08-0.14.hdf5\n",
      "22/12/2018  09:16 AM         9,626,952 weights.08-0.15.hdf5\n",
      "16/12/2018  09:25 PM         9,626,952 weights.09-0.13.hdf5\n",
      "22/12/2018  09:17 AM         9,626,952 weights.09-0.14.hdf5\n",
      "16/12/2018  09:25 PM         9,626,952 weights.10-0.13.hdf5\n",
      "22/12/2018  09:17 AM         9,626,952 weights.10-0.14.hdf5\n",
      "22/12/2018  09:18 AM         9,626,952 weights.11-0.11.hdf5\n",
      "16/12/2018  09:26 PM         9,626,952 weights.11-0.13.hdf5\n",
      "16/12/2018  09:27 PM         9,626,952 weights.12-0.11.hdf5\n",
      "22/12/2018  09:19 AM         9,626,952 weights.12-0.12.hdf5\n",
      "16/12/2018  09:27 PM         9,626,952 weights.13-0.11.hdf5\n",
      "22/12/2018  09:19 AM         9,626,952 weights.13-0.13.hdf5\n",
      "16/12/2018  09:28 PM         9,626,952 weights.14-0.11.hdf5\n",
      "16/12/2018  09:29 PM         9,626,952 weights.15-0.11.hdf5\n",
      "16/12/2018  09:30 PM         9,626,952 weights.16-0.10.hdf5\n",
      "16/12/2018  09:30 PM         9,626,952 weights.17-0.10.hdf5\n",
      "16/12/2018  09:31 PM         9,626,952 weights.18-0.15.hdf5\n",
      "              31 File(s)    298,435,512 bytes\n",
      "               0 Dir(s)  702,263,635,968 bytes free\n"
     ]
    }
   ],
   "source": [
    "# view saved weights\n",
    "!dir *.hdf5"
   ]
  },
  {
   "cell_type": "code",
   "execution_count": null,
   "metadata": {},
   "outputs": [],
   "source": []
  },
  {
   "cell_type": "code",
   "execution_count": 17,
   "metadata": {},
   "outputs": [
    {
     "name": "stdout",
     "output_type": "stream",
     "text": [
      "_________________________________________________________________\n",
      "Layer (type)                 Output Shape              Param #   \n",
      "=================================================================\n",
      "conv2d_1 (Conv2D)            (None, 26, 26, 32)        320       \n",
      "_________________________________________________________________\n",
      "conv2d_2 (Conv2D)            (None, 24, 24, 64)        18496     \n",
      "_________________________________________________________________\n",
      "max_pooling2d_1 (MaxPooling2 (None, 12, 12, 64)        0         \n",
      "_________________________________________________________________\n",
      "flatten_1 (Flatten)          (None, 9216)              0         \n",
      "_________________________________________________________________\n",
      "dense_1 (Dense)              (None, 128)               1179776   \n",
      "_________________________________________________________________\n",
      "dense_2 (Dense)              (None, 10)                1290      \n",
      "=================================================================\n",
      "Total params: 1,199,882\n",
      "Trainable params: 1,199,882\n",
      "Non-trainable params: 0\n",
      "_________________________________________________________________\n"
     ]
    }
   ],
   "source": [
    "# Load weights with lowest validation loss\n",
    "from keras.models import load_model\n",
    "\n",
    "# your actual filename may differ\n",
    "best_model = load_model('./weights.04-0.19.hdf5')\n",
    "best_model.summary()"
   ]
  },
  {
   "cell_type": "code",
   "execution_count": null,
   "metadata": {},
   "outputs": [],
   "source": []
  },
  {
   "cell_type": "code",
   "execution_count": null,
   "metadata": {},
   "outputs": [],
   "source": []
  },
  {
   "cell_type": "markdown",
   "metadata": {},
   "source": [
    "## Visualising layers\n",
    "\n",
    "The following code can be used to visualise "
   ]
  },
  {
   "cell_type": "code",
   "execution_count": 18,
   "metadata": {},
   "outputs": [],
   "source": [
    "from keras.models import Model\n",
    "def visualize(model, data, layer_index):\n",
    "\n",
    "    # intermediate model with input and nth layer layer only\n",
    "    int_model = Model(inputs=model.input,\n",
    "                      outputs=model.layers[layer_index].output)\n",
    "\n",
    "    output = int_model.predict(np.expand_dims(data, axis=0))[0]\n",
    "    \n",
    "    # first 10 feature maps\n",
    "    fig, axes = plt.subplots(nrows=2, ncols=5)\n",
    "    axes = axes.flatten()\n",
    "\n",
    "    for i in range(len(axes)):\n",
    "        axes[i].imshow(output[:, :, i])\n",
    "\n",
    "# visualize(model, data=X_test[0], layer_index=0)\n",
    "# use model.layers to view layers and get index"
   ]
  },
  {
   "cell_type": "code",
   "execution_count": 19,
   "metadata": {},
   "outputs": [
    {
     "data": {
      "text/plain": [
       "[<keras.layers.convolutional.Conv2D at 0x26594075be0>,\n",
       " <keras.layers.convolutional.Conv2D at 0x26594075e80>,\n",
       " <keras.layers.pooling.MaxPooling2D at 0x2659408a630>,\n",
       " <keras.layers.core.Flatten at 0x26594075ac8>,\n",
       " <keras.layers.core.Dense at 0x265940809b0>,\n",
       " <keras.layers.core.Dense at 0x26593eca550>]"
      ]
     },
     "execution_count": 19,
     "metadata": {},
     "output_type": "execute_result"
    }
   ],
   "source": [
    "best_model.layers"
   ]
  },
  {
   "cell_type": "code",
   "execution_count": 20,
   "metadata": {},
   "outputs": [
    {
     "data": {
      "image/png": "[encoded data removed]",
      "text/plain": [
       "<Figure size 432x288 with 10 Axes>"
      ]
     },
     "metadata": {
      "needs_background": "light"
     },
     "output_type": "display_data"
    }
   ],
   "source": [
    "visualize(best_model, data=X_test[100], layer_index=2)"
   ]
  },
  {
   "cell_type": "markdown",
   "metadata": {},
   "source": [
    "## PREDICT CLASSES"
   ]
  },
  {
   "cell_type": "code",
   "execution_count": 21,
   "metadata": {},
   "outputs": [
    {
     "data": {
      "text/plain": [
       "array([7, 2, 1, ..., 4, 5, 6], dtype=int64)"
      ]
     },
     "execution_count": 21,
     "metadata": {},
     "output_type": "execute_result"
    }
   ],
   "source": [
    "pred = best_model.predict_classes(X_test)\n",
    "pred"
   ]
  },
  {
   "cell_type": "code",
   "execution_count": 22,
   "metadata": {},
   "outputs": [
    {
     "data": {
      "text/plain": [
       "(10000,)"
      ]
     },
     "execution_count": 22,
     "metadata": {},
     "output_type": "execute_result"
    }
   ],
   "source": [
    "# pred is label encoded\n",
    "pred.shape"
   ]
  },
  {
   "cell_type": "code",
   "execution_count": 23,
   "metadata": {},
   "outputs": [
    {
     "data": {
      "text/plain": [
       "(10000, 10)"
      ]
     },
     "execution_count": 23,
     "metadata": {},
     "output_type": "execute_result"
    }
   ],
   "source": [
    "# y_test is still one-hot encoded, need to get label-encoded version\n",
    "y_test.shape"
   ]
  },
  {
   "cell_type": "code",
   "execution_count": 24,
   "metadata": {},
   "outputs": [
    {
     "data": {
      "text/plain": [
       "array([7, 2, 1, ..., 4, 5, 6], dtype=int64)"
      ]
     },
     "execution_count": 24,
     "metadata": {},
     "output_type": "execute_result"
    }
   ],
   "source": [
    "# label encoded version\n",
    "y_test.argmax(axis=1)"
   ]
  },
  {
   "cell_type": "code",
   "execution_count": 25,
   "metadata": {},
   "outputs": [
    {
     "name": "stdout",
     "output_type": "stream",
     "text": [
      "0.948\n",
      "520\n"
     ]
    }
   ],
   "source": [
    "# Examine incorrect ones\n",
    "\n",
    "# find test with incorrect prediction\n",
    "# np.argmax(y_test, axis=1) != pred\n",
    "from sklearn.metrics import accuracy_score\n",
    "print(accuracy_score(y_test.argmax(axis=1), pred))\n",
    "\n",
    "# number of incorrect ones\n",
    "print((np.argmax(y_test, axis=1) != pred).sum())"
   ]
  },
  {
   "cell_type": "code",
   "execution_count": 26,
   "metadata": {},
   "outputs": [
    {
     "name": "stdout",
     "output_type": "stream",
     "text": [
      "[[ 937    0    1    3    0   15   17    4    2    1]\n",
      " [   0 1118    3    2    0    1    4    1    6    0]\n",
      " [   5    1  969   24    5    3    6    9    9    1]\n",
      " [   0    1    6  975    2    9    0    7    4    6]\n",
      " [   0    0    7    0  952    0    5    2    1   15]\n",
      " [   5    1    0   25    3  835   14    2    1    6]\n",
      " [   4    3    1    2   10    9  926    2    1    0]\n",
      " [   0    5   12   12    8    2    0  973    0   16]\n",
      " [   5    3    0   32   12   26   13   11  861   11]\n",
      " [   3    6    1   18   29    7    1   10    0  934]]\n",
      "              precision    recall  f1-score   support\n",
      "\n",
      "           0       0.98      0.96      0.97       980\n",
      "           1       0.98      0.99      0.98      1135\n",
      "           2       0.97      0.94      0.95      1032\n",
      "           3       0.89      0.97      0.93      1010\n",
      "           4       0.93      0.97      0.95       982\n",
      "           5       0.92      0.94      0.93       892\n",
      "           6       0.94      0.97      0.95       958\n",
      "           7       0.95      0.95      0.95      1028\n",
      "           8       0.97      0.88      0.93       974\n",
      "           9       0.94      0.93      0.93      1009\n",
      "\n",
      "   micro avg       0.95      0.95      0.95     10000\n",
      "   macro avg       0.95      0.95      0.95     10000\n",
      "weighted avg       0.95      0.95      0.95     10000\n",
      "\n"
     ]
    }
   ],
   "source": [
    "from sklearn.metrics import confusion_matrix, classification_report\n",
    "print(confusion_matrix(y_test.argmax(axis=1), pred))\n",
    "print(classification_report(y_test.argmax(axis=1), pred))"
   ]
  },
  {
   "cell_type": "code",
   "execution_count": null,
   "metadata": {},
   "outputs": [],
   "source": []
  },
  {
   "cell_type": "markdown",
   "metadata": {},
   "source": [
    "## Examining Model Weights"
   ]
  },
  {
   "cell_type": "code",
   "execution_count": 27,
   "metadata": {
    "scrolled": true
   },
   "outputs": [
    {
     "name": "stdout",
     "output_type": "stream",
     "text": [
      "{'name': 'conv2d_1', 'trainable': True, 'batch_input_shape': (None, 28, 28, 1), 'dtype': 'float32', 'filters': 32, 'kernel_size': (3, 3), 'strides': (1, 1), 'padding': 'valid', 'data_format': 'channels_last', 'dilation_rate': (1, 1), 'activation': 'relu', 'use_bias': True, 'kernel_initializer': {'class_name': 'VarianceScaling', 'config': {'scale': 1.0, 'mode': 'fan_avg', 'distribution': 'uniform', 'seed': None}}, 'bias_initializer': {'class_name': 'Zeros', 'config': {}}, 'kernel_regularizer': None, 'bias_regularizer': None, 'activity_regularizer': None, 'kernel_constraint': None, 'bias_constraint': None}\n",
      "[array([[[[ 0.01227896,  0.09714822, -0.1416605 , -0.04538184,\n",
      "           0.16170065, -0.01948132, -0.01394858,  0.10749456,\n",
      "           0.02989038, -0.12465435,  0.16903192,  0.22261076,\n",
      "           0.02696884,  0.08321783,  0.13848722, -0.01747857,\n",
      "          -0.06300803,  0.11161458,  0.03179993,  0.14308563,\n",
      "          -0.07145189,  0.12686664,  0.00194737,  0.05548962,\n",
      "           0.08460376, -0.06026105,  0.03567543, -0.09896515,\n",
      "           0.1094444 ,  0.10942791,  0.11968002,  0.09304192]],\n",
      "\n",
      "        [[-0.02441323,  0.16673103, -0.07861348,  0.01189348,\n",
      "          -0.0740801 , -0.07829272, -0.02829663,  0.1267785 ,\n",
      "           0.23884079, -0.13348924,  0.03032405,  0.1880915 ,\n",
      "           0.00572655, -0.10986003,  0.1481527 ,  0.21707682,\n",
      "          -0.03090204,  0.03788018,  0.06957637, -0.00895672,\n",
      "           0.00698762,  0.07244422,  0.10137257,  0.00439168,\n",
      "          -0.1289999 ,  0.01530304,  0.09200556, -0.11773727,\n",
      "          -0.01755184, -0.06874117,  0.21520738,  0.09330098]],\n",
      "\n",
      "        [[ 0.05958217,  0.0186003 , -0.02716986,  0.01715663,\n",
      "           0.09485269, -0.00807605, -0.04436068,  0.0828647 ,\n",
      "           0.15296368, -0.0455994 ,  0.00375001,  0.27608022,\n",
      "           0.06954921, -0.04140205, -0.03225308,  0.20119797,\n",
      "          -0.04823778,  0.20222367,  0.20012014,  0.08554779,\n",
      "           0.00488608, -0.09479824, -0.09097897, -0.09006384,\n",
      "          -0.06249929,  0.0827536 ,  0.20662394,  0.11894777,\n",
      "           0.1997367 , -0.04360479,  0.14463896,  0.10828891]]],\n",
      "\n",
      "\n",
      "       [[[ 0.01541603,  0.15563817,  0.12192079,  0.0630667 ,\n",
      "          -0.04610852, -0.10439069, -0.03388706,  0.12077011,\n",
      "           0.14294899,  0.12158451,  0.27190062,  0.21922465,\n",
      "          -0.00647587, -0.00112008,  0.04119214,  0.01469797,\n",
      "           0.02280879,  0.31626335,  0.05854207,  0.02055384,\n",
      "          -0.10472862,  0.12042969,  0.06556622, -0.07789212,\n",
      "           0.02269002,  0.05630441, -0.09415408, -0.03002488,\n",
      "          -0.0637055 ,  0.08142632,  0.00823868, -0.04936831]],\n",
      "\n",
      "        [[ 0.03703276,  0.16369183, -0.11782153,  0.10810005,\n",
      "           0.09375992, -0.0710438 , -0.10186672,  0.02368068,\n",
      "           0.05033781,  0.05015948,  0.2061931 ,  0.29678482,\n",
      "          -0.04391072, -0.10212088,  0.16312678,  0.19657288,\n",
      "          -0.02948095,  0.3345047 ,  0.03612284, -0.1307763 ,\n",
      "          -0.01517728, -0.05742529, -0.10517323, -0.00647771,\n",
      "          -0.05750089, -0.07315253,  0.18122627,  0.10621157,\n",
      "           0.18709388, -0.03801527,  0.27632236,  0.06004269]],\n",
      "\n",
      "        [[-0.13438857, -0.02705562,  0.11087099,  0.08122365,\n",
      "          -0.06249697, -0.13318945, -0.10654996,  0.11632288,\n",
      "           0.148188  ,  0.01807152,  0.16435777,  0.30900526,\n",
      "           0.05097054,  0.08409063,  0.02427202, -0.05454291,\n",
      "           0.04802329,  0.2343349 ,  0.25105524, -0.10218997,\n",
      "          -0.05435563,  0.04753229, -0.00811445,  0.13153732,\n",
      "           0.05512178, -0.07215641,  0.04657313,  0.07520918,\n",
      "           0.02458449, -0.07983252,  0.24723059, -0.06726386]]],\n",
      "\n",
      "\n",
      "       [[[ 0.07704716,  0.01031785,  0.03692813,  0.2109949 ,\n",
      "          -0.05313783,  0.00954863,  0.00706918,  0.17019908,\n",
      "           0.0325243 ,  0.04405588,  0.13270052, -0.04380939,\n",
      "          -0.08543871, -0.01911408,  0.0042176 , -0.04305149,\n",
      "           0.0292119 ,  0.36880615,  0.15338102,  0.01588233,\n",
      "           0.03347717,  0.08980694, -0.03846553, -0.03403363,\n",
      "          -0.11252964, -0.10468154,  0.10762172, -0.12170254,\n",
      "           0.17543979, -0.08720444,  0.16413684, -0.05353028]],\n",
      "\n",
      "        [[-0.127596  ,  0.21557236, -0.12810948,  0.06217198,\n",
      "          -0.10708711, -0.07853608,  0.0731099 ,  0.02798824,\n",
      "           0.1682786 ,  0.12298896,  0.29418984,  0.06424962,\n",
      "          -0.05799296,  0.03319167, -0.07305334,  0.07327891,\n",
      "          -0.06930142,  0.36872396,  0.21498764, -0.00547819,\n",
      "          -0.01793813,  0.02788328, -0.05830217,  0.12984946,\n",
      "          -0.09883115, -0.13243094, -0.07160567,  0.07390475,\n",
      "           0.23528142,  0.09749618,  0.21303272, -0.11886238]],\n",
      "\n",
      "        [[-0.11581194,  0.08061521,  0.09017485,  0.17727312,\n",
      "           0.14749987, -0.06446813, -0.01474261,  0.03007304,\n",
      "          -0.02288636, -0.13396515,  0.22046454,  0.28727582,\n",
      "           0.10449002,  0.07623023,  0.1622529 ,  0.07316671,\n",
      "          -0.13072725,  0.23967044,  0.24181305, -0.12763622,\n",
      "          -0.01510357,  0.16949295,  0.04884   ,  0.06252522,\n",
      "           0.03130265,  0.04922532,  0.02525543, -0.00257302,\n",
      "           0.09232098, -0.07968015,  0.02007886, -0.09544242]]]],\n",
      "      dtype=float32), array([-6.44292962e-03, -1.01794845e-04,  6.84266997e-05,  7.37458747e-03,\n",
      "        2.07505473e-05,  4.51530330e-03,  2.87825316e-02,  4.98737535e-03,\n",
      "        1.48957683e-04, -5.33284656e-05, -4.85457189e-04, -5.00684720e-04,\n",
      "        3.75397736e-03,  2.08997112e-02,  1.68671971e-03,  2.88217841e-03,\n",
      "       -5.21893962e-05, -3.86640517e-04, -2.51241669e-04, -2.81577057e-04,\n",
      "       -5.75842615e-03, -1.63428340e-05, -1.02658826e-03,  5.65173710e-03,\n",
      "       -4.05391074e-06,  3.21206683e-03, -1.02823993e-04,  2.25987118e-02,\n",
      "       -1.41451921e-04,  4.31281254e-02, -2.96678947e-04,  1.49602229e-02],\n",
      "      dtype=float32)]\n",
      "{'name': 'conv2d_2', 'trainable': True, 'filters': 64, 'kernel_size': (3, 3), 'strides': (1, 1), 'padding': 'valid', 'data_format': 'channels_last', 'dilation_rate': (1, 1), 'activation': 'relu', 'use_bias': True, 'kernel_initializer': {'class_name': 'VarianceScaling', 'config': {'scale': 1.0, 'mode': 'fan_avg', 'distribution': 'uniform', 'seed': None}}, 'bias_initializer': {'class_name': 'Zeros', 'config': {}}, 'kernel_regularizer': None, 'bias_regularizer': None, 'activity_regularizer': None, 'kernel_constraint': None, 'bias_constraint': None}\n",
      "[array([[[[-0.01815207, -0.0454562 ,  0.03883698, ...,  0.02062566,\n",
      "           0.00310209, -0.04074128],\n",
      "         [ 0.05526897,  0.06239812, -0.00015098, ..., -0.00893708,\n",
      "           0.02299826, -0.07346117],\n",
      "         [-0.07847128, -0.01722828, -0.06046166, ...,  0.03649107,\n",
      "           0.01015552, -0.04540598],\n",
      "         ...,\n",
      "         [ 0.07439954, -0.05783324,  0.04287396, ...,  0.02681286,\n",
      "           0.0075442 , -0.03178137],\n",
      "         [-0.01624611,  0.0730354 ,  0.01325514, ..., -0.02419047,\n",
      "          -0.02766714, -0.06120345],\n",
      "         [ 0.04581312,  0.07369937, -0.04031446, ...,  0.08007834,\n",
      "          -0.05482422, -0.01937367]],\n",
      "\n",
      "        [[-0.06286572,  0.08262209, -0.00772445, ..., -0.00403947,\n",
      "          -0.04189525,  0.0503002 ],\n",
      "         [-0.06815554,  0.00144493,  0.07723501, ...,  0.00398529,\n",
      "          -0.02210914, -0.03867894],\n",
      "         [-0.04951909,  0.02176245,  0.07999274, ...,  0.0355676 ,\n",
      "           0.05579082, -0.07843969],\n",
      "         ...,\n",
      "         [ 0.02353303, -0.03361009, -0.05472201, ..., -0.01023789,\n",
      "           0.06566092,  0.03817226],\n",
      "         [ 0.05000054, -0.07481929,  0.03002722, ..., -0.03866459,\n",
      "           0.01255243, -0.02164312],\n",
      "         [-0.02161884, -0.05768719,  0.06396417, ...,  0.06306144,\n",
      "          -0.00645507, -0.07902423]],\n",
      "\n",
      "        [[ 0.04842636, -0.05562719,  0.07956751, ...,  0.06693075,\n",
      "          -0.02137313,  0.03462403],\n",
      "         [-0.04866036, -0.06321298, -0.01540919, ...,  0.00193016,\n",
      "           0.02299514, -0.00979457],\n",
      "         [-0.05572842, -0.0524796 ,  0.00184215, ...,  0.07293875,\n",
      "           0.000342  , -0.00057421],\n",
      "         ...,\n",
      "         [-0.06230693, -0.07320939, -0.04180629, ..., -0.06220864,\n",
      "           0.06441233,  0.08013443],\n",
      "         [ 0.04478082,  0.06384571,  0.05912897, ...,  0.0133033 ,\n",
      "          -0.01417873,  0.06932213],\n",
      "         [-0.05160493, -0.0077403 ,  0.04936529, ...,  0.02951876,\n",
      "           0.02093544,  0.05019625]]],\n",
      "\n",
      "\n",
      "       [[[ 0.05726677,  0.02179462, -0.07253739, ...,  0.01613253,\n",
      "          -0.0230394 ,  0.03466572],\n",
      "         [ 0.02858482,  0.06921598, -0.01664471, ...,  0.08873922,\n",
      "          -0.06264115,  0.07058339],\n",
      "         [ 0.06369414, -0.00161862,  0.01614292, ..., -0.02536093,\n",
      "           0.04058611,  0.02802032],\n",
      "         ...,\n",
      "         [ 0.00577166,  0.0101391 ,  0.03736032, ..., -0.06445197,\n",
      "          -0.05331773,  0.00289967],\n",
      "         [ 0.0779951 , -0.07055499,  0.04961956, ...,  0.09492267,\n",
      "           0.02081227, -0.01122909],\n",
      "         [-0.01721859,  0.02653404, -0.0166699 , ...,  0.07487608,\n",
      "           0.02711353, -0.0080875 ]],\n",
      "\n",
      "        [[ 0.03119501,  0.03940761,  0.02162194, ..., -0.00739449,\n",
      "           0.06742509, -0.03903726],\n",
      "         [ 0.01988951,  0.00356113,  0.08099848, ..., -0.020745  ,\n",
      "           0.0047583 , -0.03651816],\n",
      "         [ 0.04143118, -0.0558055 ,  0.07833321, ...,  0.04211644,\n",
      "          -0.05145659, -0.01953557],\n",
      "         ...,\n",
      "         [ 0.04218634,  0.0367207 ,  0.01445368, ..., -0.02121465,\n",
      "          -0.0572676 ,  0.06657239],\n",
      "         [-0.06196106, -0.02836708, -0.01618055, ..., -0.04097316,\n",
      "          -0.0014444 , -0.0440744 ],\n",
      "         [ 0.01999329,  0.02112911, -0.00965776, ...,  0.01982645,\n",
      "          -0.06262887, -0.08051094]],\n",
      "\n",
      "        [[-0.07191072, -0.06754036, -0.06983079, ..., -0.06563816,\n",
      "          -0.05808872, -0.04542472],\n",
      "         [-0.01538876, -0.05470422, -0.00476341, ...,  0.04915395,\n",
      "          -0.0502181 ,  0.0386568 ],\n",
      "         [ 0.05412959, -0.06282631, -0.02709356, ...,  0.00511716,\n",
      "          -0.08122372, -0.00144163],\n",
      "         ...,\n",
      "         [-0.04246256,  0.02475398, -0.04613137, ..., -0.04542565,\n",
      "           0.04692176, -0.01767566],\n",
      "         [-0.01114599, -0.02798044,  0.09814827, ..., -0.008672  ,\n",
      "           0.04012692, -0.0015767 ],\n",
      "         [-0.02915717,  0.00054958,  0.0271981 , ..., -0.03551303,\n",
      "           0.06517591, -0.06471302]]],\n",
      "\n",
      "\n",
      "       [[[-0.05462598, -0.046357  , -0.06132329, ..., -0.04272276,\n",
      "           0.06635189, -0.07069407],\n",
      "         [-0.05784642,  0.01611829,  0.08170466, ...,  0.0119839 ,\n",
      "          -0.05298579,  0.01996494],\n",
      "         [ 0.04435725,  0.08212232,  0.03749692, ..., -0.05890862,\n",
      "           0.05422454, -0.04705223],\n",
      "         ...,\n",
      "         [-0.07757105,  0.05318133, -0.00938677, ..., -0.0834813 ,\n",
      "          -0.07390363,  0.07876804],\n",
      "         [-0.0156154 ,  0.07964708, -0.03600237, ...,  0.07829225,\n",
      "          -0.00530278,  0.06449937],\n",
      "         [ 0.05652251,  0.03310327, -0.00970582, ..., -0.07546882,\n",
      "           0.07585324,  0.04512139]],\n",
      "\n",
      "        [[ 0.06418511,  0.06057983,  0.01492177, ..., -0.0142738 ,\n",
      "          -0.00953662, -0.03360145],\n",
      "         [-0.06150691, -0.07999618, -0.0208854 , ...,  0.08900303,\n",
      "          -0.053843  ,  0.04727972],\n",
      "         [-0.08163454, -0.01465295,  0.04603475, ..., -0.04879968,\n",
      "           0.01103113,  0.02439997],\n",
      "         ...,\n",
      "         [ 0.07112891, -0.03485806, -0.06676561, ...,  0.02750791,\n",
      "          -0.05220498,  0.0589656 ],\n",
      "         [-0.06446414, -0.08125297,  0.10445151, ..., -0.0454331 ,\n",
      "           0.06577223,  0.0628992 ],\n",
      "         [-0.00125963, -0.03684327,  0.03209636, ..., -0.0594344 ,\n",
      "           0.05274092, -0.00304524]],\n",
      "\n",
      "        [[-0.01133569, -0.03516207,  0.02279635, ...,  0.02870008,\n",
      "           0.057738  ,  0.08305711],\n",
      "         [ 0.02481844, -0.03662416,  0.00250984, ...,  0.06626461,\n",
      "           0.04942911, -0.04708849],\n",
      "         [ 0.07797242,  0.04528693,  0.02411593, ...,  0.01805809,\n",
      "           0.0173066 , -0.0030957 ],\n",
      "         ...,\n",
      "         [ 0.02057577, -0.04075178, -0.04284934, ...,  0.03103484,\n",
      "           0.05385924, -0.05874263],\n",
      "         [-0.06228466,  0.08256474,  0.00974165, ..., -0.0272543 ,\n",
      "          -0.0312305 ,  0.03823162],\n",
      "         [ 0.02415693, -0.03813325,  0.03243435, ...,  0.01850366,\n",
      "          -0.07529002,  0.06802133]]]], dtype=float32), array([ 0.02909077,  0.00955908,  0.00175155, -0.00544724,  0.00720261,\n",
      "        0.01091009,  0.00274784,  0.01188606, -0.0052869 ,  0.02165866,\n",
      "        0.00270105,  0.00445958, -0.00837108,  0.01373327,  0.00473995,\n",
      "        0.00489869,  0.00461408,  0.00344104, -0.00268086,  0.02709774,\n",
      "        0.00319914, -0.00579575,  0.0143681 ,  0.00463528, -0.01153043,\n",
      "       -0.00100785, -0.0084053 ,  0.01876679,  0.01267664, -0.0016611 ,\n",
      "        0.00616621, -0.00017827,  0.00560669, -0.00713376,  0.0053732 ,\n",
      "       -0.00150878, -0.00830248,  0.0043639 ,  0.01483833,  0.01071494,\n",
      "        0.01478551,  0.01621326,  0.00765439, -0.00512389,  0.00868643,\n",
      "       -0.00366807, -0.0037813 ,  0.0033538 ,  0.00575973,  0.02378697,\n",
      "        0.00614497,  0.00933234, -0.00129687,  0.00151763, -0.00834245,\n",
      "       -0.00305887,  0.01605555, -0.00500758,  0.00105473, -0.00313228,\n",
      "        0.01615624, -0.00175586,  0.00741584,  0.02821036], dtype=float32)]\n",
      "{'name': 'max_pooling2d_1', 'trainable': True, 'pool_size': (2, 2), 'padding': 'valid', 'strides': (2, 2), 'data_format': 'channels_last'}\n",
      "[]\n",
      "{'name': 'flatten_1', 'trainable': True, 'data_format': 'channels_last'}\n",
      "[]\n",
      "{'name': 'dense_1', 'trainable': True, 'units': 128, 'activation': 'relu', 'use_bias': True, 'kernel_initializer': {'class_name': 'VarianceScaling', 'config': {'scale': 1.0, 'mode': 'fan_avg', 'distribution': 'uniform', 'seed': None}}, 'bias_initializer': {'class_name': 'Zeros', 'config': {}}, 'kernel_regularizer': None, 'bias_regularizer': None, 'activity_regularizer': None, 'kernel_constraint': None, 'bias_constraint': None}\n",
      "[array([[ 1.9222146e-04,  2.4355730e-02,  1.5477868e-02, ...,\n",
      "         1.6336555e-02, -1.0192952e-02, -2.4708174e-02],\n",
      "       [ 1.0035967e-02, -1.0188918e-02, -1.5282730e-02, ...,\n",
      "        -1.3652915e-02,  8.9477317e-04,  6.0176314e-03],\n",
      "       [ 2.1676574e-02,  1.7391363e-02, -1.4004896e-02, ...,\n",
      "         1.4855096e-02,  1.0586137e-02,  1.8350104e-02],\n",
      "       ...,\n",
      "       [-1.8702006e-02,  1.9714924e-02,  1.5743215e-02, ...,\n",
      "        -1.9949378e-02,  2.0962173e-02, -6.2264589e-05],\n",
      "       [ 1.7019600e-02,  2.1520095e-02,  1.9775489e-02, ...,\n",
      "         8.4573533e-03,  2.3860993e-02,  1.8982259e-03],\n",
      "       [-1.5744375e-02,  2.1598252e-02,  1.6156999e-02, ...,\n",
      "        -6.9175726e-03,  7.1423366e-03, -1.0399238e-02]], dtype=float32), array([ 3.29735689e-03,  7.75090232e-03,  7.02047022e-03, -2.70697917e-03,\n",
      "        3.17988289e-03,  1.14470080e-03, -6.20227261e-03,  1.94285321e-03,\n",
      "        5.81038976e-03,  3.63267900e-04, -3.47735710e-03, -2.36672745e-03,\n",
      "       -9.55209835e-04,  1.04259793e-03,  6.05665799e-03,  3.98460077e-03,\n",
      "        1.97121291e-03,  6.80390513e-03, -2.23023305e-03,  3.65445926e-03,\n",
      "        3.19157960e-03, -1.89690816e-03,  1.49878953e-03,  5.31726563e-03,\n",
      "       -2.89710122e-03, -5.33721922e-03,  1.24533139e-02,  5.23520494e-03,\n",
      "        6.17255550e-03, -7.49642914e-03,  5.36901597e-03,  8.54242034e-03,\n",
      "       -4.86745359e-03,  1.31077245e-02,  9.91553441e-03, -8.02783179e-04,\n",
      "        4.14900156e-03,  1.17638288e-02, -3.03764362e-04,  2.35459697e-03,\n",
      "        3.08297022e-04,  4.19711554e-03,  1.21583827e-02,  8.44784227e-05,\n",
      "        1.56573039e-02, -8.87067232e-04,  6.78906543e-03,  1.70518202e-03,\n",
      "        8.30403937e-04,  5.37129538e-03,  8.14089086e-03,  1.49945053e-03,\n",
      "        8.22676870e-04,  2.98044598e-03,  6.69513876e-03,  2.13173591e-03,\n",
      "        2.55784439e-03,  1.56483182e-03,  4.75402549e-03, -5.52999740e-03,\n",
      "        1.02249617e-02,  6.38266373e-03, -3.23640741e-03,  7.44104182e-05,\n",
      "       -1.29085529e-04,  7.07555190e-03,  1.13288546e-02, -6.15829311e-04,\n",
      "        8.68183468e-03,  1.28550762e-02,  1.17200392e-03, -1.97842275e-03,\n",
      "        1.53981405e-03, -7.20138545e-04,  6.66575914e-04, -6.29084744e-03,\n",
      "        8.21688399e-03,  4.64945054e-03, -1.03429228e-03, -1.51766208e-03,\n",
      "        1.07196551e-02,  1.55820819e-02,  7.67907361e-03,  1.23884180e-03,\n",
      "        7.07215769e-03, -4.48718388e-03, -8.52876157e-03,  3.59432772e-03,\n",
      "        2.61996267e-03,  5.90029173e-03,  7.39527680e-03, -2.52424995e-03,\n",
      "       -8.53388919e-05,  8.33859015e-03,  1.43236713e-03,  5.86095778e-03,\n",
      "        1.84315827e-03, -4.57976200e-03,  1.61151949e-03,  1.02814119e-02,\n",
      "        1.22350239e-05,  6.00215141e-03,  4.80935443e-03, -5.68377262e-04,\n",
      "        7.26450991e-04, -4.28440887e-03, -5.70386369e-03, -4.83271061e-03,\n",
      "        1.84052321e-03,  1.48572130e-02, -2.99195922e-03, -8.41306173e-04,\n",
      "       -1.78397444e-04, -6.89933822e-03,  8.79328419e-03, -7.33728302e-05,\n",
      "       -3.34074255e-03,  5.55701554e-04, -3.21682455e-04,  1.06426580e-02,\n",
      "        4.94781230e-03, -9.67207656e-04, -3.05569102e-03,  2.22609448e-03,\n",
      "       -7.16522511e-04, -5.00120828e-03,  1.06986733e-02,  1.36870614e-04],\n",
      "      dtype=float32)]\n"
     ]
    },
    {
     "name": "stdout",
     "output_type": "stream",
     "text": [
      "{'name': 'dense_2', 'trainable': True, 'units': 10, 'activation': 'softmax', 'use_bias': True, 'kernel_initializer': {'class_name': 'VarianceScaling', 'config': {'scale': 1.0, 'mode': 'fan_avg', 'distribution': 'uniform', 'seed': None}}, 'bias_initializer': {'class_name': 'Zeros', 'config': {}}, 'kernel_regularizer': None, 'bias_regularizer': None, 'activity_regularizer': None, 'kernel_constraint': None, 'bias_constraint': None}\n",
      "[array([[-0.1738229 , -0.05999041, -0.04496974, ...,  0.19083297,\n",
      "        -0.09035675, -0.04674414],\n",
      "       [-0.02927443,  0.1692089 ,  0.0982643 , ..., -0.19610018,\n",
      "        -0.20497148, -0.20859772],\n",
      "       [ 0.06653865,  0.21224943,  0.23595984, ...,  0.20027272,\n",
      "         0.02723352, -0.12066386],\n",
      "       ...,\n",
      "       [ 0.09470124,  0.10289106,  0.15395218, ..., -0.04886428,\n",
      "         0.16498587,  0.05892156],\n",
      "       [-0.02544912,  0.19105616, -0.17345926, ...,  0.05901008,\n",
      "        -0.02641751,  0.22863384],\n",
      "       [-0.04049615, -0.12492936, -0.12587588, ..., -0.07711018,\n",
      "        -0.07802447,  0.05185265]], dtype=float32), array([-0.0086565 ,  0.01551213,  0.00688596, -0.01802205,  0.00852552,\n",
      "        0.02047953, -0.00231392,  0.01726216, -0.03204469, -0.00762813],\n",
      "      dtype=float32)]\n"
     ]
    }
   ],
   "source": [
    "# How to print layer info\n",
    "# https://github.com/keras-team/keras/issues/91\n",
    "\n",
    "for layer in best_model.layers:\n",
    "    g = layer.get_config()\n",
    "    h = layer.get_weights()\n",
    "    print(g)\n",
    "    print(h)"
   ]
  },
  {
   "cell_type": "code",
   "execution_count": 28,
   "metadata": {},
   "outputs": [
    {
     "data": {
      "text/plain": [
       "{'name': 'conv2d_1',\n",
       " 'trainable': True,\n",
       " 'batch_input_shape': (None, 28, 28, 1),\n",
       " 'dtype': 'float32',\n",
       " 'filters': 32,\n",
       " 'kernel_size': (3, 3),\n",
       " 'strides': (1, 1),\n",
       " 'padding': 'valid',\n",
       " 'data_format': 'channels_last',\n",
       " 'dilation_rate': (1, 1),\n",
       " 'activation': 'relu',\n",
       " 'use_bias': True,\n",
       " 'kernel_initializer': {'class_name': 'VarianceScaling',\n",
       "  'config': {'scale': 1.0,\n",
       "   'mode': 'fan_avg',\n",
       "   'distribution': 'uniform',\n",
       "   'seed': None}},\n",
       " 'bias_initializer': {'class_name': 'Zeros', 'config': {}},\n",
       " 'kernel_regularizer': None,\n",
       " 'bias_regularizer': None,\n",
       " 'activity_regularizer': None,\n",
       " 'kernel_constraint': None,\n",
       " 'bias_constraint': None}"
      ]
     },
     "execution_count": 28,
     "metadata": {},
     "output_type": "execute_result"
    }
   ],
   "source": [
    "l = best_model.layers[0]\n",
    "l.get_config()"
   ]
  },
  {
   "cell_type": "code",
   "execution_count": 29,
   "metadata": {},
   "outputs": [
    {
     "name": "stdout",
     "output_type": "stream",
     "text": [
      "bias (32,) [-6.44292962e-03 -1.01794845e-04  6.84266997e-05  7.37458747e-03\n",
      "  2.07505473e-05  4.51530330e-03  2.87825316e-02  4.98737535e-03\n",
      "  1.48957683e-04 -5.33284656e-05 -4.85457189e-04 -5.00684720e-04\n",
      "  3.75397736e-03  2.08997112e-02  1.68671971e-03  2.88217841e-03\n",
      " -5.21893962e-05 -3.86640517e-04 -2.51241669e-04 -2.81577057e-04\n",
      " -5.75842615e-03 -1.63428340e-05 -1.02658826e-03  5.65173710e-03\n",
      " -4.05391074e-06  3.21206683e-03 -1.02823993e-04  2.25987118e-02\n",
      " -1.41451921e-04  4.31281254e-02 -2.96678947e-04  1.49602229e-02]\n",
      "filters/kernels (3, 3, 1, 32) [[[[ 0.01227896  0.09714822 -0.1416605  -0.04538184  0.16170065\n",
      "    -0.01948132 -0.01394858  0.10749456  0.02989038 -0.12465435\n",
      "     0.16903192  0.22261076  0.02696884  0.08321783  0.13848722\n",
      "    -0.01747857 -0.06300803  0.11161458  0.03179993  0.14308563\n",
      "    -0.07145189  0.12686664  0.00194737  0.05548962  0.08460376\n",
      "    -0.06026105  0.03567543 -0.09896515  0.1094444   0.10942791\n",
      "     0.11968002  0.09304192]]\n",
      "\n",
      "  [[-0.02441323  0.16673103 -0.07861348  0.01189348 -0.0740801\n",
      "    -0.07829272 -0.02829663  0.1267785   0.23884079 -0.13348924\n",
      "     0.03032405  0.1880915   0.00572655 -0.10986003  0.1481527\n",
      "     0.21707682 -0.03090204  0.03788018  0.06957637 -0.00895672\n",
      "     0.00698762  0.07244422  0.10137257  0.00439168 -0.1289999\n",
      "     0.01530304  0.09200556 -0.11773727 -0.01755184 -0.06874117\n",
      "     0.21520738  0.09330098]]\n",
      "\n",
      "  [[ 0.05958217  0.0186003  -0.02716986  0.01715663  0.09485269\n",
      "    -0.00807605 -0.04436068  0.0828647   0.15296368 -0.0455994\n",
      "     0.00375001  0.27608022  0.06954921 -0.04140205 -0.03225308\n",
      "     0.20119797 -0.04823778  0.20222367  0.20012014  0.08554779\n",
      "     0.00488608 -0.09479824 -0.09097897 -0.09006384 -0.06249929\n",
      "     0.0827536   0.20662394  0.11894777  0.1997367  -0.04360479\n",
      "     0.14463896  0.10828891]]]\n",
      "\n",
      "\n",
      " [[[ 0.01541603  0.15563817  0.12192079  0.0630667  -0.04610852\n",
      "    -0.10439069 -0.03388706  0.12077011  0.14294899  0.12158451\n",
      "     0.27190062  0.21922465 -0.00647587 -0.00112008  0.04119214\n",
      "     0.01469797  0.02280879  0.31626335  0.05854207  0.02055384\n",
      "    -0.10472862  0.12042969  0.06556622 -0.07789212  0.02269002\n",
      "     0.05630441 -0.09415408 -0.03002488 -0.0637055   0.08142632\n",
      "     0.00823868 -0.04936831]]\n",
      "\n",
      "  [[ 0.03703276  0.16369183 -0.11782153  0.10810005  0.09375992\n",
      "    -0.0710438  -0.10186672  0.02368068  0.05033781  0.05015948\n",
      "     0.2061931   0.29678482 -0.04391072 -0.10212088  0.16312678\n",
      "     0.19657288 -0.02948095  0.3345047   0.03612284 -0.1307763\n",
      "    -0.01517728 -0.05742529 -0.10517323 -0.00647771 -0.05750089\n",
      "    -0.07315253  0.18122627  0.10621157  0.18709388 -0.03801527\n",
      "     0.27632236  0.06004269]]\n",
      "\n",
      "  [[-0.13438857 -0.02705562  0.11087099  0.08122365 -0.06249697\n",
      "    -0.13318945 -0.10654996  0.11632288  0.148188    0.01807152\n",
      "     0.16435777  0.30900526  0.05097054  0.08409063  0.02427202\n",
      "    -0.05454291  0.04802329  0.2343349   0.25105524 -0.10218997\n",
      "    -0.05435563  0.04753229 -0.00811445  0.13153732  0.05512178\n",
      "    -0.07215641  0.04657313  0.07520918  0.02458449 -0.07983252\n",
      "     0.24723059 -0.06726386]]]\n",
      "\n",
      "\n",
      " [[[ 0.07704716  0.01031785  0.03692813  0.2109949  -0.05313783\n",
      "     0.00954863  0.00706918  0.17019908  0.0325243   0.04405588\n",
      "     0.13270052 -0.04380939 -0.08543871 -0.01911408  0.0042176\n",
      "    -0.04305149  0.0292119   0.36880615  0.15338102  0.01588233\n",
      "     0.03347717  0.08980694 -0.03846553 -0.03403363 -0.11252964\n",
      "    -0.10468154  0.10762172 -0.12170254  0.17543979 -0.08720444\n",
      "     0.16413684 -0.05353028]]\n",
      "\n",
      "  [[-0.127596    0.21557236 -0.12810948  0.06217198 -0.10708711\n",
      "    -0.07853608  0.0731099   0.02798824  0.1682786   0.12298896\n",
      "     0.29418984  0.06424962 -0.05799296  0.03319167 -0.07305334\n",
      "     0.07327891 -0.06930142  0.36872396  0.21498764 -0.00547819\n",
      "    -0.01793813  0.02788328 -0.05830217  0.12984946 -0.09883115\n",
      "    -0.13243094 -0.07160567  0.07390475  0.23528142  0.09749618\n",
      "     0.21303272 -0.11886238]]\n",
      "\n",
      "  [[-0.11581194  0.08061521  0.09017485  0.17727312  0.14749987\n",
      "    -0.06446813 -0.01474261  0.03007304 -0.02288636 -0.13396515\n",
      "     0.22046454  0.28727582  0.10449002  0.07623023  0.1622529\n",
      "     0.07316671 -0.13072725  0.23967044  0.24181305 -0.12763622\n",
      "    -0.01510357  0.16949295  0.04884     0.06252522  0.03130265\n",
      "     0.04922532  0.02525543 -0.00257302  0.09232098 -0.07968015\n",
      "     0.02007886 -0.09544242]]]]\n"
     ]
    }
   ],
   "source": [
    "# How to get the weights for a given Conv Layer\n",
    "w = np.array(l.get_weights())\n",
    "\n",
    "print('bias', w[1].shape, w[1])\n",
    "print('filters/kernels', w[0].shape, w[0])"
   ]
  },
  {
   "cell_type": "code",
   "execution_count": 30,
   "metadata": {},
   "outputs": [
    {
     "name": "stdout",
     "output_type": "stream",
     "text": [
      "bias (64,) [ 0.02909077  0.00955908  0.00175155 -0.00544724  0.00720261  0.01091009\n",
      "  0.00274784  0.01188606 -0.0052869   0.02165866  0.00270105  0.00445958\n",
      " -0.00837108  0.01373327  0.00473995  0.00489869  0.00461408  0.00344104\n",
      " -0.00268086  0.02709774  0.00319914 -0.00579575  0.0143681   0.00463528\n",
      " -0.01153043 -0.00100785 -0.0084053   0.01876679  0.01267664 -0.0016611\n",
      "  0.00616621 -0.00017827  0.00560669 -0.00713376  0.0053732  -0.00150878\n",
      " -0.00830248  0.0043639   0.01483833  0.01071494  0.01478551  0.01621326\n",
      "  0.00765439 -0.00512389  0.00868643 -0.00366807 -0.0037813   0.0033538\n",
      "  0.00575973  0.02378697  0.00614497  0.00933234 -0.00129687  0.00151763\n",
      " -0.00834245 -0.00305887  0.01605555 -0.00500758  0.00105473 -0.00313228\n",
      "  0.01615624 -0.00175586  0.00741584  0.02821036]\n",
      "filters/kernels (3, 3, 32, 64) [[[[-0.01815207 -0.0454562   0.03883698 ...  0.02062566  0.00310209\n",
      "    -0.04074128]\n",
      "   [ 0.05526897  0.06239812 -0.00015098 ... -0.00893708  0.02299826\n",
      "    -0.07346117]\n",
      "   [-0.07847128 -0.01722828 -0.06046166 ...  0.03649107  0.01015552\n",
      "    -0.04540598]\n",
      "   ...\n",
      "   [ 0.07439954 -0.05783324  0.04287396 ...  0.02681286  0.0075442\n",
      "    -0.03178137]\n",
      "   [-0.01624611  0.0730354   0.01325514 ... -0.02419047 -0.02766714\n",
      "    -0.06120345]\n",
      "   [ 0.04581312  0.07369937 -0.04031446 ...  0.08007834 -0.05482422\n",
      "    -0.01937367]]\n",
      "\n",
      "  [[-0.06286572  0.08262209 -0.00772445 ... -0.00403947 -0.04189525\n",
      "     0.0503002 ]\n",
      "   [-0.06815554  0.00144493  0.07723501 ...  0.00398529 -0.02210914\n",
      "    -0.03867894]\n",
      "   [-0.04951909  0.02176245  0.07999274 ...  0.0355676   0.05579082\n",
      "    -0.07843969]\n",
      "   ...\n",
      "   [ 0.02353303 -0.03361009 -0.05472201 ... -0.01023789  0.06566092\n",
      "     0.03817226]\n",
      "   [ 0.05000054 -0.07481929  0.03002722 ... -0.03866459  0.01255243\n",
      "    -0.02164312]\n",
      "   [-0.02161884 -0.05768719  0.06396417 ...  0.06306144 -0.00645507\n",
      "    -0.07902423]]\n",
      "\n",
      "  [[ 0.04842636 -0.05562719  0.07956751 ...  0.06693075 -0.02137313\n",
      "     0.03462403]\n",
      "   [-0.04866036 -0.06321298 -0.01540919 ...  0.00193016  0.02299514\n",
      "    -0.00979457]\n",
      "   [-0.05572842 -0.0524796   0.00184215 ...  0.07293875  0.000342\n",
      "    -0.00057421]\n",
      "   ...\n",
      "   [-0.06230693 -0.07320939 -0.04180629 ... -0.06220864  0.06441233\n",
      "     0.08013443]\n",
      "   [ 0.04478082  0.06384571  0.05912897 ...  0.0133033  -0.01417873\n",
      "     0.06932213]\n",
      "   [-0.05160493 -0.0077403   0.04936529 ...  0.02951876  0.02093544\n",
      "     0.05019625]]]\n",
      "\n",
      "\n",
      " [[[ 0.05726677  0.02179462 -0.07253739 ...  0.01613253 -0.0230394\n",
      "     0.03466572]\n",
      "   [ 0.02858482  0.06921598 -0.01664471 ...  0.08873922 -0.06264115\n",
      "     0.07058339]\n",
      "   [ 0.06369414 -0.00161862  0.01614292 ... -0.02536093  0.04058611\n",
      "     0.02802032]\n",
      "   ...\n",
      "   [ 0.00577166  0.0101391   0.03736032 ... -0.06445197 -0.05331773\n",
      "     0.00289967]\n",
      "   [ 0.0779951  -0.07055499  0.04961956 ...  0.09492267  0.02081227\n",
      "    -0.01122909]\n",
      "   [-0.01721859  0.02653404 -0.0166699  ...  0.07487608  0.02711353\n",
      "    -0.0080875 ]]\n",
      "\n",
      "  [[ 0.03119501  0.03940761  0.02162194 ... -0.00739449  0.06742509\n",
      "    -0.03903726]\n",
      "   [ 0.01988951  0.00356113  0.08099848 ... -0.020745    0.0047583\n",
      "    -0.03651816]\n",
      "   [ 0.04143118 -0.0558055   0.07833321 ...  0.04211644 -0.05145659\n",
      "    -0.01953557]\n",
      "   ...\n",
      "   [ 0.04218634  0.0367207   0.01445368 ... -0.02121465 -0.0572676\n",
      "     0.06657239]\n",
      "   [-0.06196106 -0.02836708 -0.01618055 ... -0.04097316 -0.0014444\n",
      "    -0.0440744 ]\n",
      "   [ 0.01999329  0.02112911 -0.00965776 ...  0.01982645 -0.06262887\n",
      "    -0.08051094]]\n",
      "\n",
      "  [[-0.07191072 -0.06754036 -0.06983079 ... -0.06563816 -0.05808872\n",
      "    -0.04542472]\n",
      "   [-0.01538876 -0.05470422 -0.00476341 ...  0.04915395 -0.0502181\n",
      "     0.0386568 ]\n",
      "   [ 0.05412959 -0.06282631 -0.02709356 ...  0.00511716 -0.08122372\n",
      "    -0.00144163]\n",
      "   ...\n",
      "   [-0.04246256  0.02475398 -0.04613137 ... -0.04542565  0.04692176\n",
      "    -0.01767566]\n",
      "   [-0.01114599 -0.02798044  0.09814827 ... -0.008672    0.04012692\n",
      "    -0.0015767 ]\n",
      "   [-0.02915717  0.00054958  0.0271981  ... -0.03551303  0.06517591\n",
      "    -0.06471302]]]\n",
      "\n",
      "\n",
      " [[[-0.05462598 -0.046357   -0.06132329 ... -0.04272276  0.06635189\n",
      "    -0.07069407]\n",
      "   [-0.05784642  0.01611829  0.08170466 ...  0.0119839  -0.05298579\n",
      "     0.01996494]\n",
      "   [ 0.04435725  0.08212232  0.03749692 ... -0.05890862  0.05422454\n",
      "    -0.04705223]\n",
      "   ...\n",
      "   [-0.07757105  0.05318133 -0.00938677 ... -0.0834813  -0.07390363\n",
      "     0.07876804]\n",
      "   [-0.0156154   0.07964708 -0.03600237 ...  0.07829225 -0.00530278\n",
      "     0.06449937]\n",
      "   [ 0.05652251  0.03310327 -0.00970582 ... -0.07546882  0.07585324\n",
      "     0.04512139]]\n",
      "\n",
      "  [[ 0.06418511  0.06057983  0.01492177 ... -0.0142738  -0.00953662\n",
      "    -0.03360145]\n",
      "   [-0.06150691 -0.07999618 -0.0208854  ...  0.08900303 -0.053843\n",
      "     0.04727972]\n",
      "   [-0.08163454 -0.01465295  0.04603475 ... -0.04879968  0.01103113\n",
      "     0.02439997]\n",
      "   ...\n",
      "   [ 0.07112891 -0.03485806 -0.06676561 ...  0.02750791 -0.05220498\n",
      "     0.0589656 ]\n",
      "   [-0.06446414 -0.08125297  0.10445151 ... -0.0454331   0.06577223\n",
      "     0.0628992 ]\n",
      "   [-0.00125963 -0.03684327  0.03209636 ... -0.0594344   0.05274092\n",
      "    -0.00304524]]\n",
      "\n",
      "  [[-0.01133569 -0.03516207  0.02279635 ...  0.02870008  0.057738\n",
      "     0.08305711]\n",
      "   [ 0.02481844 -0.03662416  0.00250984 ...  0.06626461  0.04942911\n",
      "    -0.04708849]\n",
      "   [ 0.07797242  0.04528693  0.02411593 ...  0.01805809  0.0173066\n",
      "    -0.0030957 ]\n",
      "   ...\n",
      "   [ 0.02057577 -0.04075178 -0.04284934 ...  0.03103484  0.05385924\n",
      "    -0.05874263]\n",
      "   [-0.06228466  0.08256474  0.00974165 ... -0.0272543  -0.0312305\n",
      "     0.03823162]\n",
      "   [ 0.02415693 -0.03813325  0.03243435 ...  0.01850366 -0.07529002\n",
      "     0.06802133]]]]\n"
     ]
    }
   ],
   "source": [
    "# weights for Conv layer 2\n",
    "\n",
    "l = best_model.layers[1]\n",
    "l.get_config()\n",
    "\n",
    "# filters (kernels) for Conv layer 1\n",
    "w = np.array(l.get_weights())\n",
    "\n",
    "print('bias', w[1].shape, w[1])\n",
    "print('filters/kernels', w[0].shape, w[0])"
   ]
  },
  {
   "cell_type": "code",
   "execution_count": null,
   "metadata": {},
   "outputs": [],
   "source": []
  }
 ],
 "metadata": {
  "kernelspec": {
   "display_name": "Python 3",
   "language": "python",
   "name": "python3"
  },
  "language_info": {
   "codemirror_mode": {
    "name": "ipython",
    "version": 3
   },
   "file_extension": ".py",
   "mimetype": "text/x-python",
   "name": "python",
   "nbconvert_exporter": "python",
   "pygments_lexer": "ipython3",
   "version": "3.6.7"
  }
 },
 "nbformat": 4,
 "nbformat_minor": 2
}
